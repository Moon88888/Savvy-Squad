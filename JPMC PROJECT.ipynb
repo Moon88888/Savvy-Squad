{
 "cells": [
  {
   "cell_type": "code",
   "execution_count": 289,
   "id": "e6d0d61f",
   "metadata": {},
   "outputs": [],
   "source": [
    "import pandas as pd\n",
    "import numpy as np\n",
    "import seaborn as sns\n",
    "import matplotlib.pyplot as plt"
   ]
  },
  {
   "cell_type": "code",
   "execution_count": 290,
   "id": "0931231b",
   "metadata": {},
   "outputs": [],
   "source": [
    "df=pd.read_csv(\"D:/JPMC/carclaims.csv\")"
   ]
  },
  {
   "cell_type": "code",
   "execution_count": 291,
   "id": "3abfd753",
   "metadata": {},
   "outputs": [
    {
     "data": {
      "text/plain": [
       "Index(['Month', 'WeekOfMonth', 'DayOfWeek', 'Make', 'AccidentArea',\n",
       "       'DayOfWeekClaimed', 'MonthClaimed', 'WeekOfMonthClaimed', 'Sex',\n",
       "       'MaritalStatus', 'Age', 'Fault', 'PolicyType', 'VehicleCategory',\n",
       "       'VehiclePrice', 'PolicyNumber', 'RepNumber', 'Deductible',\n",
       "       'DriverRating', 'Days:Policy-Accident', 'Days:Policy-Claim',\n",
       "       'PastNumberOfClaims', 'AgeOfVehicle', 'AgeOfPolicyHolder',\n",
       "       'PoliceReportFiled', 'WitnessPresent', 'AgentType',\n",
       "       'NumberOfSuppliments', 'AddressChange-Claim', 'NumberOfCars', 'Year',\n",
       "       'BasePolicy', 'FraudFound'],\n",
       "      dtype='object')"
      ]
     },
     "execution_count": 291,
     "metadata": {},
     "output_type": "execute_result"
    }
   ],
   "source": [
    "df.columns"
   ]
  },
  {
   "cell_type": "code",
   "execution_count": 292,
   "id": "7bcd5d77",
   "metadata": {},
   "outputs": [
    {
     "data": {
      "text/plain": [
       "(15420, 33)"
      ]
     },
     "execution_count": 292,
     "metadata": {},
     "output_type": "execute_result"
    }
   ],
   "source": [
    "df.shape"
   ]
  },
  {
   "cell_type": "code",
   "execution_count": 293,
   "id": "70314330",
   "metadata": {},
   "outputs": [
    {
     "name": "stdout",
     "output_type": "stream",
     "text": [
      "<class 'pandas.core.frame.DataFrame'>\n",
      "RangeIndex: 15420 entries, 0 to 15419\n",
      "Data columns (total 33 columns):\n",
      " #   Column                Non-Null Count  Dtype \n",
      "---  ------                --------------  ----- \n",
      " 0   Month                 15420 non-null  object\n",
      " 1   WeekOfMonth           15420 non-null  int64 \n",
      " 2   DayOfWeek             15420 non-null  object\n",
      " 3   Make                  15420 non-null  object\n",
      " 4   AccidentArea          15420 non-null  object\n",
      " 5   DayOfWeekClaimed      15420 non-null  object\n",
      " 6   MonthClaimed          15420 non-null  object\n",
      " 7   WeekOfMonthClaimed    15420 non-null  int64 \n",
      " 8   Sex                   15420 non-null  object\n",
      " 9   MaritalStatus         15420 non-null  object\n",
      " 10  Age                   15420 non-null  int64 \n",
      " 11  Fault                 15420 non-null  object\n",
      " 12  PolicyType            15420 non-null  object\n",
      " 13  VehicleCategory       15420 non-null  object\n",
      " 14  VehiclePrice          15420 non-null  object\n",
      " 15  PolicyNumber          15420 non-null  int64 \n",
      " 16  RepNumber             15420 non-null  int64 \n",
      " 17  Deductible            15420 non-null  int64 \n",
      " 18  DriverRating          15420 non-null  int64 \n",
      " 19  Days:Policy-Accident  15420 non-null  object\n",
      " 20  Days:Policy-Claim     15420 non-null  object\n",
      " 21  PastNumberOfClaims    15420 non-null  object\n",
      " 22  AgeOfVehicle          15420 non-null  object\n",
      " 23  AgeOfPolicyHolder     15420 non-null  object\n",
      " 24  PoliceReportFiled     15420 non-null  object\n",
      " 25  WitnessPresent        15420 non-null  object\n",
      " 26  AgentType             15420 non-null  object\n",
      " 27  NumberOfSuppliments   15420 non-null  object\n",
      " 28  AddressChange-Claim   15420 non-null  object\n",
      " 29  NumberOfCars          15420 non-null  object\n",
      " 30  Year                  15420 non-null  int64 \n",
      " 31  BasePolicy            15420 non-null  object\n",
      " 32  FraudFound            15420 non-null  object\n",
      "dtypes: int64(8), object(25)\n",
      "memory usage: 3.9+ MB\n"
     ]
    }
   ],
   "source": [
    "df.info()"
   ]
  },
  {
   "cell_type": "code",
   "execution_count": 294,
   "id": "366d57de",
   "metadata": {},
   "outputs": [],
   "source": [
    "#FraudFound --> TARGET VARIABLE"
   ]
  },
  {
   "cell_type": "code",
   "execution_count": 295,
   "id": "8145c96e",
   "metadata": {},
   "outputs": [],
   "source": [
    "#Data Analysis"
   ]
  },
  {
   "cell_type": "code",
   "execution_count": 296,
   "id": "7b861714",
   "metadata": {},
   "outputs": [
    {
     "name": "stderr",
     "output_type": "stream",
     "text": [
      "C:\\Users\\SUNNIHITHA\\anaconda3\\lib\\site-packages\\seaborn\\_decorators.py:36: FutureWarning: Pass the following variable as a keyword arg: x. From version 0.12, the only valid positional argument will be `data`, and passing other arguments without an explicit keyword will result in an error or misinterpretation.\n",
      "  warnings.warn(\n"
     ]
    },
    {
     "data": {
      "text/plain": [
       "<AxesSubplot:xlabel='FraudFound', ylabel='count'>"
      ]
     },
     "execution_count": 296,
     "metadata": {},
     "output_type": "execute_result"
    },
    {
     "data": {
      "image/png": "[encoded data removed]",
      "text/plain": [
       "<Figure size 640x480 with 1 Axes>"
      ]
     },
     "metadata": {},
     "output_type": "display_data"
    }
   ],
   "source": [
    "sns.countplot(df['FraudFound'])"
   ]
  },
  {
   "cell_type": "code",
   "execution_count": 297,
   "id": "c2fc7e6e",
   "metadata": {},
   "outputs": [
    {
     "data": {
      "text/plain": [
       "No     14497\n",
       "Yes      923\n",
       "Name: FraudFound, dtype: int64"
      ]
     },
     "execution_count": 297,
     "metadata": {},
     "output_type": "execute_result"
    }
   ],
   "source": [
    "df['FraudFound'].value_counts()"
   ]
  },
  {
   "cell_type": "code",
   "execution_count": 298,
   "id": "a98fa9a2",
   "metadata": {},
   "outputs": [
    {
     "data": {
      "text/html": [
       "<div>\n",
       "<style scoped>\n",
       "    .dataframe tbody tr th:only-of-type {\n",
       "        vertical-align: middle;\n",
       "    }\n",
       "\n",
       "    .dataframe tbody tr th {\n",
       "        vertical-align: top;\n",
       "    }\n",
       "\n",
       "    .dataframe thead th {\n",
       "        text-align: right;\n",
       "    }\n",
       "</style>\n",
       "<table border=\"1\" class=\"dataframe\">\n",
       "  <thead>\n",
       "    <tr style=\"text-align: right;\">\n",
       "      <th></th>\n",
       "      <th>Month</th>\n",
       "      <th>WeekOfMonth</th>\n",
       "      <th>DayOfWeek</th>\n",
       "      <th>Make</th>\n",
       "      <th>AccidentArea</th>\n",
       "      <th>DayOfWeekClaimed</th>\n",
       "      <th>MonthClaimed</th>\n",
       "      <th>WeekOfMonthClaimed</th>\n",
       "      <th>Sex</th>\n",
       "      <th>MaritalStatus</th>\n",
       "      <th>...</th>\n",
       "      <th>AgeOfPolicyHolder</th>\n",
       "      <th>PoliceReportFiled</th>\n",
       "      <th>WitnessPresent</th>\n",
       "      <th>AgentType</th>\n",
       "      <th>NumberOfSuppliments</th>\n",
       "      <th>AddressChange-Claim</th>\n",
       "      <th>NumberOfCars</th>\n",
       "      <th>Year</th>\n",
       "      <th>BasePolicy</th>\n",
       "      <th>FraudFound</th>\n",
       "    </tr>\n",
       "  </thead>\n",
       "  <tbody>\n",
       "    <tr>\n",
       "      <th>0</th>\n",
       "      <td>Dec</td>\n",
       "      <td>5</td>\n",
       "      <td>Wednesday</td>\n",
       "      <td>Honda</td>\n",
       "      <td>Urban</td>\n",
       "      <td>Tuesday</td>\n",
       "      <td>Jan</td>\n",
       "      <td>1</td>\n",
       "      <td>Female</td>\n",
       "      <td>Single</td>\n",
       "      <td>...</td>\n",
       "      <td>26 to 30</td>\n",
       "      <td>No</td>\n",
       "      <td>No</td>\n",
       "      <td>External</td>\n",
       "      <td>none</td>\n",
       "      <td>1 year</td>\n",
       "      <td>3 to 4</td>\n",
       "      <td>1994</td>\n",
       "      <td>Liability</td>\n",
       "      <td>No</td>\n",
       "    </tr>\n",
       "    <tr>\n",
       "      <th>1</th>\n",
       "      <td>Jan</td>\n",
       "      <td>3</td>\n",
       "      <td>Wednesday</td>\n",
       "      <td>Honda</td>\n",
       "      <td>Urban</td>\n",
       "      <td>Monday</td>\n",
       "      <td>Jan</td>\n",
       "      <td>4</td>\n",
       "      <td>Male</td>\n",
       "      <td>Single</td>\n",
       "      <td>...</td>\n",
       "      <td>31 to 35</td>\n",
       "      <td>Yes</td>\n",
       "      <td>No</td>\n",
       "      <td>External</td>\n",
       "      <td>none</td>\n",
       "      <td>no change</td>\n",
       "      <td>1 vehicle</td>\n",
       "      <td>1994</td>\n",
       "      <td>Collision</td>\n",
       "      <td>No</td>\n",
       "    </tr>\n",
       "    <tr>\n",
       "      <th>2</th>\n",
       "      <td>Oct</td>\n",
       "      <td>5</td>\n",
       "      <td>Friday</td>\n",
       "      <td>Honda</td>\n",
       "      <td>Urban</td>\n",
       "      <td>Thursday</td>\n",
       "      <td>Nov</td>\n",
       "      <td>2</td>\n",
       "      <td>Male</td>\n",
       "      <td>Married</td>\n",
       "      <td>...</td>\n",
       "      <td>41 to 50</td>\n",
       "      <td>No</td>\n",
       "      <td>No</td>\n",
       "      <td>External</td>\n",
       "      <td>none</td>\n",
       "      <td>no change</td>\n",
       "      <td>1 vehicle</td>\n",
       "      <td>1994</td>\n",
       "      <td>Collision</td>\n",
       "      <td>No</td>\n",
       "    </tr>\n",
       "    <tr>\n",
       "      <th>3</th>\n",
       "      <td>Jun</td>\n",
       "      <td>2</td>\n",
       "      <td>Saturday</td>\n",
       "      <td>Toyota</td>\n",
       "      <td>Rural</td>\n",
       "      <td>Friday</td>\n",
       "      <td>Jul</td>\n",
       "      <td>1</td>\n",
       "      <td>Male</td>\n",
       "      <td>Married</td>\n",
       "      <td>...</td>\n",
       "      <td>51 to 65</td>\n",
       "      <td>Yes</td>\n",
       "      <td>No</td>\n",
       "      <td>External</td>\n",
       "      <td>more than 5</td>\n",
       "      <td>no change</td>\n",
       "      <td>1 vehicle</td>\n",
       "      <td>1994</td>\n",
       "      <td>Liability</td>\n",
       "      <td>No</td>\n",
       "    </tr>\n",
       "    <tr>\n",
       "      <th>4</th>\n",
       "      <td>Jan</td>\n",
       "      <td>5</td>\n",
       "      <td>Monday</td>\n",
       "      <td>Honda</td>\n",
       "      <td>Urban</td>\n",
       "      <td>Tuesday</td>\n",
       "      <td>Feb</td>\n",
       "      <td>2</td>\n",
       "      <td>Female</td>\n",
       "      <td>Single</td>\n",
       "      <td>...</td>\n",
       "      <td>31 to 35</td>\n",
       "      <td>No</td>\n",
       "      <td>No</td>\n",
       "      <td>External</td>\n",
       "      <td>none</td>\n",
       "      <td>no change</td>\n",
       "      <td>1 vehicle</td>\n",
       "      <td>1994</td>\n",
       "      <td>Collision</td>\n",
       "      <td>No</td>\n",
       "    </tr>\n",
       "  </tbody>\n",
       "</table>\n",
       "<p>5 rows × 33 columns</p>\n",
       "</div>"
      ],
      "text/plain": [
       "  Month  WeekOfMonth  DayOfWeek    Make AccidentArea DayOfWeekClaimed  \\\n",
       "0   Dec            5  Wednesday   Honda        Urban          Tuesday   \n",
       "1   Jan            3  Wednesday   Honda        Urban           Monday   \n",
       "2   Oct            5     Friday   Honda        Urban         Thursday   \n",
       "3   Jun            2   Saturday  Toyota        Rural           Friday   \n",
       "4   Jan            5     Monday   Honda        Urban          Tuesday   \n",
       "\n",
       "  MonthClaimed  WeekOfMonthClaimed     Sex MaritalStatus  ...  \\\n",
       "0          Jan                   1  Female        Single  ...   \n",
       "1          Jan                   4    Male        Single  ...   \n",
       "2          Nov                   2    Male       Married  ...   \n",
       "3          Jul                   1    Male       Married  ...   \n",
       "4          Feb                   2  Female        Single  ...   \n",
       "\n",
       "   AgeOfPolicyHolder PoliceReportFiled WitnessPresent AgentType  \\\n",
       "0           26 to 30                No             No  External   \n",
       "1           31 to 35               Yes             No  External   \n",
       "2           41 to 50                No             No  External   \n",
       "3           51 to 65               Yes             No  External   \n",
       "4           31 to 35                No             No  External   \n",
       "\n",
       "  NumberOfSuppliments  AddressChange-Claim  NumberOfCars  Year  BasePolicy  \\\n",
       "0                none               1 year        3 to 4  1994   Liability   \n",
       "1                none            no change     1 vehicle  1994   Collision   \n",
       "2                none            no change     1 vehicle  1994   Collision   \n",
       "3         more than 5            no change     1 vehicle  1994   Liability   \n",
       "4                none            no change     1 vehicle  1994   Collision   \n",
       "\n",
       "  FraudFound  \n",
       "0         No  \n",
       "1         No  \n",
       "2         No  \n",
       "3         No  \n",
       "4         No  \n",
       "\n",
       "[5 rows x 33 columns]"
      ]
     },
     "execution_count": 298,
     "metadata": {},
     "output_type": "execute_result"
    }
   ],
   "source": [
    "df.head()"
   ]
  },
  {
   "cell_type": "code",
   "execution_count": 299,
   "id": "9cba768e",
   "metadata": {},
   "outputs": [
    {
     "data": {
      "text/plain": [
       "Jan    1411\n",
       "May    1367\n",
       "Mar    1360\n",
       "Jun    1321\n",
       "Oct    1305\n",
       "Dec    1285\n",
       "Apr    1280\n",
       "Feb    1266\n",
       "Jul    1257\n",
       "Sep    1240\n",
       "Nov    1201\n",
       "Aug    1127\n",
       "Name: Month, dtype: int64"
      ]
     },
     "execution_count": 299,
     "metadata": {},
     "output_type": "execute_result"
    }
   ],
   "source": [
    "df['Month'].value_counts()"
   ]
  },
  {
   "cell_type": "code",
   "execution_count": 300,
   "id": "8e02fcac",
   "metadata": {},
   "outputs": [
    {
     "data": {
      "text/plain": [
       "3    3640\n",
       "2    3558\n",
       "4    3398\n",
       "1    3187\n",
       "5    1637\n",
       "Name: WeekOfMonth, dtype: int64"
      ]
     },
     "execution_count": 300,
     "metadata": {},
     "output_type": "execute_result"
    }
   ],
   "source": [
    "df['WeekOfMonth'].value_counts()"
   ]
  },
  {
   "cell_type": "code",
   "execution_count": 301,
   "id": "58312796",
   "metadata": {},
   "outputs": [
    {
     "data": {
      "text/plain": [
       "Monday       2616\n",
       "Friday       2445\n",
       "Tuesday      2300\n",
       "Thursday     2173\n",
       "Wednesday    2159\n",
       "Saturday     1982\n",
       "Sunday       1745\n",
       "Name: DayOfWeek, dtype: int64"
      ]
     },
     "execution_count": 301,
     "metadata": {},
     "output_type": "execute_result"
    }
   ],
   "source": [
    "df['DayOfWeek'].value_counts()"
   ]
  },
  {
   "cell_type": "code",
   "execution_count": 302,
   "id": "a4fec2e7",
   "metadata": {},
   "outputs": [
    {
     "data": {
      "text/plain": [
       "Pontiac      3837\n",
       "Toyota       3121\n",
       "Honda        2801\n",
       "Mazda        2354\n",
       "Chevrolet    1681\n",
       "Accura        472\n",
       "Ford          450\n",
       "VW            283\n",
       "Dodge         109\n",
       "Saab          108\n",
       "Mercury        83\n",
       "Saturn         58\n",
       "Nisson         30\n",
       "BMW            15\n",
       "Jaguar          6\n",
       "Porche          5\n",
       "Mecedes         4\n",
       "Ferrari         2\n",
       "Lexus           1\n",
       "Name: Make, dtype: int64"
      ]
     },
     "execution_count": 302,
     "metadata": {},
     "output_type": "execute_result"
    }
   ],
   "source": [
    "df['Make'].value_counts()"
   ]
  },
  {
   "cell_type": "code",
   "execution_count": 303,
   "id": "3db6843e",
   "metadata": {},
   "outputs": [
    {
     "data": {
      "text/plain": [
       "19"
      ]
     },
     "execution_count": 303,
     "metadata": {},
     "output_type": "execute_result"
    }
   ],
   "source": [
    "df['Make'].nunique()"
   ]
  },
  {
   "cell_type": "code",
   "execution_count": 304,
   "id": "42a0093b",
   "metadata": {},
   "outputs": [
    {
     "data": {
      "text/plain": [
       "Urban    13822\n",
       "Rural     1598\n",
       "Name: AccidentArea, dtype: int64"
      ]
     },
     "execution_count": 304,
     "metadata": {},
     "output_type": "execute_result"
    }
   ],
   "source": [
    "df['AccidentArea'].value_counts()"
   ]
  },
  {
   "cell_type": "code",
   "execution_count": 305,
   "id": "91cd8ea6",
   "metadata": {},
   "outputs": [
    {
     "data": {
      "text/plain": [
       "0        21\n",
       "1        34\n",
       "2        47\n",
       "3        65\n",
       "4        27\n",
       "         ..\n",
       "15415    35\n",
       "15416    30\n",
       "15417    24\n",
       "15418    34\n",
       "15419    21\n",
       "Name: Age, Length: 15420, dtype: int64"
      ]
     },
     "execution_count": 305,
     "metadata": {},
     "output_type": "execute_result"
    }
   ],
   "source": [
    "df['Age']"
   ]
  },
  {
   "cell_type": "code",
   "execution_count": 306,
   "id": "2d62bf8e",
   "metadata": {},
   "outputs": [
    {
     "data": {
      "text/plain": [
       "Monday       3757\n",
       "Tuesday      3375\n",
       "Wednesday    2951\n",
       "Thursday     2660\n",
       "Friday       2497\n",
       "Saturday      127\n",
       "Sunday         52\n",
       "0               1\n",
       "Name: DayOfWeekClaimed, dtype: int64"
      ]
     },
     "execution_count": 306,
     "metadata": {},
     "output_type": "execute_result"
    }
   ],
   "source": [
    "df['DayOfWeekClaimed'].value_counts()"
   ]
  },
  {
   "cell_type": "code",
   "execution_count": 307,
   "id": "a48683a1",
   "metadata": {},
   "outputs": [
    {
     "data": {
      "text/plain": [
       "Jan    1446\n",
       "May    1411\n",
       "Mar    1348\n",
       "Oct    1339\n",
       "Jun    1293\n",
       "Feb    1287\n",
       "Nov    1285\n",
       "Apr    1271\n",
       "Sep    1242\n",
       "Jul    1225\n",
       "Dec    1146\n",
       "Aug    1126\n",
       "0         1\n",
       "Name: MonthClaimed, dtype: int64"
      ]
     },
     "execution_count": 307,
     "metadata": {},
     "output_type": "execute_result"
    }
   ],
   "source": [
    "df['MonthClaimed'].value_counts()"
   ]
  },
  {
   "cell_type": "code",
   "execution_count": 308,
   "id": "35e9ccff",
   "metadata": {},
   "outputs": [
    {
     "data": {
      "text/plain": [
       "2    3720\n",
       "3    3583\n",
       "1    3450\n",
       "4    3433\n",
       "5    1234\n",
       "Name: WeekOfMonthClaimed, dtype: int64"
      ]
     },
     "execution_count": 308,
     "metadata": {},
     "output_type": "execute_result"
    }
   ],
   "source": [
    "df['WeekOfMonthClaimed'].value_counts()"
   ]
  },
  {
   "cell_type": "code",
   "execution_count": 309,
   "id": "fedc7784",
   "metadata": {},
   "outputs": [
    {
     "data": {
      "text/plain": [
       "30    596\n",
       "33    574\n",
       "34    573\n",
       "35    569\n",
       "28    560\n",
       "     ... \n",
       "20     28\n",
       "70     27\n",
       "79     20\n",
       "16      9\n",
       "17      6\n",
       "Name: Age, Length: 66, dtype: int64"
      ]
     },
     "execution_count": 309,
     "metadata": {},
     "output_type": "execute_result"
    }
   ],
   "source": [
    "df['Age'].value_counts()"
   ]
  },
  {
   "cell_type": "code",
   "execution_count": 310,
   "id": "3cf66dfe",
   "metadata": {},
   "outputs": [
    {
     "data": {
      "text/html": [
       "<div>\n",
       "<style scoped>\n",
       "    .dataframe tbody tr th:only-of-type {\n",
       "        vertical-align: middle;\n",
       "    }\n",
       "\n",
       "    .dataframe tbody tr th {\n",
       "        vertical-align: top;\n",
       "    }\n",
       "\n",
       "    .dataframe thead th {\n",
       "        text-align: right;\n",
       "    }\n",
       "</style>\n",
       "<table border=\"1\" class=\"dataframe\">\n",
       "  <thead>\n",
       "    <tr style=\"text-align: right;\">\n",
       "      <th></th>\n",
       "      <th>Month</th>\n",
       "      <th>WeekOfMonth</th>\n",
       "      <th>DayOfWeek</th>\n",
       "      <th>Make</th>\n",
       "      <th>AccidentArea</th>\n",
       "      <th>DayOfWeekClaimed</th>\n",
       "      <th>MonthClaimed</th>\n",
       "      <th>WeekOfMonthClaimed</th>\n",
       "      <th>Sex</th>\n",
       "      <th>MaritalStatus</th>\n",
       "      <th>...</th>\n",
       "      <th>AgeOfPolicyHolder</th>\n",
       "      <th>PoliceReportFiled</th>\n",
       "      <th>WitnessPresent</th>\n",
       "      <th>AgentType</th>\n",
       "      <th>NumberOfSuppliments</th>\n",
       "      <th>AddressChange-Claim</th>\n",
       "      <th>NumberOfCars</th>\n",
       "      <th>Year</th>\n",
       "      <th>BasePolicy</th>\n",
       "      <th>FraudFound</th>\n",
       "    </tr>\n",
       "  </thead>\n",
       "  <tbody>\n",
       "    <tr>\n",
       "      <th>0</th>\n",
       "      <td>Dec</td>\n",
       "      <td>5</td>\n",
       "      <td>Wednesday</td>\n",
       "      <td>Honda</td>\n",
       "      <td>Urban</td>\n",
       "      <td>Tuesday</td>\n",
       "      <td>Jan</td>\n",
       "      <td>1</td>\n",
       "      <td>Female</td>\n",
       "      <td>Single</td>\n",
       "      <td>...</td>\n",
       "      <td>26 to 30</td>\n",
       "      <td>No</td>\n",
       "      <td>No</td>\n",
       "      <td>External</td>\n",
       "      <td>none</td>\n",
       "      <td>1 year</td>\n",
       "      <td>3 to 4</td>\n",
       "      <td>1994</td>\n",
       "      <td>Liability</td>\n",
       "      <td>No</td>\n",
       "    </tr>\n",
       "    <tr>\n",
       "      <th>1</th>\n",
       "      <td>Jan</td>\n",
       "      <td>3</td>\n",
       "      <td>Wednesday</td>\n",
       "      <td>Honda</td>\n",
       "      <td>Urban</td>\n",
       "      <td>Monday</td>\n",
       "      <td>Jan</td>\n",
       "      <td>4</td>\n",
       "      <td>Male</td>\n",
       "      <td>Single</td>\n",
       "      <td>...</td>\n",
       "      <td>31 to 35</td>\n",
       "      <td>Yes</td>\n",
       "      <td>No</td>\n",
       "      <td>External</td>\n",
       "      <td>none</td>\n",
       "      <td>no change</td>\n",
       "      <td>1 vehicle</td>\n",
       "      <td>1994</td>\n",
       "      <td>Collision</td>\n",
       "      <td>No</td>\n",
       "    </tr>\n",
       "    <tr>\n",
       "      <th>2</th>\n",
       "      <td>Oct</td>\n",
       "      <td>5</td>\n",
       "      <td>Friday</td>\n",
       "      <td>Honda</td>\n",
       "      <td>Urban</td>\n",
       "      <td>Thursday</td>\n",
       "      <td>Nov</td>\n",
       "      <td>2</td>\n",
       "      <td>Male</td>\n",
       "      <td>Married</td>\n",
       "      <td>...</td>\n",
       "      <td>41 to 50</td>\n",
       "      <td>No</td>\n",
       "      <td>No</td>\n",
       "      <td>External</td>\n",
       "      <td>none</td>\n",
       "      <td>no change</td>\n",
       "      <td>1 vehicle</td>\n",
       "      <td>1994</td>\n",
       "      <td>Collision</td>\n",
       "      <td>No</td>\n",
       "    </tr>\n",
       "    <tr>\n",
       "      <th>3</th>\n",
       "      <td>Jun</td>\n",
       "      <td>2</td>\n",
       "      <td>Saturday</td>\n",
       "      <td>Toyota</td>\n",
       "      <td>Rural</td>\n",
       "      <td>Friday</td>\n",
       "      <td>Jul</td>\n",
       "      <td>1</td>\n",
       "      <td>Male</td>\n",
       "      <td>Married</td>\n",
       "      <td>...</td>\n",
       "      <td>51 to 65</td>\n",
       "      <td>Yes</td>\n",
       "      <td>No</td>\n",
       "      <td>External</td>\n",
       "      <td>more than 5</td>\n",
       "      <td>no change</td>\n",
       "      <td>1 vehicle</td>\n",
       "      <td>1994</td>\n",
       "      <td>Liability</td>\n",
       "      <td>No</td>\n",
       "    </tr>\n",
       "    <tr>\n",
       "      <th>4</th>\n",
       "      <td>Jan</td>\n",
       "      <td>5</td>\n",
       "      <td>Monday</td>\n",
       "      <td>Honda</td>\n",
       "      <td>Urban</td>\n",
       "      <td>Tuesday</td>\n",
       "      <td>Feb</td>\n",
       "      <td>2</td>\n",
       "      <td>Female</td>\n",
       "      <td>Single</td>\n",
       "      <td>...</td>\n",
       "      <td>31 to 35</td>\n",
       "      <td>No</td>\n",
       "      <td>No</td>\n",
       "      <td>External</td>\n",
       "      <td>none</td>\n",
       "      <td>no change</td>\n",
       "      <td>1 vehicle</td>\n",
       "      <td>1994</td>\n",
       "      <td>Collision</td>\n",
       "      <td>No</td>\n",
       "    </tr>\n",
       "  </tbody>\n",
       "</table>\n",
       "<p>5 rows × 33 columns</p>\n",
       "</div>"
      ],
      "text/plain": [
       "  Month  WeekOfMonth  DayOfWeek    Make AccidentArea DayOfWeekClaimed  \\\n",
       "0   Dec            5  Wednesday   Honda        Urban          Tuesday   \n",
       "1   Jan            3  Wednesday   Honda        Urban           Monday   \n",
       "2   Oct            5     Friday   Honda        Urban         Thursday   \n",
       "3   Jun            2   Saturday  Toyota        Rural           Friday   \n",
       "4   Jan            5     Monday   Honda        Urban          Tuesday   \n",
       "\n",
       "  MonthClaimed  WeekOfMonthClaimed     Sex MaritalStatus  ...  \\\n",
       "0          Jan                   1  Female        Single  ...   \n",
       "1          Jan                   4    Male        Single  ...   \n",
       "2          Nov                   2    Male       Married  ...   \n",
       "3          Jul                   1    Male       Married  ...   \n",
       "4          Feb                   2  Female        Single  ...   \n",
       "\n",
       "   AgeOfPolicyHolder PoliceReportFiled WitnessPresent AgentType  \\\n",
       "0           26 to 30                No             No  External   \n",
       "1           31 to 35               Yes             No  External   \n",
       "2           41 to 50                No             No  External   \n",
       "3           51 to 65               Yes             No  External   \n",
       "4           31 to 35                No             No  External   \n",
       "\n",
       "  NumberOfSuppliments  AddressChange-Claim  NumberOfCars  Year  BasePolicy  \\\n",
       "0                none               1 year        3 to 4  1994   Liability   \n",
       "1                none            no change     1 vehicle  1994   Collision   \n",
       "2                none            no change     1 vehicle  1994   Collision   \n",
       "3         more than 5            no change     1 vehicle  1994   Liability   \n",
       "4                none            no change     1 vehicle  1994   Collision   \n",
       "\n",
       "  FraudFound  \n",
       "0         No  \n",
       "1         No  \n",
       "2         No  \n",
       "3         No  \n",
       "4         No  \n",
       "\n",
       "[5 rows x 33 columns]"
      ]
     },
     "execution_count": 310,
     "metadata": {},
     "output_type": "execute_result"
    }
   ],
   "source": [
    "df.head()"
   ]
  },
  {
   "cell_type": "code",
   "execution_count": 311,
   "id": "86324ed0",
   "metadata": {},
   "outputs": [
    {
     "data": {
      "text/plain": [
       "Sedan - Collision       5584\n",
       "Sedan - Liability       4987\n",
       "Sedan - All Perils      4087\n",
       "Sport - Collision        348\n",
       "Utility - All Perils     340\n",
       "Utility - Collision       30\n",
       "Sport - All Perils        22\n",
       "Utility - Liability       21\n",
       "Sport - Liability          1\n",
       "Name: PolicyType, dtype: int64"
      ]
     },
     "execution_count": 311,
     "metadata": {},
     "output_type": "execute_result"
    }
   ],
   "source": [
    "df['PolicyType'].value_counts()"
   ]
  },
  {
   "cell_type": "code",
   "execution_count": 312,
   "id": "f637896f",
   "metadata": {},
   "outputs": [
    {
     "data": {
      "text/plain": [
       "Sedan      9671\n",
       "Sport      5358\n",
       "Utility     391\n",
       "Name: VehicleCategory, dtype: int64"
      ]
     },
     "execution_count": 312,
     "metadata": {},
     "output_type": "execute_result"
    }
   ],
   "source": [
    "df['VehicleCategory'].value_counts()"
   ]
  },
  {
   "cell_type": "code",
   "execution_count": 313,
   "id": "b5fa615a",
   "metadata": {},
   "outputs": [
    {
     "data": {
      "text/plain": [
       "400    14838\n",
       "700      311\n",
       "500      263\n",
       "300        8\n",
       "Name: Deductible, dtype: int64"
      ]
     },
     "execution_count": 313,
     "metadata": {},
     "output_type": "execute_result"
    }
   ],
   "source": [
    "df['Deductible'].value_counts()"
   ]
  },
  {
   "cell_type": "code",
   "execution_count": 314,
   "id": "3ab5a5e4",
   "metadata": {},
   "outputs": [],
   "source": [
    "# data conversion"
   ]
  },
  {
   "cell_type": "markdown",
   "id": "5ba9cfee",
   "metadata": {},
   "source": []
  },
  {
   "cell_type": "raw",
   "id": "36c0d3d7",
   "metadata": {},
   "source": [
    "'Month', ----->map\n",
    "'WeekOfMonth', \n",
    "'DayOfWeek', ----->map\n",
    "'Make', --> label encoding\n",
    "'AccidentArea', --> dummies \n",
    "'DayOfWeekClaimed',----->map \n",
    "'MonthClaimed', ----->map\n",
    "'WeekOfMonthClaimed'\n",
    "'Sex', --> dummies \n",
    "'MaritalStatus'--> label encoding \n",
    "'Age' \n",
    "'Fault' --> dummies\n",
    "    'PolicyType',  -->this one is a union of \"VehicleCategory\" and \"BasePolicy\", so in this case, we remove this one.\n",
    "    'VehicleCategory',--> label encoding\n",
    "       'VehiclePrice', -> more than, range\n",
    "        'PolicyNumber', --> continous unique\n",
    "        'RepNumber', -->\n",
    "        'Deductible',\n",
    "       'DriverRating',\n",
    "    'Days:Policy-Accident', --> more than , range\n",
    "    'Days:Policy-Claim', --> more than ,range\n",
    "       'PastNumberOfClaims',  --> more than ,none\n",
    "        'AgeOfVehicle', --> morethan, years string\n",
    "        'AgeOfPolicyHolder', --> range --> mean?\n",
    "       'PoliceReportFiled', --> dummies\n",
    "    'WitnessPresent', -->dummies\n",
    "    'AgentType',-->dummies\n",
    "       'NumberOfSuppliments',--> none, range,more than\n",
    "        'AddressChange-Claim', --> years string, no change, range\n",
    "        'NumberOfCars',--> rainge, vehicle string\n",
    "        'Year',\n",
    "       'BasePolicy', -->label encoding \n",
    "    'FraudFound'-->dummies"
   ]
  },
  {
   "cell_type": "code",
   "execution_count": 315,
   "id": "97d6874f",
   "metadata": {},
   "outputs": [
    {
     "data": {
      "text/plain": [
       "array(['Jan', 'Nov', 'Jul', 'Feb', 'Mar', 'Dec', 'Apr', 'Aug', 'May',\n",
       "       'Jun', 'Sep', 'Oct', '0'], dtype=object)"
      ]
     },
     "execution_count": 315,
     "metadata": {},
     "output_type": "execute_result"
    }
   ],
   "source": [
    "df['Month'].unique()\n",
    "df['DayOfWeek'].unique()\n",
    "df['DayOfWeekClaimed'].unique()\n",
    "df['MonthClaimed'].unique()"
   ]
  },
  {
   "cell_type": "code",
   "execution_count": 316,
   "id": "0eb9bb2d",
   "metadata": {},
   "outputs": [],
   "source": [
    "month_dict={'Dec':12, 'Jan':1, 'Oct':10, 'Jun':6, 'Feb':2, 'Nov':12, 'Apr':4, 'Mar':3, 'Aug':8,\n",
    "       'Jul':7, 'May':5, 'Sep':9}\n",
    "dow_dict={'Wednesday':3, 'Friday':5, 'Saturday':6, 'Monday':1, 'Tuesday':2, 'Sunday':7,\n",
    "       'Thursday':4}\n",
    "dowc_dict={'Wednesday':3, 'Friday':5, 'Saturday':6, 'Monday':1, 'Tuesday':2, 'Sunday':7,\n",
    "       'Thursday':4}\n",
    "monthc_dict={'Dec':12, 'Jan':1, 'Oct':10, 'Jun':6, 'Feb':2, 'Nov':12, 'Apr':4, 'Mar':3, 'Aug':8,\n",
    "       'Jul':7, 'May':5, 'Sep':9}"
   ]
  },
  {
   "cell_type": "code",
   "execution_count": 317,
   "id": "0e114f2a",
   "metadata": {},
   "outputs": [],
   "source": [
    "df['Month']=df['Month'].map(month_dict)\n",
    "df['DayOfWeek']=df['DayOfWeek'].map(dow_dict)\n",
    "df['DayOfWeekClaimed']=df['DayOfWeekClaimed'].map(dowc_dict)\n",
    "df['MonthClaimed']=df['MonthClaimed'].map(monthc_dict)"
   ]
  },
  {
   "cell_type": "code",
   "execution_count": 318,
   "id": "58cf03c1",
   "metadata": {},
   "outputs": [
    {
     "data": {
      "text/plain": [
       "0        12\n",
       "1         1\n",
       "2        10\n",
       "3         6\n",
       "4         1\n",
       "         ..\n",
       "15415    12\n",
       "15416    12\n",
       "15417    12\n",
       "15418    12\n",
       "15419    12\n",
       "Name: Month, Length: 15420, dtype: int64"
      ]
     },
     "execution_count": 318,
     "metadata": {},
     "output_type": "execute_result"
    }
   ],
   "source": [
    "df['Month']"
   ]
  },
  {
   "cell_type": "code",
   "execution_count": 319,
   "id": "736e6aaa",
   "metadata": {},
   "outputs": [
    {
     "data": {
      "text/plain": [
       "0        3\n",
       "1        3\n",
       "2        5\n",
       "3        6\n",
       "4        1\n",
       "        ..\n",
       "15415    5\n",
       "15416    4\n",
       "15417    4\n",
       "15418    1\n",
       "15419    3\n",
       "Name: DayOfWeek, Length: 15420, dtype: int64"
      ]
     },
     "execution_count": 319,
     "metadata": {},
     "output_type": "execute_result"
    }
   ],
   "source": [
    "df['DayOfWeek']"
   ]
  },
  {
   "cell_type": "code",
   "execution_count": 320,
   "id": "e79d10e1",
   "metadata": {},
   "outputs": [
    {
     "data": {
      "text/plain": [
       "0        2.0\n",
       "1        1.0\n",
       "2        4.0\n",
       "3        5.0\n",
       "4        2.0\n",
       "        ... \n",
       "15415    2.0\n",
       "15416    5.0\n",
       "15417    5.0\n",
       "15418    4.0\n",
       "15419    4.0\n",
       "Name: DayOfWeekClaimed, Length: 15420, dtype: float64"
      ]
     },
     "execution_count": 320,
     "metadata": {},
     "output_type": "execute_result"
    }
   ],
   "source": [
    "df['DayOfWeekClaimed']"
   ]
  },
  {
   "cell_type": "code",
   "execution_count": 321,
   "id": "212a8ae5",
   "metadata": {},
   "outputs": [
    {
     "data": {
      "text/plain": [
       "0         1.0\n",
       "1         1.0\n",
       "2        12.0\n",
       "3         7.0\n",
       "4         2.0\n",
       "         ... \n",
       "15415    12.0\n",
       "15416    12.0\n",
       "15417    12.0\n",
       "15418    12.0\n",
       "15419    12.0\n",
       "Name: MonthClaimed, Length: 15420, dtype: float64"
      ]
     },
     "execution_count": 321,
     "metadata": {},
     "output_type": "execute_result"
    }
   ],
   "source": [
    "df['MonthClaimed']"
   ]
  },
  {
   "cell_type": "code",
   "execution_count": 322,
   "id": "0f0b9b5e",
   "metadata": {},
   "outputs": [],
   "source": [
    "df1=pd.get_dummies(df,columns=['AccidentArea','Sex','Fault','PoliceReportFiled','WitnessPresent','AgentType'],drop_first=True)"
   ]
  },
  {
   "cell_type": "code",
   "execution_count": 323,
   "id": "c80685fa",
   "metadata": {},
   "outputs": [
    {
     "name": "stdout",
     "output_type": "stream",
     "text": [
      "<class 'pandas.core.frame.DataFrame'>\n",
      "RangeIndex: 15420 entries, 0 to 15419\n",
      "Data columns (total 33 columns):\n",
      " #   Column                 Non-Null Count  Dtype  \n",
      "---  ------                 --------------  -----  \n",
      " 0   Month                  15420 non-null  int64  \n",
      " 1   WeekOfMonth            15420 non-null  int64  \n",
      " 2   DayOfWeek              15420 non-null  int64  \n",
      " 3   Make                   15420 non-null  object \n",
      " 4   DayOfWeekClaimed       15419 non-null  float64\n",
      " 5   MonthClaimed           15419 non-null  float64\n",
      " 6   WeekOfMonthClaimed     15420 non-null  int64  \n",
      " 7   MaritalStatus          15420 non-null  object \n",
      " 8   Age                    15420 non-null  int64  \n",
      " 9   PolicyType             15420 non-null  object \n",
      " 10  VehicleCategory        15420 non-null  object \n",
      " 11  VehiclePrice           15420 non-null  object \n",
      " 12  PolicyNumber           15420 non-null  int64  \n",
      " 13  RepNumber              15420 non-null  int64  \n",
      " 14  Deductible             15420 non-null  int64  \n",
      " 15  DriverRating           15420 non-null  int64  \n",
      " 16  Days:Policy-Accident   15420 non-null  object \n",
      " 17  Days:Policy-Claim      15420 non-null  object \n",
      " 18  PastNumberOfClaims     15420 non-null  object \n",
      " 19  AgeOfVehicle           15420 non-null  object \n",
      " 20  AgeOfPolicyHolder      15420 non-null  object \n",
      " 21  NumberOfSuppliments    15420 non-null  object \n",
      " 22  AddressChange-Claim    15420 non-null  object \n",
      " 23  NumberOfCars           15420 non-null  object \n",
      " 24  Year                   15420 non-null  int64  \n",
      " 25  BasePolicy             15420 non-null  object \n",
      " 26  FraudFound             15420 non-null  object \n",
      " 27  AccidentArea_Urban     15420 non-null  uint8  \n",
      " 28  Sex_Male               15420 non-null  uint8  \n",
      " 29  Fault_Third Party      15420 non-null  uint8  \n",
      " 30  PoliceReportFiled_Yes  15420 non-null  uint8  \n",
      " 31  WitnessPresent_Yes     15420 non-null  uint8  \n",
      " 32  AgentType_Internal     15420 non-null  uint8  \n",
      "dtypes: float64(2), int64(10), object(15), uint8(6)\n",
      "memory usage: 3.3+ MB\n"
     ]
    }
   ],
   "source": [
    "df1.info()"
   ]
  },
  {
   "cell_type": "code",
   "execution_count": 324,
   "id": "757130c4",
   "metadata": {},
   "outputs": [],
   "source": [
    "from sklearn.preprocessing import LabelEncoder"
   ]
  },
  {
   "cell_type": "code",
   "execution_count": 325,
   "id": "7b4ed317",
   "metadata": {},
   "outputs": [],
   "source": [
    "le=LabelEncoder()"
   ]
  },
  {
   "cell_type": "code",
   "execution_count": 326,
   "id": "e66a85ae",
   "metadata": {},
   "outputs": [],
   "source": [
    "df1['Make']=le.fit_transform(df1['Make'])\n",
    "df1['MaritalStatus']=le.fit_transform(df1['MaritalStatus'])\n",
    "df1['VehicleCategory']=le.fit_transform(df1['VehicleCategory'])\n",
    "df1['BasePolicy']=le.fit_transform(df1['BasePolicy'])"
   ]
  },
  {
   "cell_type": "code",
   "execution_count": 327,
   "id": "155174d5",
   "metadata": {},
   "outputs": [
    {
     "name": "stdout",
     "output_type": "stream",
     "text": [
      "<class 'pandas.core.frame.DataFrame'>\n",
      "RangeIndex: 15420 entries, 0 to 15419\n",
      "Data columns (total 33 columns):\n",
      " #   Column                 Non-Null Count  Dtype  \n",
      "---  ------                 --------------  -----  \n",
      " 0   Month                  15420 non-null  int64  \n",
      " 1   WeekOfMonth            15420 non-null  int64  \n",
      " 2   DayOfWeek              15420 non-null  int64  \n",
      " 3   Make                   15420 non-null  int32  \n",
      " 4   DayOfWeekClaimed       15419 non-null  float64\n",
      " 5   MonthClaimed           15419 non-null  float64\n",
      " 6   WeekOfMonthClaimed     15420 non-null  int64  \n",
      " 7   MaritalStatus          15420 non-null  int32  \n",
      " 8   Age                    15420 non-null  int64  \n",
      " 9   PolicyType             15420 non-null  object \n",
      " 10  VehicleCategory        15420 non-null  int32  \n",
      " 11  VehiclePrice           15420 non-null  object \n",
      " 12  PolicyNumber           15420 non-null  int64  \n",
      " 13  RepNumber              15420 non-null  int64  \n",
      " 14  Deductible             15420 non-null  int64  \n",
      " 15  DriverRating           15420 non-null  int64  \n",
      " 16  Days:Policy-Accident   15420 non-null  object \n",
      " 17  Days:Policy-Claim      15420 non-null  object \n",
      " 18  PastNumberOfClaims     15420 non-null  object \n",
      " 19  AgeOfVehicle           15420 non-null  object \n",
      " 20  AgeOfPolicyHolder      15420 non-null  object \n",
      " 21  NumberOfSuppliments    15420 non-null  object \n",
      " 22  AddressChange-Claim    15420 non-null  object \n",
      " 23  NumberOfCars           15420 non-null  object \n",
      " 24  Year                   15420 non-null  int64  \n",
      " 25  BasePolicy             15420 non-null  int32  \n",
      " 26  FraudFound             15420 non-null  object \n",
      " 27  AccidentArea_Urban     15420 non-null  uint8  \n",
      " 28  Sex_Male               15420 non-null  uint8  \n",
      " 29  Fault_Third Party      15420 non-null  uint8  \n",
      " 30  PoliceReportFiled_Yes  15420 non-null  uint8  \n",
      " 31  WitnessPresent_Yes     15420 non-null  uint8  \n",
      " 32  AgentType_Internal     15420 non-null  uint8  \n",
      "dtypes: float64(2), int32(4), int64(10), object(11), uint8(6)\n",
      "memory usage: 3.0+ MB\n"
     ]
    }
   ],
   "source": [
    "df1.info()"
   ]
  },
  {
   "cell_type": "code",
   "execution_count": null,
   "id": "05755f38",
   "metadata": {},
   "outputs": [],
   "source": []
  },
  {
   "cell_type": "code",
   "execution_count": 328,
   "id": "a8408be4",
   "metadata": {},
   "outputs": [
    {
     "name": "stdout",
     "output_type": "stream",
     "text": [
      "<class 'pandas.core.frame.DataFrame'>\n",
      "RangeIndex: 15420 entries, 0 to 15419\n",
      "Data columns (total 33 columns):\n",
      " #   Column                 Non-Null Count  Dtype  \n",
      "---  ------                 --------------  -----  \n",
      " 0   Month                  15420 non-null  int64  \n",
      " 1   WeekOfMonth            15420 non-null  int64  \n",
      " 2   DayOfWeek              15420 non-null  int64  \n",
      " 3   Make                   15420 non-null  int32  \n",
      " 4   DayOfWeekClaimed       15419 non-null  float64\n",
      " 5   MonthClaimed           15419 non-null  float64\n",
      " 6   WeekOfMonthClaimed     15420 non-null  int64  \n",
      " 7   MaritalStatus          15420 non-null  int32  \n",
      " 8   Age                    15420 non-null  int64  \n",
      " 9   PolicyType             15420 non-null  object \n",
      " 10  VehicleCategory        15420 non-null  int32  \n",
      " 11  VehiclePrice           15420 non-null  object \n",
      " 12  PolicyNumber           15420 non-null  int64  \n",
      " 13  RepNumber              15420 non-null  int64  \n",
      " 14  Deductible             15420 non-null  int64  \n",
      " 15  DriverRating           15420 non-null  int64  \n",
      " 16  Days:Policy-Accident   15420 non-null  object \n",
      " 17  Days:Policy-Claim      15420 non-null  object \n",
      " 18  PastNumberOfClaims     15420 non-null  object \n",
      " 19  AgeOfVehicle           15420 non-null  object \n",
      " 20  AgeOfPolicyHolder      15420 non-null  object \n",
      " 21  NumberOfSuppliments    15420 non-null  object \n",
      " 22  AddressChange-Claim    15420 non-null  object \n",
      " 23  NumberOfCars           15420 non-null  object \n",
      " 24  Year                   15420 non-null  int64  \n",
      " 25  BasePolicy             15420 non-null  int32  \n",
      " 26  FraudFound             15420 non-null  object \n",
      " 27  AccidentArea_Urban     15420 non-null  uint8  \n",
      " 28  Sex_Male               15420 non-null  uint8  \n",
      " 29  Fault_Third Party      15420 non-null  uint8  \n",
      " 30  PoliceReportFiled_Yes  15420 non-null  uint8  \n",
      " 31  WitnessPresent_Yes     15420 non-null  uint8  \n",
      " 32  AgentType_Internal     15420 non-null  uint8  \n",
      "dtypes: float64(2), int32(4), int64(10), object(11), uint8(6)\n",
      "memory usage: 3.0+ MB\n"
     ]
    }
   ],
   "source": [
    "df1.info()"
   ]
  },
  {
   "cell_type": "code",
   "execution_count": null,
   "id": "1bf204aa",
   "metadata": {},
   "outputs": [],
   "source": []
  },
  {
   "cell_type": "code",
   "execution_count": null,
   "id": "869f6701",
   "metadata": {},
   "outputs": [],
   "source": []
  },
  {
   "cell_type": "code",
   "execution_count": null,
   "id": "da6a8e36",
   "metadata": {},
   "outputs": [],
   "source": []
  },
  {
   "cell_type": "code",
   "execution_count": 329,
   "id": "978b6263",
   "metadata": {},
   "outputs": [
    {
     "data": {
      "text/plain": [
       "array(['Sport - Liability', 'Sport - Collision', 'Sedan - Liability',\n",
       "       'Utility - All Perils', 'Sedan - All Perils', 'Sedan - Collision',\n",
       "       'Utility - Collision', 'Utility - Liability', 'Sport - All Perils'],\n",
       "      dtype=object)"
      ]
     },
     "execution_count": 329,
     "metadata": {},
     "output_type": "execute_result"
    }
   ],
   "source": [
    "df1['VehiclePrice'].unique()\n",
    "df1['Days:Policy-Accident'].unique()\n",
    "df1['Days:Policy-Claim'].unique()\n",
    "df1['PastNumberOfClaims'].unique()\n",
    "df1['AgeOfVehicle'].unique()\n",
    "df1['AgeOfPolicyHolder'].unique()\n",
    "df1['NumberOfSuppliments'].unique()\n",
    "df1['AddressChange-Claim'].unique()\n",
    "df1['NumberOfCars'].unique()\n",
    "df1['FraudFound'].unique()\n",
    "df1['PolicyType'].unique()"
   ]
  },
  {
   "cell_type": "code",
   "execution_count": 330,
   "id": "6c2d3bea",
   "metadata": {},
   "outputs": [],
   "source": [
    "vp_dict={'more than 69,000':6, '20,000 to 29,000':2, '30,000 to 39,000':3,\n",
    "       'less than 20,000':1, '40,000 to 59,000':4, '60,000 to 69,000':5}\n",
    "dpa_dict={'more than 30':5, '15 to 30':4, 'none':1, '1 to 7':2, '8 to 15':3}\n",
    "dpc_dict={'more than 30':4, '15 to 30':3, 'none':1, '8 to 15':2}\n",
    "pnoc_dict={'none':1, '1':2, '2 to 4':3, 'more than 4':4}\n",
    "aov={'3 years':3, '6 years':6, '7 years':7, 'more than 7':8, '5 years':5, 'new':1,\n",
    "       '4 years':4, '2 years':2}\n",
    "aoph={'26 to 30':4, '31 to 35':5, '41 to 50':7, '51 to 65':8, '21 to 25':3,\n",
    "       '36 to 40':6, '16 to 17':1, 'over 65':9, '18 to 20':2}\n",
    "nos={'none':1, 'more than 5':4, '3 to 5':3, '1 to 2':2}\n",
    "acc={'1 year':2, 'no change':1, '4 to 8 years':4, '2 to 3 years':3,\n",
    "       'under 6 months':5}\n",
    "noc={'3 to 4':3, '1 vehicle':1, '2 vehicles':2, '5 to 8':4, 'more than 8':5}\n",
    "f={'No':0, 'Yes':1}\n",
    "pt={'Sport - Liability':0, 'Sport - Collision':1, 'Sedan - Liability':4,\n",
    "       'Utility - All Perils':9, 'Sedan - All Perils':6, 'Sedan - Collision':5,\n",
    "       'Utility - Collision':8, 'Utility - Liability':7, 'Sport - All Perils':3}"
   ]
  },
  {
   "cell_type": "code",
   "execution_count": 331,
   "id": "7cba26d4",
   "metadata": {},
   "outputs": [],
   "source": [
    "df1['VehiclePrice']=df['VehiclePrice'].map(vp_dict)\n",
    "df1['Days:Policy-Accident']=df['Days:Policy-Accident'].map(dpa_dict)\n",
    "df1['Days:Policy-Claim']=df['Days:Policy-Claim'].map(dpc_dict)\n",
    "df1['PastNumberOfClaims']=df['PastNumberOfClaims'].map(pnoc_dict)\n",
    "df1['AgeOfVehicle']=df['AgeOfVehicle'].map(aov)\n",
    "df1['AgeOfPolicyHolder']=df['AgeOfPolicyHolder'].map(aoph)\n",
    "df1['NumberOfSuppliments']=df['NumberOfSuppliments'].map(nos)\n",
    "df1['AddressChange-Claim']=df['AddressChange-Claim'].map(acc)\n",
    "df1['NumberOfCars']=df['NumberOfCars'].map(noc)\n",
    "df1['FraudFound']=df['FraudFound'].map(f)\n",
    "df1['PolicyType']=df['PolicyType'].map(pt)"
   ]
  },
  {
   "cell_type": "code",
   "execution_count": 332,
   "id": "e1976e6a",
   "metadata": {},
   "outputs": [
    {
     "name": "stdout",
     "output_type": "stream",
     "text": [
      "<class 'pandas.core.frame.DataFrame'>\n",
      "RangeIndex: 15420 entries, 0 to 15419\n",
      "Data columns (total 33 columns):\n",
      " #   Column                 Non-Null Count  Dtype  \n",
      "---  ------                 --------------  -----  \n",
      " 0   Month                  15420 non-null  int64  \n",
      " 1   WeekOfMonth            15420 non-null  int64  \n",
      " 2   DayOfWeek              15420 non-null  int64  \n",
      " 3   Make                   15420 non-null  int32  \n",
      " 4   DayOfWeekClaimed       15419 non-null  float64\n",
      " 5   MonthClaimed           15419 non-null  float64\n",
      " 6   WeekOfMonthClaimed     15420 non-null  int64  \n",
      " 7   MaritalStatus          15420 non-null  int32  \n",
      " 8   Age                    15420 non-null  int64  \n",
      " 9   PolicyType             15420 non-null  int64  \n",
      " 10  VehicleCategory        15420 non-null  int32  \n",
      " 11  VehiclePrice           15420 non-null  int64  \n",
      " 12  PolicyNumber           15420 non-null  int64  \n",
      " 13  RepNumber              15420 non-null  int64  \n",
      " 14  Deductible             15420 non-null  int64  \n",
      " 15  DriverRating           15420 non-null  int64  \n",
      " 16  Days:Policy-Accident   15420 non-null  int64  \n",
      " 17  Days:Policy-Claim      15420 non-null  int64  \n",
      " 18  PastNumberOfClaims     15420 non-null  int64  \n",
      " 19  AgeOfVehicle           15420 non-null  int64  \n",
      " 20  AgeOfPolicyHolder      15420 non-null  int64  \n",
      " 21  NumberOfSuppliments    15420 non-null  int64  \n",
      " 22  AddressChange-Claim    15420 non-null  int64  \n",
      " 23  NumberOfCars           15420 non-null  int64  \n",
      " 24  Year                   15420 non-null  int64  \n",
      " 25  BasePolicy             15420 non-null  int32  \n",
      " 26  FraudFound             15420 non-null  int64  \n",
      " 27  AccidentArea_Urban     15420 non-null  uint8  \n",
      " 28  Sex_Male               15420 non-null  uint8  \n",
      " 29  Fault_Third Party      15420 non-null  uint8  \n",
      " 30  PoliceReportFiled_Yes  15420 non-null  uint8  \n",
      " 31  WitnessPresent_Yes     15420 non-null  uint8  \n",
      " 32  AgentType_Internal     15420 non-null  uint8  \n",
      "dtypes: float64(2), int32(4), int64(21), uint8(6)\n",
      "memory usage: 3.0 MB\n"
     ]
    }
   ],
   "source": [
    "df1.info()"
   ]
  },
  {
   "cell_type": "code",
   "execution_count": 333,
   "id": "dc76e618",
   "metadata": {},
   "outputs": [],
   "source": [
    "df1.drop(['VehicleCategory','BasePolicy'],axis=1,inplace=True)"
   ]
  },
  {
   "cell_type": "code",
   "execution_count": 334,
   "id": "8891655b",
   "metadata": {},
   "outputs": [
    {
     "name": "stdout",
     "output_type": "stream",
     "text": [
      "<class 'pandas.core.frame.DataFrame'>\n",
      "RangeIndex: 15420 entries, 0 to 15419\n",
      "Data columns (total 31 columns):\n",
      " #   Column                 Non-Null Count  Dtype  \n",
      "---  ------                 --------------  -----  \n",
      " 0   Month                  15420 non-null  int64  \n",
      " 1   WeekOfMonth            15420 non-null  int64  \n",
      " 2   DayOfWeek              15420 non-null  int64  \n",
      " 3   Make                   15420 non-null  int32  \n",
      " 4   DayOfWeekClaimed       15419 non-null  float64\n",
      " 5   MonthClaimed           15419 non-null  float64\n",
      " 6   WeekOfMonthClaimed     15420 non-null  int64  \n",
      " 7   MaritalStatus          15420 non-null  int32  \n",
      " 8   Age                    15420 non-null  int64  \n",
      " 9   PolicyType             15420 non-null  int64  \n",
      " 10  VehiclePrice           15420 non-null  int64  \n",
      " 11  PolicyNumber           15420 non-null  int64  \n",
      " 12  RepNumber              15420 non-null  int64  \n",
      " 13  Deductible             15420 non-null  int64  \n",
      " 14  DriverRating           15420 non-null  int64  \n",
      " 15  Days:Policy-Accident   15420 non-null  int64  \n",
      " 16  Days:Policy-Claim      15420 non-null  int64  \n",
      " 17  PastNumberOfClaims     15420 non-null  int64  \n",
      " 18  AgeOfVehicle           15420 non-null  int64  \n",
      " 19  AgeOfPolicyHolder      15420 non-null  int64  \n",
      " 20  NumberOfSuppliments    15420 non-null  int64  \n",
      " 21  AddressChange-Claim    15420 non-null  int64  \n",
      " 22  NumberOfCars           15420 non-null  int64  \n",
      " 23  Year                   15420 non-null  int64  \n",
      " 24  FraudFound             15420 non-null  int64  \n",
      " 25  AccidentArea_Urban     15420 non-null  uint8  \n",
      " 26  Sex_Male               15420 non-null  uint8  \n",
      " 27  Fault_Third Party      15420 non-null  uint8  \n",
      " 28  PoliceReportFiled_Yes  15420 non-null  uint8  \n",
      " 29  WitnessPresent_Yes     15420 non-null  uint8  \n",
      " 30  AgentType_Internal     15420 non-null  uint8  \n",
      "dtypes: float64(2), int32(2), int64(21), uint8(6)\n",
      "memory usage: 2.9 MB\n"
     ]
    }
   ],
   "source": [
    "df1.info()"
   ]
  },
  {
   "cell_type": "code",
   "execution_count": null,
   "id": "aa3420bb",
   "metadata": {},
   "outputs": [],
   "source": [
    "#dropping row with 0's and null values using policy number"
   ]
  },
  {
   "cell_type": "code",
   "execution_count": 336,
   "id": "7e108a05",
   "metadata": {},
   "outputs": [],
   "source": [
    "df1.drop(df1[df1['PolicyNumber']==1517].index,inplace=True)"
   ]
  },
  {
   "cell_type": "code",
   "execution_count": 337,
   "id": "baa00c63",
   "metadata": {},
   "outputs": [],
   "source": [
    "df1=df1.reset_index()"
   ]
  },
  {
   "cell_type": "code",
   "execution_count": 338,
   "id": "08e4f100",
   "metadata": {},
   "outputs": [],
   "source": [
    "df1.drop('index',axis=1,inplace=True)"
   ]
  },
  {
   "cell_type": "code",
   "execution_count": 340,
   "id": "5a089c16",
   "metadata": {},
   "outputs": [
    {
     "data": {
      "text/plain": [
       "(15419, 31)"
      ]
     },
     "execution_count": 340,
     "metadata": {},
     "output_type": "execute_result"
    }
   ],
   "source": [
    "df1.shape"
   ]
  },
  {
   "cell_type": "code",
   "execution_count": 343,
   "id": "fb5f3f27",
   "metadata": {},
   "outputs": [
    {
     "data": {
      "text/plain": [
       "AgeOfPolicyHolder\n",
       "1     0.0\n",
       "2    16.0\n",
       "3    19.0\n",
       "4    23.0\n",
       "5    31.0\n",
       "6    41.0\n",
       "7    50.0\n",
       "8    60.0\n",
       "9    73.0\n",
       "Name: Age, dtype: float64"
      ]
     },
     "execution_count": 343,
     "metadata": {},
     "output_type": "execute_result"
    }
   ],
   "source": [
    "df1.groupby('AgeOfPolicyHolder')['Age'].median()"
   ]
  },
  {
   "cell_type": "code",
   "execution_count": null,
   "id": "fb029f3d",
   "metadata": {},
   "outputs": [],
   "source": [
    "import pandas as pd\n",
    "from scipy import stats"
   ]
  },
  {
   "cell_type": "code",
   "execution_count": null,
   "id": "5539f835",
   "metadata": {},
   "outputs": [],
   "source": [
    "from scipy.stats import chi2_contingency"
   ]
  },
  {
   "cell_type": "code",
   "execution_count": null,
   "id": "62233211",
   "metadata": {},
   "outputs": [],
   "source": [
    "crosstab = pd.crosstab( df1['PARENT1_Yes'],df1['CLAIM_FLAG'])\n",
    "crosstab\n"
   ]
  },
  {
   "cell_type": "code",
   "execution_count": null,
   "id": "1b6e7cba",
   "metadata": {},
   "outputs": [],
   "source": [
    "\n",
    "stats.chi2_contingency(crosstab)"
   ]
  },
  {
   "cell_type": "code",
   "execution_count": null,
   "id": "6ec881f0",
   "metadata": {},
   "outputs": [],
   "source": []
  },
  {
   "cell_type": "code",
   "execution_count": null,
   "id": "bca78e9f",
   "metadata": {},
   "outputs": [],
   "source": []
  },
  {
   "cell_type": "code",
   "execution_count": null,
   "id": "bf0e268c",
   "metadata": {},
   "outputs": [],
   "source": []
  },
  {
   "cell_type": "markdown",
   "id": "dbf34c41",
   "metadata": {},
   "source": [
    "# outliers"
   ]
  },
  {
   "cell_type": "code",
   "execution_count": null,
   "id": "b4c27424",
   "metadata": {},
   "outputs": [],
   "source": []
  },
  {
   "cell_type": "code",
   "execution_count": null,
   "id": "db9fca95",
   "metadata": {},
   "outputs": [],
   "source": []
  },
  {
   "cell_type": "code",
   "execution_count": null,
   "id": "4396fc12",
   "metadata": {},
   "outputs": [],
   "source": []
  },
  {
   "cell_type": "code",
   "execution_count": null,
   "id": "12956d36",
   "metadata": {},
   "outputs": [],
   "source": []
  }
 ],
 "metadata": {
  "kernelspec": {
   "display_name": "Python 3 (ipykernel)",
   "language": "python",
   "name": "python3"
  },
  "language_info": {
   "codemirror_mode": {
    "name": "ipython",
    "version": 3
   },
   "file_extension": ".py",
   "mimetype": "text/x-python",
   "name": "python",
   "nbconvert_exporter": "python",
   "pygments_lexer": "ipython3",
   "version": "3.9.13"
  }
 },
 "nbformat": 4,
 "nbformat_minor": 5
}
