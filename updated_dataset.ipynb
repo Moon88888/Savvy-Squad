{
 "cells": [
  {
   "cell_type": "code",
   "execution_count": 1,
   "id": "0ca975c5",
   "metadata": {},
   "outputs": [],
   "source": [
    "import pandas as pd\n",
    "import numpy as np\n",
    "import seaborn as sns\n",
    "import matplotlib.pyplot as plt"
   ]
  },
  {
   "cell_type": "code",
   "execution_count": 6,
   "id": "7a4b945b",
   "metadata": {},
   "outputs": [],
   "source": [
    "df=pd.read_csv(\"C:/users/user/Downloads/car_insurance_claim.csv\")"
   ]
  },
  {
   "cell_type": "code",
   "execution_count": 7,
   "id": "4b2a4f73",
   "metadata": {},
   "outputs": [
    {
     "data": {
      "text/plain": [
       "(10302, 27)"
      ]
     },
     "execution_count": 7,
     "metadata": {},
     "output_type": "execute_result"
    }
   ],
   "source": [
    "df.shape"
   ]
  },
  {
   "cell_type": "code",
   "execution_count": 8,
   "id": "ab5b8363",
   "metadata": {},
   "outputs": [
    {
     "name": "stdout",
     "output_type": "stream",
     "text": [
      "<class 'pandas.core.frame.DataFrame'>\n",
      "RangeIndex: 10302 entries, 0 to 10301\n",
      "Data columns (total 27 columns):\n",
      " #   Column      Non-Null Count  Dtype  \n",
      "---  ------      --------------  -----  \n",
      " 0   ID          10302 non-null  int64  \n",
      " 1   KIDSDRIV    10302 non-null  int64  \n",
      " 2   BIRTH       10302 non-null  object \n",
      " 3   AGE         10295 non-null  float64\n",
      " 4   HOMEKIDS    10302 non-null  int64  \n",
      " 5   YOJ         9754 non-null   float64\n",
      " 6   INCOME      9732 non-null   object \n",
      " 7   PARENT1     10302 non-null  object \n",
      " 8   HOME_VAL    9727 non-null   object \n",
      " 9   MSTATUS     10302 non-null  object \n",
      " 10  GENDER      10302 non-null  object \n",
      " 11  EDUCATION   10302 non-null  object \n",
      " 12  OCCUPATION  9637 non-null   object \n",
      " 13  TRAVTIME    10302 non-null  int64  \n",
      " 14  CAR_USE     10302 non-null  object \n",
      " 15  BLUEBOOK    10302 non-null  object \n",
      " 16  TIF         10302 non-null  int64  \n",
      " 17  CAR_TYPE    10302 non-null  object \n",
      " 18  RED_CAR     10302 non-null  object \n",
      " 19  OLDCLAIM    10302 non-null  object \n",
      " 20  CLM_FREQ    10302 non-null  int64  \n",
      " 21  REVOKED     10302 non-null  object \n",
      " 22  MVR_PTS     10302 non-null  int64  \n",
      " 23  CLM_AMT     10302 non-null  object \n",
      " 24  CAR_AGE     9663 non-null   float64\n",
      " 25  CLAIM_FLAG  10302 non-null  int64  \n",
      " 26  URBANICITY  10302 non-null  object \n",
      "dtypes: float64(3), int64(8), object(16)\n",
      "memory usage: 2.1+ MB\n"
     ]
    }
   ],
   "source": [
    "df.info()"
   ]
  },
  {
   "cell_type": "code",
   "execution_count": 9,
   "id": "66d26b2b",
   "metadata": {},
   "outputs": [],
   "source": [
    "# CLAIM_FLAG --> TARGET VARIABLE\n",
    "\n",
    "# YOJ(float) , INCOME(object) , HOME_VAL(object) , OCCUPATION(object) , CAR_AGE(float)  : HAVE SOME NULL VALUES "
   ]
  },
  {
   "cell_type": "code",
   "execution_count": 10,
   "id": "2b4c7e7d",
   "metadata": {},
   "outputs": [
    {
     "data": {
      "text/plain": [
       "0          $0\n",
       "1    $257,252\n",
       "2          $0\n",
       "3    $124,191\n",
       "4    $306,251\n",
       "Name: HOME_VAL, dtype: object"
      ]
     },
     "execution_count": 10,
     "metadata": {},
     "output_type": "execute_result"
    }
   ],
   "source": [
    "df['HOME_VAL'].head()"
   ]
  },
  {
   "cell_type": "code",
   "execution_count": 11,
   "id": "cd031463",
   "metadata": {},
   "outputs": [
    {
     "name": "stderr",
     "output_type": "stream",
     "text": [
      "C:\\Users\\user\\Downloads\\jupyter\\lib\\site-packages\\seaborn\\distributions.py:2557: FutureWarning: `distplot` is a deprecated function and will be removed in a future version. Please adapt your code to use either `displot` (a figure-level function with similar flexibility) or `histplot` (an axes-level function for histograms).\n",
      "  warnings.warn(msg, FutureWarning)\n"
     ]
    },
    {
     "data": {
      "text/plain": [
       "<AxesSubplot:xlabel='CLAIM_FLAG', ylabel='Density'>"
      ]
     },
     "execution_count": 11,
     "metadata": {},
     "output_type": "execute_result"
    },
    {
     "data": {
      "image/png": "[encoded data removed]",
      "text/plain": [
       "<Figure size 432x288 with 1 Axes>"
      ]
     },
     "metadata": {
      "needs_background": "light"
     },
     "output_type": "display_data"
    }
   ],
   "source": [
    "sns.distplot(df['CLAIM_FLAG'])"
   ]
  },
  {
   "cell_type": "code",
   "execution_count": 12,
   "id": "fa9c11e6",
   "metadata": {},
   "outputs": [],
   "source": [
    "# From the graph , it can be observed that ,\n",
    "    # Roughly around 20% data is fraud claims ."
   ]
  },
  {
   "cell_type": "code",
   "execution_count": 13,
   "id": "6bcf5ece",
   "metadata": {},
   "outputs": [
    {
     "data": {
      "text/plain": [
       "(2746, 27)"
      ]
     },
     "execution_count": 13,
     "metadata": {},
     "output_type": "execute_result"
    }
   ],
   "source": [
    "df[df['CLAIM_FLAG']==1].shape"
   ]
  },
  {
   "cell_type": "code",
   "execution_count": 14,
   "id": "bda48b49",
   "metadata": {},
   "outputs": [
    {
     "data": {
      "text/plain": [
       "(10302, 27)"
      ]
     },
     "execution_count": 14,
     "metadata": {},
     "output_type": "execute_result"
    }
   ],
   "source": [
    "df.shape"
   ]
  },
  {
   "cell_type": "code",
   "execution_count": 15,
   "id": "315494d0",
   "metadata": {},
   "outputs": [
    {
     "data": {
      "text/plain": [
       "0.2665501844302077"
      ]
     },
     "execution_count": 15,
     "metadata": {},
     "output_type": "execute_result"
    }
   ],
   "source": [
    "2746/10302\n",
    "# Percentage of fraud claims "
   ]
  },
  {
   "cell_type": "code",
   "execution_count": 16,
   "id": "3955e176",
   "metadata": {},
   "outputs": [
    {
     "name": "stdout",
     "output_type": "stream",
     "text": [
      "<class 'pandas.core.frame.DataFrame'>\n",
      "RangeIndex: 10302 entries, 0 to 10301\n",
      "Data columns (total 27 columns):\n",
      " #   Column      Non-Null Count  Dtype  \n",
      "---  ------      --------------  -----  \n",
      " 0   ID          10302 non-null  int64  \n",
      " 1   KIDSDRIV    10302 non-null  int64  \n",
      " 2   BIRTH       10302 non-null  object \n",
      " 3   AGE         10295 non-null  float64\n",
      " 4   HOMEKIDS    10302 non-null  int64  \n",
      " 5   YOJ         9754 non-null   float64\n",
      " 6   INCOME      9732 non-null   object \n",
      " 7   PARENT1     10302 non-null  object \n",
      " 8   HOME_VAL    9727 non-null   object \n",
      " 9   MSTATUS     10302 non-null  object \n",
      " 10  GENDER      10302 non-null  object \n",
      " 11  EDUCATION   10302 non-null  object \n",
      " 12  OCCUPATION  9637 non-null   object \n",
      " 13  TRAVTIME    10302 non-null  int64  \n",
      " 14  CAR_USE     10302 non-null  object \n",
      " 15  BLUEBOOK    10302 non-null  object \n",
      " 16  TIF         10302 non-null  int64  \n",
      " 17  CAR_TYPE    10302 non-null  object \n",
      " 18  RED_CAR     10302 non-null  object \n",
      " 19  OLDCLAIM    10302 non-null  object \n",
      " 20  CLM_FREQ    10302 non-null  int64  \n",
      " 21  REVOKED     10302 non-null  object \n",
      " 22  MVR_PTS     10302 non-null  int64  \n",
      " 23  CLM_AMT     10302 non-null  object \n",
      " 24  CAR_AGE     9663 non-null   float64\n",
      " 25  CLAIM_FLAG  10302 non-null  int64  \n",
      " 26  URBANICITY  10302 non-null  object \n",
      "dtypes: float64(3), int64(8), object(16)\n",
      "memory usage: 2.1+ MB\n"
     ]
    }
   ],
   "source": [
    "df.info()"
   ]
  },
  {
   "cell_type": "code",
   "execution_count": 17,
   "id": "d94776a7",
   "metadata": {},
   "outputs": [
    {
     "data": {
      "text/plain": [
       "array([0, 1, 2, 3, 4], dtype=int64)"
      ]
     },
     "execution_count": 17,
     "metadata": {},
     "output_type": "execute_result"
    }
   ],
   "source": [
    "df['KIDSDRIV'].unique()"
   ]
  },
  {
   "cell_type": "code",
   "execution_count": 18,
   "id": "eae10b97",
   "metadata": {},
   "outputs": [
    {
     "data": {
      "text/plain": [
       "array(['16MAR39', '21JAN56', '18NOV51', ..., '13AUG54', '18JUN51',\n",
       "       '27FEB47'], dtype=object)"
      ]
     },
     "execution_count": 18,
     "metadata": {},
     "output_type": "execute_result"
    }
   ],
   "source": [
    "df['BIRTH'].unique()"
   ]
  },
  {
   "cell_type": "code",
   "execution_count": 19,
   "id": "80ab988f",
   "metadata": {},
   "outputs": [
    {
     "data": {
      "text/plain": [
       "30"
      ]
     },
     "execution_count": 19,
     "metadata": {},
     "output_type": "execute_result"
    }
   ],
   "source": [
    "df['CAR_AGE'].nunique()"
   ]
  },
  {
   "cell_type": "code",
   "execution_count": 20,
   "id": "1b23f3b1",
   "metadata": {},
   "outputs": [
    {
     "data": {
      "text/plain": [
       "6560"
      ]
     },
     "execution_count": 20,
     "metadata": {},
     "output_type": "execute_result"
    }
   ],
   "source": [
    "df['BIRTH'].nunique()"
   ]
  },
  {
   "cell_type": "code",
   "execution_count": 21,
   "id": "c95b7e15",
   "metadata": {},
   "outputs": [
    {
     "data": {
      "text/plain": [
       "61"
      ]
     },
     "execution_count": 21,
     "metadata": {},
     "output_type": "execute_result"
    }
   ],
   "source": [
    "df['AGE'].nunique()"
   ]
  },
  {
   "cell_type": "code",
   "execution_count": 22,
   "id": "dc474329",
   "metadata": {},
   "outputs": [],
   "source": [
    "# Birth is the DOB of the owner of the car\n",
    "# Age is the age of the owner of the car\n",
    "# since one is derivable from the other \n",
    "# any one of the two is enough for training of the model "
   ]
  },
  {
   "cell_type": "code",
   "execution_count": 23,
   "id": "8fed1a54",
   "metadata": {},
   "outputs": [
    {
     "data": {
      "text/plain": [
       "6"
      ]
     },
     "execution_count": 23,
     "metadata": {},
     "output_type": "execute_result"
    }
   ],
   "source": [
    "df['HOMEKIDS'].nunique()"
   ]
  },
  {
   "cell_type": "code",
   "execution_count": 24,
   "id": "c26c7c9a",
   "metadata": {},
   "outputs": [
    {
     "data": {
      "text/plain": [
       "0    6694\n",
       "2    1427\n",
       "1    1106\n",
       "3     856\n",
       "4     201\n",
       "5      18\n",
       "Name: HOMEKIDS, dtype: int64"
      ]
     },
     "execution_count": 24,
     "metadata": {},
     "output_type": "execute_result"
    }
   ],
   "source": [
    "df['HOMEKIDS'].value_counts()"
   ]
  },
  {
   "cell_type": "code",
   "execution_count": 25,
   "id": "bb19d01e",
   "metadata": {},
   "outputs": [
    {
     "data": {
      "text/plain": [
       "array([11., 10., 14., nan, 12.,  7.,  5.,  0., 13.,  9., 17.,  8., 15.,\n",
       "       16.,  6., 18., 23.,  4.,  3.,  2., 19.,  1.])"
      ]
     },
     "execution_count": 25,
     "metadata": {},
     "output_type": "execute_result"
    }
   ],
   "source": [
    "df['YOJ'].unique()\n",
    "# Years on job"
   ]
  },
  {
   "cell_type": "code",
   "execution_count": 26,
   "id": "ea76defc",
   "metadata": {},
   "outputs": [
    {
     "data": {
      "text/plain": [
       "8151"
      ]
     },
     "execution_count": 26,
     "metadata": {},
     "output_type": "execute_result"
    }
   ],
   "source": [
    "df['INCOME'].nunique()"
   ]
  },
  {
   "cell_type": "code",
   "execution_count": 27,
   "id": "a789ddba",
   "metadata": {},
   "outputs": [
    {
     "data": {
      "text/plain": [
       "0    $67,349\n",
       "1    $91,449\n",
       "2    $52,881\n",
       "3    $16,039\n",
       "4        NaN\n",
       "Name: INCOME, dtype: object"
      ]
     },
     "execution_count": 27,
     "metadata": {},
     "output_type": "execute_result"
    }
   ],
   "source": [
    "df['INCOME'].head()"
   ]
  },
  {
   "cell_type": "code",
   "execution_count": 28,
   "id": "8f637a73",
   "metadata": {},
   "outputs": [],
   "source": [
    "# Income field is of object dtype\n",
    "# Its actually number but just to add a dollar symbol in front , it was converted to object datatype "
   ]
  },
  {
   "cell_type": "code",
   "execution_count": 29,
   "id": "b48e3097",
   "metadata": {},
   "outputs": [
    {
     "data": {
      "text/plain": [
       "2"
      ]
     },
     "execution_count": 29,
     "metadata": {},
     "output_type": "execute_result"
    }
   ],
   "source": [
    "df['PARENT1'].nunique()"
   ]
  },
  {
   "cell_type": "code",
   "execution_count": 30,
   "id": "60c02ee5",
   "metadata": {},
   "outputs": [
    {
     "data": {
      "text/plain": [
       "No     8959\n",
       "Yes    1343\n",
       "Name: PARENT1, dtype: int64"
      ]
     },
     "execution_count": 30,
     "metadata": {},
     "output_type": "execute_result"
    }
   ],
   "source": [
    "df['PARENT1'].value_counts()"
   ]
  },
  {
   "cell_type": "code",
   "execution_count": 31,
   "id": "c789bcd5",
   "metadata": {},
   "outputs": [],
   "source": [
    "#Single parent or not"
   ]
  },
  {
   "cell_type": "code",
   "execution_count": 32,
   "id": "70de073a",
   "metadata": {},
   "outputs": [
    {
     "data": {
      "text/plain": [
       "6334"
      ]
     },
     "execution_count": 32,
     "metadata": {},
     "output_type": "execute_result"
    }
   ],
   "source": [
    "df['HOME_VAL'].nunique()"
   ]
  },
  {
   "cell_type": "code",
   "execution_count": 33,
   "id": "5964eda7",
   "metadata": {},
   "outputs": [],
   "source": [
    "# It is also in dollars hence of object dtype , similar to income"
   ]
  },
  {
   "cell_type": "code",
   "execution_count": 34,
   "id": "0802b175",
   "metadata": {},
   "outputs": [
    {
     "data": {
      "text/plain": [
       "array(['z_No', 'Yes'], dtype=object)"
      ]
     },
     "execution_count": 34,
     "metadata": {},
     "output_type": "execute_result"
    }
   ],
   "source": [
    "df['MSTATUS'].unique()"
   ]
  },
  {
   "cell_type": "code",
   "execution_count": 35,
   "id": "500f5bcd",
   "metadata": {},
   "outputs": [
    {
     "data": {
      "text/plain": [
       "Yes     6188\n",
       "z_No    4114\n",
       "Name: MSTATUS, dtype: int64"
      ]
     },
     "execution_count": 35,
     "metadata": {},
     "output_type": "execute_result"
    }
   ],
   "source": [
    "df['MSTATUS'].value_counts()"
   ]
  },
  {
   "cell_type": "code",
   "execution_count": 36,
   "id": "23d0c444",
   "metadata": {},
   "outputs": [],
   "source": [
    "# MSTATUS : Marital status"
   ]
  },
  {
   "cell_type": "code",
   "execution_count": 37,
   "id": "514715df",
   "metadata": {},
   "outputs": [
    {
     "data": {
      "text/plain": [
       "z_F    5545\n",
       "M      4757\n",
       "Name: GENDER, dtype: int64"
      ]
     },
     "execution_count": 37,
     "metadata": {},
     "output_type": "execute_result"
    }
   ],
   "source": [
    "df['GENDER'].value_counts()"
   ]
  },
  {
   "cell_type": "code",
   "execution_count": 38,
   "id": "004e24fe",
   "metadata": {},
   "outputs": [
    {
     "data": {
      "text/plain": [
       "z_High School    2952\n",
       "Bachelors        2823\n",
       "Masters          2078\n",
       "<High School     1515\n",
       "PhD               934\n",
       "Name: EDUCATION, dtype: int64"
      ]
     },
     "execution_count": 38,
     "metadata": {},
     "output_type": "execute_result"
    }
   ],
   "source": [
    "df['EDUCATION'].value_counts()"
   ]
  },
  {
   "cell_type": "code",
   "execution_count": 39,
   "id": "c8c459d8",
   "metadata": {},
   "outputs": [
    {
     "data": {
      "text/plain": [
       "z_Blue Collar    2288\n",
       "Clerical         1590\n",
       "Professional     1408\n",
       "Manager          1257\n",
       "Lawyer           1031\n",
       "Student           899\n",
       "Home Maker        843\n",
       "Doctor            321\n",
       "Name: OCCUPATION, dtype: int64"
      ]
     },
     "execution_count": 39,
     "metadata": {},
     "output_type": "execute_result"
    }
   ],
   "source": [
    "df['OCCUPATION'].value_counts()"
   ]
  },
  {
   "cell_type": "code",
   "execution_count": 40,
   "id": "494570e7",
   "metadata": {},
   "outputs": [
    {
     "data": {
      "text/plain": [
       "0    14\n",
       "1    22\n",
       "2    26\n",
       "3     5\n",
       "4    32\n",
       "Name: TRAVTIME, dtype: int64"
      ]
     },
     "execution_count": 40,
     "metadata": {},
     "output_type": "execute_result"
    }
   ],
   "source": [
    "df['TRAVTIME'].head()"
   ]
  },
  {
   "cell_type": "code",
   "execution_count": 41,
   "id": "85f29a5e",
   "metadata": {},
   "outputs": [
    {
     "name": "stderr",
     "output_type": "stream",
     "text": [
      "C:\\Users\\user\\Downloads\\jupyter\\lib\\site-packages\\seaborn\\distributions.py:2557: FutureWarning: `distplot` is a deprecated function and will be removed in a future version. Please adapt your code to use either `displot` (a figure-level function with similar flexibility) or `histplot` (an axes-level function for histograms).\n",
      "  warnings.warn(msg, FutureWarning)\n"
     ]
    },
    {
     "data": {
      "text/plain": [
       "<AxesSubplot:xlabel='TRAVTIME', ylabel='Density'>"
      ]
     },
     "execution_count": 41,
     "metadata": {},
     "output_type": "execute_result"
    },
    {
     "data": {
      "image/png": "[encoded data removed]",
      "text/plain": [
       "<Figure size 432x288 with 1 Axes>"
      ]
     },
     "metadata": {
      "needs_background": "light"
     },
     "output_type": "display_data"
    }
   ],
   "source": [
    "sns.distplot(df['TRAVTIME'])"
   ]
  },
  {
   "cell_type": "code",
   "execution_count": 42,
   "id": "7565b802",
   "metadata": {},
   "outputs": [
    {
     "name": "stderr",
     "output_type": "stream",
     "text": [
      "C:\\Users\\user\\Downloads\\jupyter\\lib\\site-packages\\seaborn\\_decorators.py:36: FutureWarning: Pass the following variable as a keyword arg: x. From version 0.12, the only valid positional argument will be `data`, and passing other arguments without an explicit keyword will result in an error or misinterpretation.\n",
      "  warnings.warn(\n"
     ]
    },
    {
     "data": {
      "text/plain": [
       "<AxesSubplot:xlabel='TRAVTIME'>"
      ]
     },
     "execution_count": 42,
     "metadata": {},
     "output_type": "execute_result"
    },
    {
     "data": {
      "image/png": "[encoded data removed]",
      "text/plain": [
       "<Figure size 432x288 with 1 Axes>"
      ]
     },
     "metadata": {
      "needs_background": "light"
     },
     "output_type": "display_data"
    }
   ],
   "source": [
    "sns.boxplot(df['TRAVTIME'])"
   ]
  },
  {
   "cell_type": "code",
   "execution_count": 43,
   "id": "94fcdc12",
   "metadata": {},
   "outputs": [],
   "source": [
    "# more travel time --> more risk of crashes "
   ]
  },
  {
   "cell_type": "code",
   "execution_count": 44,
   "id": "57996fbd",
   "metadata": {},
   "outputs": [
    {
     "data": {
      "text/plain": [
       "Private       6513\n",
       "Commercial    3789\n",
       "Name: CAR_USE, dtype: int64"
      ]
     },
     "execution_count": 44,
     "metadata": {},
     "output_type": "execute_result"
    }
   ],
   "source": [
    "df['CAR_USE'].value_counts()"
   ]
  },
  {
   "cell_type": "code",
   "execution_count": 45,
   "id": "5f7f53a6",
   "metadata": {},
   "outputs": [],
   "source": [
    "# This featuer specifies if the car is used for commercial purpose or private "
   ]
  },
  {
   "cell_type": "code",
   "execution_count": 46,
   "id": "1ed9e7b8",
   "metadata": {},
   "outputs": [
    {
     "data": {
      "text/plain": [
       "0        $14,230\n",
       "1        $14,940\n",
       "2        $21,970\n",
       "3         $4,010\n",
       "4        $15,440\n",
       "          ...   \n",
       "10297    $13,270\n",
       "10298    $24,490\n",
       "10299    $13,820\n",
       "10300    $22,550\n",
       "10301    $19,400\n",
       "Name: BLUEBOOK, Length: 10302, dtype: object"
      ]
     },
     "execution_count": 46,
     "metadata": {},
     "output_type": "execute_result"
    }
   ],
   "source": [
    "df['BLUEBOOK']"
   ]
  },
  {
   "cell_type": "code",
   "execution_count": 47,
   "id": "2836e932",
   "metadata": {},
   "outputs": [],
   "source": [
    "# Bluebook : Value of the vehicle"
   ]
  },
  {
   "cell_type": "code",
   "execution_count": 48,
   "id": "467bd613",
   "metadata": {},
   "outputs": [],
   "source": [
    "# object dtype --> similar to income"
   ]
  },
  {
   "cell_type": "code",
   "execution_count": 49,
   "id": "713e23c9",
   "metadata": {},
   "outputs": [
    {
     "data": {
      "text/plain": [
       "0    11\n",
       "1     1\n",
       "2     1\n",
       "3     4\n",
       "4     7\n",
       "Name: TIF, dtype: int64"
      ]
     },
     "execution_count": 49,
     "metadata": {},
     "output_type": "execute_result"
    }
   ],
   "source": [
    "df['TIF'].head()"
   ]
  },
  {
   "cell_type": "code",
   "execution_count": 50,
   "id": "d4b96a99",
   "metadata": {},
   "outputs": [],
   "source": [
    "# TIF : Time in Force \n",
    "# People who have been customers for long itme"
   ]
  },
  {
   "cell_type": "code",
   "execution_count": 51,
   "id": "b8dc045d",
   "metadata": {},
   "outputs": [
    {
     "name": "stderr",
     "output_type": "stream",
     "text": [
      "C:\\Users\\user\\Downloads\\jupyter\\lib\\site-packages\\seaborn\\distributions.py:2557: FutureWarning: `distplot` is a deprecated function and will be removed in a future version. Please adapt your code to use either `displot` (a figure-level function with similar flexibility) or `histplot` (an axes-level function for histograms).\n",
      "  warnings.warn(msg, FutureWarning)\n"
     ]
    },
    {
     "data": {
      "text/plain": [
       "<AxesSubplot:xlabel='TIF', ylabel='Density'>"
      ]
     },
     "execution_count": 51,
     "metadata": {},
     "output_type": "execute_result"
    },
    {
     "data": {
      "image/png": "[encoded data removed]",
      "text/plain": [
       "<Figure size 432x288 with 1 Axes>"
      ]
     },
     "metadata": {
      "needs_background": "light"
     },
     "output_type": "display_data"
    }
   ],
   "source": [
    "sns.distplot(df['TIF'])\n",
    "# No pattern "
   ]
  },
  {
   "cell_type": "code",
   "execution_count": 52,
   "id": "79fd27e5",
   "metadata": {},
   "outputs": [
    {
     "name": "stderr",
     "output_type": "stream",
     "text": [
      "C:\\Users\\user\\Downloads\\jupyter\\lib\\site-packages\\seaborn\\_decorators.py:36: FutureWarning: Pass the following variable as a keyword arg: x. From version 0.12, the only valid positional argument will be `data`, and passing other arguments without an explicit keyword will result in an error or misinterpretation.\n",
      "  warnings.warn(\n"
     ]
    },
    {
     "data": {
      "text/plain": [
       "<AxesSubplot:xlabel='TIF'>"
      ]
     },
     "execution_count": 52,
     "metadata": {},
     "output_type": "execute_result"
    },
    {
     "data": {
      "image/png": "[encoded data removed]",
      "text/plain": [
       "<Figure size 432x288 with 1 Axes>"
      ]
     },
     "metadata": {
      "needs_background": "light"
     },
     "output_type": "display_data"
    }
   ],
   "source": [
    "sns.boxplot(df['TIF'])"
   ]
  },
  {
   "cell_type": "code",
   "execution_count": 53,
   "id": "5d9a4161",
   "metadata": {},
   "outputs": [],
   "source": [
    "# customers who are with the company for long time --> less likely to be fraud "
   ]
  },
  {
   "cell_type": "code",
   "execution_count": 54,
   "id": "636f60b2",
   "metadata": {},
   "outputs": [
    {
     "data": {
      "text/plain": [
       "z_SUV          2883\n",
       "Minivan        2694\n",
       "Pickup         1772\n",
       "Sports Car     1179\n",
       "Van             921\n",
       "Panel Truck     853\n",
       "Name: CAR_TYPE, dtype: int64"
      ]
     },
     "execution_count": 54,
     "metadata": {},
     "output_type": "execute_result"
    }
   ],
   "source": [
    "df['CAR_TYPE'].value_counts()"
   ]
  },
  {
   "cell_type": "code",
   "execution_count": 55,
   "id": "5eff1566",
   "metadata": {},
   "outputs": [
    {
     "name": "stderr",
     "output_type": "stream",
     "text": [
      "C:\\Users\\user\\Downloads\\jupyter\\lib\\site-packages\\seaborn\\_decorators.py:36: FutureWarning: Pass the following variable as a keyword arg: x. From version 0.12, the only valid positional argument will be `data`, and passing other arguments without an explicit keyword will result in an error or misinterpretation.\n",
      "  warnings.warn(\n"
     ]
    },
    {
     "data": {
      "text/plain": [
       "<AxesSubplot:xlabel='CAR_TYPE', ylabel='count'>"
      ]
     },
     "execution_count": 55,
     "metadata": {},
     "output_type": "execute_result"
    },
    {
     "data": {
      "image/png": "[encoded data removed]",
      "text/plain": [
       "<Figure size 432x288 with 1 Axes>"
      ]
     },
     "metadata": {
      "needs_background": "light"
     },
     "output_type": "display_data"
    }
   ],
   "source": [
    "sns.countplot(df['CAR_TYPE'])"
   ]
  },
  {
   "cell_type": "code",
   "execution_count": 56,
   "id": "ec0ef7f9",
   "metadata": {},
   "outputs": [
    {
     "data": {
      "text/plain": [
       "no     7326\n",
       "yes    2976\n",
       "Name: RED_CAR, dtype: int64"
      ]
     },
     "execution_count": 56,
     "metadata": {},
     "output_type": "execute_result"
    }
   ],
   "source": [
    "df['RED_CAR'].value_counts()"
   ]
  },
  {
   "cell_type": "code",
   "execution_count": 57,
   "id": "b0331243",
   "metadata": {},
   "outputs": [],
   "source": [
    "# this feature gives : if the car is red or not\n",
    "# generally they say : red cars are sprts cars and are risky "
   ]
  },
  {
   "cell_type": "code",
   "execution_count": 58,
   "id": "5c767ce5",
   "metadata": {},
   "outputs": [
    {
     "data": {
      "text/plain": [
       "$0         6292\n",
       "$1,310        4\n",
       "$4,263        4\n",
       "$4,538        4\n",
       "$4,448        4\n",
       "           ... \n",
       "$4,403        1\n",
       "$35,070       1\n",
       "$10,264       1\n",
       "$4,052        1\n",
       "$4,402        1\n",
       "Name: OLDCLAIM, Length: 3545, dtype: int64"
      ]
     },
     "execution_count": 58,
     "metadata": {},
     "output_type": "execute_result"
    }
   ],
   "source": [
    "df['OLDCLAIM'].value_counts()"
   ]
  },
  {
   "cell_type": "code",
   "execution_count": 59,
   "id": "ce38b39e",
   "metadata": {},
   "outputs": [],
   "source": [
    "# How much insurance money they took in the past 5 years\n",
    "# dtype : object similar to income"
   ]
  },
  {
   "cell_type": "code",
   "execution_count": 60,
   "id": "452387d6",
   "metadata": {},
   "outputs": [
    {
     "data": {
      "text/plain": [
       "0    6292\n",
       "2    1492\n",
       "1    1279\n",
       "3     992\n",
       "4     225\n",
       "5      22\n",
       "Name: CLM_FREQ, dtype: int64"
      ]
     },
     "execution_count": 60,
     "metadata": {},
     "output_type": "execute_result"
    }
   ],
   "source": [
    "df['CLM_FREQ'].value_counts()"
   ]
  },
  {
   "cell_type": "code",
   "execution_count": 61,
   "id": "59df5368",
   "metadata": {},
   "outputs": [],
   "source": [
    "# no.of times they took the claim"
   ]
  },
  {
   "cell_type": "code",
   "execution_count": 62,
   "id": "e6579418",
   "metadata": {},
   "outputs": [
    {
     "data": {
      "text/plain": [
       "No     9041\n",
       "Yes    1261\n",
       "Name: REVOKED, dtype: int64"
      ]
     },
     "execution_count": 62,
     "metadata": {},
     "output_type": "execute_result"
    }
   ],
   "source": [
    "df['REVOKED'].value_counts()"
   ]
  },
  {
   "cell_type": "code",
   "execution_count": 63,
   "id": "2f11b8c3",
   "metadata": {},
   "outputs": [],
   "source": [
    "# In past 7 yrs , was his license revoked \n",
    "# if yes --> he is a more risky driver"
   ]
  },
  {
   "cell_type": "code",
   "execution_count": 64,
   "id": "4d73854e",
   "metadata": {},
   "outputs": [
    {
     "data": {
      "text/plain": [
       "0        3\n",
       "1        0\n",
       "2        2\n",
       "3        3\n",
       "4        0\n",
       "        ..\n",
       "10297    2\n",
       "10298    0\n",
       "10299    0\n",
       "10300    0\n",
       "10301    0\n",
       "Name: MVR_PTS, Length: 10302, dtype: int64"
      ]
     },
     "execution_count": 64,
     "metadata": {},
     "output_type": "execute_result"
    }
   ],
   "source": [
    "df['MVR_PTS']"
   ]
  },
  {
   "cell_type": "code",
   "execution_count": 65,
   "id": "4951eed0",
   "metadata": {},
   "outputs": [],
   "source": [
    "# Motor Vehicle Record Points"
   ]
  },
  {
   "cell_type": "code",
   "execution_count": 66,
   "id": "7858cab9",
   "metadata": {},
   "outputs": [],
   "source": [
    "# If u get lots of traffic tickets\n",
    "    # a ticket issued for driving above the speed limit."
   ]
  },
  {
   "cell_type": "code",
   "execution_count": 67,
   "id": "a81c1191",
   "metadata": {},
   "outputs": [
    {
     "name": "stderr",
     "output_type": "stream",
     "text": [
      "C:\\Users\\user\\Downloads\\jupyter\\lib\\site-packages\\seaborn\\distributions.py:2557: FutureWarning: `distplot` is a deprecated function and will be removed in a future version. Please adapt your code to use either `displot` (a figure-level function with similar flexibility) or `histplot` (an axes-level function for histograms).\n",
      "  warnings.warn(msg, FutureWarning)\n"
     ]
    },
    {
     "data": {
      "text/plain": [
       "<AxesSubplot:xlabel='MVR_PTS', ylabel='Density'>"
      ]
     },
     "execution_count": 67,
     "metadata": {},
     "output_type": "execute_result"
    },
    {
     "data": {
      "image/png": "[encoded data removed]",
      "text/plain": [
       "<Figure size 432x288 with 1 Axes>"
      ]
     },
     "metadata": {
      "needs_background": "light"
     },
     "output_type": "display_data"
    }
   ],
   "source": [
    "sns.distplot(df['MVR_PTS'])"
   ]
  },
  {
   "cell_type": "code",
   "execution_count": 68,
   "id": "b81f3e2a",
   "metadata": {},
   "outputs": [
    {
     "name": "stderr",
     "output_type": "stream",
     "text": [
      "C:\\Users\\user\\Downloads\\jupyter\\lib\\site-packages\\seaborn\\_decorators.py:36: FutureWarning: Pass the following variable as a keyword arg: x. From version 0.12, the only valid positional argument will be `data`, and passing other arguments without an explicit keyword will result in an error or misinterpretation.\n",
      "  warnings.warn(\n"
     ]
    },
    {
     "data": {
      "text/plain": [
       "<AxesSubplot:xlabel='MVR_PTS', ylabel='count'>"
      ]
     },
     "execution_count": 68,
     "metadata": {},
     "output_type": "execute_result"
    },
    {
     "data": {
      "image/png": "[encoded data removed]",
      "text/plain": [
       "<Figure size 432x288 with 1 Axes>"
      ]
     },
     "metadata": {
      "needs_background": "light"
     },
     "output_type": "display_data"
    }
   ],
   "source": [
    "sns.countplot(df['MVR_PTS'])"
   ]
  },
  {
   "cell_type": "code",
   "execution_count": 69,
   "id": "5e48d237",
   "metadata": {},
   "outputs": [
    {
     "name": "stderr",
     "output_type": "stream",
     "text": [
      "C:\\Users\\user\\Downloads\\jupyter\\lib\\site-packages\\seaborn\\_decorators.py:36: FutureWarning: Pass the following variable as a keyword arg: x. From version 0.12, the only valid positional argument will be `data`, and passing other arguments without an explicit keyword will result in an error or misinterpretation.\n",
      "  warnings.warn(\n"
     ]
    },
    {
     "data": {
      "text/plain": [
       "<AxesSubplot:xlabel='MVR_PTS'>"
      ]
     },
     "execution_count": 69,
     "metadata": {},
     "output_type": "execute_result"
    },
    {
     "data": {
      "image/png": "[encoded data removed]",
      "text/plain": [
       "<Figure size 432x288 with 1 Axes>"
      ]
     },
     "metadata": {
      "needs_background": "light"
     },
     "output_type": "display_data"
    }
   ],
   "source": [
    "sns.boxplot(df['MVR_PTS'])"
   ]
  },
  {
   "cell_type": "code",
   "execution_count": 70,
   "id": "8280e639",
   "metadata": {},
   "outputs": [
    {
     "data": {
      "text/plain": [
       "$0         7556\n",
       "$3,667        4\n",
       "$4,363        4\n",
       "$2,327        4\n",
       "$3,350        4\n",
       "           ... \n",
       "$19,247       1\n",
       "$2,058        1\n",
       "$5,627        1\n",
       "$5,032        1\n",
       "$4,402        1\n",
       "Name: CLM_AMT, Length: 2346, dtype: int64"
      ]
     },
     "execution_count": 70,
     "metadata": {},
     "output_type": "execute_result"
    }
   ],
   "source": [
    "df['CLM_AMT'].value_counts()"
   ]
  },
  {
   "cell_type": "code",
   "execution_count": 71,
   "id": "2ae5f78a",
   "metadata": {},
   "outputs": [
    {
     "data": {
      "text/plain": [
       "2346"
      ]
     },
     "execution_count": 71,
     "metadata": {},
     "output_type": "execute_result"
    }
   ],
   "source": [
    "df['CLM_AMT'].nunique()"
   ]
  },
  {
   "cell_type": "code",
   "execution_count": 72,
   "id": "33cad48d",
   "metadata": {},
   "outputs": [],
   "source": [
    "# How much amount they havve claimed until now\n",
    "# dtype : object similar to income"
   ]
  },
  {
   "cell_type": "code",
   "execution_count": 73,
   "id": "f4eabcbe",
   "metadata": {},
   "outputs": [
    {
     "data": {
      "text/plain": [
       "0        18.0\n",
       "1         1.0\n",
       "2        10.0\n",
       "3        10.0\n",
       "4         6.0\n",
       "         ... \n",
       "10297    17.0\n",
       "10298     1.0\n",
       "10299     1.0\n",
       "10300    11.0\n",
       "10301     9.0\n",
       "Name: CAR_AGE, Length: 10302, dtype: float64"
      ]
     },
     "execution_count": 73,
     "metadata": {},
     "output_type": "execute_result"
    }
   ],
   "source": [
    "df['CAR_AGE']"
   ]
  },
  {
   "cell_type": "code",
   "execution_count": 74,
   "id": "2953d32f",
   "metadata": {},
   "outputs": [
    {
     "name": "stderr",
     "output_type": "stream",
     "text": [
      "C:\\Users\\user\\Downloads\\jupyter\\lib\\site-packages\\seaborn\\distributions.py:2557: FutureWarning: `distplot` is a deprecated function and will be removed in a future version. Please adapt your code to use either `displot` (a figure-level function with similar flexibility) or `histplot` (an axes-level function for histograms).\n",
      "  warnings.warn(msg, FutureWarning)\n"
     ]
    },
    {
     "data": {
      "text/plain": [
       "<AxesSubplot:xlabel='CAR_AGE', ylabel='Density'>"
      ]
     },
     "execution_count": 74,
     "metadata": {},
     "output_type": "execute_result"
    },
    {
     "data": {
      "image/png": "[encoded data removed]",
      "text/plain": [
       "<Figure size 432x288 with 1 Axes>"
      ]
     },
     "metadata": {
      "needs_background": "light"
     },
     "output_type": "display_data"
    }
   ],
   "source": [
    "sns.distplot(df['CAR_AGE'])"
   ]
  },
  {
   "cell_type": "code",
   "execution_count": 75,
   "id": "14e3a6ad",
   "metadata": {},
   "outputs": [
    {
     "name": "stderr",
     "output_type": "stream",
     "text": [
      "C:\\Users\\user\\Downloads\\jupyter\\lib\\site-packages\\seaborn\\_decorators.py:36: FutureWarning: Pass the following variable as a keyword arg: x. From version 0.12, the only valid positional argument will be `data`, and passing other arguments without an explicit keyword will result in an error or misinterpretation.\n",
      "  warnings.warn(\n"
     ]
    },
    {
     "data": {
      "text/plain": [
       "<AxesSubplot:xlabel='CAR_AGE'>"
      ]
     },
     "execution_count": 75,
     "metadata": {},
     "output_type": "execute_result"
    },
    {
     "data": {
      "image/png": "[encoded data removed]",
      "text/plain": [
       "<Figure size 432x288 with 1 Axes>"
      ]
     },
     "metadata": {
      "needs_background": "light"
     },
     "output_type": "display_data"
    }
   ],
   "source": [
    "sns.boxplot(df['CAR_AGE'])"
   ]
  },
  {
   "cell_type": "code",
   "execution_count": 76,
   "id": "78bc6c7d",
   "metadata": {},
   "outputs": [
    {
     "data": {
      "text/plain": [
       "Highly Urban/ Urban      8230\n",
       "z_Highly Rural/ Rural    2072\n",
       "Name: URBANICITY, dtype: int64"
      ]
     },
     "execution_count": 76,
     "metadata": {},
     "output_type": "execute_result"
    }
   ],
   "source": [
    "df['URBANICITY'].value_counts()"
   ]
  },
  {
   "cell_type": "code",
   "execution_count": 77,
   "id": "cb007e9d",
   "metadata": {},
   "outputs": [
    {
     "name": "stderr",
     "output_type": "stream",
     "text": [
      "C:\\Users\\user\\Downloads\\jupyter\\lib\\site-packages\\seaborn\\_decorators.py:36: FutureWarning: Pass the following variable as a keyword arg: x. From version 0.12, the only valid positional argument will be `data`, and passing other arguments without an explicit keyword will result in an error or misinterpretation.\n",
      "  warnings.warn(\n"
     ]
    },
    {
     "data": {
      "text/plain": [
       "<AxesSubplot:xlabel='URBANICITY', ylabel='count'>"
      ]
     },
     "execution_count": 77,
     "metadata": {},
     "output_type": "execute_result"
    },
    {
     "data": {
      "image/png": "[encoded data removed]",
      "text/plain": [
       "<Figure size 432x288 with 1 Axes>"
      ]
     },
     "metadata": {
      "needs_background": "light"
     },
     "output_type": "display_data"
    }
   ],
   "source": [
    "sns.countplot(df['URBANICITY'])"
   ]
  },
  {
   "cell_type": "code",
   "execution_count": null,
   "id": "c3a88ff9",
   "metadata": {},
   "outputs": [],
   "source": []
  },
  {
   "cell_type": "code",
   "execution_count": 78,
   "id": "2896fb9c",
   "metadata": {},
   "outputs": [],
   "source": [
    "# Converting the columns of object type to float"
   ]
  },
  {
   "cell_type": "code",
   "execution_count": 79,
   "id": "e37e5ca5",
   "metadata": {},
   "outputs": [],
   "source": [
    "df[['INCOME' , 'HOME_VAL' , 'BLUEBOOK' , 'OLDCLAIM', 'CLM_AMT']]=df[['INCOME' , 'HOME_VAL' , 'BLUEBOOK' , 'OLDCLAIM', 'CLM_AMT']].replace('[\\$,]', '', regex=True).astype(float)"
   ]
  },
  {
   "cell_type": "code",
   "execution_count": 80,
   "id": "21671995",
   "metadata": {},
   "outputs": [
    {
     "name": "stdout",
     "output_type": "stream",
     "text": [
      "<class 'pandas.core.frame.DataFrame'>\n",
      "RangeIndex: 10302 entries, 0 to 10301\n",
      "Data columns (total 27 columns):\n",
      " #   Column      Non-Null Count  Dtype  \n",
      "---  ------      --------------  -----  \n",
      " 0   ID          10302 non-null  int64  \n",
      " 1   KIDSDRIV    10302 non-null  int64  \n",
      " 2   BIRTH       10302 non-null  object \n",
      " 3   AGE         10295 non-null  float64\n",
      " 4   HOMEKIDS    10302 non-null  int64  \n",
      " 5   YOJ         9754 non-null   float64\n",
      " 6   INCOME      9732 non-null   float64\n",
      " 7   PARENT1     10302 non-null  object \n",
      " 8   HOME_VAL    9727 non-null   float64\n",
      " 9   MSTATUS     10302 non-null  object \n",
      " 10  GENDER      10302 non-null  object \n",
      " 11  EDUCATION   10302 non-null  object \n",
      " 12  OCCUPATION  9637 non-null   object \n",
      " 13  TRAVTIME    10302 non-null  int64  \n",
      " 14  CAR_USE     10302 non-null  object \n",
      " 15  BLUEBOOK    10302 non-null  float64\n",
      " 16  TIF         10302 non-null  int64  \n",
      " 17  CAR_TYPE    10302 non-null  object \n",
      " 18  RED_CAR     10302 non-null  object \n",
      " 19  OLDCLAIM    10302 non-null  float64\n",
      " 20  CLM_FREQ    10302 non-null  int64  \n",
      " 21  REVOKED     10302 non-null  object \n",
      " 22  MVR_PTS     10302 non-null  int64  \n",
      " 23  CLM_AMT     10302 non-null  float64\n",
      " 24  CAR_AGE     9663 non-null   float64\n",
      " 25  CLAIM_FLAG  10302 non-null  int64  \n",
      " 26  URBANICITY  10302 non-null  object \n",
      "dtypes: float64(8), int64(8), object(11)\n",
      "memory usage: 2.1+ MB\n"
     ]
    }
   ],
   "source": [
    "df.info()"
   ]
  },
  {
   "cell_type": "code",
   "execution_count": 81,
   "id": "528344ff",
   "metadata": {},
   "outputs": [],
   "source": [
    "df.drop('BIRTH',axis=1,inplace=True)\n",
    "# Dropping birth , since we have age"
   ]
  },
  {
   "cell_type": "code",
   "execution_count": 82,
   "id": "8afa6346",
   "metadata": {},
   "outputs": [],
   "source": [
    "# CONVERTING CATEGORICAL COLUMNS TO NUMERICAL "
   ]
  },
  {
   "cell_type": "code",
   "execution_count": 83,
   "id": "0cd72937",
   "metadata": {},
   "outputs": [],
   "source": [
    "df1=pd.get_dummies(df,columns=['PARENT1','MSTATUS','GENDER','RED_CAR','REVOKED','URBANICITY','CAR_USE'],drop_first=True)"
   ]
  },
  {
   "cell_type": "code",
   "execution_count": 84,
   "id": "aa5dfd03",
   "metadata": {},
   "outputs": [
    {
     "data": {
      "text/html": [
       "<div>\n",
       "<style scoped>\n",
       "    .dataframe tbody tr th:only-of-type {\n",
       "        vertical-align: middle;\n",
       "    }\n",
       "\n",
       "    .dataframe tbody tr th {\n",
       "        vertical-align: top;\n",
       "    }\n",
       "\n",
       "    .dataframe thead th {\n",
       "        text-align: right;\n",
       "    }\n",
       "</style>\n",
       "<table border=\"1\" class=\"dataframe\">\n",
       "  <thead>\n",
       "    <tr style=\"text-align: right;\">\n",
       "      <th></th>\n",
       "      <th>ID</th>\n",
       "      <th>KIDSDRIV</th>\n",
       "      <th>AGE</th>\n",
       "      <th>HOMEKIDS</th>\n",
       "      <th>YOJ</th>\n",
       "      <th>INCOME</th>\n",
       "      <th>HOME_VAL</th>\n",
       "      <th>EDUCATION</th>\n",
       "      <th>OCCUPATION</th>\n",
       "      <th>TRAVTIME</th>\n",
       "      <th>...</th>\n",
       "      <th>CLM_AMT</th>\n",
       "      <th>CAR_AGE</th>\n",
       "      <th>CLAIM_FLAG</th>\n",
       "      <th>PARENT1_Yes</th>\n",
       "      <th>MSTATUS_z_No</th>\n",
       "      <th>GENDER_z_F</th>\n",
       "      <th>RED_CAR_yes</th>\n",
       "      <th>REVOKED_Yes</th>\n",
       "      <th>URBANICITY_z_Highly Rural/ Rural</th>\n",
       "      <th>CAR_USE_Private</th>\n",
       "    </tr>\n",
       "  </thead>\n",
       "  <tbody>\n",
       "    <tr>\n",
       "      <th>0</th>\n",
       "      <td>63581743</td>\n",
       "      <td>0</td>\n",
       "      <td>60.0</td>\n",
       "      <td>0</td>\n",
       "      <td>11.0</td>\n",
       "      <td>67349.0</td>\n",
       "      <td>0.0</td>\n",
       "      <td>PhD</td>\n",
       "      <td>Professional</td>\n",
       "      <td>14</td>\n",
       "      <td>...</td>\n",
       "      <td>0.0</td>\n",
       "      <td>18.0</td>\n",
       "      <td>0</td>\n",
       "      <td>0</td>\n",
       "      <td>1</td>\n",
       "      <td>0</td>\n",
       "      <td>1</td>\n",
       "      <td>0</td>\n",
       "      <td>0</td>\n",
       "      <td>1</td>\n",
       "    </tr>\n",
       "    <tr>\n",
       "      <th>1</th>\n",
       "      <td>132761049</td>\n",
       "      <td>0</td>\n",
       "      <td>43.0</td>\n",
       "      <td>0</td>\n",
       "      <td>11.0</td>\n",
       "      <td>91449.0</td>\n",
       "      <td>257252.0</td>\n",
       "      <td>z_High School</td>\n",
       "      <td>z_Blue Collar</td>\n",
       "      <td>22</td>\n",
       "      <td>...</td>\n",
       "      <td>0.0</td>\n",
       "      <td>1.0</td>\n",
       "      <td>0</td>\n",
       "      <td>0</td>\n",
       "      <td>1</td>\n",
       "      <td>0</td>\n",
       "      <td>1</td>\n",
       "      <td>0</td>\n",
       "      <td>0</td>\n",
       "      <td>0</td>\n",
       "    </tr>\n",
       "    <tr>\n",
       "      <th>2</th>\n",
       "      <td>921317019</td>\n",
       "      <td>0</td>\n",
       "      <td>48.0</td>\n",
       "      <td>0</td>\n",
       "      <td>11.0</td>\n",
       "      <td>52881.0</td>\n",
       "      <td>0.0</td>\n",
       "      <td>Bachelors</td>\n",
       "      <td>Manager</td>\n",
       "      <td>26</td>\n",
       "      <td>...</td>\n",
       "      <td>0.0</td>\n",
       "      <td>10.0</td>\n",
       "      <td>0</td>\n",
       "      <td>0</td>\n",
       "      <td>1</td>\n",
       "      <td>0</td>\n",
       "      <td>1</td>\n",
       "      <td>0</td>\n",
       "      <td>0</td>\n",
       "      <td>1</td>\n",
       "    </tr>\n",
       "    <tr>\n",
       "      <th>3</th>\n",
       "      <td>727598473</td>\n",
       "      <td>0</td>\n",
       "      <td>35.0</td>\n",
       "      <td>1</td>\n",
       "      <td>10.0</td>\n",
       "      <td>16039.0</td>\n",
       "      <td>124191.0</td>\n",
       "      <td>z_High School</td>\n",
       "      <td>Clerical</td>\n",
       "      <td>5</td>\n",
       "      <td>...</td>\n",
       "      <td>0.0</td>\n",
       "      <td>10.0</td>\n",
       "      <td>0</td>\n",
       "      <td>0</td>\n",
       "      <td>0</td>\n",
       "      <td>1</td>\n",
       "      <td>0</td>\n",
       "      <td>0</td>\n",
       "      <td>0</td>\n",
       "      <td>1</td>\n",
       "    </tr>\n",
       "    <tr>\n",
       "      <th>4</th>\n",
       "      <td>450221861</td>\n",
       "      <td>0</td>\n",
       "      <td>51.0</td>\n",
       "      <td>0</td>\n",
       "      <td>14.0</td>\n",
       "      <td>NaN</td>\n",
       "      <td>306251.0</td>\n",
       "      <td>&lt;High School</td>\n",
       "      <td>z_Blue Collar</td>\n",
       "      <td>32</td>\n",
       "      <td>...</td>\n",
       "      <td>0.0</td>\n",
       "      <td>6.0</td>\n",
       "      <td>0</td>\n",
       "      <td>0</td>\n",
       "      <td>0</td>\n",
       "      <td>0</td>\n",
       "      <td>1</td>\n",
       "      <td>0</td>\n",
       "      <td>0</td>\n",
       "      <td>1</td>\n",
       "    </tr>\n",
       "  </tbody>\n",
       "</table>\n",
       "<p>5 rows × 26 columns</p>\n",
       "</div>"
      ],
      "text/plain": [
       "          ID  KIDSDRIV   AGE  HOMEKIDS   YOJ   INCOME  HOME_VAL  \\\n",
       "0   63581743         0  60.0         0  11.0  67349.0       0.0   \n",
       "1  132761049         0  43.0         0  11.0  91449.0  257252.0   \n",
       "2  921317019         0  48.0         0  11.0  52881.0       0.0   \n",
       "3  727598473         0  35.0         1  10.0  16039.0  124191.0   \n",
       "4  450221861         0  51.0         0  14.0      NaN  306251.0   \n",
       "\n",
       "       EDUCATION     OCCUPATION  TRAVTIME  ...  CLM_AMT  CAR_AGE CLAIM_FLAG  \\\n",
       "0            PhD   Professional        14  ...      0.0     18.0          0   \n",
       "1  z_High School  z_Blue Collar        22  ...      0.0      1.0          0   \n",
       "2      Bachelors        Manager        26  ...      0.0     10.0          0   \n",
       "3  z_High School       Clerical         5  ...      0.0     10.0          0   \n",
       "4   <High School  z_Blue Collar        32  ...      0.0      6.0          0   \n",
       "\n",
       "   PARENT1_Yes  MSTATUS_z_No  GENDER_z_F  RED_CAR_yes  REVOKED_Yes  \\\n",
       "0            0             1           0            1            0   \n",
       "1            0             1           0            1            0   \n",
       "2            0             1           0            1            0   \n",
       "3            0             0           1            0            0   \n",
       "4            0             0           0            1            0   \n",
       "\n",
       "   URBANICITY_z_Highly Rural/ Rural  CAR_USE_Private  \n",
       "0                                 0                1  \n",
       "1                                 0                0  \n",
       "2                                 0                1  \n",
       "3                                 0                1  \n",
       "4                                 0                1  \n",
       "\n",
       "[5 rows x 26 columns]"
      ]
     },
     "execution_count": 84,
     "metadata": {},
     "output_type": "execute_result"
    }
   ],
   "source": [
    "df1.head()"
   ]
  },
  {
   "cell_type": "code",
   "execution_count": 85,
   "id": "37e5c3b6",
   "metadata": {},
   "outputs": [
    {
     "name": "stdout",
     "output_type": "stream",
     "text": [
      "<class 'pandas.core.frame.DataFrame'>\n",
      "RangeIndex: 10302 entries, 0 to 10301\n",
      "Data columns (total 26 columns):\n",
      " #   Column                            Non-Null Count  Dtype  \n",
      "---  ------                            --------------  -----  \n",
      " 0   ID                                10302 non-null  int64  \n",
      " 1   KIDSDRIV                          10302 non-null  int64  \n",
      " 2   AGE                               10295 non-null  float64\n",
      " 3   HOMEKIDS                          10302 non-null  int64  \n",
      " 4   YOJ                               9754 non-null   float64\n",
      " 5   INCOME                            9732 non-null   float64\n",
      " 6   HOME_VAL                          9727 non-null   float64\n",
      " 7   EDUCATION                         10302 non-null  object \n",
      " 8   OCCUPATION                        9637 non-null   object \n",
      " 9   TRAVTIME                          10302 non-null  int64  \n",
      " 10  BLUEBOOK                          10302 non-null  float64\n",
      " 11  TIF                               10302 non-null  int64  \n",
      " 12  CAR_TYPE                          10302 non-null  object \n",
      " 13  OLDCLAIM                          10302 non-null  float64\n",
      " 14  CLM_FREQ                          10302 non-null  int64  \n",
      " 15  MVR_PTS                           10302 non-null  int64  \n",
      " 16  CLM_AMT                           10302 non-null  float64\n",
      " 17  CAR_AGE                           9663 non-null   float64\n",
      " 18  CLAIM_FLAG                        10302 non-null  int64  \n",
      " 19  PARENT1_Yes                       10302 non-null  uint8  \n",
      " 20  MSTATUS_z_No                      10302 non-null  uint8  \n",
      " 21  GENDER_z_F                        10302 non-null  uint8  \n",
      " 22  RED_CAR_yes                       10302 non-null  uint8  \n",
      " 23  REVOKED_Yes                       10302 non-null  uint8  \n",
      " 24  URBANICITY_z_Highly Rural/ Rural  10302 non-null  uint8  \n",
      " 25  CAR_USE_Private                   10302 non-null  uint8  \n",
      "dtypes: float64(8), int64(8), object(3), uint8(7)\n",
      "memory usage: 1.6+ MB\n"
     ]
    }
   ],
   "source": [
    "df1.info()"
   ]
  },
  {
   "cell_type": "code",
   "execution_count": 86,
   "id": "20e2aa48",
   "metadata": {},
   "outputs": [],
   "source": [
    "# Converting education column to int "
   ]
  },
  {
   "cell_type": "code",
   "execution_count": 87,
   "id": "f57290a7",
   "metadata": {},
   "outputs": [
    {
     "data": {
      "text/plain": [
       "z_High School    2952\n",
       "Bachelors        2823\n",
       "Masters          2078\n",
       "<High School     1515\n",
       "PhD               934\n",
       "Name: EDUCATION, dtype: int64"
      ]
     },
     "execution_count": 87,
     "metadata": {},
     "output_type": "execute_result"
    }
   ],
   "source": [
    "df1['EDUCATION'].value_counts()"
   ]
  },
  {
   "cell_type": "code",
   "execution_count": 88,
   "id": "65a5a745",
   "metadata": {},
   "outputs": [],
   "source": [
    "education_dict={'<High School':1,'z_High School':2,'Bachelors':3,'Masters':4,'PhD':5}"
   ]
  },
  {
   "cell_type": "code",
   "execution_count": 89,
   "id": "3436c4e7",
   "metadata": {},
   "outputs": [],
   "source": [
    "df1['EDUCATION']=df1['EDUCATION'].map(education_dict)"
   ]
  },
  {
   "cell_type": "code",
   "execution_count": 90,
   "id": "e03bc71d",
   "metadata": {},
   "outputs": [
    {
     "data": {
      "text/plain": [
       "0        5\n",
       "1        2\n",
       "2        3\n",
       "3        2\n",
       "4        1\n",
       "        ..\n",
       "10297    5\n",
       "10298    4\n",
       "10299    1\n",
       "10300    3\n",
       "10301    2\n",
       "Name: EDUCATION, Length: 10302, dtype: int64"
      ]
     },
     "execution_count": 90,
     "metadata": {},
     "output_type": "execute_result"
    }
   ],
   "source": [
    "df1['EDUCATION']"
   ]
  },
  {
   "cell_type": "code",
   "execution_count": 91,
   "id": "551273df",
   "metadata": {},
   "outputs": [
    {
     "name": "stdout",
     "output_type": "stream",
     "text": [
      "<class 'pandas.core.frame.DataFrame'>\n",
      "RangeIndex: 10302 entries, 0 to 10301\n",
      "Data columns (total 26 columns):\n",
      " #   Column                            Non-Null Count  Dtype  \n",
      "---  ------                            --------------  -----  \n",
      " 0   ID                                10302 non-null  int64  \n",
      " 1   KIDSDRIV                          10302 non-null  int64  \n",
      " 2   AGE                               10295 non-null  float64\n",
      " 3   HOMEKIDS                          10302 non-null  int64  \n",
      " 4   YOJ                               9754 non-null   float64\n",
      " 5   INCOME                            9732 non-null   float64\n",
      " 6   HOME_VAL                          9727 non-null   float64\n",
      " 7   EDUCATION                         10302 non-null  int64  \n",
      " 8   OCCUPATION                        9637 non-null   object \n",
      " 9   TRAVTIME                          10302 non-null  int64  \n",
      " 10  BLUEBOOK                          10302 non-null  float64\n",
      " 11  TIF                               10302 non-null  int64  \n",
      " 12  CAR_TYPE                          10302 non-null  object \n",
      " 13  OLDCLAIM                          10302 non-null  float64\n",
      " 14  CLM_FREQ                          10302 non-null  int64  \n",
      " 15  MVR_PTS                           10302 non-null  int64  \n",
      " 16  CLM_AMT                           10302 non-null  float64\n",
      " 17  CAR_AGE                           9663 non-null   float64\n",
      " 18  CLAIM_FLAG                        10302 non-null  int64  \n",
      " 19  PARENT1_Yes                       10302 non-null  uint8  \n",
      " 20  MSTATUS_z_No                      10302 non-null  uint8  \n",
      " 21  GENDER_z_F                        10302 non-null  uint8  \n",
      " 22  RED_CAR_yes                       10302 non-null  uint8  \n",
      " 23  REVOKED_Yes                       10302 non-null  uint8  \n",
      " 24  URBANICITY_z_Highly Rural/ Rural  10302 non-null  uint8  \n",
      " 25  CAR_USE_Private                   10302 non-null  uint8  \n",
      "dtypes: float64(8), int64(9), object(2), uint8(7)\n",
      "memory usage: 1.6+ MB\n"
     ]
    }
   ],
   "source": [
    "df1.info()"
   ]
  },
  {
   "cell_type": "code",
   "execution_count": 92,
   "id": "6150c916",
   "metadata": {},
   "outputs": [
    {
     "data": {
      "text/plain": [
       "z_SUV          2883\n",
       "Minivan        2694\n",
       "Pickup         1772\n",
       "Sports Car     1179\n",
       "Van             921\n",
       "Panel Truck     853\n",
       "Name: CAR_TYPE, dtype: int64"
      ]
     },
     "execution_count": 92,
     "metadata": {},
     "output_type": "execute_result"
    }
   ],
   "source": [
    "df['CAR_TYPE'].value_counts()"
   ]
  },
  {
   "cell_type": "code",
   "execution_count": 93,
   "id": "49d30309",
   "metadata": {},
   "outputs": [
    {
     "data": {
      "text/plain": [
       "z_Blue Collar    2288\n",
       "Clerical         1590\n",
       "Professional     1408\n",
       "Manager          1257\n",
       "Lawyer           1031\n",
       "Student           899\n",
       "Home Maker        843\n",
       "Doctor            321\n",
       "Name: OCCUPATION, dtype: int64"
      ]
     },
     "execution_count": 93,
     "metadata": {},
     "output_type": "execute_result"
    }
   ],
   "source": [
    "df['OCCUPATION'].value_counts()"
   ]
  },
  {
   "cell_type": "code",
   "execution_count": 94,
   "id": "659bc64f",
   "metadata": {},
   "outputs": [],
   "source": [
    "from sklearn.preprocessing import LabelEncoder"
   ]
  },
  {
   "cell_type": "code",
   "execution_count": 95,
   "id": "c0cc7dfd",
   "metadata": {},
   "outputs": [],
   "source": [
    "le=LabelEncoder()"
   ]
  },
  {
   "cell_type": "code",
   "execution_count": 101,
   "id": "4f17d6fb",
   "metadata": {},
   "outputs": [],
   "source": [
    "df1['OCCUPATION']=le.fit_transform(df1['OCCUPATION'])"
   ]
  },
  {
   "cell_type": "code",
   "execution_count": 102,
   "id": "fa16b06b",
   "metadata": {},
   "outputs": [
    {
     "name": "stdout",
     "output_type": "stream",
     "text": [
      "<class 'pandas.core.frame.DataFrame'>\n",
      "RangeIndex: 10302 entries, 0 to 10301\n",
      "Data columns (total 26 columns):\n",
      " #   Column                            Non-Null Count  Dtype  \n",
      "---  ------                            --------------  -----  \n",
      " 0   ID                                10302 non-null  int64  \n",
      " 1   KIDSDRIV                          10302 non-null  int64  \n",
      " 2   AGE                               10295 non-null  float64\n",
      " 3   HOMEKIDS                          10302 non-null  int64  \n",
      " 4   YOJ                               9754 non-null   float64\n",
      " 5   INCOME                            9732 non-null   float64\n",
      " 6   HOME_VAL                          9727 non-null   float64\n",
      " 7   EDUCATION                         10302 non-null  int64  \n",
      " 8   OCCUPATION                        10302 non-null  int64  \n",
      " 9   TRAVTIME                          10302 non-null  int64  \n",
      " 10  BLUEBOOK                          10302 non-null  float64\n",
      " 11  TIF                               10302 non-null  int64  \n",
      " 12  CAR_TYPE                          10302 non-null  object \n",
      " 13  OLDCLAIM                          10302 non-null  float64\n",
      " 14  CLM_FREQ                          10302 non-null  int64  \n",
      " 15  MVR_PTS                           10302 non-null  int64  \n",
      " 16  CLM_AMT                           10302 non-null  float64\n",
      " 17  CAR_AGE                           9663 non-null   float64\n",
      " 18  CLAIM_FLAG                        10302 non-null  int64  \n",
      " 19  PARENT1_Yes                       10302 non-null  uint8  \n",
      " 20  MSTATUS_z_No                      10302 non-null  uint8  \n",
      " 21  GENDER_z_F                        10302 non-null  uint8  \n",
      " 22  RED_CAR_yes                       10302 non-null  uint8  \n",
      " 23  REVOKED_Yes                       10302 non-null  uint8  \n",
      " 24  URBANICITY_z_Highly Rural/ Rural  10302 non-null  uint8  \n",
      " 25  CAR_USE_Private                   10302 non-null  uint8  \n",
      "dtypes: float64(8), int64(10), object(1), uint8(7)\n",
      "memory usage: 1.6+ MB\n"
     ]
    }
   ],
   "source": [
    "df1.info()"
   ]
  },
  {
   "cell_type": "code",
   "execution_count": 103,
   "id": "443ba195",
   "metadata": {},
   "outputs": [],
   "source": [
    "df1['CAR_TYPE']=le.fit_transform(df['CAR_TYPE'])"
   ]
  },
  {
   "cell_type": "code",
   "execution_count": 106,
   "id": "ea1b4e5d",
   "metadata": {},
   "outputs": [
    {
     "data": {
      "text/plain": [
       "0    5\n",
       "1    7\n",
       "2    4\n",
       "3    0\n",
       "4    7\n",
       "Name: OCCUPATION, dtype: int64"
      ]
     },
     "execution_count": 106,
     "metadata": {},
     "output_type": "execute_result"
    }
   ],
   "source": [
    "df1['OCCUPATION'].head()"
   ]
  },
  {
   "cell_type": "code",
   "execution_count": 107,
   "id": "b575454b",
   "metadata": {},
   "outputs": [
    {
     "data": {
      "text/plain": [
       "0    0\n",
       "1    0\n",
       "2    4\n",
       "3    5\n",
       "4    0\n",
       "Name: CAR_TYPE, dtype: int32"
      ]
     },
     "execution_count": 107,
     "metadata": {},
     "output_type": "execute_result"
    }
   ],
   "source": [
    "df1['CAR_TYPE'].head()"
   ]
  },
  {
   "cell_type": "code",
   "execution_count": 108,
   "id": "041eb332",
   "metadata": {},
   "outputs": [
    {
     "name": "stdout",
     "output_type": "stream",
     "text": [
      "<class 'pandas.core.frame.DataFrame'>\n",
      "RangeIndex: 10302 entries, 0 to 10301\n",
      "Data columns (total 26 columns):\n",
      " #   Column                            Non-Null Count  Dtype  \n",
      "---  ------                            --------------  -----  \n",
      " 0   ID                                10302 non-null  int64  \n",
      " 1   KIDSDRIV                          10302 non-null  int64  \n",
      " 2   AGE                               10295 non-null  float64\n",
      " 3   HOMEKIDS                          10302 non-null  int64  \n",
      " 4   YOJ                               9754 non-null   float64\n",
      " 5   INCOME                            9732 non-null   float64\n",
      " 6   HOME_VAL                          9727 non-null   float64\n",
      " 7   EDUCATION                         10302 non-null  int64  \n",
      " 8   OCCUPATION                        10302 non-null  int64  \n",
      " 9   TRAVTIME                          10302 non-null  int64  \n",
      " 10  BLUEBOOK                          10302 non-null  float64\n",
      " 11  TIF                               10302 non-null  int64  \n",
      " 12  CAR_TYPE                          10302 non-null  int32  \n",
      " 13  OLDCLAIM                          10302 non-null  float64\n",
      " 14  CLM_FREQ                          10302 non-null  int64  \n",
      " 15  MVR_PTS                           10302 non-null  int64  \n",
      " 16  CLM_AMT                           10302 non-null  float64\n",
      " 17  CAR_AGE                           9663 non-null   float64\n",
      " 18  CLAIM_FLAG                        10302 non-null  int64  \n",
      " 19  PARENT1_Yes                       10302 non-null  uint8  \n",
      " 20  MSTATUS_z_No                      10302 non-null  uint8  \n",
      " 21  GENDER_z_F                        10302 non-null  uint8  \n",
      " 22  RED_CAR_yes                       10302 non-null  uint8  \n",
      " 23  REVOKED_Yes                       10302 non-null  uint8  \n",
      " 24  URBANICITY_z_Highly Rural/ Rural  10302 non-null  uint8  \n",
      " 25  CAR_USE_Private                   10302 non-null  uint8  \n",
      "dtypes: float64(8), int32(1), int64(10), uint8(7)\n",
      "memory usage: 1.5 MB\n"
     ]
    }
   ],
   "source": [
    "df1.info()"
   ]
  },
  {
   "cell_type": "code",
   "execution_count": 109,
   "id": "a963f600",
   "metadata": {},
   "outputs": [
    {
     "data": {
      "text/html": [
       "<div>\n",
       "<style scoped>\n",
       "    .dataframe tbody tr th:only-of-type {\n",
       "        vertical-align: middle;\n",
       "    }\n",
       "\n",
       "    .dataframe tbody tr th {\n",
       "        vertical-align: top;\n",
       "    }\n",
       "\n",
       "    .dataframe thead th {\n",
       "        text-align: right;\n",
       "    }\n",
       "</style>\n",
       "<table border=\"1\" class=\"dataframe\">\n",
       "  <thead>\n",
       "    <tr style=\"text-align: right;\">\n",
       "      <th></th>\n",
       "      <th>ID</th>\n",
       "      <th>KIDSDRIV</th>\n",
       "      <th>AGE</th>\n",
       "      <th>HOMEKIDS</th>\n",
       "      <th>YOJ</th>\n",
       "      <th>INCOME</th>\n",
       "      <th>HOME_VAL</th>\n",
       "      <th>EDUCATION</th>\n",
       "      <th>OCCUPATION</th>\n",
       "      <th>TRAVTIME</th>\n",
       "      <th>...</th>\n",
       "      <th>CLM_AMT</th>\n",
       "      <th>CAR_AGE</th>\n",
       "      <th>CLAIM_FLAG</th>\n",
       "      <th>PARENT1_Yes</th>\n",
       "      <th>MSTATUS_z_No</th>\n",
       "      <th>GENDER_z_F</th>\n",
       "      <th>RED_CAR_yes</th>\n",
       "      <th>REVOKED_Yes</th>\n",
       "      <th>URBANICITY_z_Highly Rural/ Rural</th>\n",
       "      <th>CAR_USE_Private</th>\n",
       "    </tr>\n",
       "  </thead>\n",
       "  <tbody>\n",
       "    <tr>\n",
       "      <th>0</th>\n",
       "      <td>63581743</td>\n",
       "      <td>0</td>\n",
       "      <td>60.0</td>\n",
       "      <td>0</td>\n",
       "      <td>11.0</td>\n",
       "      <td>67349.0</td>\n",
       "      <td>0.0</td>\n",
       "      <td>5</td>\n",
       "      <td>5</td>\n",
       "      <td>14</td>\n",
       "      <td>...</td>\n",
       "      <td>0.0</td>\n",
       "      <td>18.0</td>\n",
       "      <td>0</td>\n",
       "      <td>0</td>\n",
       "      <td>1</td>\n",
       "      <td>0</td>\n",
       "      <td>1</td>\n",
       "      <td>0</td>\n",
       "      <td>0</td>\n",
       "      <td>1</td>\n",
       "    </tr>\n",
       "    <tr>\n",
       "      <th>1</th>\n",
       "      <td>132761049</td>\n",
       "      <td>0</td>\n",
       "      <td>43.0</td>\n",
       "      <td>0</td>\n",
       "      <td>11.0</td>\n",
       "      <td>91449.0</td>\n",
       "      <td>257252.0</td>\n",
       "      <td>2</td>\n",
       "      <td>7</td>\n",
       "      <td>22</td>\n",
       "      <td>...</td>\n",
       "      <td>0.0</td>\n",
       "      <td>1.0</td>\n",
       "      <td>0</td>\n",
       "      <td>0</td>\n",
       "      <td>1</td>\n",
       "      <td>0</td>\n",
       "      <td>1</td>\n",
       "      <td>0</td>\n",
       "      <td>0</td>\n",
       "      <td>0</td>\n",
       "    </tr>\n",
       "    <tr>\n",
       "      <th>2</th>\n",
       "      <td>921317019</td>\n",
       "      <td>0</td>\n",
       "      <td>48.0</td>\n",
       "      <td>0</td>\n",
       "      <td>11.0</td>\n",
       "      <td>52881.0</td>\n",
       "      <td>0.0</td>\n",
       "      <td>3</td>\n",
       "      <td>4</td>\n",
       "      <td>26</td>\n",
       "      <td>...</td>\n",
       "      <td>0.0</td>\n",
       "      <td>10.0</td>\n",
       "      <td>0</td>\n",
       "      <td>0</td>\n",
       "      <td>1</td>\n",
       "      <td>0</td>\n",
       "      <td>1</td>\n",
       "      <td>0</td>\n",
       "      <td>0</td>\n",
       "      <td>1</td>\n",
       "    </tr>\n",
       "    <tr>\n",
       "      <th>3</th>\n",
       "      <td>727598473</td>\n",
       "      <td>0</td>\n",
       "      <td>35.0</td>\n",
       "      <td>1</td>\n",
       "      <td>10.0</td>\n",
       "      <td>16039.0</td>\n",
       "      <td>124191.0</td>\n",
       "      <td>2</td>\n",
       "      <td>0</td>\n",
       "      <td>5</td>\n",
       "      <td>...</td>\n",
       "      <td>0.0</td>\n",
       "      <td>10.0</td>\n",
       "      <td>0</td>\n",
       "      <td>0</td>\n",
       "      <td>0</td>\n",
       "      <td>1</td>\n",
       "      <td>0</td>\n",
       "      <td>0</td>\n",
       "      <td>0</td>\n",
       "      <td>1</td>\n",
       "    </tr>\n",
       "    <tr>\n",
       "      <th>4</th>\n",
       "      <td>450221861</td>\n",
       "      <td>0</td>\n",
       "      <td>51.0</td>\n",
       "      <td>0</td>\n",
       "      <td>14.0</td>\n",
       "      <td>NaN</td>\n",
       "      <td>306251.0</td>\n",
       "      <td>1</td>\n",
       "      <td>7</td>\n",
       "      <td>32</td>\n",
       "      <td>...</td>\n",
       "      <td>0.0</td>\n",
       "      <td>6.0</td>\n",
       "      <td>0</td>\n",
       "      <td>0</td>\n",
       "      <td>0</td>\n",
       "      <td>0</td>\n",
       "      <td>1</td>\n",
       "      <td>0</td>\n",
       "      <td>0</td>\n",
       "      <td>1</td>\n",
       "    </tr>\n",
       "  </tbody>\n",
       "</table>\n",
       "<p>5 rows × 26 columns</p>\n",
       "</div>"
      ],
      "text/plain": [
       "          ID  KIDSDRIV   AGE  HOMEKIDS   YOJ   INCOME  HOME_VAL  EDUCATION  \\\n",
       "0   63581743         0  60.0         0  11.0  67349.0       0.0          5   \n",
       "1  132761049         0  43.0         0  11.0  91449.0  257252.0          2   \n",
       "2  921317019         0  48.0         0  11.0  52881.0       0.0          3   \n",
       "3  727598473         0  35.0         1  10.0  16039.0  124191.0          2   \n",
       "4  450221861         0  51.0         0  14.0      NaN  306251.0          1   \n",
       "\n",
       "   OCCUPATION  TRAVTIME  ...  CLM_AMT  CAR_AGE  CLAIM_FLAG  PARENT1_Yes  \\\n",
       "0           5        14  ...      0.0     18.0           0            0   \n",
       "1           7        22  ...      0.0      1.0           0            0   \n",
       "2           4        26  ...      0.0     10.0           0            0   \n",
       "3           0         5  ...      0.0     10.0           0            0   \n",
       "4           7        32  ...      0.0      6.0           0            0   \n",
       "\n",
       "   MSTATUS_z_No  GENDER_z_F  RED_CAR_yes  REVOKED_Yes  \\\n",
       "0             1           0            1            0   \n",
       "1             1           0            1            0   \n",
       "2             1           0            1            0   \n",
       "3             0           1            0            0   \n",
       "4             0           0            1            0   \n",
       "\n",
       "   URBANICITY_z_Highly Rural/ Rural  CAR_USE_Private  \n",
       "0                                 0                1  \n",
       "1                                 0                0  \n",
       "2                                 0                1  \n",
       "3                                 0                1  \n",
       "4                                 0                1  \n",
       "\n",
       "[5 rows x 26 columns]"
      ]
     },
     "execution_count": 109,
     "metadata": {},
     "output_type": "execute_result"
    }
   ],
   "source": [
    "df1.head()"
   ]
  },
  {
   "cell_type": "code",
   "execution_count": 110,
   "id": "dcee1764",
   "metadata": {},
   "outputs": [
    {
     "data": {
      "text/plain": [
       "(10302, 26)"
      ]
     },
     "execution_count": 110,
     "metadata": {},
     "output_type": "execute_result"
    }
   ],
   "source": [
    "df1.shape"
   ]
  },
  {
   "cell_type": "code",
   "execution_count": null,
   "id": "fd05205e",
   "metadata": {},
   "outputs": [],
   "source": []
  }
 ],
 "metadata": {
  "kernelspec": {
   "display_name": "Python 3",
   "language": "python",
   "name": "python3"
  },
  "language_info": {
   "codemirror_mode": {
    "name": "ipython",
    "version": 3
   },
   "file_extension": ".py",
   "mimetype": "text/x-python",
   "name": "python",
   "nbconvert_exporter": "python",
   "pygments_lexer": "ipython3",
   "version": "3.8.8"
  }
 },
 "nbformat": 4,
 "nbformat_minor": 5
}
