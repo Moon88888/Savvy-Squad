{
 "cells": [
  {
   "cell_type": "code",
   "execution_count": 1,
   "id": "0ca975c5",
   "metadata": {},
   "outputs": [],
   "source": [
    "import pandas as pd\n",
    "import numpy as np\n",
    "import seaborn as sns\n",
    "import matplotlib.pyplot as plt"
   ]
  },
  {
   "cell_type": "code",
   "execution_count": 2,
   "id": "7a4b945b",
   "metadata": {},
   "outputs": [],
   "source": [
    "df=pd.read_csv(\"C:/users/user/Downloads/car_insurance_claim.csv\")"
   ]
  },
  {
   "cell_type": "code",
   "execution_count": 3,
   "id": "4b2a4f73",
   "metadata": {},
   "outputs": [
    {
     "data": {
      "text/plain": [
       "(10302, 27)"
      ]
     },
     "execution_count": 3,
     "metadata": {},
     "output_type": "execute_result"
    }
   ],
   "source": [
    "df.shape"
   ]
  },
  {
   "cell_type": "code",
   "execution_count": 4,
   "id": "ab5b8363",
   "metadata": {},
   "outputs": [
    {
     "name": "stdout",
     "output_type": "stream",
     "text": [
      "<class 'pandas.core.frame.DataFrame'>\n",
      "RangeIndex: 10302 entries, 0 to 10301\n",
      "Data columns (total 27 columns):\n",
      " #   Column      Non-Null Count  Dtype  \n",
      "---  ------      --------------  -----  \n",
      " 0   ID          10302 non-null  int64  \n",
      " 1   KIDSDRIV    10302 non-null  int64  \n",
      " 2   BIRTH       10302 non-null  object \n",
      " 3   AGE         10295 non-null  float64\n",
      " 4   HOMEKIDS    10302 non-null  int64  \n",
      " 5   YOJ         9754 non-null   float64\n",
      " 6   INCOME      9732 non-null   object \n",
      " 7   PARENT1     10302 non-null  object \n",
      " 8   HOME_VAL    9727 non-null   object \n",
      " 9   MSTATUS     10302 non-null  object \n",
      " 10  GENDER      10302 non-null  object \n",
      " 11  EDUCATION   10302 non-null  object \n",
      " 12  OCCUPATION  9637 non-null   object \n",
      " 13  TRAVTIME    10302 non-null  int64  \n",
      " 14  CAR_USE     10302 non-null  object \n",
      " 15  BLUEBOOK    10302 non-null  object \n",
      " 16  TIF         10302 non-null  int64  \n",
      " 17  CAR_TYPE    10302 non-null  object \n",
      " 18  RED_CAR     10302 non-null  object \n",
      " 19  OLDCLAIM    10302 non-null  object \n",
      " 20  CLM_FREQ    10302 non-null  int64  \n",
      " 21  REVOKED     10302 non-null  object \n",
      " 22  MVR_PTS     10302 non-null  int64  \n",
      " 23  CLM_AMT     10302 non-null  object \n",
      " 24  CAR_AGE     9663 non-null   float64\n",
      " 25  CLAIM_FLAG  10302 non-null  int64  \n",
      " 26  URBANICITY  10302 non-null  object \n",
      "dtypes: float64(3), int64(8), object(16)\n",
      "memory usage: 2.1+ MB\n"
     ]
    }
   ],
   "source": [
    "df.info()"
   ]
  },
  {
   "cell_type": "markdown",
   "id": "8cec4c70",
   "metadata": {},
   "source": [
    "# Target Variable"
   ]
  },
  {
   "cell_type": "code",
   "execution_count": 5,
   "id": "66d26b2b",
   "metadata": {},
   "outputs": [],
   "source": [
    "# CLAIM_FLAG --> TARGET VARIABLE\n",
    "\n",
    "# YOJ(float) , INCOME(object) , HOME_VAL(object) , OCCUPATION(object) , CAR_AGE(float)  : HAVE SOME NULL VALUES "
   ]
  },
  {
   "cell_type": "code",
   "execution_count": 6,
   "id": "cd031463",
   "metadata": {},
   "outputs": [
    {
     "name": "stderr",
     "output_type": "stream",
     "text": [
      "C:\\Users\\user\\Downloads\\jupyter\\lib\\site-packages\\seaborn\\distributions.py:2557: FutureWarning: `distplot` is a deprecated function and will be removed in a future version. Please adapt your code to use either `displot` (a figure-level function with similar flexibility) or `histplot` (an axes-level function for histograms).\n",
      "  warnings.warn(msg, FutureWarning)\n"
     ]
    },
    {
     "data": {
      "text/plain": [
       "<AxesSubplot:xlabel='CLAIM_FLAG', ylabel='Density'>"
      ]
     },
     "execution_count": 6,
     "metadata": {},
     "output_type": "execute_result"
    },
    {
     "data": {
      "image/png": "[encoded data removed]",
      "text/plain": [
       "<Figure size 432x288 with 1 Axes>"
      ]
     },
     "metadata": {
      "needs_background": "light"
     },
     "output_type": "display_data"
    }
   ],
   "source": [
    "sns.distplot(df['CLAIM_FLAG'])"
   ]
  },
  {
   "cell_type": "code",
   "execution_count": 7,
   "id": "fa9c11e6",
   "metadata": {},
   "outputs": [],
   "source": [
    "# From the graph , it can be observed that ,\n",
    "    # Roughly around 20% data is fraud claims ."
   ]
  },
  {
   "cell_type": "code",
   "execution_count": 8,
   "id": "6bcf5ece",
   "metadata": {},
   "outputs": [
    {
     "data": {
      "text/plain": [
       "(2746, 27)"
      ]
     },
     "execution_count": 8,
     "metadata": {},
     "output_type": "execute_result"
    }
   ],
   "source": [
    "df[df['CLAIM_FLAG']==1].shape"
   ]
  },
  {
   "cell_type": "code",
   "execution_count": 9,
   "id": "bda48b49",
   "metadata": {},
   "outputs": [
    {
     "data": {
      "text/plain": [
       "(10302, 27)"
      ]
     },
     "execution_count": 9,
     "metadata": {},
     "output_type": "execute_result"
    }
   ],
   "source": [
    "df.shape"
   ]
  },
  {
   "cell_type": "code",
   "execution_count": 10,
   "id": "315494d0",
   "metadata": {},
   "outputs": [
    {
     "data": {
      "text/plain": [
       "0.2665501844302077"
      ]
     },
     "execution_count": 10,
     "metadata": {},
     "output_type": "execute_result"
    }
   ],
   "source": [
    "2746/10302\n",
    "# Percentage of fraud claims "
   ]
  },
  {
   "cell_type": "markdown",
   "id": "36431f23",
   "metadata": {},
   "source": [
    "# Univariate Analysis"
   ]
  },
  {
   "cell_type": "code",
   "execution_count": 11,
   "id": "3955e176",
   "metadata": {},
   "outputs": [
    {
     "name": "stdout",
     "output_type": "stream",
     "text": [
      "<class 'pandas.core.frame.DataFrame'>\n",
      "RangeIndex: 10302 entries, 0 to 10301\n",
      "Data columns (total 27 columns):\n",
      " #   Column      Non-Null Count  Dtype  \n",
      "---  ------      --------------  -----  \n",
      " 0   ID          10302 non-null  int64  \n",
      " 1   KIDSDRIV    10302 non-null  int64  \n",
      " 2   BIRTH       10302 non-null  object \n",
      " 3   AGE         10295 non-null  float64\n",
      " 4   HOMEKIDS    10302 non-null  int64  \n",
      " 5   YOJ         9754 non-null   float64\n",
      " 6   INCOME      9732 non-null   object \n",
      " 7   PARENT1     10302 non-null  object \n",
      " 8   HOME_VAL    9727 non-null   object \n",
      " 9   MSTATUS     10302 non-null  object \n",
      " 10  GENDER      10302 non-null  object \n",
      " 11  EDUCATION   10302 non-null  object \n",
      " 12  OCCUPATION  9637 non-null   object \n",
      " 13  TRAVTIME    10302 non-null  int64  \n",
      " 14  CAR_USE     10302 non-null  object \n",
      " 15  BLUEBOOK    10302 non-null  object \n",
      " 16  TIF         10302 non-null  int64  \n",
      " 17  CAR_TYPE    10302 non-null  object \n",
      " 18  RED_CAR     10302 non-null  object \n",
      " 19  OLDCLAIM    10302 non-null  object \n",
      " 20  CLM_FREQ    10302 non-null  int64  \n",
      " 21  REVOKED     10302 non-null  object \n",
      " 22  MVR_PTS     10302 non-null  int64  \n",
      " 23  CLM_AMT     10302 non-null  object \n",
      " 24  CAR_AGE     9663 non-null   float64\n",
      " 25  CLAIM_FLAG  10302 non-null  int64  \n",
      " 26  URBANICITY  10302 non-null  object \n",
      "dtypes: float64(3), int64(8), object(16)\n",
      "memory usage: 2.1+ MB\n"
     ]
    }
   ],
   "source": [
    "df.info()"
   ]
  },
  {
   "cell_type": "code",
   "execution_count": 12,
   "id": "686e8e59",
   "metadata": {},
   "outputs": [
    {
     "data": {
      "text/plain": [
       "0          $0\n",
       "1    $257,252\n",
       "2          $0\n",
       "3    $124,191\n",
       "4    $306,251\n",
       "Name: HOME_VAL, dtype: object"
      ]
     },
     "execution_count": 12,
     "metadata": {},
     "output_type": "execute_result"
    }
   ],
   "source": [
    "df['HOME_VAL'].head()"
   ]
  },
  {
   "cell_type": "code",
   "execution_count": 13,
   "id": "d94776a7",
   "metadata": {},
   "outputs": [
    {
     "data": {
      "text/plain": [
       "array([0, 1, 2, 3, 4], dtype=int64)"
      ]
     },
     "execution_count": 13,
     "metadata": {},
     "output_type": "execute_result"
    }
   ],
   "source": [
    "df['KIDSDRIV'].unique()"
   ]
  },
  {
   "cell_type": "code",
   "execution_count": 14,
   "id": "eae10b97",
   "metadata": {},
   "outputs": [
    {
     "data": {
      "text/plain": [
       "array(['16MAR39', '21JAN56', '18NOV51', ..., '13AUG54', '18JUN51',\n",
       "       '27FEB47'], dtype=object)"
      ]
     },
     "execution_count": 14,
     "metadata": {},
     "output_type": "execute_result"
    }
   ],
   "source": [
    "df['BIRTH'].unique()"
   ]
  },
  {
   "cell_type": "code",
   "execution_count": 15,
   "id": "80ab988f",
   "metadata": {},
   "outputs": [
    {
     "data": {
      "text/plain": [
       "30"
      ]
     },
     "execution_count": 15,
     "metadata": {},
     "output_type": "execute_result"
    }
   ],
   "source": [
    "df['CAR_AGE'].nunique()"
   ]
  },
  {
   "cell_type": "code",
   "execution_count": 16,
   "id": "1b23f3b1",
   "metadata": {},
   "outputs": [
    {
     "data": {
      "text/plain": [
       "6560"
      ]
     },
     "execution_count": 16,
     "metadata": {},
     "output_type": "execute_result"
    }
   ],
   "source": [
    "df['BIRTH'].nunique()"
   ]
  },
  {
   "cell_type": "code",
   "execution_count": 17,
   "id": "c95b7e15",
   "metadata": {},
   "outputs": [
    {
     "data": {
      "text/plain": [
       "61"
      ]
     },
     "execution_count": 17,
     "metadata": {},
     "output_type": "execute_result"
    }
   ],
   "source": [
    "df['AGE'].nunique()"
   ]
  },
  {
   "cell_type": "code",
   "execution_count": 18,
   "id": "dc474329",
   "metadata": {},
   "outputs": [],
   "source": [
    "# Birth is the DOB of the owner of the car\n",
    "# Age is the age of the owner of the car\n",
    "# since one is derivable from the other \n",
    "# any one of the two is enough for training of the model "
   ]
  },
  {
   "cell_type": "code",
   "execution_count": 19,
   "id": "8fed1a54",
   "metadata": {},
   "outputs": [
    {
     "data": {
      "text/plain": [
       "6"
      ]
     },
     "execution_count": 19,
     "metadata": {},
     "output_type": "execute_result"
    }
   ],
   "source": [
    "df['HOMEKIDS'].nunique()"
   ]
  },
  {
   "cell_type": "code",
   "execution_count": 20,
   "id": "c26c7c9a",
   "metadata": {},
   "outputs": [
    {
     "data": {
      "text/plain": [
       "0    6694\n",
       "2    1427\n",
       "1    1106\n",
       "3     856\n",
       "4     201\n",
       "5      18\n",
       "Name: HOMEKIDS, dtype: int64"
      ]
     },
     "execution_count": 20,
     "metadata": {},
     "output_type": "execute_result"
    }
   ],
   "source": [
    "df['HOMEKIDS'].value_counts()"
   ]
  },
  {
   "cell_type": "code",
   "execution_count": 21,
   "id": "bb19d01e",
   "metadata": {},
   "outputs": [
    {
     "data": {
      "text/plain": [
       "array([11., 10., 14., nan, 12.,  7.,  5.,  0., 13.,  9., 17.,  8., 15.,\n",
       "       16.,  6., 18., 23.,  4.,  3.,  2., 19.,  1.])"
      ]
     },
     "execution_count": 21,
     "metadata": {},
     "output_type": "execute_result"
    }
   ],
   "source": [
    "df['YOJ'].unique()\n",
    "# Years on job"
   ]
  },
  {
   "cell_type": "code",
   "execution_count": 22,
   "id": "ea76defc",
   "metadata": {},
   "outputs": [
    {
     "data": {
      "text/plain": [
       "8151"
      ]
     },
     "execution_count": 22,
     "metadata": {},
     "output_type": "execute_result"
    }
   ],
   "source": [
    "df['INCOME'].nunique()"
   ]
  },
  {
   "cell_type": "code",
   "execution_count": 23,
   "id": "a789ddba",
   "metadata": {},
   "outputs": [
    {
     "data": {
      "text/plain": [
       "0    $67,349\n",
       "1    $91,449\n",
       "2    $52,881\n",
       "3    $16,039\n",
       "4        NaN\n",
       "Name: INCOME, dtype: object"
      ]
     },
     "execution_count": 23,
     "metadata": {},
     "output_type": "execute_result"
    }
   ],
   "source": [
    "df['INCOME'].head()"
   ]
  },
  {
   "cell_type": "code",
   "execution_count": 24,
   "id": "8f637a73",
   "metadata": {},
   "outputs": [],
   "source": [
    "# Income field is of object dtype\n",
    "# Its actually number but just to add a dollar symbol in front , it was converted to object datatype "
   ]
  },
  {
   "cell_type": "code",
   "execution_count": 25,
   "id": "b48e3097",
   "metadata": {},
   "outputs": [
    {
     "data": {
      "text/plain": [
       "2"
      ]
     },
     "execution_count": 25,
     "metadata": {},
     "output_type": "execute_result"
    }
   ],
   "source": [
    "df['PARENT1'].nunique()"
   ]
  },
  {
   "cell_type": "code",
   "execution_count": 26,
   "id": "60c02ee5",
   "metadata": {},
   "outputs": [
    {
     "data": {
      "text/plain": [
       "No     8959\n",
       "Yes    1343\n",
       "Name: PARENT1, dtype: int64"
      ]
     },
     "execution_count": 26,
     "metadata": {},
     "output_type": "execute_result"
    }
   ],
   "source": [
    "df['PARENT1'].value_counts()"
   ]
  },
  {
   "cell_type": "code",
   "execution_count": 27,
   "id": "c789bcd5",
   "metadata": {},
   "outputs": [],
   "source": [
    "#Single parent or not"
   ]
  },
  {
   "cell_type": "code",
   "execution_count": 28,
   "id": "70de073a",
   "metadata": {},
   "outputs": [
    {
     "data": {
      "text/plain": [
       "6334"
      ]
     },
     "execution_count": 28,
     "metadata": {},
     "output_type": "execute_result"
    }
   ],
   "source": [
    "df['HOME_VAL'].nunique()"
   ]
  },
  {
   "cell_type": "code",
   "execution_count": 29,
   "id": "5964eda7",
   "metadata": {},
   "outputs": [],
   "source": [
    "# It is also in dollars hence of object dtype , similar to income"
   ]
  },
  {
   "cell_type": "code",
   "execution_count": 30,
   "id": "0802b175",
   "metadata": {},
   "outputs": [
    {
     "data": {
      "text/plain": [
       "array(['z_No', 'Yes'], dtype=object)"
      ]
     },
     "execution_count": 30,
     "metadata": {},
     "output_type": "execute_result"
    }
   ],
   "source": [
    "df['MSTATUS'].unique()"
   ]
  },
  {
   "cell_type": "code",
   "execution_count": 31,
   "id": "500f5bcd",
   "metadata": {},
   "outputs": [
    {
     "data": {
      "text/plain": [
       "Yes     6188\n",
       "z_No    4114\n",
       "Name: MSTATUS, dtype: int64"
      ]
     },
     "execution_count": 31,
     "metadata": {},
     "output_type": "execute_result"
    }
   ],
   "source": [
    "df['MSTATUS'].value_counts()"
   ]
  },
  {
   "cell_type": "code",
   "execution_count": 32,
   "id": "23d0c444",
   "metadata": {},
   "outputs": [],
   "source": [
    "# MSTATUS : Marital status"
   ]
  },
  {
   "cell_type": "code",
   "execution_count": 33,
   "id": "514715df",
   "metadata": {},
   "outputs": [
    {
     "data": {
      "text/plain": [
       "z_F    5545\n",
       "M      4757\n",
       "Name: GENDER, dtype: int64"
      ]
     },
     "execution_count": 33,
     "metadata": {},
     "output_type": "execute_result"
    }
   ],
   "source": [
    "df['GENDER'].value_counts()"
   ]
  },
  {
   "cell_type": "code",
   "execution_count": 34,
   "id": "004e24fe",
   "metadata": {},
   "outputs": [
    {
     "data": {
      "text/plain": [
       "z_High School    2952\n",
       "Bachelors        2823\n",
       "Masters          2078\n",
       "<High School     1515\n",
       "PhD               934\n",
       "Name: EDUCATION, dtype: int64"
      ]
     },
     "execution_count": 34,
     "metadata": {},
     "output_type": "execute_result"
    }
   ],
   "source": [
    "df['EDUCATION'].value_counts()"
   ]
  },
  {
   "cell_type": "code",
   "execution_count": 35,
   "id": "c8c459d8",
   "metadata": {},
   "outputs": [
    {
     "data": {
      "text/plain": [
       "z_Blue Collar    2288\n",
       "Clerical         1590\n",
       "Professional     1408\n",
       "Manager          1257\n",
       "Lawyer           1031\n",
       "Student           899\n",
       "Home Maker        843\n",
       "Doctor            321\n",
       "Name: OCCUPATION, dtype: int64"
      ]
     },
     "execution_count": 35,
     "metadata": {},
     "output_type": "execute_result"
    }
   ],
   "source": [
    "df['OCCUPATION'].value_counts()"
   ]
  },
  {
   "cell_type": "code",
   "execution_count": 36,
   "id": "494570e7",
   "metadata": {},
   "outputs": [
    {
     "data": {
      "text/plain": [
       "0    14\n",
       "1    22\n",
       "2    26\n",
       "3     5\n",
       "4    32\n",
       "Name: TRAVTIME, dtype: int64"
      ]
     },
     "execution_count": 36,
     "metadata": {},
     "output_type": "execute_result"
    }
   ],
   "source": [
    "df['TRAVTIME'].head()"
   ]
  },
  {
   "cell_type": "code",
   "execution_count": 37,
   "id": "85f29a5e",
   "metadata": {},
   "outputs": [
    {
     "name": "stderr",
     "output_type": "stream",
     "text": [
      "C:\\Users\\user\\Downloads\\jupyter\\lib\\site-packages\\seaborn\\distributions.py:2557: FutureWarning: `distplot` is a deprecated function and will be removed in a future version. Please adapt your code to use either `displot` (a figure-level function with similar flexibility) or `histplot` (an axes-level function for histograms).\n",
      "  warnings.warn(msg, FutureWarning)\n"
     ]
    },
    {
     "data": {
      "text/plain": [
       "<AxesSubplot:xlabel='TRAVTIME', ylabel='Density'>"
      ]
     },
     "execution_count": 37,
     "metadata": {},
     "output_type": "execute_result"
    },
    {
     "data": {
      "image/png": "[encoded data removed]",
      "text/plain": [
       "<Figure size 432x288 with 1 Axes>"
      ]
     },
     "metadata": {
      "needs_background": "light"
     },
     "output_type": "display_data"
    }
   ],
   "source": [
    "sns.distplot(df['TRAVTIME'])"
   ]
  },
  {
   "cell_type": "code",
   "execution_count": 38,
   "id": "7565b802",
   "metadata": {},
   "outputs": [
    {
     "name": "stderr",
     "output_type": "stream",
     "text": [
      "C:\\Users\\user\\Downloads\\jupyter\\lib\\site-packages\\seaborn\\_decorators.py:36: FutureWarning: Pass the following variable as a keyword arg: x. From version 0.12, the only valid positional argument will be `data`, and passing other arguments without an explicit keyword will result in an error or misinterpretation.\n",
      "  warnings.warn(\n"
     ]
    },
    {
     "data": {
      "text/plain": [
       "<AxesSubplot:xlabel='TRAVTIME'>"
      ]
     },
     "execution_count": 38,
     "metadata": {},
     "output_type": "execute_result"
    },
    {
     "data": {
      "image/png": "[encoded data removed]",
      "text/plain": [
       "<Figure size 432x288 with 1 Axes>"
      ]
     },
     "metadata": {
      "needs_background": "light"
     },
     "output_type": "display_data"
    }
   ],
   "source": [
    "sns.boxplot(df['TRAVTIME'])"
   ]
  },
  {
   "cell_type": "code",
   "execution_count": 39,
   "id": "94fcdc12",
   "metadata": {},
   "outputs": [],
   "source": [
    "# more travel time --> more risk of crashes "
   ]
  },
  {
   "cell_type": "code",
   "execution_count": 40,
   "id": "57996fbd",
   "metadata": {},
   "outputs": [
    {
     "data": {
      "text/plain": [
       "Private       6513\n",
       "Commercial    3789\n",
       "Name: CAR_USE, dtype: int64"
      ]
     },
     "execution_count": 40,
     "metadata": {},
     "output_type": "execute_result"
    }
   ],
   "source": [
    "df['CAR_USE'].value_counts()"
   ]
  },
  {
   "cell_type": "code",
   "execution_count": 41,
   "id": "5f7f53a6",
   "metadata": {},
   "outputs": [],
   "source": [
    "# This featuer specifies if the car is used for commercial purpose or private "
   ]
  },
  {
   "cell_type": "code",
   "execution_count": 42,
   "id": "1ed9e7b8",
   "metadata": {},
   "outputs": [
    {
     "data": {
      "text/plain": [
       "0        $14,230\n",
       "1        $14,940\n",
       "2        $21,970\n",
       "3         $4,010\n",
       "4        $15,440\n",
       "          ...   \n",
       "10297    $13,270\n",
       "10298    $24,490\n",
       "10299    $13,820\n",
       "10300    $22,550\n",
       "10301    $19,400\n",
       "Name: BLUEBOOK, Length: 10302, dtype: object"
      ]
     },
     "execution_count": 42,
     "metadata": {},
     "output_type": "execute_result"
    }
   ],
   "source": [
    "df['BLUEBOOK']"
   ]
  },
  {
   "cell_type": "code",
   "execution_count": 43,
   "id": "2836e932",
   "metadata": {},
   "outputs": [],
   "source": [
    "# Bluebook : Value of the vehicle"
   ]
  },
  {
   "cell_type": "code",
   "execution_count": 44,
   "id": "467bd613",
   "metadata": {},
   "outputs": [],
   "source": [
    "# object dtype --> similar to income"
   ]
  },
  {
   "cell_type": "code",
   "execution_count": 45,
   "id": "713e23c9",
   "metadata": {},
   "outputs": [
    {
     "data": {
      "text/plain": [
       "0    11\n",
       "1     1\n",
       "2     1\n",
       "3     4\n",
       "4     7\n",
       "Name: TIF, dtype: int64"
      ]
     },
     "execution_count": 45,
     "metadata": {},
     "output_type": "execute_result"
    }
   ],
   "source": [
    "df['TIF'].head()"
   ]
  },
  {
   "cell_type": "code",
   "execution_count": 46,
   "id": "d4b96a99",
   "metadata": {},
   "outputs": [],
   "source": [
    "# TIF : Time in Force \n",
    "# People who have been customers for long itme"
   ]
  },
  {
   "cell_type": "code",
   "execution_count": 47,
   "id": "b8dc045d",
   "metadata": {},
   "outputs": [
    {
     "name": "stderr",
     "output_type": "stream",
     "text": [
      "C:\\Users\\user\\Downloads\\jupyter\\lib\\site-packages\\seaborn\\distributions.py:2557: FutureWarning: `distplot` is a deprecated function and will be removed in a future version. Please adapt your code to use either `displot` (a figure-level function with similar flexibility) or `histplot` (an axes-level function for histograms).\n",
      "  warnings.warn(msg, FutureWarning)\n"
     ]
    },
    {
     "data": {
      "text/plain": [
       "<AxesSubplot:xlabel='TIF', ylabel='Density'>"
      ]
     },
     "execution_count": 47,
     "metadata": {},
     "output_type": "execute_result"
    },
    {
     "data": {
      "image/png": "[encoded data removed]",
      "text/plain": [
       "<Figure size 432x288 with 1 Axes>"
      ]
     },
     "metadata": {
      "needs_background": "light"
     },
     "output_type": "display_data"
    }
   ],
   "source": [
    "sns.distplot(df['TIF'])\n",
    "# No pattern "
   ]
  },
  {
   "cell_type": "code",
   "execution_count": 48,
   "id": "79fd27e5",
   "metadata": {},
   "outputs": [
    {
     "name": "stderr",
     "output_type": "stream",
     "text": [
      "C:\\Users\\user\\Downloads\\jupyter\\lib\\site-packages\\seaborn\\_decorators.py:36: FutureWarning: Pass the following variable as a keyword arg: x. From version 0.12, the only valid positional argument will be `data`, and passing other arguments without an explicit keyword will result in an error or misinterpretation.\n",
      "  warnings.warn(\n"
     ]
    },
    {
     "data": {
      "text/plain": [
       "<AxesSubplot:xlabel='TIF'>"
      ]
     },
     "execution_count": 48,
     "metadata": {},
     "output_type": "execute_result"
    },
    {
     "data": {
      "image/png": "[encoded data removed]",
      "text/plain": [
       "<Figure size 432x288 with 1 Axes>"
      ]
     },
     "metadata": {
      "needs_background": "light"
     },
     "output_type": "display_data"
    }
   ],
   "source": [
    "sns.boxplot(df['TIF'])"
   ]
  },
  {
   "cell_type": "code",
   "execution_count": 49,
   "id": "5d9a4161",
   "metadata": {},
   "outputs": [],
   "source": [
    "# customers who are with the company for long time --> less likely to be fraud "
   ]
  },
  {
   "cell_type": "code",
   "execution_count": 50,
   "id": "636f60b2",
   "metadata": {},
   "outputs": [
    {
     "data": {
      "text/plain": [
       "z_SUV          2883\n",
       "Minivan        2694\n",
       "Pickup         1772\n",
       "Sports Car     1179\n",
       "Van             921\n",
       "Panel Truck     853\n",
       "Name: CAR_TYPE, dtype: int64"
      ]
     },
     "execution_count": 50,
     "metadata": {},
     "output_type": "execute_result"
    }
   ],
   "source": [
    "df['CAR_TYPE'].value_counts()"
   ]
  },
  {
   "cell_type": "code",
   "execution_count": 51,
   "id": "5eff1566",
   "metadata": {},
   "outputs": [
    {
     "name": "stderr",
     "output_type": "stream",
     "text": [
      "C:\\Users\\user\\Downloads\\jupyter\\lib\\site-packages\\seaborn\\_decorators.py:36: FutureWarning: Pass the following variable as a keyword arg: x. From version 0.12, the only valid positional argument will be `data`, and passing other arguments without an explicit keyword will result in an error or misinterpretation.\n",
      "  warnings.warn(\n"
     ]
    },
    {
     "data": {
      "text/plain": [
       "<AxesSubplot:xlabel='CAR_TYPE', ylabel='count'>"
      ]
     },
     "execution_count": 51,
     "metadata": {},
     "output_type": "execute_result"
    },
    {
     "data": {
      "image/png": "[encoded data removed]",
      "text/plain": [
       "<Figure size 432x288 with 1 Axes>"
      ]
     },
     "metadata": {
      "needs_background": "light"
     },
     "output_type": "display_data"
    }
   ],
   "source": [
    "sns.countplot(df['CAR_TYPE'])"
   ]
  },
  {
   "cell_type": "code",
   "execution_count": 52,
   "id": "ec0ef7f9",
   "metadata": {},
   "outputs": [
    {
     "data": {
      "text/plain": [
       "no     7326\n",
       "yes    2976\n",
       "Name: RED_CAR, dtype: int64"
      ]
     },
     "execution_count": 52,
     "metadata": {},
     "output_type": "execute_result"
    }
   ],
   "source": [
    "df['RED_CAR'].value_counts()"
   ]
  },
  {
   "cell_type": "code",
   "execution_count": 53,
   "id": "b0331243",
   "metadata": {},
   "outputs": [],
   "source": [
    "# this feature gives : if the car is red or not\n",
    "# generally they say : red cars are sprts cars and are risky "
   ]
  },
  {
   "cell_type": "code",
   "execution_count": 54,
   "id": "5c767ce5",
   "metadata": {},
   "outputs": [
    {
     "data": {
      "text/plain": [
       "$0         6292\n",
       "$4,188        4\n",
       "$1,105        4\n",
       "$4,263        4\n",
       "$1,310        4\n",
       "           ... \n",
       "$8,331        1\n",
       "$4,865        1\n",
       "$15,686       1\n",
       "$3,090        1\n",
       "$7,811        1\n",
       "Name: OLDCLAIM, Length: 3545, dtype: int64"
      ]
     },
     "execution_count": 54,
     "metadata": {},
     "output_type": "execute_result"
    }
   ],
   "source": [
    "df['OLDCLAIM'].value_counts()"
   ]
  },
  {
   "cell_type": "code",
   "execution_count": 55,
   "id": "ce38b39e",
   "metadata": {},
   "outputs": [],
   "source": [
    "# How much insurance money they took in the past 5 years\n",
    "# dtype : object similar to income"
   ]
  },
  {
   "cell_type": "code",
   "execution_count": 56,
   "id": "452387d6",
   "metadata": {},
   "outputs": [
    {
     "data": {
      "text/plain": [
       "0    6292\n",
       "2    1492\n",
       "1    1279\n",
       "3     992\n",
       "4     225\n",
       "5      22\n",
       "Name: CLM_FREQ, dtype: int64"
      ]
     },
     "execution_count": 56,
     "metadata": {},
     "output_type": "execute_result"
    }
   ],
   "source": [
    "df['CLM_FREQ'].value_counts()"
   ]
  },
  {
   "cell_type": "code",
   "execution_count": 57,
   "id": "59df5368",
   "metadata": {},
   "outputs": [],
   "source": [
    "# no.of times they took the claim"
   ]
  },
  {
   "cell_type": "code",
   "execution_count": 58,
   "id": "e6579418",
   "metadata": {},
   "outputs": [
    {
     "data": {
      "text/plain": [
       "No     9041\n",
       "Yes    1261\n",
       "Name: REVOKED, dtype: int64"
      ]
     },
     "execution_count": 58,
     "metadata": {},
     "output_type": "execute_result"
    }
   ],
   "source": [
    "df['REVOKED'].value_counts()"
   ]
  },
  {
   "cell_type": "code",
   "execution_count": 59,
   "id": "2f11b8c3",
   "metadata": {},
   "outputs": [],
   "source": [
    "# In past 7 yrs , was his license revoked \n",
    "# if yes --> he is a more risky driver"
   ]
  },
  {
   "cell_type": "code",
   "execution_count": 60,
   "id": "4d73854e",
   "metadata": {},
   "outputs": [
    {
     "data": {
      "text/plain": [
       "0        3\n",
       "1        0\n",
       "2        2\n",
       "3        3\n",
       "4        0\n",
       "        ..\n",
       "10297    2\n",
       "10298    0\n",
       "10299    0\n",
       "10300    0\n",
       "10301    0\n",
       "Name: MVR_PTS, Length: 10302, dtype: int64"
      ]
     },
     "execution_count": 60,
     "metadata": {},
     "output_type": "execute_result"
    }
   ],
   "source": [
    "df['MVR_PTS']"
   ]
  },
  {
   "cell_type": "code",
   "execution_count": 61,
   "id": "4951eed0",
   "metadata": {},
   "outputs": [],
   "source": [
    "# Motor Vehicle Record Points"
   ]
  },
  {
   "cell_type": "code",
   "execution_count": 62,
   "id": "7858cab9",
   "metadata": {},
   "outputs": [],
   "source": [
    "# If u get lots of traffic tickets\n",
    "    # a ticket issued for driving above the speed limit."
   ]
  },
  {
   "cell_type": "code",
   "execution_count": 63,
   "id": "a81c1191",
   "metadata": {},
   "outputs": [
    {
     "name": "stderr",
     "output_type": "stream",
     "text": [
      "C:\\Users\\user\\Downloads\\jupyter\\lib\\site-packages\\seaborn\\distributions.py:2557: FutureWarning: `distplot` is a deprecated function and will be removed in a future version. Please adapt your code to use either `displot` (a figure-level function with similar flexibility) or `histplot` (an axes-level function for histograms).\n",
      "  warnings.warn(msg, FutureWarning)\n"
     ]
    },
    {
     "data": {
      "text/plain": [
       "<AxesSubplot:xlabel='MVR_PTS', ylabel='Density'>"
      ]
     },
     "execution_count": 63,
     "metadata": {},
     "output_type": "execute_result"
    },
    {
     "data": {
      "image/png": "[encoded data removed]",
      "text/plain": [
       "<Figure size 432x288 with 1 Axes>"
      ]
     },
     "metadata": {
      "needs_background": "light"
     },
     "output_type": "display_data"
    }
   ],
   "source": [
    "sns.distplot(df['MVR_PTS'])"
   ]
  },
  {
   "cell_type": "code",
   "execution_count": 64,
   "id": "b81f3e2a",
   "metadata": {},
   "outputs": [
    {
     "name": "stderr",
     "output_type": "stream",
     "text": [
      "C:\\Users\\user\\Downloads\\jupyter\\lib\\site-packages\\seaborn\\_decorators.py:36: FutureWarning: Pass the following variable as a keyword arg: x. From version 0.12, the only valid positional argument will be `data`, and passing other arguments without an explicit keyword will result in an error or misinterpretation.\n",
      "  warnings.warn(\n"
     ]
    },
    {
     "data": {
      "text/plain": [
       "<AxesSubplot:xlabel='MVR_PTS', ylabel='count'>"
      ]
     },
     "execution_count": 64,
     "metadata": {},
     "output_type": "execute_result"
    },
    {
     "data": {
      "image/png": "[encoded data removed]",
      "text/plain": [
       "<Figure size 432x288 with 1 Axes>"
      ]
     },
     "metadata": {
      "needs_background": "light"
     },
     "output_type": "display_data"
    }
   ],
   "source": [
    "sns.countplot(df['MVR_PTS'])"
   ]
  },
  {
   "cell_type": "code",
   "execution_count": 65,
   "id": "5e48d237",
   "metadata": {},
   "outputs": [
    {
     "name": "stderr",
     "output_type": "stream",
     "text": [
      "C:\\Users\\user\\Downloads\\jupyter\\lib\\site-packages\\seaborn\\_decorators.py:36: FutureWarning: Pass the following variable as a keyword arg: x. From version 0.12, the only valid positional argument will be `data`, and passing other arguments without an explicit keyword will result in an error or misinterpretation.\n",
      "  warnings.warn(\n"
     ]
    },
    {
     "data": {
      "text/plain": [
       "<AxesSubplot:xlabel='MVR_PTS'>"
      ]
     },
     "execution_count": 65,
     "metadata": {},
     "output_type": "execute_result"
    },
    {
     "data": {
      "image/png": "[encoded data removed]",
      "text/plain": [
       "<Figure size 432x288 with 1 Axes>"
      ]
     },
     "metadata": {
      "needs_background": "light"
     },
     "output_type": "display_data"
    }
   ],
   "source": [
    "sns.boxplot(df['MVR_PTS'])"
   ]
  },
  {
   "cell_type": "code",
   "execution_count": 66,
   "id": "8280e639",
   "metadata": {},
   "outputs": [
    {
     "data": {
      "text/plain": [
       "$0        7556\n",
       "$3,667       4\n",
       "$4,363       4\n",
       "$3,350       4\n",
       "$2,327       4\n",
       "          ... \n",
       "$5,662       1\n",
       "$3,955       1\n",
       "$6,506       1\n",
       "$3,331       1\n",
       "$5,822       1\n",
       "Name: CLM_AMT, Length: 2346, dtype: int64"
      ]
     },
     "execution_count": 66,
     "metadata": {},
     "output_type": "execute_result"
    }
   ],
   "source": [
    "df['CLM_AMT'].value_counts()"
   ]
  },
  {
   "cell_type": "code",
   "execution_count": 67,
   "id": "2ae5f78a",
   "metadata": {},
   "outputs": [
    {
     "data": {
      "text/plain": [
       "2346"
      ]
     },
     "execution_count": 67,
     "metadata": {},
     "output_type": "execute_result"
    }
   ],
   "source": [
    "df['CLM_AMT'].nunique()"
   ]
  },
  {
   "cell_type": "code",
   "execution_count": 68,
   "id": "33cad48d",
   "metadata": {},
   "outputs": [],
   "source": [
    "# How much amount they havve claimed until now\n",
    "# dtype : object similar to income"
   ]
  },
  {
   "cell_type": "code",
   "execution_count": 69,
   "id": "f4eabcbe",
   "metadata": {},
   "outputs": [
    {
     "data": {
      "text/plain": [
       "0        18.0\n",
       "1         1.0\n",
       "2        10.0\n",
       "3        10.0\n",
       "4         6.0\n",
       "         ... \n",
       "10297    17.0\n",
       "10298     1.0\n",
       "10299     1.0\n",
       "10300    11.0\n",
       "10301     9.0\n",
       "Name: CAR_AGE, Length: 10302, dtype: float64"
      ]
     },
     "execution_count": 69,
     "metadata": {},
     "output_type": "execute_result"
    }
   ],
   "source": [
    "df['CAR_AGE']"
   ]
  },
  {
   "cell_type": "code",
   "execution_count": 70,
   "id": "2953d32f",
   "metadata": {},
   "outputs": [
    {
     "name": "stderr",
     "output_type": "stream",
     "text": [
      "C:\\Users\\user\\Downloads\\jupyter\\lib\\site-packages\\seaborn\\distributions.py:2557: FutureWarning: `distplot` is a deprecated function and will be removed in a future version. Please adapt your code to use either `displot` (a figure-level function with similar flexibility) or `histplot` (an axes-level function for histograms).\n",
      "  warnings.warn(msg, FutureWarning)\n"
     ]
    },
    {
     "data": {
      "text/plain": [
       "<AxesSubplot:xlabel='CAR_AGE', ylabel='Density'>"
      ]
     },
     "execution_count": 70,
     "metadata": {},
     "output_type": "execute_result"
    },
    {
     "data": {
      "image/png": "[encoded data removed]",
      "text/plain": [
       "<Figure size 432x288 with 1 Axes>"
      ]
     },
     "metadata": {
      "needs_background": "light"
     },
     "output_type": "display_data"
    }
   ],
   "source": [
    "sns.distplot(df['CAR_AGE'])"
   ]
  },
  {
   "cell_type": "code",
   "execution_count": 71,
   "id": "14e3a6ad",
   "metadata": {},
   "outputs": [
    {
     "name": "stderr",
     "output_type": "stream",
     "text": [
      "C:\\Users\\user\\Downloads\\jupyter\\lib\\site-packages\\seaborn\\_decorators.py:36: FutureWarning: Pass the following variable as a keyword arg: x. From version 0.12, the only valid positional argument will be `data`, and passing other arguments without an explicit keyword will result in an error or misinterpretation.\n",
      "  warnings.warn(\n"
     ]
    },
    {
     "data": {
      "text/plain": [
       "<AxesSubplot:xlabel='CAR_AGE'>"
      ]
     },
     "execution_count": 71,
     "metadata": {},
     "output_type": "execute_result"
    },
    {
     "data": {
      "image/png": "[encoded data removed]",
      "text/plain": [
       "<Figure size 432x288 with 1 Axes>"
      ]
     },
     "metadata": {
      "needs_background": "light"
     },
     "output_type": "display_data"
    }
   ],
   "source": [
    "sns.boxplot(df['CAR_AGE'])"
   ]
  },
  {
   "cell_type": "code",
   "execution_count": 72,
   "id": "78bc6c7d",
   "metadata": {},
   "outputs": [
    {
     "data": {
      "text/plain": [
       "Highly Urban/ Urban      8230\n",
       "z_Highly Rural/ Rural    2072\n",
       "Name: URBANICITY, dtype: int64"
      ]
     },
     "execution_count": 72,
     "metadata": {},
     "output_type": "execute_result"
    }
   ],
   "source": [
    "df['URBANICITY'].value_counts()"
   ]
  },
  {
   "cell_type": "code",
   "execution_count": 73,
   "id": "cb007e9d",
   "metadata": {},
   "outputs": [
    {
     "name": "stderr",
     "output_type": "stream",
     "text": [
      "C:\\Users\\user\\Downloads\\jupyter\\lib\\site-packages\\seaborn\\_decorators.py:36: FutureWarning: Pass the following variable as a keyword arg: x. From version 0.12, the only valid positional argument will be `data`, and passing other arguments without an explicit keyword will result in an error or misinterpretation.\n",
      "  warnings.warn(\n"
     ]
    },
    {
     "data": {
      "text/plain": [
       "<AxesSubplot:xlabel='URBANICITY', ylabel='count'>"
      ]
     },
     "execution_count": 73,
     "metadata": {},
     "output_type": "execute_result"
    },
    {
     "data": {
      "image/png": "[encoded data removed]",
      "text/plain": [
       "<Figure size 432x288 with 1 Axes>"
      ]
     },
     "metadata": {
      "needs_background": "light"
     },
     "output_type": "display_data"
    }
   ],
   "source": [
    "sns.countplot(df['URBANICITY'])"
   ]
  },
  {
   "cell_type": "markdown",
   "id": "6d33ae7f",
   "metadata": {},
   "source": [
    "# Categorical Variables"
   ]
  },
  {
   "cell_type": "code",
   "execution_count": 74,
   "id": "2896fb9c",
   "metadata": {},
   "outputs": [],
   "source": [
    "# Converting the columns of object type to float"
   ]
  },
  {
   "cell_type": "code",
   "execution_count": 75,
   "id": "e37e5ca5",
   "metadata": {},
   "outputs": [],
   "source": [
    "df[['INCOME' , 'HOME_VAL' , 'BLUEBOOK' , 'OLDCLAIM', 'CLM_AMT']]=df[['INCOME' , 'HOME_VAL' , 'BLUEBOOK' , 'OLDCLAIM', 'CLM_AMT']].replace('[\\$,]', '', regex=True).astype(float)"
   ]
  },
  {
   "cell_type": "code",
   "execution_count": 76,
   "id": "21671995",
   "metadata": {},
   "outputs": [
    {
     "name": "stdout",
     "output_type": "stream",
     "text": [
      "<class 'pandas.core.frame.DataFrame'>\n",
      "RangeIndex: 10302 entries, 0 to 10301\n",
      "Data columns (total 27 columns):\n",
      " #   Column      Non-Null Count  Dtype  \n",
      "---  ------      --------------  -----  \n",
      " 0   ID          10302 non-null  int64  \n",
      " 1   KIDSDRIV    10302 non-null  int64  \n",
      " 2   BIRTH       10302 non-null  object \n",
      " 3   AGE         10295 non-null  float64\n",
      " 4   HOMEKIDS    10302 non-null  int64  \n",
      " 5   YOJ         9754 non-null   float64\n",
      " 6   INCOME      9732 non-null   float64\n",
      " 7   PARENT1     10302 non-null  object \n",
      " 8   HOME_VAL    9727 non-null   float64\n",
      " 9   MSTATUS     10302 non-null  object \n",
      " 10  GENDER      10302 non-null  object \n",
      " 11  EDUCATION   10302 non-null  object \n",
      " 12  OCCUPATION  9637 non-null   object \n",
      " 13  TRAVTIME    10302 non-null  int64  \n",
      " 14  CAR_USE     10302 non-null  object \n",
      " 15  BLUEBOOK    10302 non-null  float64\n",
      " 16  TIF         10302 non-null  int64  \n",
      " 17  CAR_TYPE    10302 non-null  object \n",
      " 18  RED_CAR     10302 non-null  object \n",
      " 19  OLDCLAIM    10302 non-null  float64\n",
      " 20  CLM_FREQ    10302 non-null  int64  \n",
      " 21  REVOKED     10302 non-null  object \n",
      " 22  MVR_PTS     10302 non-null  int64  \n",
      " 23  CLM_AMT     10302 non-null  float64\n",
      " 24  CAR_AGE     9663 non-null   float64\n",
      " 25  CLAIM_FLAG  10302 non-null  int64  \n",
      " 26  URBANICITY  10302 non-null  object \n",
      "dtypes: float64(8), int64(8), object(11)\n",
      "memory usage: 2.1+ MB\n"
     ]
    }
   ],
   "source": [
    "df.info()"
   ]
  },
  {
   "cell_type": "code",
   "execution_count": 77,
   "id": "528344ff",
   "metadata": {},
   "outputs": [],
   "source": [
    "df.drop('BIRTH',axis=1,inplace=True)\n",
    "# Dropping birth , since we have age"
   ]
  },
  {
   "cell_type": "code",
   "execution_count": 78,
   "id": "8afa6346",
   "metadata": {},
   "outputs": [],
   "source": [
    "# CONVERTING CATEGORICAL COLUMNS TO NUMERICAL "
   ]
  },
  {
   "cell_type": "code",
   "execution_count": 79,
   "id": "0cd72937",
   "metadata": {},
   "outputs": [],
   "source": [
    "df1=pd.get_dummies(df,columns=['PARENT1','MSTATUS','GENDER','RED_CAR','REVOKED','URBANICITY','CAR_USE'],drop_first=True)"
   ]
  },
  {
   "cell_type": "code",
   "execution_count": 80,
   "id": "aa5dfd03",
   "metadata": {},
   "outputs": [
    {
     "data": {
      "text/html": [
       "<div>\n",
       "<style scoped>\n",
       "    .dataframe tbody tr th:only-of-type {\n",
       "        vertical-align: middle;\n",
       "    }\n",
       "\n",
       "    .dataframe tbody tr th {\n",
       "        vertical-align: top;\n",
       "    }\n",
       "\n",
       "    .dataframe thead th {\n",
       "        text-align: right;\n",
       "    }\n",
       "</style>\n",
       "<table border=\"1\" class=\"dataframe\">\n",
       "  <thead>\n",
       "    <tr style=\"text-align: right;\">\n",
       "      <th></th>\n",
       "      <th>ID</th>\n",
       "      <th>KIDSDRIV</th>\n",
       "      <th>AGE</th>\n",
       "      <th>HOMEKIDS</th>\n",
       "      <th>YOJ</th>\n",
       "      <th>INCOME</th>\n",
       "      <th>HOME_VAL</th>\n",
       "      <th>EDUCATION</th>\n",
       "      <th>OCCUPATION</th>\n",
       "      <th>TRAVTIME</th>\n",
       "      <th>...</th>\n",
       "      <th>CLM_AMT</th>\n",
       "      <th>CAR_AGE</th>\n",
       "      <th>CLAIM_FLAG</th>\n",
       "      <th>PARENT1_Yes</th>\n",
       "      <th>MSTATUS_z_No</th>\n",
       "      <th>GENDER_z_F</th>\n",
       "      <th>RED_CAR_yes</th>\n",
       "      <th>REVOKED_Yes</th>\n",
       "      <th>URBANICITY_z_Highly Rural/ Rural</th>\n",
       "      <th>CAR_USE_Private</th>\n",
       "    </tr>\n",
       "  </thead>\n",
       "  <tbody>\n",
       "    <tr>\n",
       "      <th>0</th>\n",
       "      <td>63581743</td>\n",
       "      <td>0</td>\n",
       "      <td>60.0</td>\n",
       "      <td>0</td>\n",
       "      <td>11.0</td>\n",
       "      <td>67349.0</td>\n",
       "      <td>0.0</td>\n",
       "      <td>PhD</td>\n",
       "      <td>Professional</td>\n",
       "      <td>14</td>\n",
       "      <td>...</td>\n",
       "      <td>0.0</td>\n",
       "      <td>18.0</td>\n",
       "      <td>0</td>\n",
       "      <td>0</td>\n",
       "      <td>1</td>\n",
       "      <td>0</td>\n",
       "      <td>1</td>\n",
       "      <td>0</td>\n",
       "      <td>0</td>\n",
       "      <td>1</td>\n",
       "    </tr>\n",
       "    <tr>\n",
       "      <th>1</th>\n",
       "      <td>132761049</td>\n",
       "      <td>0</td>\n",
       "      <td>43.0</td>\n",
       "      <td>0</td>\n",
       "      <td>11.0</td>\n",
       "      <td>91449.0</td>\n",
       "      <td>257252.0</td>\n",
       "      <td>z_High School</td>\n",
       "      <td>z_Blue Collar</td>\n",
       "      <td>22</td>\n",
       "      <td>...</td>\n",
       "      <td>0.0</td>\n",
       "      <td>1.0</td>\n",
       "      <td>0</td>\n",
       "      <td>0</td>\n",
       "      <td>1</td>\n",
       "      <td>0</td>\n",
       "      <td>1</td>\n",
       "      <td>0</td>\n",
       "      <td>0</td>\n",
       "      <td>0</td>\n",
       "    </tr>\n",
       "    <tr>\n",
       "      <th>2</th>\n",
       "      <td>921317019</td>\n",
       "      <td>0</td>\n",
       "      <td>48.0</td>\n",
       "      <td>0</td>\n",
       "      <td>11.0</td>\n",
       "      <td>52881.0</td>\n",
       "      <td>0.0</td>\n",
       "      <td>Bachelors</td>\n",
       "      <td>Manager</td>\n",
       "      <td>26</td>\n",
       "      <td>...</td>\n",
       "      <td>0.0</td>\n",
       "      <td>10.0</td>\n",
       "      <td>0</td>\n",
       "      <td>0</td>\n",
       "      <td>1</td>\n",
       "      <td>0</td>\n",
       "      <td>1</td>\n",
       "      <td>0</td>\n",
       "      <td>0</td>\n",
       "      <td>1</td>\n",
       "    </tr>\n",
       "    <tr>\n",
       "      <th>3</th>\n",
       "      <td>727598473</td>\n",
       "      <td>0</td>\n",
       "      <td>35.0</td>\n",
       "      <td>1</td>\n",
       "      <td>10.0</td>\n",
       "      <td>16039.0</td>\n",
       "      <td>124191.0</td>\n",
       "      <td>z_High School</td>\n",
       "      <td>Clerical</td>\n",
       "      <td>5</td>\n",
       "      <td>...</td>\n",
       "      <td>0.0</td>\n",
       "      <td>10.0</td>\n",
       "      <td>0</td>\n",
       "      <td>0</td>\n",
       "      <td>0</td>\n",
       "      <td>1</td>\n",
       "      <td>0</td>\n",
       "      <td>0</td>\n",
       "      <td>0</td>\n",
       "      <td>1</td>\n",
       "    </tr>\n",
       "    <tr>\n",
       "      <th>4</th>\n",
       "      <td>450221861</td>\n",
       "      <td>0</td>\n",
       "      <td>51.0</td>\n",
       "      <td>0</td>\n",
       "      <td>14.0</td>\n",
       "      <td>NaN</td>\n",
       "      <td>306251.0</td>\n",
       "      <td>&lt;High School</td>\n",
       "      <td>z_Blue Collar</td>\n",
       "      <td>32</td>\n",
       "      <td>...</td>\n",
       "      <td>0.0</td>\n",
       "      <td>6.0</td>\n",
       "      <td>0</td>\n",
       "      <td>0</td>\n",
       "      <td>0</td>\n",
       "      <td>0</td>\n",
       "      <td>1</td>\n",
       "      <td>0</td>\n",
       "      <td>0</td>\n",
       "      <td>1</td>\n",
       "    </tr>\n",
       "  </tbody>\n",
       "</table>\n",
       "<p>5 rows × 26 columns</p>\n",
       "</div>"
      ],
      "text/plain": [
       "          ID  KIDSDRIV   AGE  HOMEKIDS   YOJ   INCOME  HOME_VAL  \\\n",
       "0   63581743         0  60.0         0  11.0  67349.0       0.0   \n",
       "1  132761049         0  43.0         0  11.0  91449.0  257252.0   \n",
       "2  921317019         0  48.0         0  11.0  52881.0       0.0   \n",
       "3  727598473         0  35.0         1  10.0  16039.0  124191.0   \n",
       "4  450221861         0  51.0         0  14.0      NaN  306251.0   \n",
       "\n",
       "       EDUCATION     OCCUPATION  TRAVTIME  ...  CLM_AMT  CAR_AGE CLAIM_FLAG  \\\n",
       "0            PhD   Professional        14  ...      0.0     18.0          0   \n",
       "1  z_High School  z_Blue Collar        22  ...      0.0      1.0          0   \n",
       "2      Bachelors        Manager        26  ...      0.0     10.0          0   \n",
       "3  z_High School       Clerical         5  ...      0.0     10.0          0   \n",
       "4   <High School  z_Blue Collar        32  ...      0.0      6.0          0   \n",
       "\n",
       "   PARENT1_Yes  MSTATUS_z_No  GENDER_z_F  RED_CAR_yes  REVOKED_Yes  \\\n",
       "0            0             1           0            1            0   \n",
       "1            0             1           0            1            0   \n",
       "2            0             1           0            1            0   \n",
       "3            0             0           1            0            0   \n",
       "4            0             0           0            1            0   \n",
       "\n",
       "   URBANICITY_z_Highly Rural/ Rural  CAR_USE_Private  \n",
       "0                                 0                1  \n",
       "1                                 0                0  \n",
       "2                                 0                1  \n",
       "3                                 0                1  \n",
       "4                                 0                1  \n",
       "\n",
       "[5 rows x 26 columns]"
      ]
     },
     "execution_count": 80,
     "metadata": {},
     "output_type": "execute_result"
    }
   ],
   "source": [
    "df1.head()"
   ]
  },
  {
   "cell_type": "code",
   "execution_count": 81,
   "id": "37e5c3b6",
   "metadata": {},
   "outputs": [
    {
     "name": "stdout",
     "output_type": "stream",
     "text": [
      "<class 'pandas.core.frame.DataFrame'>\n",
      "RangeIndex: 10302 entries, 0 to 10301\n",
      "Data columns (total 26 columns):\n",
      " #   Column                            Non-Null Count  Dtype  \n",
      "---  ------                            --------------  -----  \n",
      " 0   ID                                10302 non-null  int64  \n",
      " 1   KIDSDRIV                          10302 non-null  int64  \n",
      " 2   AGE                               10295 non-null  float64\n",
      " 3   HOMEKIDS                          10302 non-null  int64  \n",
      " 4   YOJ                               9754 non-null   float64\n",
      " 5   INCOME                            9732 non-null   float64\n",
      " 6   HOME_VAL                          9727 non-null   float64\n",
      " 7   EDUCATION                         10302 non-null  object \n",
      " 8   OCCUPATION                        9637 non-null   object \n",
      " 9   TRAVTIME                          10302 non-null  int64  \n",
      " 10  BLUEBOOK                          10302 non-null  float64\n",
      " 11  TIF                               10302 non-null  int64  \n",
      " 12  CAR_TYPE                          10302 non-null  object \n",
      " 13  OLDCLAIM                          10302 non-null  float64\n",
      " 14  CLM_FREQ                          10302 non-null  int64  \n",
      " 15  MVR_PTS                           10302 non-null  int64  \n",
      " 16  CLM_AMT                           10302 non-null  float64\n",
      " 17  CAR_AGE                           9663 non-null   float64\n",
      " 18  CLAIM_FLAG                        10302 non-null  int64  \n",
      " 19  PARENT1_Yes                       10302 non-null  uint8  \n",
      " 20  MSTATUS_z_No                      10302 non-null  uint8  \n",
      " 21  GENDER_z_F                        10302 non-null  uint8  \n",
      " 22  RED_CAR_yes                       10302 non-null  uint8  \n",
      " 23  REVOKED_Yes                       10302 non-null  uint8  \n",
      " 24  URBANICITY_z_Highly Rural/ Rural  10302 non-null  uint8  \n",
      " 25  CAR_USE_Private                   10302 non-null  uint8  \n",
      "dtypes: float64(8), int64(8), object(3), uint8(7)\n",
      "memory usage: 1.6+ MB\n"
     ]
    }
   ],
   "source": [
    "df1.info()"
   ]
  },
  {
   "cell_type": "code",
   "execution_count": 82,
   "id": "20e2aa48",
   "metadata": {},
   "outputs": [],
   "source": [
    "# Converting education column to int "
   ]
  },
  {
   "cell_type": "code",
   "execution_count": 83,
   "id": "f57290a7",
   "metadata": {},
   "outputs": [
    {
     "data": {
      "text/plain": [
       "z_High School    2952\n",
       "Bachelors        2823\n",
       "Masters          2078\n",
       "<High School     1515\n",
       "PhD               934\n",
       "Name: EDUCATION, dtype: int64"
      ]
     },
     "execution_count": 83,
     "metadata": {},
     "output_type": "execute_result"
    }
   ],
   "source": [
    "df1['EDUCATION'].value_counts()"
   ]
  },
  {
   "cell_type": "code",
   "execution_count": 84,
   "id": "65a5a745",
   "metadata": {},
   "outputs": [],
   "source": [
    "education_dict={'<High School':1,'z_High School':2,'Bachelors':3,'Masters':4,'PhD':5}"
   ]
  },
  {
   "cell_type": "code",
   "execution_count": 85,
   "id": "3436c4e7",
   "metadata": {},
   "outputs": [],
   "source": [
    "df1['EDUCATION']=df1['EDUCATION'].map(education_dict)"
   ]
  },
  {
   "cell_type": "code",
   "execution_count": 86,
   "id": "e03bc71d",
   "metadata": {},
   "outputs": [
    {
     "data": {
      "text/plain": [
       "0        5\n",
       "1        2\n",
       "2        3\n",
       "3        2\n",
       "4        1\n",
       "        ..\n",
       "10297    5\n",
       "10298    4\n",
       "10299    1\n",
       "10300    3\n",
       "10301    2\n",
       "Name: EDUCATION, Length: 10302, dtype: int64"
      ]
     },
     "execution_count": 86,
     "metadata": {},
     "output_type": "execute_result"
    }
   ],
   "source": [
    "df1['EDUCATION']"
   ]
  },
  {
   "cell_type": "code",
   "execution_count": 87,
   "id": "551273df",
   "metadata": {},
   "outputs": [
    {
     "name": "stdout",
     "output_type": "stream",
     "text": [
      "<class 'pandas.core.frame.DataFrame'>\n",
      "RangeIndex: 10302 entries, 0 to 10301\n",
      "Data columns (total 26 columns):\n",
      " #   Column                            Non-Null Count  Dtype  \n",
      "---  ------                            --------------  -----  \n",
      " 0   ID                                10302 non-null  int64  \n",
      " 1   KIDSDRIV                          10302 non-null  int64  \n",
      " 2   AGE                               10295 non-null  float64\n",
      " 3   HOMEKIDS                          10302 non-null  int64  \n",
      " 4   YOJ                               9754 non-null   float64\n",
      " 5   INCOME                            9732 non-null   float64\n",
      " 6   HOME_VAL                          9727 non-null   float64\n",
      " 7   EDUCATION                         10302 non-null  int64  \n",
      " 8   OCCUPATION                        9637 non-null   object \n",
      " 9   TRAVTIME                          10302 non-null  int64  \n",
      " 10  BLUEBOOK                          10302 non-null  float64\n",
      " 11  TIF                               10302 non-null  int64  \n",
      " 12  CAR_TYPE                          10302 non-null  object \n",
      " 13  OLDCLAIM                          10302 non-null  float64\n",
      " 14  CLM_FREQ                          10302 non-null  int64  \n",
      " 15  MVR_PTS                           10302 non-null  int64  \n",
      " 16  CLM_AMT                           10302 non-null  float64\n",
      " 17  CAR_AGE                           9663 non-null   float64\n",
      " 18  CLAIM_FLAG                        10302 non-null  int64  \n",
      " 19  PARENT1_Yes                       10302 non-null  uint8  \n",
      " 20  MSTATUS_z_No                      10302 non-null  uint8  \n",
      " 21  GENDER_z_F                        10302 non-null  uint8  \n",
      " 22  RED_CAR_yes                       10302 non-null  uint8  \n",
      " 23  REVOKED_Yes                       10302 non-null  uint8  \n",
      " 24  URBANICITY_z_Highly Rural/ Rural  10302 non-null  uint8  \n",
      " 25  CAR_USE_Private                   10302 non-null  uint8  \n",
      "dtypes: float64(8), int64(9), object(2), uint8(7)\n",
      "memory usage: 1.6+ MB\n"
     ]
    }
   ],
   "source": [
    "df1.info()"
   ]
  },
  {
   "cell_type": "code",
   "execution_count": 88,
   "id": "6150c916",
   "metadata": {},
   "outputs": [
    {
     "data": {
      "text/plain": [
       "z_SUV          2883\n",
       "Minivan        2694\n",
       "Pickup         1772\n",
       "Sports Car     1179\n",
       "Van             921\n",
       "Panel Truck     853\n",
       "Name: CAR_TYPE, dtype: int64"
      ]
     },
     "execution_count": 88,
     "metadata": {},
     "output_type": "execute_result"
    }
   ],
   "source": [
    "df['CAR_TYPE'].value_counts()"
   ]
  },
  {
   "cell_type": "code",
   "execution_count": 89,
   "id": "49d30309",
   "metadata": {},
   "outputs": [
    {
     "data": {
      "text/plain": [
       "z_Blue Collar    2288\n",
       "Clerical         1590\n",
       "Professional     1408\n",
       "Manager          1257\n",
       "Lawyer           1031\n",
       "Student           899\n",
       "Home Maker        843\n",
       "Doctor            321\n",
       "Name: OCCUPATION, dtype: int64"
      ]
     },
     "execution_count": 89,
     "metadata": {},
     "output_type": "execute_result"
    }
   ],
   "source": [
    "df['OCCUPATION'].value_counts()"
   ]
  },
  {
   "cell_type": "code",
   "execution_count": 90,
   "id": "e89961b4",
   "metadata": {},
   "outputs": [],
   "source": [
    "# converting categorical variables to numerical which do not have any natural ordering "
   ]
  },
  {
   "cell_type": "code",
   "execution_count": 91,
   "id": "659bc64f",
   "metadata": {},
   "outputs": [],
   "source": [
    "from sklearn.preprocessing import LabelEncoder"
   ]
  },
  {
   "cell_type": "code",
   "execution_count": 92,
   "id": "c0cc7dfd",
   "metadata": {},
   "outputs": [],
   "source": [
    "le=LabelEncoder()"
   ]
  },
  {
   "cell_type": "code",
   "execution_count": 93,
   "id": "4f17d6fb",
   "metadata": {},
   "outputs": [],
   "source": [
    "df1['OCCUPATION']=le.fit_transform(df1['OCCUPATION'])"
   ]
  },
  {
   "cell_type": "code",
   "execution_count": 94,
   "id": "fa16b06b",
   "metadata": {},
   "outputs": [
    {
     "name": "stdout",
     "output_type": "stream",
     "text": [
      "<class 'pandas.core.frame.DataFrame'>\n",
      "RangeIndex: 10302 entries, 0 to 10301\n",
      "Data columns (total 26 columns):\n",
      " #   Column                            Non-Null Count  Dtype  \n",
      "---  ------                            --------------  -----  \n",
      " 0   ID                                10302 non-null  int64  \n",
      " 1   KIDSDRIV                          10302 non-null  int64  \n",
      " 2   AGE                               10295 non-null  float64\n",
      " 3   HOMEKIDS                          10302 non-null  int64  \n",
      " 4   YOJ                               9754 non-null   float64\n",
      " 5   INCOME                            9732 non-null   float64\n",
      " 6   HOME_VAL                          9727 non-null   float64\n",
      " 7   EDUCATION                         10302 non-null  int64  \n",
      " 8   OCCUPATION                        10302 non-null  int32  \n",
      " 9   TRAVTIME                          10302 non-null  int64  \n",
      " 10  BLUEBOOK                          10302 non-null  float64\n",
      " 11  TIF                               10302 non-null  int64  \n",
      " 12  CAR_TYPE                          10302 non-null  object \n",
      " 13  OLDCLAIM                          10302 non-null  float64\n",
      " 14  CLM_FREQ                          10302 non-null  int64  \n",
      " 15  MVR_PTS                           10302 non-null  int64  \n",
      " 16  CLM_AMT                           10302 non-null  float64\n",
      " 17  CAR_AGE                           9663 non-null   float64\n",
      " 18  CLAIM_FLAG                        10302 non-null  int64  \n",
      " 19  PARENT1_Yes                       10302 non-null  uint8  \n",
      " 20  MSTATUS_z_No                      10302 non-null  uint8  \n",
      " 21  GENDER_z_F                        10302 non-null  uint8  \n",
      " 22  RED_CAR_yes                       10302 non-null  uint8  \n",
      " 23  REVOKED_Yes                       10302 non-null  uint8  \n",
      " 24  URBANICITY_z_Highly Rural/ Rural  10302 non-null  uint8  \n",
      " 25  CAR_USE_Private                   10302 non-null  uint8  \n",
      "dtypes: float64(8), int32(1), int64(9), object(1), uint8(7)\n",
      "memory usage: 1.5+ MB\n"
     ]
    }
   ],
   "source": [
    "df1.info()"
   ]
  },
  {
   "cell_type": "code",
   "execution_count": 95,
   "id": "443ba195",
   "metadata": {},
   "outputs": [],
   "source": [
    "df1['CAR_TYPE']=le.fit_transform(df['CAR_TYPE'])"
   ]
  },
  {
   "cell_type": "code",
   "execution_count": 96,
   "id": "ea1b4e5d",
   "metadata": {},
   "outputs": [
    {
     "data": {
      "text/plain": [
       "0    5\n",
       "1    7\n",
       "2    4\n",
       "3    0\n",
       "4    7\n",
       "Name: OCCUPATION, dtype: int32"
      ]
     },
     "execution_count": 96,
     "metadata": {},
     "output_type": "execute_result"
    }
   ],
   "source": [
    "df1['OCCUPATION'].head()"
   ]
  },
  {
   "cell_type": "code",
   "execution_count": 97,
   "id": "b575454b",
   "metadata": {},
   "outputs": [
    {
     "data": {
      "text/plain": [
       "0    0\n",
       "1    0\n",
       "2    4\n",
       "3    5\n",
       "4    0\n",
       "Name: CAR_TYPE, dtype: int32"
      ]
     },
     "execution_count": 97,
     "metadata": {},
     "output_type": "execute_result"
    }
   ],
   "source": [
    "df1['CAR_TYPE'].head()"
   ]
  },
  {
   "cell_type": "code",
   "execution_count": 98,
   "id": "041eb332",
   "metadata": {},
   "outputs": [
    {
     "name": "stdout",
     "output_type": "stream",
     "text": [
      "<class 'pandas.core.frame.DataFrame'>\n",
      "RangeIndex: 10302 entries, 0 to 10301\n",
      "Data columns (total 26 columns):\n",
      " #   Column                            Non-Null Count  Dtype  \n",
      "---  ------                            --------------  -----  \n",
      " 0   ID                                10302 non-null  int64  \n",
      " 1   KIDSDRIV                          10302 non-null  int64  \n",
      " 2   AGE                               10295 non-null  float64\n",
      " 3   HOMEKIDS                          10302 non-null  int64  \n",
      " 4   YOJ                               9754 non-null   float64\n",
      " 5   INCOME                            9732 non-null   float64\n",
      " 6   HOME_VAL                          9727 non-null   float64\n",
      " 7   EDUCATION                         10302 non-null  int64  \n",
      " 8   OCCUPATION                        10302 non-null  int32  \n",
      " 9   TRAVTIME                          10302 non-null  int64  \n",
      " 10  BLUEBOOK                          10302 non-null  float64\n",
      " 11  TIF                               10302 non-null  int64  \n",
      " 12  CAR_TYPE                          10302 non-null  int32  \n",
      " 13  OLDCLAIM                          10302 non-null  float64\n",
      " 14  CLM_FREQ                          10302 non-null  int64  \n",
      " 15  MVR_PTS                           10302 non-null  int64  \n",
      " 16  CLM_AMT                           10302 non-null  float64\n",
      " 17  CAR_AGE                           9663 non-null   float64\n",
      " 18  CLAIM_FLAG                        10302 non-null  int64  \n",
      " 19  PARENT1_Yes                       10302 non-null  uint8  \n",
      " 20  MSTATUS_z_No                      10302 non-null  uint8  \n",
      " 21  GENDER_z_F                        10302 non-null  uint8  \n",
      " 22  RED_CAR_yes                       10302 non-null  uint8  \n",
      " 23  REVOKED_Yes                       10302 non-null  uint8  \n",
      " 24  URBANICITY_z_Highly Rural/ Rural  10302 non-null  uint8  \n",
      " 25  CAR_USE_Private                   10302 non-null  uint8  \n",
      "dtypes: float64(8), int32(2), int64(9), uint8(7)\n",
      "memory usage: 1.5 MB\n"
     ]
    }
   ],
   "source": [
    "df1.info()"
   ]
  },
  {
   "cell_type": "code",
   "execution_count": 99,
   "id": "a963f600",
   "metadata": {},
   "outputs": [
    {
     "data": {
      "text/html": [
       "<div>\n",
       "<style scoped>\n",
       "    .dataframe tbody tr th:only-of-type {\n",
       "        vertical-align: middle;\n",
       "    }\n",
       "\n",
       "    .dataframe tbody tr th {\n",
       "        vertical-align: top;\n",
       "    }\n",
       "\n",
       "    .dataframe thead th {\n",
       "        text-align: right;\n",
       "    }\n",
       "</style>\n",
       "<table border=\"1\" class=\"dataframe\">\n",
       "  <thead>\n",
       "    <tr style=\"text-align: right;\">\n",
       "      <th></th>\n",
       "      <th>ID</th>\n",
       "      <th>KIDSDRIV</th>\n",
       "      <th>AGE</th>\n",
       "      <th>HOMEKIDS</th>\n",
       "      <th>YOJ</th>\n",
       "      <th>INCOME</th>\n",
       "      <th>HOME_VAL</th>\n",
       "      <th>EDUCATION</th>\n",
       "      <th>OCCUPATION</th>\n",
       "      <th>TRAVTIME</th>\n",
       "      <th>...</th>\n",
       "      <th>CLM_AMT</th>\n",
       "      <th>CAR_AGE</th>\n",
       "      <th>CLAIM_FLAG</th>\n",
       "      <th>PARENT1_Yes</th>\n",
       "      <th>MSTATUS_z_No</th>\n",
       "      <th>GENDER_z_F</th>\n",
       "      <th>RED_CAR_yes</th>\n",
       "      <th>REVOKED_Yes</th>\n",
       "      <th>URBANICITY_z_Highly Rural/ Rural</th>\n",
       "      <th>CAR_USE_Private</th>\n",
       "    </tr>\n",
       "  </thead>\n",
       "  <tbody>\n",
       "    <tr>\n",
       "      <th>0</th>\n",
       "      <td>63581743</td>\n",
       "      <td>0</td>\n",
       "      <td>60.0</td>\n",
       "      <td>0</td>\n",
       "      <td>11.0</td>\n",
       "      <td>67349.0</td>\n",
       "      <td>0.0</td>\n",
       "      <td>5</td>\n",
       "      <td>5</td>\n",
       "      <td>14</td>\n",
       "      <td>...</td>\n",
       "      <td>0.0</td>\n",
       "      <td>18.0</td>\n",
       "      <td>0</td>\n",
       "      <td>0</td>\n",
       "      <td>1</td>\n",
       "      <td>0</td>\n",
       "      <td>1</td>\n",
       "      <td>0</td>\n",
       "      <td>0</td>\n",
       "      <td>1</td>\n",
       "    </tr>\n",
       "    <tr>\n",
       "      <th>1</th>\n",
       "      <td>132761049</td>\n",
       "      <td>0</td>\n",
       "      <td>43.0</td>\n",
       "      <td>0</td>\n",
       "      <td>11.0</td>\n",
       "      <td>91449.0</td>\n",
       "      <td>257252.0</td>\n",
       "      <td>2</td>\n",
       "      <td>7</td>\n",
       "      <td>22</td>\n",
       "      <td>...</td>\n",
       "      <td>0.0</td>\n",
       "      <td>1.0</td>\n",
       "      <td>0</td>\n",
       "      <td>0</td>\n",
       "      <td>1</td>\n",
       "      <td>0</td>\n",
       "      <td>1</td>\n",
       "      <td>0</td>\n",
       "      <td>0</td>\n",
       "      <td>0</td>\n",
       "    </tr>\n",
       "    <tr>\n",
       "      <th>2</th>\n",
       "      <td>921317019</td>\n",
       "      <td>0</td>\n",
       "      <td>48.0</td>\n",
       "      <td>0</td>\n",
       "      <td>11.0</td>\n",
       "      <td>52881.0</td>\n",
       "      <td>0.0</td>\n",
       "      <td>3</td>\n",
       "      <td>4</td>\n",
       "      <td>26</td>\n",
       "      <td>...</td>\n",
       "      <td>0.0</td>\n",
       "      <td>10.0</td>\n",
       "      <td>0</td>\n",
       "      <td>0</td>\n",
       "      <td>1</td>\n",
       "      <td>0</td>\n",
       "      <td>1</td>\n",
       "      <td>0</td>\n",
       "      <td>0</td>\n",
       "      <td>1</td>\n",
       "    </tr>\n",
       "    <tr>\n",
       "      <th>3</th>\n",
       "      <td>727598473</td>\n",
       "      <td>0</td>\n",
       "      <td>35.0</td>\n",
       "      <td>1</td>\n",
       "      <td>10.0</td>\n",
       "      <td>16039.0</td>\n",
       "      <td>124191.0</td>\n",
       "      <td>2</td>\n",
       "      <td>0</td>\n",
       "      <td>5</td>\n",
       "      <td>...</td>\n",
       "      <td>0.0</td>\n",
       "      <td>10.0</td>\n",
       "      <td>0</td>\n",
       "      <td>0</td>\n",
       "      <td>0</td>\n",
       "      <td>1</td>\n",
       "      <td>0</td>\n",
       "      <td>0</td>\n",
       "      <td>0</td>\n",
       "      <td>1</td>\n",
       "    </tr>\n",
       "    <tr>\n",
       "      <th>4</th>\n",
       "      <td>450221861</td>\n",
       "      <td>0</td>\n",
       "      <td>51.0</td>\n",
       "      <td>0</td>\n",
       "      <td>14.0</td>\n",
       "      <td>NaN</td>\n",
       "      <td>306251.0</td>\n",
       "      <td>1</td>\n",
       "      <td>7</td>\n",
       "      <td>32</td>\n",
       "      <td>...</td>\n",
       "      <td>0.0</td>\n",
       "      <td>6.0</td>\n",
       "      <td>0</td>\n",
       "      <td>0</td>\n",
       "      <td>0</td>\n",
       "      <td>0</td>\n",
       "      <td>1</td>\n",
       "      <td>0</td>\n",
       "      <td>0</td>\n",
       "      <td>1</td>\n",
       "    </tr>\n",
       "  </tbody>\n",
       "</table>\n",
       "<p>5 rows × 26 columns</p>\n",
       "</div>"
      ],
      "text/plain": [
       "          ID  KIDSDRIV   AGE  HOMEKIDS   YOJ   INCOME  HOME_VAL  EDUCATION  \\\n",
       "0   63581743         0  60.0         0  11.0  67349.0       0.0          5   \n",
       "1  132761049         0  43.0         0  11.0  91449.0  257252.0          2   \n",
       "2  921317019         0  48.0         0  11.0  52881.0       0.0          3   \n",
       "3  727598473         0  35.0         1  10.0  16039.0  124191.0          2   \n",
       "4  450221861         0  51.0         0  14.0      NaN  306251.0          1   \n",
       "\n",
       "   OCCUPATION  TRAVTIME  ...  CLM_AMT  CAR_AGE  CLAIM_FLAG  PARENT1_Yes  \\\n",
       "0           5        14  ...      0.0     18.0           0            0   \n",
       "1           7        22  ...      0.0      1.0           0            0   \n",
       "2           4        26  ...      0.0     10.0           0            0   \n",
       "3           0         5  ...      0.0     10.0           0            0   \n",
       "4           7        32  ...      0.0      6.0           0            0   \n",
       "\n",
       "   MSTATUS_z_No  GENDER_z_F  RED_CAR_yes  REVOKED_Yes  \\\n",
       "0             1           0            1            0   \n",
       "1             1           0            1            0   \n",
       "2             1           0            1            0   \n",
       "3             0           1            0            0   \n",
       "4             0           0            1            0   \n",
       "\n",
       "   URBANICITY_z_Highly Rural/ Rural  CAR_USE_Private  \n",
       "0                                 0                1  \n",
       "1                                 0                0  \n",
       "2                                 0                1  \n",
       "3                                 0                1  \n",
       "4                                 0                1  \n",
       "\n",
       "[5 rows x 26 columns]"
      ]
     },
     "execution_count": 99,
     "metadata": {},
     "output_type": "execute_result"
    }
   ],
   "source": [
    "df1.head()"
   ]
  },
  {
   "cell_type": "code",
   "execution_count": 100,
   "id": "dcee1764",
   "metadata": {},
   "outputs": [
    {
     "data": {
      "text/plain": [
       "(10302, 26)"
      ]
     },
     "execution_count": 100,
     "metadata": {},
     "output_type": "execute_result"
    }
   ],
   "source": [
    "df1.shape"
   ]
  },
  {
   "cell_type": "markdown",
   "id": "22236ca2",
   "metadata": {},
   "source": [
    "# Handling Missing Values"
   ]
  },
  {
   "cell_type": "code",
   "execution_count": 101,
   "id": "fd05205e",
   "metadata": {},
   "outputs": [],
   "source": [
    "# age , yoj , income , home_val , car_age have null values "
   ]
  },
  {
   "cell_type": "code",
   "execution_count": 102,
   "id": "89bf43c7",
   "metadata": {},
   "outputs": [
    {
     "data": {
      "text/plain": [
       "548"
      ]
     },
     "execution_count": 102,
     "metadata": {},
     "output_type": "execute_result"
    }
   ],
   "source": [
    "df1['YOJ'].isnull().sum()"
   ]
  },
  {
   "cell_type": "code",
   "execution_count": 103,
   "id": "e209d808",
   "metadata": {},
   "outputs": [
    {
     "data": {
      "text/plain": [
       "0    11.0\n",
       "1    11.0\n",
       "2    11.0\n",
       "3    10.0\n",
       "4    14.0\n",
       "Name: YOJ, dtype: float64"
      ]
     },
     "execution_count": 103,
     "metadata": {},
     "output_type": "execute_result"
    }
   ],
   "source": [
    "df1['YOJ'].head()"
   ]
  },
  {
   "cell_type": "code",
   "execution_count": 104,
   "id": "7eb1e6dc",
   "metadata": {},
   "outputs": [
    {
     "name": "stderr",
     "output_type": "stream",
     "text": [
      "C:\\Users\\user\\Downloads\\jupyter\\lib\\site-packages\\seaborn\\_decorators.py:36: FutureWarning: Pass the following variable as a keyword arg: x. From version 0.12, the only valid positional argument will be `data`, and passing other arguments without an explicit keyword will result in an error or misinterpretation.\n",
      "  warnings.warn(\n"
     ]
    },
    {
     "data": {
      "text/plain": [
       "<AxesSubplot:xlabel='YOJ'>"
      ]
     },
     "execution_count": 104,
     "metadata": {},
     "output_type": "execute_result"
    },
    {
     "data": {
      "image/png": "[encoded data removed]",
      "text/plain": [
       "<Figure size 432x288 with 1 Axes>"
      ]
     },
     "metadata": {
      "needs_background": "light"
     },
     "output_type": "display_data"
    }
   ],
   "source": [
    "sns.boxplot(df['YOJ'])"
   ]
  },
  {
   "cell_type": "code",
   "execution_count": 105,
   "id": "5591273d",
   "metadata": {},
   "outputs": [
    {
     "data": {
      "text/plain": [
       "<AxesSubplot:>"
      ]
     },
     "execution_count": 105,
     "metadata": {},
     "output_type": "execute_result"
    },
    {
     "data": {
      "image/png": "[encoded data removed]",
      "text/plain": [
       "<Figure size 792x720 with 2 Axes>"
      ]
     },
     "metadata": {
      "needs_background": "light"
     },
     "output_type": "display_data"
    }
   ],
   "source": [
    "plt.figure(figsize=(11,10))\n",
    "sns.heatmap(df1.corr())"
   ]
  },
  {
   "cell_type": "code",
   "execution_count": 106,
   "id": "fb2188c6",
   "metadata": {},
   "outputs": [
    {
     "data": {
      "text/html": [
       "<div>\n",
       "<style scoped>\n",
       "    .dataframe tbody tr th:only-of-type {\n",
       "        vertical-align: middle;\n",
       "    }\n",
       "\n",
       "    .dataframe tbody tr th {\n",
       "        vertical-align: top;\n",
       "    }\n",
       "\n",
       "    .dataframe thead th {\n",
       "        text-align: right;\n",
       "    }\n",
       "</style>\n",
       "<table border=\"1\" class=\"dataframe\">\n",
       "  <thead>\n",
       "    <tr style=\"text-align: right;\">\n",
       "      <th></th>\n",
       "      <th>ID</th>\n",
       "      <th>KIDSDRIV</th>\n",
       "      <th>AGE</th>\n",
       "      <th>HOMEKIDS</th>\n",
       "      <th>YOJ</th>\n",
       "      <th>INCOME</th>\n",
       "      <th>HOME_VAL</th>\n",
       "      <th>EDUCATION</th>\n",
       "      <th>OCCUPATION</th>\n",
       "      <th>TRAVTIME</th>\n",
       "      <th>...</th>\n",
       "      <th>CLM_AMT</th>\n",
       "      <th>CAR_AGE</th>\n",
       "      <th>CLAIM_FLAG</th>\n",
       "      <th>PARENT1_Yes</th>\n",
       "      <th>MSTATUS_z_No</th>\n",
       "      <th>GENDER_z_F</th>\n",
       "      <th>RED_CAR_yes</th>\n",
       "      <th>REVOKED_Yes</th>\n",
       "      <th>URBANICITY_z_Highly Rural/ Rural</th>\n",
       "      <th>CAR_USE_Private</th>\n",
       "    </tr>\n",
       "  </thead>\n",
       "  <tbody>\n",
       "    <tr>\n",
       "      <th>ID</th>\n",
       "      <td>1.000000</td>\n",
       "      <td>0.003508</td>\n",
       "      <td>-0.010423</td>\n",
       "      <td>0.009144</td>\n",
       "      <td>-0.011068</td>\n",
       "      <td>-0.021582</td>\n",
       "      <td>-0.014370</td>\n",
       "      <td>-0.013469</td>\n",
       "      <td>0.010004</td>\n",
       "      <td>-0.002410</td>\n",
       "      <td>...</td>\n",
       "      <td>-0.012758</td>\n",
       "      <td>-0.004771</td>\n",
       "      <td>-0.005938</td>\n",
       "      <td>-0.004776</td>\n",
       "      <td>0.004788</td>\n",
       "      <td>-0.009397</td>\n",
       "      <td>0.005298</td>\n",
       "      <td>0.000611</td>\n",
       "      <td>0.017789</td>\n",
       "      <td>-0.022025</td>\n",
       "    </tr>\n",
       "    <tr>\n",
       "      <th>KIDSDRIV</th>\n",
       "      <td>0.003508</td>\n",
       "      <td>1.000000</td>\n",
       "      <td>-0.078427</td>\n",
       "      <td>0.463653</td>\n",
       "      <td>0.042971</td>\n",
       "      <td>-0.043217</td>\n",
       "      <td>-0.015447</td>\n",
       "      <td>-0.075693</td>\n",
       "      <td>-0.003304</td>\n",
       "      <td>0.012207</td>\n",
       "      <td>...</td>\n",
       "      <td>0.068283</td>\n",
       "      <td>-0.059629</td>\n",
       "      <td>0.108421</td>\n",
       "      <td>0.200157</td>\n",
       "      <td>-0.041655</td>\n",
       "      <td>0.039712</td>\n",
       "      <td>-0.040508</td>\n",
       "      <td>0.033639</td>\n",
       "      <td>0.043622</td>\n",
       "      <td>0.004146</td>\n",
       "    </tr>\n",
       "    <tr>\n",
       "      <th>AGE</th>\n",
       "      <td>-0.010423</td>\n",
       "      <td>-0.078427</td>\n",
       "      <td>1.000000</td>\n",
       "      <td>-0.447787</td>\n",
       "      <td>0.140878</td>\n",
       "      <td>0.186202</td>\n",
       "      <td>0.209600</td>\n",
       "      <td>0.249044</td>\n",
       "      <td>0.009973</td>\n",
       "      <td>-0.001569</td>\n",
       "      <td>...</td>\n",
       "      <td>-0.049034</td>\n",
       "      <td>0.178592</td>\n",
       "      <td>-0.106969</td>\n",
       "      <td>-0.311327</td>\n",
       "      <td>-0.086978</td>\n",
       "      <td>-0.069575</td>\n",
       "      <td>0.025881</td>\n",
       "      <td>-0.045050</td>\n",
       "      <td>-0.042466</td>\n",
       "      <td>0.027244</td>\n",
       "    </tr>\n",
       "    <tr>\n",
       "      <th>HOMEKIDS</th>\n",
       "      <td>0.009144</td>\n",
       "      <td>0.463653</td>\n",
       "      <td>-0.447787</td>\n",
       "      <td>1.000000</td>\n",
       "      <td>0.077707</td>\n",
       "      <td>-0.160230</td>\n",
       "      <td>-0.107483</td>\n",
       "      <td>-0.205273</td>\n",
       "      <td>-0.028984</td>\n",
       "      <td>-0.000722</td>\n",
       "      <td>...</td>\n",
       "      <td>0.068646</td>\n",
       "      <td>-0.159008</td>\n",
       "      <td>0.123049</td>\n",
       "      <td>0.448719</td>\n",
       "      <td>-0.045968</td>\n",
       "      <td>0.113403</td>\n",
       "      <td>-0.068117</td>\n",
       "      <td>0.044181</td>\n",
       "      <td>0.061663</td>\n",
       "      <td>0.011858</td>\n",
       "    </tr>\n",
       "    <tr>\n",
       "      <th>YOJ</th>\n",
       "      <td>-0.011068</td>\n",
       "      <td>0.042971</td>\n",
       "      <td>0.140878</td>\n",
       "      <td>0.077707</td>\n",
       "      <td>1.000000</td>\n",
       "      <td>0.293899</td>\n",
       "      <td>0.272198</td>\n",
       "      <td>0.092418</td>\n",
       "      <td>0.017360</td>\n",
       "      <td>-0.017152</td>\n",
       "      <td>...</td>\n",
       "      <td>-0.026799</td>\n",
       "      <td>0.064685</td>\n",
       "      <td>-0.066265</td>\n",
       "      <td>-0.039228</td>\n",
       "      <td>-0.140585</td>\n",
       "      <td>-0.079523</td>\n",
       "      <td>0.051933</td>\n",
       "      <td>-0.009953</td>\n",
       "      <td>-0.078897</td>\n",
       "      <td>-0.025926</td>\n",
       "    </tr>\n",
       "    <tr>\n",
       "      <th>INCOME</th>\n",
       "      <td>-0.021582</td>\n",
       "      <td>-0.043217</td>\n",
       "      <td>0.186202</td>\n",
       "      <td>-0.160230</td>\n",
       "      <td>0.293899</td>\n",
       "      <td>1.000000</td>\n",
       "      <td>0.578943</td>\n",
       "      <td>0.602827</td>\n",
       "      <td>0.173961</td>\n",
       "      <td>-0.051853</td>\n",
       "      <td>...</td>\n",
       "      <td>-0.057686</td>\n",
       "      <td>0.417301</td>\n",
       "      <td>-0.142587</td>\n",
       "      <td>-0.067161</td>\n",
       "      <td>0.035683</td>\n",
       "      <td>-0.114121</td>\n",
       "      <td>0.066612</td>\n",
       "      <td>-0.022934</td>\n",
       "      <td>-0.201396</td>\n",
       "      <td>-0.089545</td>\n",
       "    </tr>\n",
       "    <tr>\n",
       "      <th>HOME_VAL</th>\n",
       "      <td>-0.014370</td>\n",
       "      <td>-0.015447</td>\n",
       "      <td>0.209600</td>\n",
       "      <td>-0.107483</td>\n",
       "      <td>0.272198</td>\n",
       "      <td>0.578943</td>\n",
       "      <td>1.000000</td>\n",
       "      <td>0.349313</td>\n",
       "      <td>0.066376</td>\n",
       "      <td>-0.035139</td>\n",
       "      <td>...</td>\n",
       "      <td>-0.091987</td>\n",
       "      <td>0.223198</td>\n",
       "      <td>-0.185390</td>\n",
       "      <td>-0.250375</td>\n",
       "      <td>-0.453815</td>\n",
       "      <td>-0.079170</td>\n",
       "      <td>0.030581</td>\n",
       "      <td>-0.044790</td>\n",
       "      <td>-0.116663</td>\n",
       "      <td>-0.033893</td>\n",
       "    </tr>\n",
       "    <tr>\n",
       "      <th>EDUCATION</th>\n",
       "      <td>-0.013469</td>\n",
       "      <td>-0.075693</td>\n",
       "      <td>0.249044</td>\n",
       "      <td>-0.205273</td>\n",
       "      <td>0.092418</td>\n",
       "      <td>0.602827</td>\n",
       "      <td>0.349313</td>\n",
       "      <td>1.000000</td>\n",
       "      <td>0.028638</td>\n",
       "      <td>-0.053723</td>\n",
       "      <td>...</td>\n",
       "      <td>-0.064032</td>\n",
       "      <td>0.695094</td>\n",
       "      <td>-0.139579</td>\n",
       "      <td>-0.083224</td>\n",
       "      <td>0.043057</td>\n",
       "      <td>-0.041325</td>\n",
       "      <td>0.022471</td>\n",
       "      <td>-0.017217</td>\n",
       "      <td>-0.228093</td>\n",
       "      <td>0.034905</td>\n",
       "    </tr>\n",
       "    <tr>\n",
       "      <th>OCCUPATION</th>\n",
       "      <td>0.010004</td>\n",
       "      <td>-0.003304</td>\n",
       "      <td>0.009973</td>\n",
       "      <td>-0.028984</td>\n",
       "      <td>0.017360</td>\n",
       "      <td>0.173961</td>\n",
       "      <td>0.066376</td>\n",
       "      <td>0.028638</td>\n",
       "      <td>1.000000</td>\n",
       "      <td>-0.007595</td>\n",
       "      <td>...</td>\n",
       "      <td>0.049446</td>\n",
       "      <td>0.025411</td>\n",
       "      <td>0.061061</td>\n",
       "      <td>-0.008923</td>\n",
       "      <td>0.010069</td>\n",
       "      <td>-0.158000</td>\n",
       "      <td>0.105488</td>\n",
       "      <td>0.005377</td>\n",
       "      <td>-0.067265</td>\n",
       "      <td>-0.515466</td>\n",
       "    </tr>\n",
       "    <tr>\n",
       "      <th>TRAVTIME</th>\n",
       "      <td>-0.002410</td>\n",
       "      <td>0.012207</td>\n",
       "      <td>-0.001569</td>\n",
       "      <td>-0.000722</td>\n",
       "      <td>-0.017152</td>\n",
       "      <td>-0.051853</td>\n",
       "      <td>-0.035139</td>\n",
       "      <td>-0.053723</td>\n",
       "      <td>-0.007595</td>\n",
       "      <td>1.000000</td>\n",
       "      <td>...</td>\n",
       "      <td>0.031270</td>\n",
       "      <td>-0.033290</td>\n",
       "      <td>0.053283</td>\n",
       "      <td>-0.015810</td>\n",
       "      <td>-0.006010</td>\n",
       "      <td>0.010539</td>\n",
       "      <td>0.003478</td>\n",
       "      <td>-0.002764</td>\n",
       "      <td>0.166567</td>\n",
       "      <td>-0.010988</td>\n",
       "    </tr>\n",
       "    <tr>\n",
       "      <th>BLUEBOOK</th>\n",
       "      <td>-0.000213</td>\n",
       "      <td>-0.028508</td>\n",
       "      <td>0.166290</td>\n",
       "      <td>-0.108569</td>\n",
       "      <td>0.148086</td>\n",
       "      <td>0.429095</td>\n",
       "      <td>0.261962</td>\n",
       "      <td>0.283591</td>\n",
       "      <td>0.130788</td>\n",
       "      <td>-0.022536</td>\n",
       "      <td>...</td>\n",
       "      <td>-0.002443</td>\n",
       "      <td>0.194366</td>\n",
       "      <td>-0.103287</td>\n",
       "      <td>-0.049512</td>\n",
       "      <td>0.007260</td>\n",
       "      <td>-0.062378</td>\n",
       "      <td>0.026690</td>\n",
       "      <td>-0.028939</td>\n",
       "      <td>-0.086777</td>\n",
       "      <td>-0.226716</td>\n",
       "    </tr>\n",
       "    <tr>\n",
       "      <th>TIF</th>\n",
       "      <td>-0.010196</td>\n",
       "      <td>-0.005830</td>\n",
       "      <td>-0.001890</td>\n",
       "      <td>0.007509</td>\n",
       "      <td>0.023921</td>\n",
       "      <td>0.002361</td>\n",
       "      <td>0.006768</td>\n",
       "      <td>-0.000216</td>\n",
       "      <td>0.005381</td>\n",
       "      <td>-0.013327</td>\n",
       "      <td>...</td>\n",
       "      <td>-0.046518</td>\n",
       "      <td>0.007897</td>\n",
       "      <td>-0.081225</td>\n",
       "      <td>0.009043</td>\n",
       "      <td>0.006839</td>\n",
       "      <td>0.007191</td>\n",
       "      <td>-0.007116</td>\n",
       "      <td>-0.031851</td>\n",
       "      <td>-0.006953</td>\n",
       "      <td>-0.003762</td>\n",
       "    </tr>\n",
       "    <tr>\n",
       "      <th>CAR_TYPE</th>\n",
       "      <td>-0.018360</td>\n",
       "      <td>0.018767</td>\n",
       "      <td>-0.030660</td>\n",
       "      <td>0.071061</td>\n",
       "      <td>-0.067322</td>\n",
       "      <td>-0.122432</td>\n",
       "      <td>-0.075419</td>\n",
       "      <td>-0.071824</td>\n",
       "      <td>-0.074022</td>\n",
       "      <td>0.010855</td>\n",
       "      <td>...</td>\n",
       "      <td>0.043611</td>\n",
       "      <td>-0.061646</td>\n",
       "      <td>0.093289</td>\n",
       "      <td>0.034897</td>\n",
       "      <td>-0.003136</td>\n",
       "      <td>0.491215</td>\n",
       "      <td>-0.339413</td>\n",
       "      <td>0.031349</td>\n",
       "      <td>0.038805</td>\n",
       "      <td>0.099698</td>\n",
       "    </tr>\n",
       "    <tr>\n",
       "      <th>OLDCLAIM</th>\n",
       "      <td>0.002615</td>\n",
       "      <td>0.023886</td>\n",
       "      <td>-0.033378</td>\n",
       "      <td>0.029756</td>\n",
       "      <td>-0.005077</td>\n",
       "      <td>-0.039347</td>\n",
       "      <td>-0.059803</td>\n",
       "      <td>-0.021227</td>\n",
       "      <td>0.020475</td>\n",
       "      <td>-0.013806</td>\n",
       "      <td>...</td>\n",
       "      <td>0.076535</td>\n",
       "      <td>-0.019163</td>\n",
       "      <td>0.142918</td>\n",
       "      <td>0.039312</td>\n",
       "      <td>0.044617</td>\n",
       "      <td>0.004155</td>\n",
       "      <td>0.006448</td>\n",
       "      <td>0.418210</td>\n",
       "      <td>-0.154328</td>\n",
       "      <td>-0.032111</td>\n",
       "    </tr>\n",
       "    <tr>\n",
       "      <th>CLM_FREQ</th>\n",
       "      <td>-0.001436</td>\n",
       "      <td>0.038952</td>\n",
       "      <td>-0.037641</td>\n",
       "      <td>0.038661</td>\n",
       "      <td>-0.023535</td>\n",
       "      <td>-0.049220</td>\n",
       "      <td>-0.093854</td>\n",
       "      <td>-0.019033</td>\n",
       "      <td>0.048068</td>\n",
       "      <td>0.008274</td>\n",
       "      <td>...</td>\n",
       "      <td>0.122204</td>\n",
       "      <td>-0.018904</td>\n",
       "      <td>0.222618</td>\n",
       "      <td>0.061613</td>\n",
       "      <td>0.070560</td>\n",
       "      <td>-0.014001</td>\n",
       "      <td>0.023395</td>\n",
       "      <td>0.055509</td>\n",
       "      <td>-0.243015</td>\n",
       "      <td>-0.077986</td>\n",
       "    </tr>\n",
       "    <tr>\n",
       "      <th>MVR_PTS</th>\n",
       "      <td>0.008391</td>\n",
       "      <td>0.048424</td>\n",
       "      <td>-0.075732</td>\n",
       "      <td>0.064294</td>\n",
       "      <td>-0.041593</td>\n",
       "      <td>-0.063495</td>\n",
       "      <td>-0.092460</td>\n",
       "      <td>-0.049061</td>\n",
       "      <td>0.039434</td>\n",
       "      <td>0.009694</td>\n",
       "      <td>...</td>\n",
       "      <td>0.133567</td>\n",
       "      <td>-0.033898</td>\n",
       "      <td>0.222485</td>\n",
       "      <td>0.070142</td>\n",
       "      <td>0.050898</td>\n",
       "      <td>0.011111</td>\n",
       "      <td>0.002637</td>\n",
       "      <td>0.050140</td>\n",
       "      <td>-0.154954</td>\n",
       "      <td>-0.069673</td>\n",
       "    </tr>\n",
       "    <tr>\n",
       "      <th>CLM_AMT</th>\n",
       "      <td>-0.012758</td>\n",
       "      <td>0.068283</td>\n",
       "      <td>-0.049034</td>\n",
       "      <td>0.068646</td>\n",
       "      <td>-0.026799</td>\n",
       "      <td>-0.057686</td>\n",
       "      <td>-0.091987</td>\n",
       "      <td>-0.064032</td>\n",
       "      <td>0.049446</td>\n",
       "      <td>0.031270</td>\n",
       "      <td>...</td>\n",
       "      <td>1.000000</td>\n",
       "      <td>-0.066060</td>\n",
       "      <td>0.530558</td>\n",
       "      <td>0.096230</td>\n",
       "      <td>0.083848</td>\n",
       "      <td>-0.003387</td>\n",
       "      <td>0.004024</td>\n",
       "      <td>0.072482</td>\n",
       "      <td>-0.121531</td>\n",
       "      <td>-0.095657</td>\n",
       "    </tr>\n",
       "    <tr>\n",
       "      <th>CAR_AGE</th>\n",
       "      <td>-0.004771</td>\n",
       "      <td>-0.059629</td>\n",
       "      <td>0.178592</td>\n",
       "      <td>-0.159008</td>\n",
       "      <td>0.064685</td>\n",
       "      <td>0.417301</td>\n",
       "      <td>0.223198</td>\n",
       "      <td>0.695094</td>\n",
       "      <td>0.025411</td>\n",
       "      <td>-0.033290</td>\n",
       "      <td>...</td>\n",
       "      <td>-0.066060</td>\n",
       "      <td>1.000000</td>\n",
       "      <td>-0.109818</td>\n",
       "      <td>-0.066275</td>\n",
       "      <td>0.035234</td>\n",
       "      <td>-0.025616</td>\n",
       "      <td>0.016724</td>\n",
       "      <td>-0.020124</td>\n",
       "      <td>-0.168274</td>\n",
       "      <td>0.065416</td>\n",
       "    </tr>\n",
       "    <tr>\n",
       "      <th>CLAIM_FLAG</th>\n",
       "      <td>-0.005938</td>\n",
       "      <td>0.108421</td>\n",
       "      <td>-0.106969</td>\n",
       "      <td>0.123049</td>\n",
       "      <td>-0.066265</td>\n",
       "      <td>-0.142587</td>\n",
       "      <td>-0.185390</td>\n",
       "      <td>-0.139579</td>\n",
       "      <td>0.061061</td>\n",
       "      <td>0.053283</td>\n",
       "      <td>...</td>\n",
       "      <td>0.530558</td>\n",
       "      <td>-0.109818</td>\n",
       "      <td>1.000000</td>\n",
       "      <td>0.158455</td>\n",
       "      <td>0.129728</td>\n",
       "      <td>0.022009</td>\n",
       "      <td>-0.007388</td>\n",
       "      <td>0.155988</td>\n",
       "      <td>-0.229092</td>\n",
       "      <td>-0.136601</td>\n",
       "    </tr>\n",
       "    <tr>\n",
       "      <th>PARENT1_Yes</th>\n",
       "      <td>-0.004776</td>\n",
       "      <td>0.200157</td>\n",
       "      <td>-0.311327</td>\n",
       "      <td>0.448719</td>\n",
       "      <td>-0.039228</td>\n",
       "      <td>-0.067161</td>\n",
       "      <td>-0.250375</td>\n",
       "      <td>-0.083224</td>\n",
       "      <td>-0.008923</td>\n",
       "      <td>-0.015810</td>\n",
       "      <td>...</td>\n",
       "      <td>0.096230</td>\n",
       "      <td>-0.066275</td>\n",
       "      <td>0.158455</td>\n",
       "      <td>1.000000</td>\n",
       "      <td>0.474844</td>\n",
       "      <td>0.068894</td>\n",
       "      <td>-0.044500</td>\n",
       "      <td>0.050676</td>\n",
       "      <td>0.022215</td>\n",
       "      <td>-0.002424</td>\n",
       "    </tr>\n",
       "    <tr>\n",
       "      <th>MSTATUS_z_No</th>\n",
       "      <td>0.004788</td>\n",
       "      <td>-0.041655</td>\n",
       "      <td>-0.086978</td>\n",
       "      <td>-0.045968</td>\n",
       "      <td>-0.140585</td>\n",
       "      <td>0.035683</td>\n",
       "      <td>-0.453815</td>\n",
       "      <td>0.043057</td>\n",
       "      <td>0.010069</td>\n",
       "      <td>-0.006010</td>\n",
       "      <td>...</td>\n",
       "      <td>0.083848</td>\n",
       "      <td>0.035234</td>\n",
       "      <td>0.129728</td>\n",
       "      <td>0.474844</td>\n",
       "      <td>1.000000</td>\n",
       "      <td>-0.000930</td>\n",
       "      <td>0.013803</td>\n",
       "      <td>0.040777</td>\n",
       "      <td>-0.006642</td>\n",
       "      <td>-0.011879</td>\n",
       "    </tr>\n",
       "    <tr>\n",
       "      <th>GENDER_z_F</th>\n",
       "      <td>-0.009397</td>\n",
       "      <td>0.039712</td>\n",
       "      <td>-0.069575</td>\n",
       "      <td>0.113403</td>\n",
       "      <td>-0.079523</td>\n",
       "      <td>-0.114121</td>\n",
       "      <td>-0.079170</td>\n",
       "      <td>-0.041325</td>\n",
       "      <td>-0.158000</td>\n",
       "      <td>0.010539</td>\n",
       "      <td>...</td>\n",
       "      <td>-0.003387</td>\n",
       "      <td>-0.025616</td>\n",
       "      <td>0.022009</td>\n",
       "      <td>0.068894</td>\n",
       "      <td>-0.000930</td>\n",
       "      <td>1.000000</td>\n",
       "      <td>-0.663209</td>\n",
       "      <td>0.011450</td>\n",
       "      <td>0.046028</td>\n",
       "      <td>0.282008</td>\n",
       "    </tr>\n",
       "    <tr>\n",
       "      <th>RED_CAR_yes</th>\n",
       "      <td>0.005298</td>\n",
       "      <td>-0.040508</td>\n",
       "      <td>0.025881</td>\n",
       "      <td>-0.068117</td>\n",
       "      <td>0.051933</td>\n",
       "      <td>0.066612</td>\n",
       "      <td>0.030581</td>\n",
       "      <td>0.022471</td>\n",
       "      <td>0.105488</td>\n",
       "      <td>0.003478</td>\n",
       "      <td>...</td>\n",
       "      <td>0.004024</td>\n",
       "      <td>0.016724</td>\n",
       "      <td>-0.007388</td>\n",
       "      <td>-0.044500</td>\n",
       "      <td>0.013803</td>\n",
       "      <td>-0.663209</td>\n",
       "      <td>1.000000</td>\n",
       "      <td>-0.009326</td>\n",
       "      <td>-0.041435</td>\n",
       "      <td>-0.189847</td>\n",
       "    </tr>\n",
       "    <tr>\n",
       "      <th>REVOKED_Yes</th>\n",
       "      <td>0.000611</td>\n",
       "      <td>0.033639</td>\n",
       "      <td>-0.045050</td>\n",
       "      <td>0.044181</td>\n",
       "      <td>-0.009953</td>\n",
       "      <td>-0.022934</td>\n",
       "      <td>-0.044790</td>\n",
       "      <td>-0.017217</td>\n",
       "      <td>0.005377</td>\n",
       "      <td>-0.002764</td>\n",
       "      <td>...</td>\n",
       "      <td>0.072482</td>\n",
       "      <td>-0.020124</td>\n",
       "      <td>0.155988</td>\n",
       "      <td>0.050676</td>\n",
       "      <td>0.040777</td>\n",
       "      <td>0.011450</td>\n",
       "      <td>-0.009326</td>\n",
       "      <td>1.000000</td>\n",
       "      <td>-0.086904</td>\n",
       "      <td>-0.011801</td>\n",
       "    </tr>\n",
       "    <tr>\n",
       "      <th>URBANICITY_z_Highly Rural/ Rural</th>\n",
       "      <td>0.017789</td>\n",
       "      <td>0.043622</td>\n",
       "      <td>-0.042466</td>\n",
       "      <td>0.061663</td>\n",
       "      <td>-0.078897</td>\n",
       "      <td>-0.201396</td>\n",
       "      <td>-0.116663</td>\n",
       "      <td>-0.228093</td>\n",
       "      <td>-0.067265</td>\n",
       "      <td>0.166567</td>\n",
       "      <td>...</td>\n",
       "      <td>-0.121531</td>\n",
       "      <td>-0.168274</td>\n",
       "      <td>-0.229092</td>\n",
       "      <td>0.022215</td>\n",
       "      <td>-0.006642</td>\n",
       "      <td>0.046028</td>\n",
       "      <td>-0.041435</td>\n",
       "      <td>-0.086904</td>\n",
       "      <td>1.000000</td>\n",
       "      <td>-0.020557</td>\n",
       "    </tr>\n",
       "    <tr>\n",
       "      <th>CAR_USE_Private</th>\n",
       "      <td>-0.022025</td>\n",
       "      <td>0.004146</td>\n",
       "      <td>0.027244</td>\n",
       "      <td>0.011858</td>\n",
       "      <td>-0.025926</td>\n",
       "      <td>-0.089545</td>\n",
       "      <td>-0.033893</td>\n",
       "      <td>0.034905</td>\n",
       "      <td>-0.515466</td>\n",
       "      <td>-0.010988</td>\n",
       "      <td>...</td>\n",
       "      <td>-0.095657</td>\n",
       "      <td>0.065416</td>\n",
       "      <td>-0.136601</td>\n",
       "      <td>-0.002424</td>\n",
       "      <td>-0.011879</td>\n",
       "      <td>0.282008</td>\n",
       "      <td>-0.189847</td>\n",
       "      <td>-0.011801</td>\n",
       "      <td>-0.020557</td>\n",
       "      <td>1.000000</td>\n",
       "    </tr>\n",
       "  </tbody>\n",
       "</table>\n",
       "<p>26 rows × 26 columns</p>\n",
       "</div>"
      ],
      "text/plain": [
       "                                        ID  KIDSDRIV       AGE  HOMEKIDS  \\\n",
       "ID                                1.000000  0.003508 -0.010423  0.009144   \n",
       "KIDSDRIV                          0.003508  1.000000 -0.078427  0.463653   \n",
       "AGE                              -0.010423 -0.078427  1.000000 -0.447787   \n",
       "HOMEKIDS                          0.009144  0.463653 -0.447787  1.000000   \n",
       "YOJ                              -0.011068  0.042971  0.140878  0.077707   \n",
       "INCOME                           -0.021582 -0.043217  0.186202 -0.160230   \n",
       "HOME_VAL                         -0.014370 -0.015447  0.209600 -0.107483   \n",
       "EDUCATION                        -0.013469 -0.075693  0.249044 -0.205273   \n",
       "OCCUPATION                        0.010004 -0.003304  0.009973 -0.028984   \n",
       "TRAVTIME                         -0.002410  0.012207 -0.001569 -0.000722   \n",
       "BLUEBOOK                         -0.000213 -0.028508  0.166290 -0.108569   \n",
       "TIF                              -0.010196 -0.005830 -0.001890  0.007509   \n",
       "CAR_TYPE                         -0.018360  0.018767 -0.030660  0.071061   \n",
       "OLDCLAIM                          0.002615  0.023886 -0.033378  0.029756   \n",
       "CLM_FREQ                         -0.001436  0.038952 -0.037641  0.038661   \n",
       "MVR_PTS                           0.008391  0.048424 -0.075732  0.064294   \n",
       "CLM_AMT                          -0.012758  0.068283 -0.049034  0.068646   \n",
       "CAR_AGE                          -0.004771 -0.059629  0.178592 -0.159008   \n",
       "CLAIM_FLAG                       -0.005938  0.108421 -0.106969  0.123049   \n",
       "PARENT1_Yes                      -0.004776  0.200157 -0.311327  0.448719   \n",
       "MSTATUS_z_No                      0.004788 -0.041655 -0.086978 -0.045968   \n",
       "GENDER_z_F                       -0.009397  0.039712 -0.069575  0.113403   \n",
       "RED_CAR_yes                       0.005298 -0.040508  0.025881 -0.068117   \n",
       "REVOKED_Yes                       0.000611  0.033639 -0.045050  0.044181   \n",
       "URBANICITY_z_Highly Rural/ Rural  0.017789  0.043622 -0.042466  0.061663   \n",
       "CAR_USE_Private                  -0.022025  0.004146  0.027244  0.011858   \n",
       "\n",
       "                                       YOJ    INCOME  HOME_VAL  EDUCATION  \\\n",
       "ID                               -0.011068 -0.021582 -0.014370  -0.013469   \n",
       "KIDSDRIV                          0.042971 -0.043217 -0.015447  -0.075693   \n",
       "AGE                               0.140878  0.186202  0.209600   0.249044   \n",
       "HOMEKIDS                          0.077707 -0.160230 -0.107483  -0.205273   \n",
       "YOJ                               1.000000  0.293899  0.272198   0.092418   \n",
       "INCOME                            0.293899  1.000000  0.578943   0.602827   \n",
       "HOME_VAL                          0.272198  0.578943  1.000000   0.349313   \n",
       "EDUCATION                         0.092418  0.602827  0.349313   1.000000   \n",
       "OCCUPATION                        0.017360  0.173961  0.066376   0.028638   \n",
       "TRAVTIME                         -0.017152 -0.051853 -0.035139  -0.053723   \n",
       "BLUEBOOK                          0.148086  0.429095  0.261962   0.283591   \n",
       "TIF                               0.023921  0.002361  0.006768  -0.000216   \n",
       "CAR_TYPE                         -0.067322 -0.122432 -0.075419  -0.071824   \n",
       "OLDCLAIM                         -0.005077 -0.039347 -0.059803  -0.021227   \n",
       "CLM_FREQ                         -0.023535 -0.049220 -0.093854  -0.019033   \n",
       "MVR_PTS                          -0.041593 -0.063495 -0.092460  -0.049061   \n",
       "CLM_AMT                          -0.026799 -0.057686 -0.091987  -0.064032   \n",
       "CAR_AGE                           0.064685  0.417301  0.223198   0.695094   \n",
       "CLAIM_FLAG                       -0.066265 -0.142587 -0.185390  -0.139579   \n",
       "PARENT1_Yes                      -0.039228 -0.067161 -0.250375  -0.083224   \n",
       "MSTATUS_z_No                     -0.140585  0.035683 -0.453815   0.043057   \n",
       "GENDER_z_F                       -0.079523 -0.114121 -0.079170  -0.041325   \n",
       "RED_CAR_yes                       0.051933  0.066612  0.030581   0.022471   \n",
       "REVOKED_Yes                      -0.009953 -0.022934 -0.044790  -0.017217   \n",
       "URBANICITY_z_Highly Rural/ Rural -0.078897 -0.201396 -0.116663  -0.228093   \n",
       "CAR_USE_Private                  -0.025926 -0.089545 -0.033893   0.034905   \n",
       "\n",
       "                                  OCCUPATION  TRAVTIME  ...   CLM_AMT  \\\n",
       "ID                                  0.010004 -0.002410  ... -0.012758   \n",
       "KIDSDRIV                           -0.003304  0.012207  ...  0.068283   \n",
       "AGE                                 0.009973 -0.001569  ... -0.049034   \n",
       "HOMEKIDS                           -0.028984 -0.000722  ...  0.068646   \n",
       "YOJ                                 0.017360 -0.017152  ... -0.026799   \n",
       "INCOME                              0.173961 -0.051853  ... -0.057686   \n",
       "HOME_VAL                            0.066376 -0.035139  ... -0.091987   \n",
       "EDUCATION                           0.028638 -0.053723  ... -0.064032   \n",
       "OCCUPATION                          1.000000 -0.007595  ...  0.049446   \n",
       "TRAVTIME                           -0.007595  1.000000  ...  0.031270   \n",
       "BLUEBOOK                            0.130788 -0.022536  ... -0.002443   \n",
       "TIF                                 0.005381 -0.013327  ... -0.046518   \n",
       "CAR_TYPE                           -0.074022  0.010855  ...  0.043611   \n",
       "OLDCLAIM                            0.020475 -0.013806  ...  0.076535   \n",
       "CLM_FREQ                            0.048068  0.008274  ...  0.122204   \n",
       "MVR_PTS                             0.039434  0.009694  ...  0.133567   \n",
       "CLM_AMT                             0.049446  0.031270  ...  1.000000   \n",
       "CAR_AGE                             0.025411 -0.033290  ... -0.066060   \n",
       "CLAIM_FLAG                          0.061061  0.053283  ...  0.530558   \n",
       "PARENT1_Yes                        -0.008923 -0.015810  ...  0.096230   \n",
       "MSTATUS_z_No                        0.010069 -0.006010  ...  0.083848   \n",
       "GENDER_z_F                         -0.158000  0.010539  ... -0.003387   \n",
       "RED_CAR_yes                         0.105488  0.003478  ...  0.004024   \n",
       "REVOKED_Yes                         0.005377 -0.002764  ...  0.072482   \n",
       "URBANICITY_z_Highly Rural/ Rural   -0.067265  0.166567  ... -0.121531   \n",
       "CAR_USE_Private                    -0.515466 -0.010988  ... -0.095657   \n",
       "\n",
       "                                   CAR_AGE  CLAIM_FLAG  PARENT1_Yes  \\\n",
       "ID                               -0.004771   -0.005938    -0.004776   \n",
       "KIDSDRIV                         -0.059629    0.108421     0.200157   \n",
       "AGE                               0.178592   -0.106969    -0.311327   \n",
       "HOMEKIDS                         -0.159008    0.123049     0.448719   \n",
       "YOJ                               0.064685   -0.066265    -0.039228   \n",
       "INCOME                            0.417301   -0.142587    -0.067161   \n",
       "HOME_VAL                          0.223198   -0.185390    -0.250375   \n",
       "EDUCATION                         0.695094   -0.139579    -0.083224   \n",
       "OCCUPATION                        0.025411    0.061061    -0.008923   \n",
       "TRAVTIME                         -0.033290    0.053283    -0.015810   \n",
       "BLUEBOOK                          0.194366   -0.103287    -0.049512   \n",
       "TIF                               0.007897   -0.081225     0.009043   \n",
       "CAR_TYPE                         -0.061646    0.093289     0.034897   \n",
       "OLDCLAIM                         -0.019163    0.142918     0.039312   \n",
       "CLM_FREQ                         -0.018904    0.222618     0.061613   \n",
       "MVR_PTS                          -0.033898    0.222485     0.070142   \n",
       "CLM_AMT                          -0.066060    0.530558     0.096230   \n",
       "CAR_AGE                           1.000000   -0.109818    -0.066275   \n",
       "CLAIM_FLAG                       -0.109818    1.000000     0.158455   \n",
       "PARENT1_Yes                      -0.066275    0.158455     1.000000   \n",
       "MSTATUS_z_No                      0.035234    0.129728     0.474844   \n",
       "GENDER_z_F                       -0.025616    0.022009     0.068894   \n",
       "RED_CAR_yes                       0.016724   -0.007388    -0.044500   \n",
       "REVOKED_Yes                      -0.020124    0.155988     0.050676   \n",
       "URBANICITY_z_Highly Rural/ Rural -0.168274   -0.229092     0.022215   \n",
       "CAR_USE_Private                   0.065416   -0.136601    -0.002424   \n",
       "\n",
       "                                  MSTATUS_z_No  GENDER_z_F  RED_CAR_yes  \\\n",
       "ID                                    0.004788   -0.009397     0.005298   \n",
       "KIDSDRIV                             -0.041655    0.039712    -0.040508   \n",
       "AGE                                  -0.086978   -0.069575     0.025881   \n",
       "HOMEKIDS                             -0.045968    0.113403    -0.068117   \n",
       "YOJ                                  -0.140585   -0.079523     0.051933   \n",
       "INCOME                                0.035683   -0.114121     0.066612   \n",
       "HOME_VAL                             -0.453815   -0.079170     0.030581   \n",
       "EDUCATION                             0.043057   -0.041325     0.022471   \n",
       "OCCUPATION                            0.010069   -0.158000     0.105488   \n",
       "TRAVTIME                             -0.006010    0.010539     0.003478   \n",
       "BLUEBOOK                              0.007260   -0.062378     0.026690   \n",
       "TIF                                   0.006839    0.007191    -0.007116   \n",
       "CAR_TYPE                             -0.003136    0.491215    -0.339413   \n",
       "OLDCLAIM                              0.044617    0.004155     0.006448   \n",
       "CLM_FREQ                              0.070560   -0.014001     0.023395   \n",
       "MVR_PTS                               0.050898    0.011111     0.002637   \n",
       "CLM_AMT                               0.083848   -0.003387     0.004024   \n",
       "CAR_AGE                               0.035234   -0.025616     0.016724   \n",
       "CLAIM_FLAG                            0.129728    0.022009    -0.007388   \n",
       "PARENT1_Yes                           0.474844    0.068894    -0.044500   \n",
       "MSTATUS_z_No                          1.000000   -0.000930     0.013803   \n",
       "GENDER_z_F                           -0.000930    1.000000    -0.663209   \n",
       "RED_CAR_yes                           0.013803   -0.663209     1.000000   \n",
       "REVOKED_Yes                           0.040777    0.011450    -0.009326   \n",
       "URBANICITY_z_Highly Rural/ Rural     -0.006642    0.046028    -0.041435   \n",
       "CAR_USE_Private                      -0.011879    0.282008    -0.189847   \n",
       "\n",
       "                                  REVOKED_Yes  \\\n",
       "ID                                   0.000611   \n",
       "KIDSDRIV                             0.033639   \n",
       "AGE                                 -0.045050   \n",
       "HOMEKIDS                             0.044181   \n",
       "YOJ                                 -0.009953   \n",
       "INCOME                              -0.022934   \n",
       "HOME_VAL                            -0.044790   \n",
       "EDUCATION                           -0.017217   \n",
       "OCCUPATION                           0.005377   \n",
       "TRAVTIME                            -0.002764   \n",
       "BLUEBOOK                            -0.028939   \n",
       "TIF                                 -0.031851   \n",
       "CAR_TYPE                             0.031349   \n",
       "OLDCLAIM                             0.418210   \n",
       "CLM_FREQ                             0.055509   \n",
       "MVR_PTS                              0.050140   \n",
       "CLM_AMT                              0.072482   \n",
       "CAR_AGE                             -0.020124   \n",
       "CLAIM_FLAG                           0.155988   \n",
       "PARENT1_Yes                          0.050676   \n",
       "MSTATUS_z_No                         0.040777   \n",
       "GENDER_z_F                           0.011450   \n",
       "RED_CAR_yes                         -0.009326   \n",
       "REVOKED_Yes                          1.000000   \n",
       "URBANICITY_z_Highly Rural/ Rural    -0.086904   \n",
       "CAR_USE_Private                     -0.011801   \n",
       "\n",
       "                                  URBANICITY_z_Highly Rural/ Rural  \\\n",
       "ID                                                        0.017789   \n",
       "KIDSDRIV                                                  0.043622   \n",
       "AGE                                                      -0.042466   \n",
       "HOMEKIDS                                                  0.061663   \n",
       "YOJ                                                      -0.078897   \n",
       "INCOME                                                   -0.201396   \n",
       "HOME_VAL                                                 -0.116663   \n",
       "EDUCATION                                                -0.228093   \n",
       "OCCUPATION                                               -0.067265   \n",
       "TRAVTIME                                                  0.166567   \n",
       "BLUEBOOK                                                 -0.086777   \n",
       "TIF                                                      -0.006953   \n",
       "CAR_TYPE                                                  0.038805   \n",
       "OLDCLAIM                                                 -0.154328   \n",
       "CLM_FREQ                                                 -0.243015   \n",
       "MVR_PTS                                                  -0.154954   \n",
       "CLM_AMT                                                  -0.121531   \n",
       "CAR_AGE                                                  -0.168274   \n",
       "CLAIM_FLAG                                               -0.229092   \n",
       "PARENT1_Yes                                               0.022215   \n",
       "MSTATUS_z_No                                             -0.006642   \n",
       "GENDER_z_F                                                0.046028   \n",
       "RED_CAR_yes                                              -0.041435   \n",
       "REVOKED_Yes                                              -0.086904   \n",
       "URBANICITY_z_Highly Rural/ Rural                          1.000000   \n",
       "CAR_USE_Private                                          -0.020557   \n",
       "\n",
       "                                  CAR_USE_Private  \n",
       "ID                                      -0.022025  \n",
       "KIDSDRIV                                 0.004146  \n",
       "AGE                                      0.027244  \n",
       "HOMEKIDS                                 0.011858  \n",
       "YOJ                                     -0.025926  \n",
       "INCOME                                  -0.089545  \n",
       "HOME_VAL                                -0.033893  \n",
       "EDUCATION                                0.034905  \n",
       "OCCUPATION                              -0.515466  \n",
       "TRAVTIME                                -0.010988  \n",
       "BLUEBOOK                                -0.226716  \n",
       "TIF                                     -0.003762  \n",
       "CAR_TYPE                                 0.099698  \n",
       "OLDCLAIM                                -0.032111  \n",
       "CLM_FREQ                                -0.077986  \n",
       "MVR_PTS                                 -0.069673  \n",
       "CLM_AMT                                 -0.095657  \n",
       "CAR_AGE                                  0.065416  \n",
       "CLAIM_FLAG                              -0.136601  \n",
       "PARENT1_Yes                             -0.002424  \n",
       "MSTATUS_z_No                            -0.011879  \n",
       "GENDER_z_F                               0.282008  \n",
       "RED_CAR_yes                             -0.189847  \n",
       "REVOKED_Yes                             -0.011801  \n",
       "URBANICITY_z_Highly Rural/ Rural        -0.020557  \n",
       "CAR_USE_Private                          1.000000  \n",
       "\n",
       "[26 rows x 26 columns]"
      ]
     },
     "execution_count": 106,
     "metadata": {},
     "output_type": "execute_result"
    }
   ],
   "source": [
    "df1.corr()"
   ]
  },
  {
   "cell_type": "code",
   "execution_count": 107,
   "id": "cd6f0591",
   "metadata": {},
   "outputs": [
    {
     "name": "stderr",
     "output_type": "stream",
     "text": [
      "C:\\Users\\user\\Downloads\\jupyter\\lib\\site-packages\\seaborn\\_decorators.py:36: FutureWarning: Pass the following variables as keyword args: x, y. From version 0.12, the only valid positional argument will be `data`, and passing other arguments without an explicit keyword will result in an error or misinterpretation.\n",
      "  warnings.warn(\n"
     ]
    },
    {
     "data": {
      "text/html": [
       "<div>\n",
       "<style scoped>\n",
       "    .dataframe tbody tr th:only-of-type {\n",
       "        vertical-align: middle;\n",
       "    }\n",
       "\n",
       "    .dataframe tbody tr th {\n",
       "        vertical-align: top;\n",
       "    }\n",
       "\n",
       "    .dataframe thead th {\n",
       "        text-align: right;\n",
       "    }\n",
       "</style>\n",
       "<table border=\"1\" class=\"dataframe\">\n",
       "  <thead>\n",
       "    <tr style=\"text-align: right;\">\n",
       "      <th></th>\n",
       "      <th>ID</th>\n",
       "      <th>KIDSDRIV</th>\n",
       "      <th>AGE</th>\n",
       "      <th>HOMEKIDS</th>\n",
       "      <th>YOJ</th>\n",
       "      <th>INCOME</th>\n",
       "      <th>HOME_VAL</th>\n",
       "      <th>EDUCATION</th>\n",
       "      <th>OCCUPATION</th>\n",
       "      <th>TRAVTIME</th>\n",
       "      <th>...</th>\n",
       "      <th>CLM_AMT</th>\n",
       "      <th>CAR_AGE</th>\n",
       "      <th>CLAIM_FLAG</th>\n",
       "      <th>PARENT1_Yes</th>\n",
       "      <th>MSTATUS_z_No</th>\n",
       "      <th>GENDER_z_F</th>\n",
       "      <th>RED_CAR_yes</th>\n",
       "      <th>REVOKED_Yes</th>\n",
       "      <th>URBANICITY_z_Highly Rural/ Rural</th>\n",
       "      <th>CAR_USE_Private</th>\n",
       "    </tr>\n",
       "  </thead>\n",
       "  <tbody>\n",
       "    <tr>\n",
       "      <th>count</th>\n",
       "      <td>1.030200e+04</td>\n",
       "      <td>10302.000000</td>\n",
       "      <td>10295.000000</td>\n",
       "      <td>10302.000000</td>\n",
       "      <td>9754.000000</td>\n",
       "      <td>9732.000000</td>\n",
       "      <td>9727.000000</td>\n",
       "      <td>10302.000000</td>\n",
       "      <td>10302.000000</td>\n",
       "      <td>10302.000000</td>\n",
       "      <td>...</td>\n",
       "      <td>10302.000000</td>\n",
       "      <td>9663.000000</td>\n",
       "      <td>10302.000000</td>\n",
       "      <td>10302.000000</td>\n",
       "      <td>10302.000000</td>\n",
       "      <td>10302.000000</td>\n",
       "      <td>10302.000000</td>\n",
       "      <td>10302.000000</td>\n",
       "      <td>10302.000000</td>\n",
       "      <td>10302.000000</td>\n",
       "    </tr>\n",
       "    <tr>\n",
       "      <th>mean</th>\n",
       "      <td>4.956631e+08</td>\n",
       "      <td>0.169288</td>\n",
       "      <td>44.837397</td>\n",
       "      <td>0.720443</td>\n",
       "      <td>10.474062</td>\n",
       "      <td>61572.073263</td>\n",
       "      <td>154523.018608</td>\n",
       "      <td>2.802368</td>\n",
       "      <td>4.261114</td>\n",
       "      <td>33.416424</td>\n",
       "      <td>...</td>\n",
       "      <td>1511.266453</td>\n",
       "      <td>8.298148</td>\n",
       "      <td>0.266550</td>\n",
       "      <td>0.130363</td>\n",
       "      <td>0.399340</td>\n",
       "      <td>0.538245</td>\n",
       "      <td>0.288876</td>\n",
       "      <td>0.122403</td>\n",
       "      <td>0.201126</td>\n",
       "      <td>0.632207</td>\n",
       "    </tr>\n",
       "    <tr>\n",
       "      <th>std</th>\n",
       "      <td>2.864675e+08</td>\n",
       "      <td>0.506512</td>\n",
       "      <td>8.606445</td>\n",
       "      <td>1.116323</td>\n",
       "      <td>4.108943</td>\n",
       "      <td>47457.202749</td>\n",
       "      <td>129188.439405</td>\n",
       "      <td>1.183307</td>\n",
       "      <td>2.574313</td>\n",
       "      <td>15.869687</td>\n",
       "      <td>...</td>\n",
       "      <td>4725.249896</td>\n",
       "      <td>5.714450</td>\n",
       "      <td>0.442177</td>\n",
       "      <td>0.336719</td>\n",
       "      <td>0.489787</td>\n",
       "      <td>0.498559</td>\n",
       "      <td>0.453262</td>\n",
       "      <td>0.327767</td>\n",
       "      <td>0.400861</td>\n",
       "      <td>0.482228</td>\n",
       "    </tr>\n",
       "    <tr>\n",
       "      <th>min</th>\n",
       "      <td>6.317500e+04</td>\n",
       "      <td>0.000000</td>\n",
       "      <td>16.000000</td>\n",
       "      <td>0.000000</td>\n",
       "      <td>0.000000</td>\n",
       "      <td>0.000000</td>\n",
       "      <td>0.000000</td>\n",
       "      <td>1.000000</td>\n",
       "      <td>0.000000</td>\n",
       "      <td>5.000000</td>\n",
       "      <td>...</td>\n",
       "      <td>0.000000</td>\n",
       "      <td>-3.000000</td>\n",
       "      <td>0.000000</td>\n",
       "      <td>0.000000</td>\n",
       "      <td>0.000000</td>\n",
       "      <td>0.000000</td>\n",
       "      <td>0.000000</td>\n",
       "      <td>0.000000</td>\n",
       "      <td>0.000000</td>\n",
       "      <td>0.000000</td>\n",
       "    </tr>\n",
       "    <tr>\n",
       "      <th>25%</th>\n",
       "      <td>2.442869e+08</td>\n",
       "      <td>0.000000</td>\n",
       "      <td>39.000000</td>\n",
       "      <td>0.000000</td>\n",
       "      <td>9.000000</td>\n",
       "      <td>27584.000000</td>\n",
       "      <td>0.000000</td>\n",
       "      <td>2.000000</td>\n",
       "      <td>2.000000</td>\n",
       "      <td>22.000000</td>\n",
       "      <td>...</td>\n",
       "      <td>0.000000</td>\n",
       "      <td>1.000000</td>\n",
       "      <td>0.000000</td>\n",
       "      <td>0.000000</td>\n",
       "      <td>0.000000</td>\n",
       "      <td>0.000000</td>\n",
       "      <td>0.000000</td>\n",
       "      <td>0.000000</td>\n",
       "      <td>0.000000</td>\n",
       "      <td>0.000000</td>\n",
       "    </tr>\n",
       "    <tr>\n",
       "      <th>50%</th>\n",
       "      <td>4.970043e+08</td>\n",
       "      <td>0.000000</td>\n",
       "      <td>45.000000</td>\n",
       "      <td>0.000000</td>\n",
       "      <td>11.000000</td>\n",
       "      <td>53529.000000</td>\n",
       "      <td>160661.000000</td>\n",
       "      <td>3.000000</td>\n",
       "      <td>5.000000</td>\n",
       "      <td>33.000000</td>\n",
       "      <td>...</td>\n",
       "      <td>0.000000</td>\n",
       "      <td>8.000000</td>\n",
       "      <td>0.000000</td>\n",
       "      <td>0.000000</td>\n",
       "      <td>0.000000</td>\n",
       "      <td>1.000000</td>\n",
       "      <td>0.000000</td>\n",
       "      <td>0.000000</td>\n",
       "      <td>0.000000</td>\n",
       "      <td>1.000000</td>\n",
       "    </tr>\n",
       "    <tr>\n",
       "      <th>75%</th>\n",
       "      <td>7.394551e+08</td>\n",
       "      <td>0.000000</td>\n",
       "      <td>51.000000</td>\n",
       "      <td>1.000000</td>\n",
       "      <td>13.000000</td>\n",
       "      <td>86166.000000</td>\n",
       "      <td>238256.000000</td>\n",
       "      <td>4.000000</td>\n",
       "      <td>7.000000</td>\n",
       "      <td>44.000000</td>\n",
       "      <td>...</td>\n",
       "      <td>1144.750000</td>\n",
       "      <td>12.000000</td>\n",
       "      <td>1.000000</td>\n",
       "      <td>0.000000</td>\n",
       "      <td>1.000000</td>\n",
       "      <td>1.000000</td>\n",
       "      <td>1.000000</td>\n",
       "      <td>0.000000</td>\n",
       "      <td>0.000000</td>\n",
       "      <td>1.000000</td>\n",
       "    </tr>\n",
       "    <tr>\n",
       "      <th>max</th>\n",
       "      <td>9.999264e+08</td>\n",
       "      <td>4.000000</td>\n",
       "      <td>81.000000</td>\n",
       "      <td>5.000000</td>\n",
       "      <td>23.000000</td>\n",
       "      <td>367030.000000</td>\n",
       "      <td>885282.000000</td>\n",
       "      <td>5.000000</td>\n",
       "      <td>8.000000</td>\n",
       "      <td>142.000000</td>\n",
       "      <td>...</td>\n",
       "      <td>123247.000000</td>\n",
       "      <td>28.000000</td>\n",
       "      <td>1.000000</td>\n",
       "      <td>1.000000</td>\n",
       "      <td>1.000000</td>\n",
       "      <td>1.000000</td>\n",
       "      <td>1.000000</td>\n",
       "      <td>1.000000</td>\n",
       "      <td>1.000000</td>\n",
       "      <td>1.000000</td>\n",
       "    </tr>\n",
       "  </tbody>\n",
       "</table>\n",
       "<p>8 rows × 26 columns</p>\n",
       "</div>"
      ],
      "text/plain": [
       "                 ID      KIDSDRIV           AGE      HOMEKIDS          YOJ  \\\n",
       "count  1.030200e+04  10302.000000  10295.000000  10302.000000  9754.000000   \n",
       "mean   4.956631e+08      0.169288     44.837397      0.720443    10.474062   \n",
       "std    2.864675e+08      0.506512      8.606445      1.116323     4.108943   \n",
       "min    6.317500e+04      0.000000     16.000000      0.000000     0.000000   \n",
       "25%    2.442869e+08      0.000000     39.000000      0.000000     9.000000   \n",
       "50%    4.970043e+08      0.000000     45.000000      0.000000    11.000000   \n",
       "75%    7.394551e+08      0.000000     51.000000      1.000000    13.000000   \n",
       "max    9.999264e+08      4.000000     81.000000      5.000000    23.000000   \n",
       "\n",
       "              INCOME       HOME_VAL     EDUCATION    OCCUPATION      TRAVTIME  \\\n",
       "count    9732.000000    9727.000000  10302.000000  10302.000000  10302.000000   \n",
       "mean    61572.073263  154523.018608      2.802368      4.261114     33.416424   \n",
       "std     47457.202749  129188.439405      1.183307      2.574313     15.869687   \n",
       "min         0.000000       0.000000      1.000000      0.000000      5.000000   \n",
       "25%     27584.000000       0.000000      2.000000      2.000000     22.000000   \n",
       "50%     53529.000000  160661.000000      3.000000      5.000000     33.000000   \n",
       "75%     86166.000000  238256.000000      4.000000      7.000000     44.000000   \n",
       "max    367030.000000  885282.000000      5.000000      8.000000    142.000000   \n",
       "\n",
       "       ...        CLM_AMT      CAR_AGE    CLAIM_FLAG   PARENT1_Yes  \\\n",
       "count  ...   10302.000000  9663.000000  10302.000000  10302.000000   \n",
       "mean   ...    1511.266453     8.298148      0.266550      0.130363   \n",
       "std    ...    4725.249896     5.714450      0.442177      0.336719   \n",
       "min    ...       0.000000    -3.000000      0.000000      0.000000   \n",
       "25%    ...       0.000000     1.000000      0.000000      0.000000   \n",
       "50%    ...       0.000000     8.000000      0.000000      0.000000   \n",
       "75%    ...    1144.750000    12.000000      1.000000      0.000000   \n",
       "max    ...  123247.000000    28.000000      1.000000      1.000000   \n",
       "\n",
       "       MSTATUS_z_No    GENDER_z_F   RED_CAR_yes   REVOKED_Yes  \\\n",
       "count  10302.000000  10302.000000  10302.000000  10302.000000   \n",
       "mean       0.399340      0.538245      0.288876      0.122403   \n",
       "std        0.489787      0.498559      0.453262      0.327767   \n",
       "min        0.000000      0.000000      0.000000      0.000000   \n",
       "25%        0.000000      0.000000      0.000000      0.000000   \n",
       "50%        0.000000      1.000000      0.000000      0.000000   \n",
       "75%        1.000000      1.000000      1.000000      0.000000   \n",
       "max        1.000000      1.000000      1.000000      1.000000   \n",
       "\n",
       "       URBANICITY_z_Highly Rural/ Rural  CAR_USE_Private  \n",
       "count                      10302.000000     10302.000000  \n",
       "mean                           0.201126         0.632207  \n",
       "std                            0.400861         0.482228  \n",
       "min                            0.000000         0.000000  \n",
       "25%                            0.000000         0.000000  \n",
       "50%                            0.000000         1.000000  \n",
       "75%                            0.000000         1.000000  \n",
       "max                            1.000000         1.000000  \n",
       "\n",
       "[8 rows x 26 columns]"
      ]
     },
     "execution_count": 107,
     "metadata": {},
     "output_type": "execute_result"
    },
    {
     "data": {
      "image/png": "[encoded data removed]",
      "text/plain": [
       "<Figure size 432x288 with 1 Axes>"
      ]
     },
     "metadata": {
      "needs_background": "light"
     },
     "output_type": "display_data"
    }
   ],
   "source": [
    "sns.boxplot(df1['EDUCATION'],df1['YOJ'])\n",
    "(df1.describe())"
   ]
  },
  {
   "cell_type": "code",
   "execution_count": 108,
   "id": "559d7f62",
   "metadata": {},
   "outputs": [
    {
     "data": {
      "text/plain": [
       "OCCUPATION\n",
       "0    12.0\n",
       "1    12.0\n",
       "2     5.0\n",
       "3    12.0\n",
       "4    12.0\n",
       "5    12.0\n",
       "6     6.0\n",
       "7    12.0\n",
       "8    12.0\n",
       "Name: YOJ, dtype: float64"
      ]
     },
     "execution_count": 108,
     "metadata": {},
     "output_type": "execute_result"
    }
   ],
   "source": [
    "df1.groupby('OCCUPATION')['YOJ'].median()"
   ]
  },
  {
   "cell_type": "code",
   "execution_count": 109,
   "id": "7f98edbe",
   "metadata": {},
   "outputs": [],
   "source": [
    "df1['YOJ'].fillna(df1.groupby('OCCUPATION')['YOJ'].transform('median'),inplace=True)"
   ]
  },
  {
   "cell_type": "code",
   "execution_count": 110,
   "id": "04457b18",
   "metadata": {},
   "outputs": [
    {
     "data": {
      "text/plain": [
       "0"
      ]
     },
     "execution_count": 110,
     "metadata": {},
     "output_type": "execute_result"
    }
   ],
   "source": [
    "df1['YOJ'].isnull().sum()"
   ]
  },
  {
   "cell_type": "code",
   "execution_count": null,
   "id": "1aca32fc",
   "metadata": {},
   "outputs": [],
   "source": []
  },
  {
   "cell_type": "code",
   "execution_count": null,
   "id": "5d0dd15c",
   "metadata": {},
   "outputs": [],
   "source": []
  },
  {
   "cell_type": "code",
   "execution_count": null,
   "id": "d60ed784",
   "metadata": {},
   "outputs": [],
   "source": []
  },
  {
   "cell_type": "code",
   "execution_count": null,
   "id": "ac961fe2",
   "metadata": {},
   "outputs": [],
   "source": []
  },
  {
   "cell_type": "code",
   "execution_count": 111,
   "id": "3425be7f",
   "metadata": {},
   "outputs": [
    {
     "name": "stderr",
     "output_type": "stream",
     "text": [
      "C:\\Users\\user\\Downloads\\jupyter\\lib\\site-packages\\seaborn\\_decorators.py:36: FutureWarning: Pass the following variable as a keyword arg: x. From version 0.12, the only valid positional argument will be `data`, and passing other arguments without an explicit keyword will result in an error or misinterpretation.\n",
      "  warnings.warn(\n"
     ]
    },
    {
     "data": {
      "text/plain": [
       "<AxesSubplot:xlabel='AGE'>"
      ]
     },
     "execution_count": 111,
     "metadata": {},
     "output_type": "execute_result"
    },
    {
     "data": {
      "image/png": "[encoded data removed]",
      "text/plain": [
       "<Figure size 432x288 with 1 Axes>"
      ]
     },
     "metadata": {
      "needs_background": "light"
     },
     "output_type": "display_data"
    }
   ],
   "source": [
    "sns.boxplot(df1['AGE'])"
   ]
  },
  {
   "cell_type": "code",
   "execution_count": 112,
   "id": "cf0ee9c9",
   "metadata": {
    "scrolled": true
   },
   "outputs": [
    {
     "data": {
      "text/plain": [
       "OCCUPATION\n",
       "0    42.0\n",
       "1    51.0\n",
       "2    45.0\n",
       "3    48.0\n",
       "4    47.0\n",
       "5    46.0\n",
       "6    41.0\n",
       "7    43.0\n",
       "8    47.0\n",
       "Name: AGE, dtype: float64"
      ]
     },
     "execution_count": 112,
     "metadata": {},
     "output_type": "execute_result"
    }
   ],
   "source": [
    "df1.groupby('OCCUPATION')['AGE'].median()"
   ]
  },
  {
   "cell_type": "code",
   "execution_count": 113,
   "id": "e55c2d26",
   "metadata": {},
   "outputs": [
    {
     "name": "stderr",
     "output_type": "stream",
     "text": [
      "C:\\Users\\user\\Downloads\\jupyter\\lib\\site-packages\\seaborn\\_decorators.py:36: FutureWarning: Pass the following variables as keyword args: x, y. From version 0.12, the only valid positional argument will be `data`, and passing other arguments without an explicit keyword will result in an error or misinterpretation.\n",
      "  warnings.warn(\n"
     ]
    },
    {
     "data": {
      "text/plain": [
       "<AxesSubplot:xlabel='OCCUPATION', ylabel='AGE'>"
      ]
     },
     "execution_count": 113,
     "metadata": {},
     "output_type": "execute_result"
    },
    {
     "data": {
      "image/png": "[encoded data removed]",
      "text/plain": [
       "<Figure size 432x288 with 1 Axes>"
      ]
     },
     "metadata": {
      "needs_background": "light"
     },
     "output_type": "display_data"
    }
   ],
   "source": [
    "sns.boxplot(df1['OCCUPATION'],df1['AGE'])"
   ]
  },
  {
   "cell_type": "code",
   "execution_count": 114,
   "id": "ab200969",
   "metadata": {},
   "outputs": [],
   "source": [
    "df1['AGE'].fillna(df1.groupby('OCCUPATION')['AGE'].transform('median'),inplace=True)"
   ]
  },
  {
   "cell_type": "code",
   "execution_count": 115,
   "id": "fa1e1817",
   "metadata": {},
   "outputs": [
    {
     "data": {
      "text/plain": [
       "0"
      ]
     },
     "execution_count": 115,
     "metadata": {},
     "output_type": "execute_result"
    }
   ],
   "source": [
    "df1['AGE'].isnull().sum()"
   ]
  },
  {
   "cell_type": "code",
   "execution_count": null,
   "id": "5181e0e2",
   "metadata": {},
   "outputs": [],
   "source": []
  },
  {
   "cell_type": "code",
   "execution_count": null,
   "id": "e1e3b08d",
   "metadata": {},
   "outputs": [],
   "source": []
  },
  {
   "cell_type": "code",
   "execution_count": null,
   "id": "033c67a0",
   "metadata": {},
   "outputs": [],
   "source": []
  },
  {
   "cell_type": "code",
   "execution_count": null,
   "id": "688d77bf",
   "metadata": {},
   "outputs": [],
   "source": []
  },
  {
   "cell_type": "code",
   "execution_count": 116,
   "id": "24116cfc",
   "metadata": {},
   "outputs": [],
   "source": [
    "# Income depends on occupation and urbanicity"
   ]
  },
  {
   "cell_type": "code",
   "execution_count": 117,
   "id": "6154a294",
   "metadata": {},
   "outputs": [
    {
     "name": "stderr",
     "output_type": "stream",
     "text": [
      "C:\\Users\\user\\Downloads\\jupyter\\lib\\site-packages\\seaborn\\_decorators.py:36: FutureWarning: Pass the following variable as a keyword arg: x. From version 0.12, the only valid positional argument will be `data`, and passing other arguments without an explicit keyword will result in an error or misinterpretation.\n",
      "  warnings.warn(\n"
     ]
    },
    {
     "data": {
      "text/plain": [
       "<AxesSubplot:xlabel='INCOME'>"
      ]
     },
     "execution_count": 117,
     "metadata": {},
     "output_type": "execute_result"
    },
    {
     "data": {
      "image/png": "[encoded data removed]",
      "text/plain": [
       "<Figure size 432x288 with 1 Axes>"
      ]
     },
     "metadata": {
      "needs_background": "light"
     },
     "output_type": "display_data"
    }
   ],
   "source": [
    "sns.boxplot(df1['INCOME'])"
   ]
  },
  {
   "cell_type": "code",
   "execution_count": 118,
   "id": "f3e1eff4",
   "metadata": {},
   "outputs": [
    {
     "data": {
      "text/plain": [
       "OCCUPATION  URBANICITY_z_Highly Rural/ Rural\n",
       "0           0                                    30508.0\n",
       "            1                                    31270.0\n",
       "1           0                                   121553.0\n",
       "            1                                   120074.0\n",
       "2           0                                        0.0\n",
       "            1                                     4200.5\n",
       "3           0                                    83720.0\n",
       "            1                                    74786.5\n",
       "4           0                                    78589.0\n",
       "5           0                                    70628.0\n",
       "            1                                    74378.0\n",
       "6           0                                      948.0\n",
       "            1                                        0.0\n",
       "7           0                                    53008.0\n",
       "            1                                    55718.0\n",
       "8           0                                   110330.0\n",
       "            1                                    97876.5\n",
       "Name: INCOME, dtype: float64"
      ]
     },
     "execution_count": 118,
     "metadata": {},
     "output_type": "execute_result"
    }
   ],
   "source": [
    "df1.groupby(['OCCUPATION','URBANICITY_z_Highly Rural/ Rural'])['INCOME'].median()"
   ]
  },
  {
   "cell_type": "code",
   "execution_count": 119,
   "id": "b6fce840",
   "metadata": {},
   "outputs": [
    {
     "name": "stderr",
     "output_type": "stream",
     "text": [
      "C:\\Users\\user\\Downloads\\jupyter\\lib\\site-packages\\seaborn\\_decorators.py:36: FutureWarning: Pass the following variables as keyword args: x, y. From version 0.12, the only valid positional argument will be `data`, and passing other arguments without an explicit keyword will result in an error or misinterpretation.\n",
      "  warnings.warn(\n"
     ]
    },
    {
     "data": {
      "text/plain": [
       "<AxesSubplot:xlabel='URBANICITY_z_Highly Rural/ Rural', ylabel='INCOME'>"
      ]
     },
     "execution_count": 119,
     "metadata": {},
     "output_type": "execute_result"
    },
    {
     "data": {
      "image/png": "[encoded data removed]",
      "text/plain": [
       "<Figure size 432x288 with 1 Axes>"
      ]
     },
     "metadata": {
      "needs_background": "light"
     },
     "output_type": "display_data"
    }
   ],
   "source": [
    "sns.boxplot(df1['URBANICITY_z_Highly Rural/ Rural'],df1['INCOME'])"
   ]
  },
  {
   "cell_type": "code",
   "execution_count": 120,
   "id": "643e9cf6",
   "metadata": {},
   "outputs": [
    {
     "name": "stderr",
     "output_type": "stream",
     "text": [
      "C:\\Users\\user\\Downloads\\jupyter\\lib\\site-packages\\seaborn\\_decorators.py:36: FutureWarning: Pass the following variables as keyword args: x, y. From version 0.12, the only valid positional argument will be `data`, and passing other arguments without an explicit keyword will result in an error or misinterpretation.\n",
      "  warnings.warn(\n"
     ]
    },
    {
     "data": {
      "text/plain": [
       "<AxesSubplot:xlabel='OCCUPATION', ylabel='INCOME'>"
      ]
     },
     "execution_count": 120,
     "metadata": {},
     "output_type": "execute_result"
    },
    {
     "data": {
      "image/png": "[encoded data removed]",
      "text/plain": [
       "<Figure size 432x288 with 1 Axes>"
      ]
     },
     "metadata": {
      "needs_background": "light"
     },
     "output_type": "display_data"
    }
   ],
   "source": [
    "sns.boxplot(df1['OCCUPATION'],df1['INCOME'])"
   ]
  },
  {
   "cell_type": "code",
   "execution_count": 121,
   "id": "e707b7f5",
   "metadata": {},
   "outputs": [
    {
     "name": "stderr",
     "output_type": "stream",
     "text": [
      "C:\\Users\\user\\Downloads\\jupyter\\lib\\site-packages\\seaborn\\_decorators.py:36: FutureWarning: Pass the following variables as keyword args: x, y. From version 0.12, the only valid positional argument will be `data`, and passing other arguments without an explicit keyword will result in an error or misinterpretation.\n",
      "  warnings.warn(\n"
     ]
    },
    {
     "data": {
      "text/plain": [
       "<AxesSubplot:xlabel='URBANICITY_z_Highly Rural/ Rural', ylabel='OCCUPATION'>"
      ]
     },
     "execution_count": 121,
     "metadata": {},
     "output_type": "execute_result"
    },
    {
     "data": {
      "image/png": "[encoded data removed]",
      "text/plain": [
       "<Figure size 432x288 with 1 Axes>"
      ]
     },
     "metadata": {
      "needs_background": "light"
     },
     "output_type": "display_data"
    }
   ],
   "source": [
    "sns.boxplot(df1['URBANICITY_z_Highly Rural/ Rural'],df1['OCCUPATION'])"
   ]
  },
  {
   "cell_type": "code",
   "execution_count": 122,
   "id": "7c441544",
   "metadata": {},
   "outputs": [],
   "source": [
    "# as we can see that there is lot of dependency of income on both occupation , urbanicity "
   ]
  },
  {
   "cell_type": "code",
   "execution_count": 123,
   "id": "af7a4b99",
   "metadata": {},
   "outputs": [],
   "source": [
    "df1['INCOME'].fillna(df1.groupby(['OCCUPATION','URBANICITY_z_Highly Rural/ Rural'])['INCOME'].transform('median'),inplace=True)"
   ]
  },
  {
   "cell_type": "code",
   "execution_count": 124,
   "id": "22358ae6",
   "metadata": {},
   "outputs": [
    {
     "data": {
      "text/plain": [
       "0"
      ]
     },
     "execution_count": 124,
     "metadata": {},
     "output_type": "execute_result"
    }
   ],
   "source": [
    "df1['INCOME'].isnull().sum()"
   ]
  },
  {
   "cell_type": "code",
   "execution_count": null,
   "id": "b9023388",
   "metadata": {},
   "outputs": [],
   "source": []
  },
  {
   "cell_type": "code",
   "execution_count": null,
   "id": "0fd81e46",
   "metadata": {},
   "outputs": [],
   "source": []
  },
  {
   "cell_type": "code",
   "execution_count": null,
   "id": "53e3a879",
   "metadata": {},
   "outputs": [],
   "source": []
  },
  {
   "cell_type": "code",
   "execution_count": null,
   "id": "cd1eff0e",
   "metadata": {},
   "outputs": [],
   "source": []
  },
  {
   "cell_type": "code",
   "execution_count": null,
   "id": "37dd16d1",
   "metadata": {},
   "outputs": [],
   "source": []
  },
  {
   "cell_type": "code",
   "execution_count": null,
   "id": "a1909965",
   "metadata": {},
   "outputs": [],
   "source": []
  },
  {
   "cell_type": "code",
   "execution_count": 125,
   "id": "9e1df89a",
   "metadata": {},
   "outputs": [
    {
     "name": "stderr",
     "output_type": "stream",
     "text": [
      "C:\\Users\\user\\Downloads\\jupyter\\lib\\site-packages\\seaborn\\_decorators.py:36: FutureWarning: Pass the following variable as a keyword arg: x. From version 0.12, the only valid positional argument will be `data`, and passing other arguments without an explicit keyword will result in an error or misinterpretation.\n",
      "  warnings.warn(\n"
     ]
    },
    {
     "data": {
      "text/plain": [
       "<AxesSubplot:xlabel='HOME_VAL'>"
      ]
     },
     "execution_count": 125,
     "metadata": {},
     "output_type": "execute_result"
    },
    {
     "data": {
      "image/png": "[encoded data removed]",
      "text/plain": [
       "<Figure size 432x288 with 1 Axes>"
      ]
     },
     "metadata": {
      "needs_background": "light"
     },
     "output_type": "display_data"
    }
   ],
   "source": [
    "sns.boxplot(df1['HOME_VAL'])"
   ]
  },
  {
   "cell_type": "code",
   "execution_count": 126,
   "id": "6d2ad06e",
   "metadata": {},
   "outputs": [
    {
     "data": {
      "text/plain": [
       "TIF\n",
       "1     159067.5\n",
       "2     187412.0\n",
       "3     163564.5\n",
       "4     159041.0\n",
       "5     159942.5\n",
       "6     159224.5\n",
       "7     159235.0\n",
       "8     196524.0\n",
       "9     161743.0\n",
       "10    159346.5\n",
       "11    159239.0\n",
       "12    167687.5\n",
       "13    182320.0\n",
       "14    145148.0\n",
       "15    169666.0\n",
       "16    139820.5\n",
       "17    175517.0\n",
       "18    154749.0\n",
       "19     87696.0\n",
       "20    149875.5\n",
       "21    193511.5\n",
       "22    135076.0\n",
       "25    240000.0\n",
       "Name: HOME_VAL, dtype: float64"
      ]
     },
     "execution_count": 126,
     "metadata": {},
     "output_type": "execute_result"
    }
   ],
   "source": [
    "df1.groupby('TIF')['HOME_VAL'].median()"
   ]
  },
  {
   "cell_type": "code",
   "execution_count": 127,
   "id": "32be92f0",
   "metadata": {},
   "outputs": [
    {
     "name": "stderr",
     "output_type": "stream",
     "text": [
      "C:\\Users\\user\\Downloads\\jupyter\\lib\\site-packages\\seaborn\\_decorators.py:36: FutureWarning: Pass the following variables as keyword args: x, y. From version 0.12, the only valid positional argument will be `data`, and passing other arguments without an explicit keyword will result in an error or misinterpretation.\n",
      "  warnings.warn(\n"
     ]
    },
    {
     "data": {
      "text/plain": [
       "<AxesSubplot:xlabel='TIF', ylabel='HOME_VAL'>"
      ]
     },
     "execution_count": 127,
     "metadata": {},
     "output_type": "execute_result"
    },
    {
     "data": {
      "image/png": "[encoded data removed]",
      "text/plain": [
       "<Figure size 432x288 with 1 Axes>"
      ]
     },
     "metadata": {
      "needs_background": "light"
     },
     "output_type": "display_data"
    }
   ],
   "source": [
    "sns.boxplot(df1['TIF'],df1['HOME_VAL'])"
   ]
  },
  {
   "cell_type": "code",
   "execution_count": 128,
   "id": "5ccb48a9",
   "metadata": {},
   "outputs": [
    {
     "data": {
      "text/html": [
       "<div>\n",
       "<style scoped>\n",
       "    .dataframe tbody tr th:only-of-type {\n",
       "        vertical-align: middle;\n",
       "    }\n",
       "\n",
       "    .dataframe tbody tr th {\n",
       "        vertical-align: top;\n",
       "    }\n",
       "\n",
       "    .dataframe thead th {\n",
       "        text-align: right;\n",
       "    }\n",
       "</style>\n",
       "<table border=\"1\" class=\"dataframe\">\n",
       "  <thead>\n",
       "    <tr style=\"text-align: right;\">\n",
       "      <th></th>\n",
       "      <th>ID</th>\n",
       "      <th>KIDSDRIV</th>\n",
       "      <th>AGE</th>\n",
       "      <th>HOMEKIDS</th>\n",
       "      <th>YOJ</th>\n",
       "      <th>INCOME</th>\n",
       "      <th>HOME_VAL</th>\n",
       "      <th>EDUCATION</th>\n",
       "      <th>OCCUPATION</th>\n",
       "      <th>TRAVTIME</th>\n",
       "      <th>...</th>\n",
       "      <th>CLM_AMT</th>\n",
       "      <th>CAR_AGE</th>\n",
       "      <th>CLAIM_FLAG</th>\n",
       "      <th>PARENT1_Yes</th>\n",
       "      <th>MSTATUS_z_No</th>\n",
       "      <th>GENDER_z_F</th>\n",
       "      <th>RED_CAR_yes</th>\n",
       "      <th>REVOKED_Yes</th>\n",
       "      <th>URBANICITY_z_Highly Rural/ Rural</th>\n",
       "      <th>CAR_USE_Private</th>\n",
       "    </tr>\n",
       "  </thead>\n",
       "  <tbody>\n",
       "    <tr>\n",
       "      <th>ID</th>\n",
       "      <td>1.000000</td>\n",
       "      <td>0.003508</td>\n",
       "      <td>-0.010437</td>\n",
       "      <td>0.009144</td>\n",
       "      <td>-0.008697</td>\n",
       "      <td>-0.022716</td>\n",
       "      <td>-0.014370</td>\n",
       "      <td>-0.013469</td>\n",
       "      <td>0.010004</td>\n",
       "      <td>-0.002410</td>\n",
       "      <td>...</td>\n",
       "      <td>-0.012758</td>\n",
       "      <td>-0.004771</td>\n",
       "      <td>-0.005938</td>\n",
       "      <td>-0.004776</td>\n",
       "      <td>0.004788</td>\n",
       "      <td>-0.009397</td>\n",
       "      <td>0.005298</td>\n",
       "      <td>0.000611</td>\n",
       "      <td>0.017789</td>\n",
       "      <td>-0.022025</td>\n",
       "    </tr>\n",
       "    <tr>\n",
       "      <th>KIDSDRIV</th>\n",
       "      <td>0.003508</td>\n",
       "      <td>1.000000</td>\n",
       "      <td>-0.078357</td>\n",
       "      <td>0.463653</td>\n",
       "      <td>0.041908</td>\n",
       "      <td>-0.046949</td>\n",
       "      <td>-0.015447</td>\n",
       "      <td>-0.075693</td>\n",
       "      <td>-0.003304</td>\n",
       "      <td>0.012207</td>\n",
       "      <td>...</td>\n",
       "      <td>0.068283</td>\n",
       "      <td>-0.059629</td>\n",
       "      <td>0.108421</td>\n",
       "      <td>0.200157</td>\n",
       "      <td>-0.041655</td>\n",
       "      <td>0.039712</td>\n",
       "      <td>-0.040508</td>\n",
       "      <td>0.033639</td>\n",
       "      <td>0.043622</td>\n",
       "      <td>0.004146</td>\n",
       "    </tr>\n",
       "    <tr>\n",
       "      <th>AGE</th>\n",
       "      <td>-0.010437</td>\n",
       "      <td>-0.078357</td>\n",
       "      <td>1.000000</td>\n",
       "      <td>-0.447645</td>\n",
       "      <td>0.137645</td>\n",
       "      <td>0.185179</td>\n",
       "      <td>0.209648</td>\n",
       "      <td>0.249084</td>\n",
       "      <td>0.009983</td>\n",
       "      <td>-0.001481</td>\n",
       "      <td>...</td>\n",
       "      <td>-0.049117</td>\n",
       "      <td>0.178713</td>\n",
       "      <td>-0.107095</td>\n",
       "      <td>-0.311044</td>\n",
       "      <td>-0.086994</td>\n",
       "      <td>-0.069553</td>\n",
       "      <td>0.025560</td>\n",
       "      <td>-0.044954</td>\n",
       "      <td>-0.042465</td>\n",
       "      <td>0.027181</td>\n",
       "    </tr>\n",
       "    <tr>\n",
       "      <th>HOMEKIDS</th>\n",
       "      <td>0.009144</td>\n",
       "      <td>0.463653</td>\n",
       "      <td>-0.447645</td>\n",
       "      <td>1.000000</td>\n",
       "      <td>0.071715</td>\n",
       "      <td>-0.158716</td>\n",
       "      <td>-0.107483</td>\n",
       "      <td>-0.205273</td>\n",
       "      <td>-0.028984</td>\n",
       "      <td>-0.000722</td>\n",
       "      <td>...</td>\n",
       "      <td>0.068646</td>\n",
       "      <td>-0.159008</td>\n",
       "      <td>0.123049</td>\n",
       "      <td>0.448719</td>\n",
       "      <td>-0.045968</td>\n",
       "      <td>0.113403</td>\n",
       "      <td>-0.068117</td>\n",
       "      <td>0.044181</td>\n",
       "      <td>0.061663</td>\n",
       "      <td>0.011858</td>\n",
       "    </tr>\n",
       "    <tr>\n",
       "      <th>YOJ</th>\n",
       "      <td>-0.008697</td>\n",
       "      <td>0.041908</td>\n",
       "      <td>0.137645</td>\n",
       "      <td>0.071715</td>\n",
       "      <td>1.000000</td>\n",
       "      <td>0.302546</td>\n",
       "      <td>0.274455</td>\n",
       "      <td>0.096105</td>\n",
       "      <td>0.018203</td>\n",
       "      <td>-0.019199</td>\n",
       "      <td>...</td>\n",
       "      <td>-0.024865</td>\n",
       "      <td>0.068811</td>\n",
       "      <td>-0.065840</td>\n",
       "      <td>-0.036466</td>\n",
       "      <td>-0.134175</td>\n",
       "      <td>-0.083634</td>\n",
       "      <td>0.053179</td>\n",
       "      <td>-0.008546</td>\n",
       "      <td>-0.081065</td>\n",
       "      <td>-0.026577</td>\n",
       "    </tr>\n",
       "    <tr>\n",
       "      <th>INCOME</th>\n",
       "      <td>-0.022716</td>\n",
       "      <td>-0.046949</td>\n",
       "      <td>0.185179</td>\n",
       "      <td>-0.158716</td>\n",
       "      <td>0.302546</td>\n",
       "      <td>1.000000</td>\n",
       "      <td>0.574566</td>\n",
       "      <td>0.601093</td>\n",
       "      <td>0.176768</td>\n",
       "      <td>-0.051365</td>\n",
       "      <td>...</td>\n",
       "      <td>-0.057065</td>\n",
       "      <td>0.416551</td>\n",
       "      <td>-0.140161</td>\n",
       "      <td>-0.064252</td>\n",
       "      <td>0.035458</td>\n",
       "      <td>-0.118980</td>\n",
       "      <td>0.069013</td>\n",
       "      <td>-0.020260</td>\n",
       "      <td>-0.205586</td>\n",
       "      <td>-0.089824</td>\n",
       "    </tr>\n",
       "    <tr>\n",
       "      <th>HOME_VAL</th>\n",
       "      <td>-0.014370</td>\n",
       "      <td>-0.015447</td>\n",
       "      <td>0.209648</td>\n",
       "      <td>-0.107483</td>\n",
       "      <td>0.274455</td>\n",
       "      <td>0.574566</td>\n",
       "      <td>1.000000</td>\n",
       "      <td>0.349313</td>\n",
       "      <td>0.066376</td>\n",
       "      <td>-0.035139</td>\n",
       "      <td>...</td>\n",
       "      <td>-0.091987</td>\n",
       "      <td>0.223198</td>\n",
       "      <td>-0.185390</td>\n",
       "      <td>-0.250375</td>\n",
       "      <td>-0.453815</td>\n",
       "      <td>-0.079170</td>\n",
       "      <td>0.030581</td>\n",
       "      <td>-0.044790</td>\n",
       "      <td>-0.116663</td>\n",
       "      <td>-0.033893</td>\n",
       "    </tr>\n",
       "    <tr>\n",
       "      <th>EDUCATION</th>\n",
       "      <td>-0.013469</td>\n",
       "      <td>-0.075693</td>\n",
       "      <td>0.249084</td>\n",
       "      <td>-0.205273</td>\n",
       "      <td>0.096105</td>\n",
       "      <td>0.601093</td>\n",
       "      <td>0.349313</td>\n",
       "      <td>1.000000</td>\n",
       "      <td>0.028638</td>\n",
       "      <td>-0.053723</td>\n",
       "      <td>...</td>\n",
       "      <td>-0.064032</td>\n",
       "      <td>0.695094</td>\n",
       "      <td>-0.139579</td>\n",
       "      <td>-0.083224</td>\n",
       "      <td>0.043057</td>\n",
       "      <td>-0.041325</td>\n",
       "      <td>0.022471</td>\n",
       "      <td>-0.017217</td>\n",
       "      <td>-0.228093</td>\n",
       "      <td>0.034905</td>\n",
       "    </tr>\n",
       "    <tr>\n",
       "      <th>OCCUPATION</th>\n",
       "      <td>0.010004</td>\n",
       "      <td>-0.003304</td>\n",
       "      <td>0.009983</td>\n",
       "      <td>-0.028984</td>\n",
       "      <td>0.018203</td>\n",
       "      <td>0.176768</td>\n",
       "      <td>0.066376</td>\n",
       "      <td>0.028638</td>\n",
       "      <td>1.000000</td>\n",
       "      <td>-0.007595</td>\n",
       "      <td>...</td>\n",
       "      <td>0.049446</td>\n",
       "      <td>0.025411</td>\n",
       "      <td>0.061061</td>\n",
       "      <td>-0.008923</td>\n",
       "      <td>0.010069</td>\n",
       "      <td>-0.158000</td>\n",
       "      <td>0.105488</td>\n",
       "      <td>0.005377</td>\n",
       "      <td>-0.067265</td>\n",
       "      <td>-0.515466</td>\n",
       "    </tr>\n",
       "    <tr>\n",
       "      <th>TRAVTIME</th>\n",
       "      <td>-0.002410</td>\n",
       "      <td>0.012207</td>\n",
       "      <td>-0.001481</td>\n",
       "      <td>-0.000722</td>\n",
       "      <td>-0.019199</td>\n",
       "      <td>-0.051365</td>\n",
       "      <td>-0.035139</td>\n",
       "      <td>-0.053723</td>\n",
       "      <td>-0.007595</td>\n",
       "      <td>1.000000</td>\n",
       "      <td>...</td>\n",
       "      <td>0.031270</td>\n",
       "      <td>-0.033290</td>\n",
       "      <td>0.053283</td>\n",
       "      <td>-0.015810</td>\n",
       "      <td>-0.006010</td>\n",
       "      <td>0.010539</td>\n",
       "      <td>0.003478</td>\n",
       "      <td>-0.002764</td>\n",
       "      <td>0.166567</td>\n",
       "      <td>-0.010988</td>\n",
       "    </tr>\n",
       "    <tr>\n",
       "      <th>BLUEBOOK</th>\n",
       "      <td>-0.000213</td>\n",
       "      <td>-0.028508</td>\n",
       "      <td>0.166391</td>\n",
       "      <td>-0.108569</td>\n",
       "      <td>0.148943</td>\n",
       "      <td>0.426235</td>\n",
       "      <td>0.261962</td>\n",
       "      <td>0.283591</td>\n",
       "      <td>0.130788</td>\n",
       "      <td>-0.022536</td>\n",
       "      <td>...</td>\n",
       "      <td>-0.002443</td>\n",
       "      <td>0.194366</td>\n",
       "      <td>-0.103287</td>\n",
       "      <td>-0.049512</td>\n",
       "      <td>0.007260</td>\n",
       "      <td>-0.062378</td>\n",
       "      <td>0.026690</td>\n",
       "      <td>-0.028939</td>\n",
       "      <td>-0.086777</td>\n",
       "      <td>-0.226716</td>\n",
       "    </tr>\n",
       "    <tr>\n",
       "      <th>TIF</th>\n",
       "      <td>-0.010196</td>\n",
       "      <td>-0.005830</td>\n",
       "      <td>-0.002007</td>\n",
       "      <td>0.007509</td>\n",
       "      <td>0.022479</td>\n",
       "      <td>0.002517</td>\n",
       "      <td>0.006768</td>\n",
       "      <td>-0.000216</td>\n",
       "      <td>0.005381</td>\n",
       "      <td>-0.013327</td>\n",
       "      <td>...</td>\n",
       "      <td>-0.046518</td>\n",
       "      <td>0.007897</td>\n",
       "      <td>-0.081225</td>\n",
       "      <td>0.009043</td>\n",
       "      <td>0.006839</td>\n",
       "      <td>0.007191</td>\n",
       "      <td>-0.007116</td>\n",
       "      <td>-0.031851</td>\n",
       "      <td>-0.006953</td>\n",
       "      <td>-0.003762</td>\n",
       "    </tr>\n",
       "    <tr>\n",
       "      <th>CAR_TYPE</th>\n",
       "      <td>-0.018360</td>\n",
       "      <td>0.018767</td>\n",
       "      <td>-0.030694</td>\n",
       "      <td>0.071061</td>\n",
       "      <td>-0.069473</td>\n",
       "      <td>-0.126102</td>\n",
       "      <td>-0.075419</td>\n",
       "      <td>-0.071824</td>\n",
       "      <td>-0.074022</td>\n",
       "      <td>0.010855</td>\n",
       "      <td>...</td>\n",
       "      <td>0.043611</td>\n",
       "      <td>-0.061646</td>\n",
       "      <td>0.093289</td>\n",
       "      <td>0.034897</td>\n",
       "      <td>-0.003136</td>\n",
       "      <td>0.491215</td>\n",
       "      <td>-0.339413</td>\n",
       "      <td>0.031349</td>\n",
       "      <td>0.038805</td>\n",
       "      <td>0.099698</td>\n",
       "    </tr>\n",
       "    <tr>\n",
       "      <th>OLDCLAIM</th>\n",
       "      <td>0.002615</td>\n",
       "      <td>0.023886</td>\n",
       "      <td>-0.033348</td>\n",
       "      <td>0.029756</td>\n",
       "      <td>-0.005749</td>\n",
       "      <td>-0.034640</td>\n",
       "      <td>-0.059803</td>\n",
       "      <td>-0.021227</td>\n",
       "      <td>0.020475</td>\n",
       "      <td>-0.013806</td>\n",
       "      <td>...</td>\n",
       "      <td>0.076535</td>\n",
       "      <td>-0.019163</td>\n",
       "      <td>0.142918</td>\n",
       "      <td>0.039312</td>\n",
       "      <td>0.044617</td>\n",
       "      <td>0.004155</td>\n",
       "      <td>0.006448</td>\n",
       "      <td>0.418210</td>\n",
       "      <td>-0.154328</td>\n",
       "      <td>-0.032111</td>\n",
       "    </tr>\n",
       "    <tr>\n",
       "      <th>CLM_FREQ</th>\n",
       "      <td>-0.001436</td>\n",
       "      <td>0.038952</td>\n",
       "      <td>-0.037720</td>\n",
       "      <td>0.038661</td>\n",
       "      <td>-0.023259</td>\n",
       "      <td>-0.044259</td>\n",
       "      <td>-0.093854</td>\n",
       "      <td>-0.019033</td>\n",
       "      <td>0.048068</td>\n",
       "      <td>0.008274</td>\n",
       "      <td>...</td>\n",
       "      <td>0.122204</td>\n",
       "      <td>-0.018904</td>\n",
       "      <td>0.222618</td>\n",
       "      <td>0.061613</td>\n",
       "      <td>0.070560</td>\n",
       "      <td>-0.014001</td>\n",
       "      <td>0.023395</td>\n",
       "      <td>0.055509</td>\n",
       "      <td>-0.243015</td>\n",
       "      <td>-0.077986</td>\n",
       "    </tr>\n",
       "    <tr>\n",
       "      <th>MVR_PTS</th>\n",
       "      <td>0.008391</td>\n",
       "      <td>0.048424</td>\n",
       "      <td>-0.075926</td>\n",
       "      <td>0.064294</td>\n",
       "      <td>-0.039379</td>\n",
       "      <td>-0.060036</td>\n",
       "      <td>-0.092460</td>\n",
       "      <td>-0.049061</td>\n",
       "      <td>0.039434</td>\n",
       "      <td>0.009694</td>\n",
       "      <td>...</td>\n",
       "      <td>0.133567</td>\n",
       "      <td>-0.033898</td>\n",
       "      <td>0.222485</td>\n",
       "      <td>0.070142</td>\n",
       "      <td>0.050898</td>\n",
       "      <td>0.011111</td>\n",
       "      <td>0.002637</td>\n",
       "      <td>0.050140</td>\n",
       "      <td>-0.154954</td>\n",
       "      <td>-0.069673</td>\n",
       "    </tr>\n",
       "    <tr>\n",
       "      <th>CLM_AMT</th>\n",
       "      <td>-0.012758</td>\n",
       "      <td>0.068283</td>\n",
       "      <td>-0.049117</td>\n",
       "      <td>0.068646</td>\n",
       "      <td>-0.024865</td>\n",
       "      <td>-0.057065</td>\n",
       "      <td>-0.091987</td>\n",
       "      <td>-0.064032</td>\n",
       "      <td>0.049446</td>\n",
       "      <td>0.031270</td>\n",
       "      <td>...</td>\n",
       "      <td>1.000000</td>\n",
       "      <td>-0.066060</td>\n",
       "      <td>0.530558</td>\n",
       "      <td>0.096230</td>\n",
       "      <td>0.083848</td>\n",
       "      <td>-0.003387</td>\n",
       "      <td>0.004024</td>\n",
       "      <td>0.072482</td>\n",
       "      <td>-0.121531</td>\n",
       "      <td>-0.095657</td>\n",
       "    </tr>\n",
       "    <tr>\n",
       "      <th>CAR_AGE</th>\n",
       "      <td>-0.004771</td>\n",
       "      <td>-0.059629</td>\n",
       "      <td>0.178713</td>\n",
       "      <td>-0.159008</td>\n",
       "      <td>0.068811</td>\n",
       "      <td>0.416551</td>\n",
       "      <td>0.223198</td>\n",
       "      <td>0.695094</td>\n",
       "      <td>0.025411</td>\n",
       "      <td>-0.033290</td>\n",
       "      <td>...</td>\n",
       "      <td>-0.066060</td>\n",
       "      <td>1.000000</td>\n",
       "      <td>-0.109818</td>\n",
       "      <td>-0.066275</td>\n",
       "      <td>0.035234</td>\n",
       "      <td>-0.025616</td>\n",
       "      <td>0.016724</td>\n",
       "      <td>-0.020124</td>\n",
       "      <td>-0.168274</td>\n",
       "      <td>0.065416</td>\n",
       "    </tr>\n",
       "    <tr>\n",
       "      <th>CLAIM_FLAG</th>\n",
       "      <td>-0.005938</td>\n",
       "      <td>0.108421</td>\n",
       "      <td>-0.107095</td>\n",
       "      <td>0.123049</td>\n",
       "      <td>-0.065840</td>\n",
       "      <td>-0.140161</td>\n",
       "      <td>-0.185390</td>\n",
       "      <td>-0.139579</td>\n",
       "      <td>0.061061</td>\n",
       "      <td>0.053283</td>\n",
       "      <td>...</td>\n",
       "      <td>0.530558</td>\n",
       "      <td>-0.109818</td>\n",
       "      <td>1.000000</td>\n",
       "      <td>0.158455</td>\n",
       "      <td>0.129728</td>\n",
       "      <td>0.022009</td>\n",
       "      <td>-0.007388</td>\n",
       "      <td>0.155988</td>\n",
       "      <td>-0.229092</td>\n",
       "      <td>-0.136601</td>\n",
       "    </tr>\n",
       "    <tr>\n",
       "      <th>PARENT1_Yes</th>\n",
       "      <td>-0.004776</td>\n",
       "      <td>0.200157</td>\n",
       "      <td>-0.311044</td>\n",
       "      <td>0.448719</td>\n",
       "      <td>-0.036466</td>\n",
       "      <td>-0.064252</td>\n",
       "      <td>-0.250375</td>\n",
       "      <td>-0.083224</td>\n",
       "      <td>-0.008923</td>\n",
       "      <td>-0.015810</td>\n",
       "      <td>...</td>\n",
       "      <td>0.096230</td>\n",
       "      <td>-0.066275</td>\n",
       "      <td>0.158455</td>\n",
       "      <td>1.000000</td>\n",
       "      <td>0.474844</td>\n",
       "      <td>0.068894</td>\n",
       "      <td>-0.044500</td>\n",
       "      <td>0.050676</td>\n",
       "      <td>0.022215</td>\n",
       "      <td>-0.002424</td>\n",
       "    </tr>\n",
       "    <tr>\n",
       "      <th>MSTATUS_z_No</th>\n",
       "      <td>0.004788</td>\n",
       "      <td>-0.041655</td>\n",
       "      <td>-0.086994</td>\n",
       "      <td>-0.045968</td>\n",
       "      <td>-0.134175</td>\n",
       "      <td>0.035458</td>\n",
       "      <td>-0.453815</td>\n",
       "      <td>0.043057</td>\n",
       "      <td>0.010069</td>\n",
       "      <td>-0.006010</td>\n",
       "      <td>...</td>\n",
       "      <td>0.083848</td>\n",
       "      <td>0.035234</td>\n",
       "      <td>0.129728</td>\n",
       "      <td>0.474844</td>\n",
       "      <td>1.000000</td>\n",
       "      <td>-0.000930</td>\n",
       "      <td>0.013803</td>\n",
       "      <td>0.040777</td>\n",
       "      <td>-0.006642</td>\n",
       "      <td>-0.011879</td>\n",
       "    </tr>\n",
       "    <tr>\n",
       "      <th>GENDER_z_F</th>\n",
       "      <td>-0.009397</td>\n",
       "      <td>0.039712</td>\n",
       "      <td>-0.069553</td>\n",
       "      <td>0.113403</td>\n",
       "      <td>-0.083634</td>\n",
       "      <td>-0.118980</td>\n",
       "      <td>-0.079170</td>\n",
       "      <td>-0.041325</td>\n",
       "      <td>-0.158000</td>\n",
       "      <td>0.010539</td>\n",
       "      <td>...</td>\n",
       "      <td>-0.003387</td>\n",
       "      <td>-0.025616</td>\n",
       "      <td>0.022009</td>\n",
       "      <td>0.068894</td>\n",
       "      <td>-0.000930</td>\n",
       "      <td>1.000000</td>\n",
       "      <td>-0.663209</td>\n",
       "      <td>0.011450</td>\n",
       "      <td>0.046028</td>\n",
       "      <td>0.282008</td>\n",
       "    </tr>\n",
       "    <tr>\n",
       "      <th>RED_CAR_yes</th>\n",
       "      <td>0.005298</td>\n",
       "      <td>-0.040508</td>\n",
       "      <td>0.025560</td>\n",
       "      <td>-0.068117</td>\n",
       "      <td>0.053179</td>\n",
       "      <td>0.069013</td>\n",
       "      <td>0.030581</td>\n",
       "      <td>0.022471</td>\n",
       "      <td>0.105488</td>\n",
       "      <td>0.003478</td>\n",
       "      <td>...</td>\n",
       "      <td>0.004024</td>\n",
       "      <td>0.016724</td>\n",
       "      <td>-0.007388</td>\n",
       "      <td>-0.044500</td>\n",
       "      <td>0.013803</td>\n",
       "      <td>-0.663209</td>\n",
       "      <td>1.000000</td>\n",
       "      <td>-0.009326</td>\n",
       "      <td>-0.041435</td>\n",
       "      <td>-0.189847</td>\n",
       "    </tr>\n",
       "    <tr>\n",
       "      <th>REVOKED_Yes</th>\n",
       "      <td>0.000611</td>\n",
       "      <td>0.033639</td>\n",
       "      <td>-0.044954</td>\n",
       "      <td>0.044181</td>\n",
       "      <td>-0.008546</td>\n",
       "      <td>-0.020260</td>\n",
       "      <td>-0.044790</td>\n",
       "      <td>-0.017217</td>\n",
       "      <td>0.005377</td>\n",
       "      <td>-0.002764</td>\n",
       "      <td>...</td>\n",
       "      <td>0.072482</td>\n",
       "      <td>-0.020124</td>\n",
       "      <td>0.155988</td>\n",
       "      <td>0.050676</td>\n",
       "      <td>0.040777</td>\n",
       "      <td>0.011450</td>\n",
       "      <td>-0.009326</td>\n",
       "      <td>1.000000</td>\n",
       "      <td>-0.086904</td>\n",
       "      <td>-0.011801</td>\n",
       "    </tr>\n",
       "    <tr>\n",
       "      <th>URBANICITY_z_Highly Rural/ Rural</th>\n",
       "      <td>0.017789</td>\n",
       "      <td>0.043622</td>\n",
       "      <td>-0.042465</td>\n",
       "      <td>0.061663</td>\n",
       "      <td>-0.081065</td>\n",
       "      <td>-0.205586</td>\n",
       "      <td>-0.116663</td>\n",
       "      <td>-0.228093</td>\n",
       "      <td>-0.067265</td>\n",
       "      <td>0.166567</td>\n",
       "      <td>...</td>\n",
       "      <td>-0.121531</td>\n",
       "      <td>-0.168274</td>\n",
       "      <td>-0.229092</td>\n",
       "      <td>0.022215</td>\n",
       "      <td>-0.006642</td>\n",
       "      <td>0.046028</td>\n",
       "      <td>-0.041435</td>\n",
       "      <td>-0.086904</td>\n",
       "      <td>1.000000</td>\n",
       "      <td>-0.020557</td>\n",
       "    </tr>\n",
       "    <tr>\n",
       "      <th>CAR_USE_Private</th>\n",
       "      <td>-0.022025</td>\n",
       "      <td>0.004146</td>\n",
       "      <td>0.027181</td>\n",
       "      <td>0.011858</td>\n",
       "      <td>-0.026577</td>\n",
       "      <td>-0.089824</td>\n",
       "      <td>-0.033893</td>\n",
       "      <td>0.034905</td>\n",
       "      <td>-0.515466</td>\n",
       "      <td>-0.010988</td>\n",
       "      <td>...</td>\n",
       "      <td>-0.095657</td>\n",
       "      <td>0.065416</td>\n",
       "      <td>-0.136601</td>\n",
       "      <td>-0.002424</td>\n",
       "      <td>-0.011879</td>\n",
       "      <td>0.282008</td>\n",
       "      <td>-0.189847</td>\n",
       "      <td>-0.011801</td>\n",
       "      <td>-0.020557</td>\n",
       "      <td>1.000000</td>\n",
       "    </tr>\n",
       "  </tbody>\n",
       "</table>\n",
       "<p>26 rows × 26 columns</p>\n",
       "</div>"
      ],
      "text/plain": [
       "                                        ID  KIDSDRIV       AGE  HOMEKIDS  \\\n",
       "ID                                1.000000  0.003508 -0.010437  0.009144   \n",
       "KIDSDRIV                          0.003508  1.000000 -0.078357  0.463653   \n",
       "AGE                              -0.010437 -0.078357  1.000000 -0.447645   \n",
       "HOMEKIDS                          0.009144  0.463653 -0.447645  1.000000   \n",
       "YOJ                              -0.008697  0.041908  0.137645  0.071715   \n",
       "INCOME                           -0.022716 -0.046949  0.185179 -0.158716   \n",
       "HOME_VAL                         -0.014370 -0.015447  0.209648 -0.107483   \n",
       "EDUCATION                        -0.013469 -0.075693  0.249084 -0.205273   \n",
       "OCCUPATION                        0.010004 -0.003304  0.009983 -0.028984   \n",
       "TRAVTIME                         -0.002410  0.012207 -0.001481 -0.000722   \n",
       "BLUEBOOK                         -0.000213 -0.028508  0.166391 -0.108569   \n",
       "TIF                              -0.010196 -0.005830 -0.002007  0.007509   \n",
       "CAR_TYPE                         -0.018360  0.018767 -0.030694  0.071061   \n",
       "OLDCLAIM                          0.002615  0.023886 -0.033348  0.029756   \n",
       "CLM_FREQ                         -0.001436  0.038952 -0.037720  0.038661   \n",
       "MVR_PTS                           0.008391  0.048424 -0.075926  0.064294   \n",
       "CLM_AMT                          -0.012758  0.068283 -0.049117  0.068646   \n",
       "CAR_AGE                          -0.004771 -0.059629  0.178713 -0.159008   \n",
       "CLAIM_FLAG                       -0.005938  0.108421 -0.107095  0.123049   \n",
       "PARENT1_Yes                      -0.004776  0.200157 -0.311044  0.448719   \n",
       "MSTATUS_z_No                      0.004788 -0.041655 -0.086994 -0.045968   \n",
       "GENDER_z_F                       -0.009397  0.039712 -0.069553  0.113403   \n",
       "RED_CAR_yes                       0.005298 -0.040508  0.025560 -0.068117   \n",
       "REVOKED_Yes                       0.000611  0.033639 -0.044954  0.044181   \n",
       "URBANICITY_z_Highly Rural/ Rural  0.017789  0.043622 -0.042465  0.061663   \n",
       "CAR_USE_Private                  -0.022025  0.004146  0.027181  0.011858   \n",
       "\n",
       "                                       YOJ    INCOME  HOME_VAL  EDUCATION  \\\n",
       "ID                               -0.008697 -0.022716 -0.014370  -0.013469   \n",
       "KIDSDRIV                          0.041908 -0.046949 -0.015447  -0.075693   \n",
       "AGE                               0.137645  0.185179  0.209648   0.249084   \n",
       "HOMEKIDS                          0.071715 -0.158716 -0.107483  -0.205273   \n",
       "YOJ                               1.000000  0.302546  0.274455   0.096105   \n",
       "INCOME                            0.302546  1.000000  0.574566   0.601093   \n",
       "HOME_VAL                          0.274455  0.574566  1.000000   0.349313   \n",
       "EDUCATION                         0.096105  0.601093  0.349313   1.000000   \n",
       "OCCUPATION                        0.018203  0.176768  0.066376   0.028638   \n",
       "TRAVTIME                         -0.019199 -0.051365 -0.035139  -0.053723   \n",
       "BLUEBOOK                          0.148943  0.426235  0.261962   0.283591   \n",
       "TIF                               0.022479  0.002517  0.006768  -0.000216   \n",
       "CAR_TYPE                         -0.069473 -0.126102 -0.075419  -0.071824   \n",
       "OLDCLAIM                         -0.005749 -0.034640 -0.059803  -0.021227   \n",
       "CLM_FREQ                         -0.023259 -0.044259 -0.093854  -0.019033   \n",
       "MVR_PTS                          -0.039379 -0.060036 -0.092460  -0.049061   \n",
       "CLM_AMT                          -0.024865 -0.057065 -0.091987  -0.064032   \n",
       "CAR_AGE                           0.068811  0.416551  0.223198   0.695094   \n",
       "CLAIM_FLAG                       -0.065840 -0.140161 -0.185390  -0.139579   \n",
       "PARENT1_Yes                      -0.036466 -0.064252 -0.250375  -0.083224   \n",
       "MSTATUS_z_No                     -0.134175  0.035458 -0.453815   0.043057   \n",
       "GENDER_z_F                       -0.083634 -0.118980 -0.079170  -0.041325   \n",
       "RED_CAR_yes                       0.053179  0.069013  0.030581   0.022471   \n",
       "REVOKED_Yes                      -0.008546 -0.020260 -0.044790  -0.017217   \n",
       "URBANICITY_z_Highly Rural/ Rural -0.081065 -0.205586 -0.116663  -0.228093   \n",
       "CAR_USE_Private                  -0.026577 -0.089824 -0.033893   0.034905   \n",
       "\n",
       "                                  OCCUPATION  TRAVTIME  ...   CLM_AMT  \\\n",
       "ID                                  0.010004 -0.002410  ... -0.012758   \n",
       "KIDSDRIV                           -0.003304  0.012207  ...  0.068283   \n",
       "AGE                                 0.009983 -0.001481  ... -0.049117   \n",
       "HOMEKIDS                           -0.028984 -0.000722  ...  0.068646   \n",
       "YOJ                                 0.018203 -0.019199  ... -0.024865   \n",
       "INCOME                              0.176768 -0.051365  ... -0.057065   \n",
       "HOME_VAL                            0.066376 -0.035139  ... -0.091987   \n",
       "EDUCATION                           0.028638 -0.053723  ... -0.064032   \n",
       "OCCUPATION                          1.000000 -0.007595  ...  0.049446   \n",
       "TRAVTIME                           -0.007595  1.000000  ...  0.031270   \n",
       "BLUEBOOK                            0.130788 -0.022536  ... -0.002443   \n",
       "TIF                                 0.005381 -0.013327  ... -0.046518   \n",
       "CAR_TYPE                           -0.074022  0.010855  ...  0.043611   \n",
       "OLDCLAIM                            0.020475 -0.013806  ...  0.076535   \n",
       "CLM_FREQ                            0.048068  0.008274  ...  0.122204   \n",
       "MVR_PTS                             0.039434  0.009694  ...  0.133567   \n",
       "CLM_AMT                             0.049446  0.031270  ...  1.000000   \n",
       "CAR_AGE                             0.025411 -0.033290  ... -0.066060   \n",
       "CLAIM_FLAG                          0.061061  0.053283  ...  0.530558   \n",
       "PARENT1_Yes                        -0.008923 -0.015810  ...  0.096230   \n",
       "MSTATUS_z_No                        0.010069 -0.006010  ...  0.083848   \n",
       "GENDER_z_F                         -0.158000  0.010539  ... -0.003387   \n",
       "RED_CAR_yes                         0.105488  0.003478  ...  0.004024   \n",
       "REVOKED_Yes                         0.005377 -0.002764  ...  0.072482   \n",
       "URBANICITY_z_Highly Rural/ Rural   -0.067265  0.166567  ... -0.121531   \n",
       "CAR_USE_Private                    -0.515466 -0.010988  ... -0.095657   \n",
       "\n",
       "                                   CAR_AGE  CLAIM_FLAG  PARENT1_Yes  \\\n",
       "ID                               -0.004771   -0.005938    -0.004776   \n",
       "KIDSDRIV                         -0.059629    0.108421     0.200157   \n",
       "AGE                               0.178713   -0.107095    -0.311044   \n",
       "HOMEKIDS                         -0.159008    0.123049     0.448719   \n",
       "YOJ                               0.068811   -0.065840    -0.036466   \n",
       "INCOME                            0.416551   -0.140161    -0.064252   \n",
       "HOME_VAL                          0.223198   -0.185390    -0.250375   \n",
       "EDUCATION                         0.695094   -0.139579    -0.083224   \n",
       "OCCUPATION                        0.025411    0.061061    -0.008923   \n",
       "TRAVTIME                         -0.033290    0.053283    -0.015810   \n",
       "BLUEBOOK                          0.194366   -0.103287    -0.049512   \n",
       "TIF                               0.007897   -0.081225     0.009043   \n",
       "CAR_TYPE                         -0.061646    0.093289     0.034897   \n",
       "OLDCLAIM                         -0.019163    0.142918     0.039312   \n",
       "CLM_FREQ                         -0.018904    0.222618     0.061613   \n",
       "MVR_PTS                          -0.033898    0.222485     0.070142   \n",
       "CLM_AMT                          -0.066060    0.530558     0.096230   \n",
       "CAR_AGE                           1.000000   -0.109818    -0.066275   \n",
       "CLAIM_FLAG                       -0.109818    1.000000     0.158455   \n",
       "PARENT1_Yes                      -0.066275    0.158455     1.000000   \n",
       "MSTATUS_z_No                      0.035234    0.129728     0.474844   \n",
       "GENDER_z_F                       -0.025616    0.022009     0.068894   \n",
       "RED_CAR_yes                       0.016724   -0.007388    -0.044500   \n",
       "REVOKED_Yes                      -0.020124    0.155988     0.050676   \n",
       "URBANICITY_z_Highly Rural/ Rural -0.168274   -0.229092     0.022215   \n",
       "CAR_USE_Private                   0.065416   -0.136601    -0.002424   \n",
       "\n",
       "                                  MSTATUS_z_No  GENDER_z_F  RED_CAR_yes  \\\n",
       "ID                                    0.004788   -0.009397     0.005298   \n",
       "KIDSDRIV                             -0.041655    0.039712    -0.040508   \n",
       "AGE                                  -0.086994   -0.069553     0.025560   \n",
       "HOMEKIDS                             -0.045968    0.113403    -0.068117   \n",
       "YOJ                                  -0.134175   -0.083634     0.053179   \n",
       "INCOME                                0.035458   -0.118980     0.069013   \n",
       "HOME_VAL                             -0.453815   -0.079170     0.030581   \n",
       "EDUCATION                             0.043057   -0.041325     0.022471   \n",
       "OCCUPATION                            0.010069   -0.158000     0.105488   \n",
       "TRAVTIME                             -0.006010    0.010539     0.003478   \n",
       "BLUEBOOK                              0.007260   -0.062378     0.026690   \n",
       "TIF                                   0.006839    0.007191    -0.007116   \n",
       "CAR_TYPE                             -0.003136    0.491215    -0.339413   \n",
       "OLDCLAIM                              0.044617    0.004155     0.006448   \n",
       "CLM_FREQ                              0.070560   -0.014001     0.023395   \n",
       "MVR_PTS                               0.050898    0.011111     0.002637   \n",
       "CLM_AMT                               0.083848   -0.003387     0.004024   \n",
       "CAR_AGE                               0.035234   -0.025616     0.016724   \n",
       "CLAIM_FLAG                            0.129728    0.022009    -0.007388   \n",
       "PARENT1_Yes                           0.474844    0.068894    -0.044500   \n",
       "MSTATUS_z_No                          1.000000   -0.000930     0.013803   \n",
       "GENDER_z_F                           -0.000930    1.000000    -0.663209   \n",
       "RED_CAR_yes                           0.013803   -0.663209     1.000000   \n",
       "REVOKED_Yes                           0.040777    0.011450    -0.009326   \n",
       "URBANICITY_z_Highly Rural/ Rural     -0.006642    0.046028    -0.041435   \n",
       "CAR_USE_Private                      -0.011879    0.282008    -0.189847   \n",
       "\n",
       "                                  REVOKED_Yes  \\\n",
       "ID                                   0.000611   \n",
       "KIDSDRIV                             0.033639   \n",
       "AGE                                 -0.044954   \n",
       "HOMEKIDS                             0.044181   \n",
       "YOJ                                 -0.008546   \n",
       "INCOME                              -0.020260   \n",
       "HOME_VAL                            -0.044790   \n",
       "EDUCATION                           -0.017217   \n",
       "OCCUPATION                           0.005377   \n",
       "TRAVTIME                            -0.002764   \n",
       "BLUEBOOK                            -0.028939   \n",
       "TIF                                 -0.031851   \n",
       "CAR_TYPE                             0.031349   \n",
       "OLDCLAIM                             0.418210   \n",
       "CLM_FREQ                             0.055509   \n",
       "MVR_PTS                              0.050140   \n",
       "CLM_AMT                              0.072482   \n",
       "CAR_AGE                             -0.020124   \n",
       "CLAIM_FLAG                           0.155988   \n",
       "PARENT1_Yes                          0.050676   \n",
       "MSTATUS_z_No                         0.040777   \n",
       "GENDER_z_F                           0.011450   \n",
       "RED_CAR_yes                         -0.009326   \n",
       "REVOKED_Yes                          1.000000   \n",
       "URBANICITY_z_Highly Rural/ Rural    -0.086904   \n",
       "CAR_USE_Private                     -0.011801   \n",
       "\n",
       "                                  URBANICITY_z_Highly Rural/ Rural  \\\n",
       "ID                                                        0.017789   \n",
       "KIDSDRIV                                                  0.043622   \n",
       "AGE                                                      -0.042465   \n",
       "HOMEKIDS                                                  0.061663   \n",
       "YOJ                                                      -0.081065   \n",
       "INCOME                                                   -0.205586   \n",
       "HOME_VAL                                                 -0.116663   \n",
       "EDUCATION                                                -0.228093   \n",
       "OCCUPATION                                               -0.067265   \n",
       "TRAVTIME                                                  0.166567   \n",
       "BLUEBOOK                                                 -0.086777   \n",
       "TIF                                                      -0.006953   \n",
       "CAR_TYPE                                                  0.038805   \n",
       "OLDCLAIM                                                 -0.154328   \n",
       "CLM_FREQ                                                 -0.243015   \n",
       "MVR_PTS                                                  -0.154954   \n",
       "CLM_AMT                                                  -0.121531   \n",
       "CAR_AGE                                                  -0.168274   \n",
       "CLAIM_FLAG                                               -0.229092   \n",
       "PARENT1_Yes                                               0.022215   \n",
       "MSTATUS_z_No                                             -0.006642   \n",
       "GENDER_z_F                                                0.046028   \n",
       "RED_CAR_yes                                              -0.041435   \n",
       "REVOKED_Yes                                              -0.086904   \n",
       "URBANICITY_z_Highly Rural/ Rural                          1.000000   \n",
       "CAR_USE_Private                                          -0.020557   \n",
       "\n",
       "                                  CAR_USE_Private  \n",
       "ID                                      -0.022025  \n",
       "KIDSDRIV                                 0.004146  \n",
       "AGE                                      0.027181  \n",
       "HOMEKIDS                                 0.011858  \n",
       "YOJ                                     -0.026577  \n",
       "INCOME                                  -0.089824  \n",
       "HOME_VAL                                -0.033893  \n",
       "EDUCATION                                0.034905  \n",
       "OCCUPATION                              -0.515466  \n",
       "TRAVTIME                                -0.010988  \n",
       "BLUEBOOK                                -0.226716  \n",
       "TIF                                     -0.003762  \n",
       "CAR_TYPE                                 0.099698  \n",
       "OLDCLAIM                                -0.032111  \n",
       "CLM_FREQ                                -0.077986  \n",
       "MVR_PTS                                 -0.069673  \n",
       "CLM_AMT                                 -0.095657  \n",
       "CAR_AGE                                  0.065416  \n",
       "CLAIM_FLAG                              -0.136601  \n",
       "PARENT1_Yes                             -0.002424  \n",
       "MSTATUS_z_No                            -0.011879  \n",
       "GENDER_z_F                               0.282008  \n",
       "RED_CAR_yes                             -0.189847  \n",
       "REVOKED_Yes                             -0.011801  \n",
       "URBANICITY_z_Highly Rural/ Rural        -0.020557  \n",
       "CAR_USE_Private                          1.000000  \n",
       "\n",
       "[26 rows x 26 columns]"
      ]
     },
     "execution_count": 128,
     "metadata": {},
     "output_type": "execute_result"
    }
   ],
   "source": [
    "df1.corr()"
   ]
  },
  {
   "cell_type": "code",
   "execution_count": 129,
   "id": "c4582a4f",
   "metadata": {},
   "outputs": [
    {
     "data": {
      "text/plain": [
       "OCCUPATION\n",
       "0    133631.0\n",
       "1    282708.0\n",
       "2     92206.5\n",
       "3    229325.0\n",
       "4    221902.0\n",
       "5    211873.5\n",
       "6         0.0\n",
       "7    176831.0\n",
       "8    240260.5\n",
       "Name: HOME_VAL, dtype: float64"
      ]
     },
     "execution_count": 129,
     "metadata": {},
     "output_type": "execute_result"
    }
   ],
   "source": [
    "df1.groupby(['OCCUPATION'])['HOME_VAL'].median()"
   ]
  },
  {
   "cell_type": "code",
   "execution_count": 130,
   "id": "52f49c0e",
   "metadata": {},
   "outputs": [
    {
     "name": "stderr",
     "output_type": "stream",
     "text": [
      "C:\\Users\\user\\Downloads\\jupyter\\lib\\site-packages\\seaborn\\_decorators.py:36: FutureWarning: Pass the following variables as keyword args: x, y. From version 0.12, the only valid positional argument will be `data`, and passing other arguments without an explicit keyword will result in an error or misinterpretation.\n",
      "  warnings.warn(\n"
     ]
    },
    {
     "data": {
      "text/plain": [
       "<AxesSubplot:xlabel='OCCUPATION', ylabel='HOME_VAL'>"
      ]
     },
     "execution_count": 130,
     "metadata": {},
     "output_type": "execute_result"
    },
    {
     "data": {
      "image/png": "[encoded data removed]",
      "text/plain": [
       "<Figure size 432x288 with 1 Axes>"
      ]
     },
     "metadata": {
      "needs_background": "light"
     },
     "output_type": "display_data"
    }
   ],
   "source": [
    "sns.boxplot(df1['OCCUPATION'],df1['HOME_VAL'])"
   ]
  },
  {
   "cell_type": "code",
   "execution_count": 131,
   "id": "899074fb",
   "metadata": {},
   "outputs": [
    {
     "name": "stderr",
     "output_type": "stream",
     "text": [
      "C:\\Users\\user\\Downloads\\jupyter\\lib\\site-packages\\seaborn\\_decorators.py:36: FutureWarning: Pass the following variables as keyword args: x, y. From version 0.12, the only valid positional argument will be `data`, and passing other arguments without an explicit keyword will result in an error or misinterpretation.\n",
      "  warnings.warn(\n"
     ]
    },
    {
     "data": {
      "text/plain": [
       "<AxesSubplot:xlabel='URBANICITY_z_Highly Rural/ Rural', ylabel='HOME_VAL'>"
      ]
     },
     "execution_count": 131,
     "metadata": {},
     "output_type": "execute_result"
    },
    {
     "data": {
      "image/png": "[encoded data removed]",
      "text/plain": [
       "<Figure size 432x288 with 1 Axes>"
      ]
     },
     "metadata": {
      "needs_background": "light"
     },
     "output_type": "display_data"
    }
   ],
   "source": [
    "sns.boxplot(df1['URBANICITY_z_Highly Rural/ Rural'],df1['HOME_VAL'])"
   ]
  },
  {
   "cell_type": "code",
   "execution_count": 132,
   "id": "de0277be",
   "metadata": {},
   "outputs": [],
   "source": [
    "df1['HOME_VAL'].fillna(df1.groupby(['OCCUPATION','URBANICITY_z_Highly Rural/ Rural'])['HOME_VAL'].transform('median'),inplace=True)"
   ]
  },
  {
   "cell_type": "code",
   "execution_count": 133,
   "id": "3d820069",
   "metadata": {},
   "outputs": [
    {
     "data": {
      "text/plain": [
       "0"
      ]
     },
     "execution_count": 133,
     "metadata": {},
     "output_type": "execute_result"
    }
   ],
   "source": [
    "df1['HOME_VAL'].isnull().sum()"
   ]
  },
  {
   "cell_type": "markdown",
   "id": "d0b27a8d",
   "metadata": {},
   "source": [
    "# Handling Anomalies in Data"
   ]
  },
  {
   "cell_type": "code",
   "execution_count": 134,
   "id": "43f32463",
   "metadata": {},
   "outputs": [],
   "source": [
    "# there is a row with car age as -3 "
   ]
  },
  {
   "cell_type": "code",
   "execution_count": 135,
   "id": "421c9673",
   "metadata": {},
   "outputs": [],
   "source": [
    "#df1.drop(\n",
    "df1.drop(df1[df1['CAR_AGE']<0].index,inplace=True)"
   ]
  },
  {
   "cell_type": "code",
   "execution_count": 136,
   "id": "6d512e2b",
   "metadata": {},
   "outputs": [
    {
     "data": {
      "text/plain": [
       "array([18.,  1., 10.,  6., 17.,  7., 11.,  9.,  4.,  5., 13., 16., 20.,\n",
       "       14., 12., 15., nan,  8.,  3., 21., 19., 23.,  0., 22.,  2., 26.,\n",
       "       27., 24., 25., 28.])"
      ]
     },
     "execution_count": 136,
     "metadata": {},
     "output_type": "execute_result"
    }
   ],
   "source": [
    "df1['CAR_AGE'].unique()"
   ]
  },
  {
   "cell_type": "code",
   "execution_count": 137,
   "id": "e6cfe0f8",
   "metadata": {},
   "outputs": [
    {
     "name": "stdout",
     "output_type": "stream",
     "text": [
      "<class 'pandas.core.frame.DataFrame'>\n",
      "Int64Index: 10301 entries, 0 to 10301\n",
      "Data columns (total 26 columns):\n",
      " #   Column                            Non-Null Count  Dtype  \n",
      "---  ------                            --------------  -----  \n",
      " 0   ID                                10301 non-null  int64  \n",
      " 1   KIDSDRIV                          10301 non-null  int64  \n",
      " 2   AGE                               10301 non-null  float64\n",
      " 3   HOMEKIDS                          10301 non-null  int64  \n",
      " 4   YOJ                               10301 non-null  float64\n",
      " 5   INCOME                            10301 non-null  float64\n",
      " 6   HOME_VAL                          10301 non-null  float64\n",
      " 7   EDUCATION                         10301 non-null  int64  \n",
      " 8   OCCUPATION                        10301 non-null  int32  \n",
      " 9   TRAVTIME                          10301 non-null  int64  \n",
      " 10  BLUEBOOK                          10301 non-null  float64\n",
      " 11  TIF                               10301 non-null  int64  \n",
      " 12  CAR_TYPE                          10301 non-null  int32  \n",
      " 13  OLDCLAIM                          10301 non-null  float64\n",
      " 14  CLM_FREQ                          10301 non-null  int64  \n",
      " 15  MVR_PTS                           10301 non-null  int64  \n",
      " 16  CLM_AMT                           10301 non-null  float64\n",
      " 17  CAR_AGE                           9662 non-null   float64\n",
      " 18  CLAIM_FLAG                        10301 non-null  int64  \n",
      " 19  PARENT1_Yes                       10301 non-null  uint8  \n",
      " 20  MSTATUS_z_No                      10301 non-null  uint8  \n",
      " 21  GENDER_z_F                        10301 non-null  uint8  \n",
      " 22  RED_CAR_yes                       10301 non-null  uint8  \n",
      " 23  REVOKED_Yes                       10301 non-null  uint8  \n",
      " 24  URBANICITY_z_Highly Rural/ Rural  10301 non-null  uint8  \n",
      " 25  CAR_USE_Private                   10301 non-null  uint8  \n",
      "dtypes: float64(8), int32(2), int64(9), uint8(7)\n",
      "memory usage: 1.6 MB\n"
     ]
    }
   ],
   "source": [
    "df1.info()"
   ]
  },
  {
   "cell_type": "code",
   "execution_count": 138,
   "id": "dfc44af2",
   "metadata": {},
   "outputs": [
    {
     "name": "stderr",
     "output_type": "stream",
     "text": [
      "C:\\Users\\user\\Downloads\\jupyter\\lib\\site-packages\\seaborn\\_decorators.py:36: FutureWarning: Pass the following variable as a keyword arg: x. From version 0.12, the only valid positional argument will be `data`, and passing other arguments without an explicit keyword will result in an error or misinterpretation.\n",
      "  warnings.warn(\n"
     ]
    },
    {
     "data": {
      "text/plain": [
       "<AxesSubplot:xlabel='CAR_AGE'>"
      ]
     },
     "execution_count": 138,
     "metadata": {},
     "output_type": "execute_result"
    },
    {
     "data": {
      "image/png": "[encoded data removed]",
      "text/plain": [
       "<Figure size 432x288 with 1 Axes>"
      ]
     },
     "metadata": {
      "needs_background": "light"
     },
     "output_type": "display_data"
    }
   ],
   "source": [
    "sns.boxplot(df1['CAR_AGE'])"
   ]
  },
  {
   "cell_type": "code",
   "execution_count": 139,
   "id": "3d144410",
   "metadata": {},
   "outputs": [],
   "source": [
    "df1['CAR_AGE'].fillna(df1['CAR_AGE'].median(),inplace=True)"
   ]
  },
  {
   "cell_type": "code",
   "execution_count": 140,
   "id": "ca35ccde",
   "metadata": {},
   "outputs": [
    {
     "name": "stdout",
     "output_type": "stream",
     "text": [
      "<class 'pandas.core.frame.DataFrame'>\n",
      "Int64Index: 10301 entries, 0 to 10301\n",
      "Data columns (total 26 columns):\n",
      " #   Column                            Non-Null Count  Dtype  \n",
      "---  ------                            --------------  -----  \n",
      " 0   ID                                10301 non-null  int64  \n",
      " 1   KIDSDRIV                          10301 non-null  int64  \n",
      " 2   AGE                               10301 non-null  float64\n",
      " 3   HOMEKIDS                          10301 non-null  int64  \n",
      " 4   YOJ                               10301 non-null  float64\n",
      " 5   INCOME                            10301 non-null  float64\n",
      " 6   HOME_VAL                          10301 non-null  float64\n",
      " 7   EDUCATION                         10301 non-null  int64  \n",
      " 8   OCCUPATION                        10301 non-null  int32  \n",
      " 9   TRAVTIME                          10301 non-null  int64  \n",
      " 10  BLUEBOOK                          10301 non-null  float64\n",
      " 11  TIF                               10301 non-null  int64  \n",
      " 12  CAR_TYPE                          10301 non-null  int32  \n",
      " 13  OLDCLAIM                          10301 non-null  float64\n",
      " 14  CLM_FREQ                          10301 non-null  int64  \n",
      " 15  MVR_PTS                           10301 non-null  int64  \n",
      " 16  CLM_AMT                           10301 non-null  float64\n",
      " 17  CAR_AGE                           10301 non-null  float64\n",
      " 18  CLAIM_FLAG                        10301 non-null  int64  \n",
      " 19  PARENT1_Yes                       10301 non-null  uint8  \n",
      " 20  MSTATUS_z_No                      10301 non-null  uint8  \n",
      " 21  GENDER_z_F                        10301 non-null  uint8  \n",
      " 22  RED_CAR_yes                       10301 non-null  uint8  \n",
      " 23  REVOKED_Yes                       10301 non-null  uint8  \n",
      " 24  URBANICITY_z_Highly Rural/ Rural  10301 non-null  uint8  \n",
      " 25  CAR_USE_Private                   10301 non-null  uint8  \n",
      "dtypes: float64(8), int32(2), int64(9), uint8(7)\n",
      "memory usage: 1.6 MB\n"
     ]
    }
   ],
   "source": [
    "df1.info()"
   ]
  },
  {
   "cell_type": "code",
   "execution_count": 141,
   "id": "eeea26a3",
   "metadata": {},
   "outputs": [],
   "source": [
    "df1.drop(['HOMEKIDS','ID'],axis=1,inplace=True)"
   ]
  },
  {
   "cell_type": "code",
   "execution_count": 142,
   "id": "c6accfa0",
   "metadata": {},
   "outputs": [
    {
     "name": "stdout",
     "output_type": "stream",
     "text": [
      "<class 'pandas.core.frame.DataFrame'>\n",
      "Int64Index: 10301 entries, 0 to 10301\n",
      "Data columns (total 24 columns):\n",
      " #   Column                            Non-Null Count  Dtype  \n",
      "---  ------                            --------------  -----  \n",
      " 0   KIDSDRIV                          10301 non-null  int64  \n",
      " 1   AGE                               10301 non-null  float64\n",
      " 2   YOJ                               10301 non-null  float64\n",
      " 3   INCOME                            10301 non-null  float64\n",
      " 4   HOME_VAL                          10301 non-null  float64\n",
      " 5   EDUCATION                         10301 non-null  int64  \n",
      " 6   OCCUPATION                        10301 non-null  int32  \n",
      " 7   TRAVTIME                          10301 non-null  int64  \n",
      " 8   BLUEBOOK                          10301 non-null  float64\n",
      " 9   TIF                               10301 non-null  int64  \n",
      " 10  CAR_TYPE                          10301 non-null  int32  \n",
      " 11  OLDCLAIM                          10301 non-null  float64\n",
      " 12  CLM_FREQ                          10301 non-null  int64  \n",
      " 13  MVR_PTS                           10301 non-null  int64  \n",
      " 14  CLM_AMT                           10301 non-null  float64\n",
      " 15  CAR_AGE                           10301 non-null  float64\n",
      " 16  CLAIM_FLAG                        10301 non-null  int64  \n",
      " 17  PARENT1_Yes                       10301 non-null  uint8  \n",
      " 18  MSTATUS_z_No                      10301 non-null  uint8  \n",
      " 19  GENDER_z_F                        10301 non-null  uint8  \n",
      " 20  RED_CAR_yes                       10301 non-null  uint8  \n",
      " 21  REVOKED_Yes                       10301 non-null  uint8  \n",
      " 22  URBANICITY_z_Highly Rural/ Rural  10301 non-null  uint8  \n",
      " 23  CAR_USE_Private                   10301 non-null  uint8  \n",
      "dtypes: float64(8), int32(2), int64(7), uint8(7)\n",
      "memory usage: 1.4 MB\n"
     ]
    }
   ],
   "source": [
    "df1.info()"
   ]
  },
  {
   "cell_type": "code",
   "execution_count": 143,
   "id": "b6187719",
   "metadata": {},
   "outputs": [
    {
     "data": {
      "text/plain": [
       "0.0       7556\n",
       "3674.0       4\n",
       "4363.0       4\n",
       "2327.0       4\n",
       "3350.0       4\n",
       "          ... \n",
       "1502.0       1\n",
       "1669.0       1\n",
       "6435.0       1\n",
       "1696.0       1\n",
       "5867.0       1\n",
       "Name: CLM_AMT, Length: 2346, dtype: int64"
      ]
     },
     "execution_count": 143,
     "metadata": {},
     "output_type": "execute_result"
    }
   ],
   "source": [
    "df['CLM_AMT'].value_counts()"
   ]
  },
  {
   "cell_type": "code",
   "execution_count": 144,
   "id": "79c4fcc9",
   "metadata": {},
   "outputs": [
    {
     "data": {
      "text/plain": [
       "0    7556\n",
       "1    2746\n",
       "Name: CLAIM_FLAG, dtype: int64"
      ]
     },
     "execution_count": 144,
     "metadata": {},
     "output_type": "execute_result"
    }
   ],
   "source": [
    "df['CLAIM_FLAG'].value_counts()"
   ]
  },
  {
   "cell_type": "code",
   "execution_count": 145,
   "id": "3ebc91f3",
   "metadata": {},
   "outputs": [],
   "source": [
    "# no insights from the above clm amt \n",
    "df1.drop(['CLM_AMT'],axis=1,inplace=True)"
   ]
  },
  {
   "cell_type": "code",
   "execution_count": 146,
   "id": "b513f653",
   "metadata": {},
   "outputs": [
    {
     "name": "stdout",
     "output_type": "stream",
     "text": [
      "<class 'pandas.core.frame.DataFrame'>\n",
      "Int64Index: 10301 entries, 0 to 10301\n",
      "Data columns (total 23 columns):\n",
      " #   Column                            Non-Null Count  Dtype  \n",
      "---  ------                            --------------  -----  \n",
      " 0   KIDSDRIV                          10301 non-null  int64  \n",
      " 1   AGE                               10301 non-null  float64\n",
      " 2   YOJ                               10301 non-null  float64\n",
      " 3   INCOME                            10301 non-null  float64\n",
      " 4   HOME_VAL                          10301 non-null  float64\n",
      " 5   EDUCATION                         10301 non-null  int64  \n",
      " 6   OCCUPATION                        10301 non-null  int32  \n",
      " 7   TRAVTIME                          10301 non-null  int64  \n",
      " 8   BLUEBOOK                          10301 non-null  float64\n",
      " 9   TIF                               10301 non-null  int64  \n",
      " 10  CAR_TYPE                          10301 non-null  int32  \n",
      " 11  OLDCLAIM                          10301 non-null  float64\n",
      " 12  CLM_FREQ                          10301 non-null  int64  \n",
      " 13  MVR_PTS                           10301 non-null  int64  \n",
      " 14  CAR_AGE                           10301 non-null  float64\n",
      " 15  CLAIM_FLAG                        10301 non-null  int64  \n",
      " 16  PARENT1_Yes                       10301 non-null  uint8  \n",
      " 17  MSTATUS_z_No                      10301 non-null  uint8  \n",
      " 18  GENDER_z_F                        10301 non-null  uint8  \n",
      " 19  RED_CAR_yes                       10301 non-null  uint8  \n",
      " 20  REVOKED_Yes                       10301 non-null  uint8  \n",
      " 21  URBANICITY_z_Highly Rural/ Rural  10301 non-null  uint8  \n",
      " 22  CAR_USE_Private                   10301 non-null  uint8  \n",
      "dtypes: float64(7), int32(2), int64(7), uint8(7)\n",
      "memory usage: 1.3 MB\n"
     ]
    }
   ],
   "source": [
    "df1.info()"
   ]
  },
  {
   "cell_type": "code",
   "execution_count": 147,
   "id": "12404a55",
   "metadata": {},
   "outputs": [],
   "source": [
    "import pandas as pd \n",
    "import matplotlib.pyplot as plt\n",
    "import seaborn as sns\n",
    "%matplotlib inline"
   ]
  },
  {
   "cell_type": "code",
   "execution_count": 148,
   "id": "4af10831",
   "metadata": {},
   "outputs": [
    {
     "data": {
      "text/plain": [
       "([0,\n",
       "  1,\n",
       "  2,\n",
       "  3,\n",
       "  4,\n",
       "  5,\n",
       "  6,\n",
       "  7,\n",
       "  8,\n",
       "  9,\n",
       "  10,\n",
       "  11,\n",
       "  12,\n",
       "  13,\n",
       "  14,\n",
       "  15,\n",
       "  16,\n",
       "  17,\n",
       "  18,\n",
       "  19,\n",
       "  20,\n",
       "  21,\n",
       "  22],\n",
       " [Text(0, 0, ''),\n",
       "  Text(0, 0, ''),\n",
       "  Text(0, 0, ''),\n",
       "  Text(0, 0, ''),\n",
       "  Text(0, 0, ''),\n",
       "  Text(0, 0, ''),\n",
       "  Text(0, 0, ''),\n",
       "  Text(0, 0, ''),\n",
       "  Text(0, 0, ''),\n",
       "  Text(0, 0, ''),\n",
       "  Text(0, 0, ''),\n",
       "  Text(0, 0, ''),\n",
       "  Text(0, 0, ''),\n",
       "  Text(0, 0, ''),\n",
       "  Text(0, 0, ''),\n",
       "  Text(0, 0, ''),\n",
       "  Text(0, 0, ''),\n",
       "  Text(0, 0, ''),\n",
       "  Text(0, 0, ''),\n",
       "  Text(0, 0, ''),\n",
       "  Text(0, 0, ''),\n",
       "  Text(0, 0, ''),\n",
       "  Text(0, 0, '')])"
      ]
     },
     "execution_count": 148,
     "metadata": {},
     "output_type": "execute_result"
    },
    {
     "data": {
      "image/png": "[encoded data removed]",
      "text/plain": [
       "<Figure size 1080x1080 with 1 Axes>"
      ]
     },
     "metadata": {
      "needs_background": "light"
     },
     "output_type": "display_data"
    }
   ],
   "source": [
    "plt.figure(figsize=(15,15))\n",
    "plt.plot(df1.corr().CLAIM_FLAG)\n",
    "plt.xticks(rotation = 45, ha = 'right')"
   ]
  },
  {
   "cell_type": "markdown",
   "id": "3bca0291",
   "metadata": {},
   "source": [
    "# Handling Outliers"
   ]
  },
  {
   "cell_type": "code",
   "execution_count": 149,
   "id": "4f865185",
   "metadata": {},
   "outputs": [
    {
     "name": "stdout",
     "output_type": "stream",
     "text": [
      "<class 'pandas.core.frame.DataFrame'>\n",
      "Int64Index: 10301 entries, 0 to 10301\n",
      "Data columns (total 23 columns):\n",
      " #   Column                            Non-Null Count  Dtype  \n",
      "---  ------                            --------------  -----  \n",
      " 0   KIDSDRIV                          10301 non-null  int64  \n",
      " 1   AGE                               10301 non-null  float64\n",
      " 2   YOJ                               10301 non-null  float64\n",
      " 3   INCOME                            10301 non-null  float64\n",
      " 4   HOME_VAL                          10301 non-null  float64\n",
      " 5   EDUCATION                         10301 non-null  int64  \n",
      " 6   OCCUPATION                        10301 non-null  int32  \n",
      " 7   TRAVTIME                          10301 non-null  int64  \n",
      " 8   BLUEBOOK                          10301 non-null  float64\n",
      " 9   TIF                               10301 non-null  int64  \n",
      " 10  CAR_TYPE                          10301 non-null  int32  \n",
      " 11  OLDCLAIM                          10301 non-null  float64\n",
      " 12  CLM_FREQ                          10301 non-null  int64  \n",
      " 13  MVR_PTS                           10301 non-null  int64  \n",
      " 14  CAR_AGE                           10301 non-null  float64\n",
      " 15  CLAIM_FLAG                        10301 non-null  int64  \n",
      " 16  PARENT1_Yes                       10301 non-null  uint8  \n",
      " 17  MSTATUS_z_No                      10301 non-null  uint8  \n",
      " 18  GENDER_z_F                        10301 non-null  uint8  \n",
      " 19  RED_CAR_yes                       10301 non-null  uint8  \n",
      " 20  REVOKED_Yes                       10301 non-null  uint8  \n",
      " 21  URBANICITY_z_Highly Rural/ Rural  10301 non-null  uint8  \n",
      " 22  CAR_USE_Private                   10301 non-null  uint8  \n",
      "dtypes: float64(7), int32(2), int64(7), uint8(7)\n",
      "memory usage: 1.3 MB\n"
     ]
    }
   ],
   "source": [
    "df1.info()\n",
    "#df1.columns"
   ]
  },
  {
   "cell_type": "code",
   "execution_count": 150,
   "id": "caa6aaa0",
   "metadata": {},
   "outputs": [
    {
     "name": "stderr",
     "output_type": "stream",
     "text": [
      "C:\\Users\\user\\Downloads\\jupyter\\lib\\site-packages\\seaborn\\_decorators.py:36: FutureWarning: Pass the following variable as a keyword arg: x. From version 0.12, the only valid positional argument will be `data`, and passing other arguments without an explicit keyword will result in an error or misinterpretation.\n",
      "  warnings.warn(\n"
     ]
    },
    {
     "data": {
      "text/plain": [
       "<AxesSubplot:xlabel='KIDSDRIV'>"
      ]
     },
     "execution_count": 150,
     "metadata": {},
     "output_type": "execute_result"
    },
    {
     "data": {
      "image/png": "[encoded data removed]",
      "text/plain": [
       "<Figure size 432x288 with 1 Axes>"
      ]
     },
     "metadata": {
      "needs_background": "light"
     },
     "output_type": "display_data"
    }
   ],
   "source": [
    "sns.boxplot(df1['KIDSDRIV'])\n",
    "# Discrete data outliers detection is different"
   ]
  },
  {
   "cell_type": "code",
   "execution_count": 151,
   "id": "0e1e6718",
   "metadata": {},
   "outputs": [
    {
     "name": "stderr",
     "output_type": "stream",
     "text": [
      "C:\\Users\\user\\Downloads\\jupyter\\lib\\site-packages\\seaborn\\_decorators.py:36: FutureWarning: Pass the following variable as a keyword arg: x. From version 0.12, the only valid positional argument will be `data`, and passing other arguments without an explicit keyword will result in an error or misinterpretation.\n",
      "  warnings.warn(\n"
     ]
    },
    {
     "data": {
      "text/plain": [
       "<AxesSubplot:xlabel='AGE'>"
      ]
     },
     "execution_count": 151,
     "metadata": {},
     "output_type": "execute_result"
    },
    {
     "data": {
      "image/png": "[encoded data removed]",
      "text/plain": [
       "<Figure size 432x288 with 1 Axes>"
      ]
     },
     "metadata": {
      "needs_background": "light"
     },
     "output_type": "display_data"
    }
   ],
   "source": [
    "sns.boxplot(df1['AGE'])"
   ]
  },
  {
   "cell_type": "code",
   "execution_count": 152,
   "id": "f3c74db6",
   "metadata": {},
   "outputs": [],
   "source": [
    "tenth = np.percentile(df1['AGE'],10)\n",
    "ninty = np.percentile(df1['AGE'],90)\n",
    "df1['AGE']=np.where(df1['AGE']<tenth,tenth,df1['AGE'])\n",
    "df1['AGE']=np.where(df1['AGE']>ninty,ninty,df1['AGE'])"
   ]
  },
  {
   "cell_type": "code",
   "execution_count": 153,
   "id": "8b28c73f",
   "metadata": {},
   "outputs": [
    {
     "name": "stderr",
     "output_type": "stream",
     "text": [
      "C:\\Users\\user\\Downloads\\jupyter\\lib\\site-packages\\seaborn\\_decorators.py:36: FutureWarning: Pass the following variable as a keyword arg: x. From version 0.12, the only valid positional argument will be `data`, and passing other arguments without an explicit keyword will result in an error or misinterpretation.\n",
      "  warnings.warn(\n"
     ]
    },
    {
     "data": {
      "text/plain": [
       "<AxesSubplot:xlabel='AGE'>"
      ]
     },
     "execution_count": 153,
     "metadata": {},
     "output_type": "execute_result"
    },
    {
     "data": {
      "image/png": "[encoded data removed]",
      "text/plain": [
       "<Figure size 432x288 with 1 Axes>"
      ]
     },
     "metadata": {
      "needs_background": "light"
     },
     "output_type": "display_data"
    }
   ],
   "source": [
    "sns.boxplot(df1['AGE'])"
   ]
  },
  {
   "cell_type": "code",
   "execution_count": 154,
   "id": "79e0d1b9",
   "metadata": {},
   "outputs": [
    {
     "name": "stderr",
     "output_type": "stream",
     "text": [
      "C:\\Users\\user\\Downloads\\jupyter\\lib\\site-packages\\seaborn\\_decorators.py:36: FutureWarning: Pass the following variable as a keyword arg: x. From version 0.12, the only valid positional argument will be `data`, and passing other arguments without an explicit keyword will result in an error or misinterpretation.\n",
      "  warnings.warn(\n"
     ]
    },
    {
     "data": {
      "text/plain": [
       "<AxesSubplot:xlabel='YOJ'>"
      ]
     },
     "execution_count": 154,
     "metadata": {},
     "output_type": "execute_result"
    },
    {
     "data": {
      "image/png": "[encoded data removed]",
      "text/plain": [
       "<Figure size 432x288 with 1 Axes>"
      ]
     },
     "metadata": {
      "needs_background": "light"
     },
     "output_type": "display_data"
    }
   ],
   "source": [
    "sns.boxplot(df1['YOJ'])"
   ]
  },
  {
   "cell_type": "code",
   "execution_count": 155,
   "id": "cc5d9de5",
   "metadata": {},
   "outputs": [],
   "source": [
    "tenth = np.percentile(df1['YOJ'],10)\n",
    "ninty = np.percentile(df1['YOJ'],90)\n",
    "df1['YOJ']=np.where(df1['YOJ']<tenth,tenth,df1['YOJ'])\n",
    "df1['YOJ']=np.where(df1['YOJ']>ninty,ninty,df1['YOJ'])"
   ]
  },
  {
   "cell_type": "code",
   "execution_count": 156,
   "id": "da1cd6cc",
   "metadata": {},
   "outputs": [
    {
     "name": "stderr",
     "output_type": "stream",
     "text": [
      "C:\\Users\\user\\Downloads\\jupyter\\lib\\site-packages\\seaborn\\_decorators.py:36: FutureWarning: Pass the following variable as a keyword arg: x. From version 0.12, the only valid positional argument will be `data`, and passing other arguments without an explicit keyword will result in an error or misinterpretation.\n",
      "  warnings.warn(\n"
     ]
    },
    {
     "data": {
      "text/plain": [
       "<AxesSubplot:xlabel='YOJ'>"
      ]
     },
     "execution_count": 156,
     "metadata": {},
     "output_type": "execute_result"
    },
    {
     "data": {
      "image/png": "[encoded data removed]",
      "text/plain": [
       "<Figure size 432x288 with 1 Axes>"
      ]
     },
     "metadata": {
      "needs_background": "light"
     },
     "output_type": "display_data"
    }
   ],
   "source": [
    "sns.boxplot(df1['YOJ'])"
   ]
  },
  {
   "cell_type": "code",
   "execution_count": 157,
   "id": "0122bfe2",
   "metadata": {},
   "outputs": [
    {
     "name": "stderr",
     "output_type": "stream",
     "text": [
      "C:\\Users\\user\\Downloads\\jupyter\\lib\\site-packages\\seaborn\\_decorators.py:36: FutureWarning: Pass the following variable as a keyword arg: x. From version 0.12, the only valid positional argument will be `data`, and passing other arguments without an explicit keyword will result in an error or misinterpretation.\n",
      "  warnings.warn(\n"
     ]
    },
    {
     "data": {
      "text/plain": [
       "<AxesSubplot:xlabel='INCOME'>"
      ]
     },
     "execution_count": 157,
     "metadata": {},
     "output_type": "execute_result"
    },
    {
     "data": {
      "image/png": "[encoded data removed]",
      "text/plain": [
       "<Figure size 432x288 with 1 Axes>"
      ]
     },
     "metadata": {
      "needs_background": "light"
     },
     "output_type": "display_data"
    }
   ],
   "source": [
    "sns.boxplot(df1['INCOME'])"
   ]
  },
  {
   "cell_type": "code",
   "execution_count": 158,
   "id": "af04354c",
   "metadata": {},
   "outputs": [],
   "source": [
    "tenth = np.percentile(df1['INCOME'],10)\n",
    "ninty = np.percentile(df1['INCOME'],90)\n",
    "df1['INCOME']=np.where(df1['INCOME']<tenth,tenth,df1['INCOME'])\n",
    "df1['INCOME']=np.where(df1['INCOME']>ninty,ninty,df1['INCOME'])"
   ]
  },
  {
   "cell_type": "code",
   "execution_count": 159,
   "id": "f38a4c01",
   "metadata": {},
   "outputs": [
    {
     "name": "stderr",
     "output_type": "stream",
     "text": [
      "C:\\Users\\user\\Downloads\\jupyter\\lib\\site-packages\\seaborn\\_decorators.py:36: FutureWarning: Pass the following variable as a keyword arg: x. From version 0.12, the only valid positional argument will be `data`, and passing other arguments without an explicit keyword will result in an error or misinterpretation.\n",
      "  warnings.warn(\n"
     ]
    },
    {
     "data": {
      "text/plain": [
       "<AxesSubplot:xlabel='INCOME'>"
      ]
     },
     "execution_count": 159,
     "metadata": {},
     "output_type": "execute_result"
    },
    {
     "data": {
      "image/png": "[encoded data removed]",
      "text/plain": [
       "<Figure size 432x288 with 1 Axes>"
      ]
     },
     "metadata": {
      "needs_background": "light"
     },
     "output_type": "display_data"
    }
   ],
   "source": [
    "sns.boxplot(df1['INCOME'])"
   ]
  },
  {
   "cell_type": "code",
   "execution_count": 160,
   "id": "657d3320",
   "metadata": {},
   "outputs": [
    {
     "name": "stderr",
     "output_type": "stream",
     "text": [
      "C:\\Users\\user\\Downloads\\jupyter\\lib\\site-packages\\seaborn\\_decorators.py:36: FutureWarning: Pass the following variable as a keyword arg: x. From version 0.12, the only valid positional argument will be `data`, and passing other arguments without an explicit keyword will result in an error or misinterpretation.\n",
      "  warnings.warn(\n"
     ]
    },
    {
     "data": {
      "text/plain": [
       "<AxesSubplot:xlabel='HOME_VAL'>"
      ]
     },
     "execution_count": 160,
     "metadata": {},
     "output_type": "execute_result"
    },
    {
     "data": {
      "image/png": "[encoded data removed]",
      "text/plain": [
       "<Figure size 432x288 with 1 Axes>"
      ]
     },
     "metadata": {
      "needs_background": "light"
     },
     "output_type": "display_data"
    }
   ],
   "source": [
    "sns.boxplot(df1['HOME_VAL'])"
   ]
  },
  {
   "cell_type": "code",
   "execution_count": 161,
   "id": "31d533d6",
   "metadata": {},
   "outputs": [],
   "source": [
    "tenth = np.percentile(df1['HOME_VAL'],10)\n",
    "ninty = np.percentile(df1['HOME_VAL'],90)\n",
    "df1['HOME_VAL']=np.where(df1['HOME_VAL']<tenth,tenth,df1['HOME_VAL'])\n",
    "df1['HOME_VAL']=np.where(df1['HOME_VAL']>ninty,ninty,df1['HOME_VAL'])"
   ]
  },
  {
   "cell_type": "code",
   "execution_count": 162,
   "id": "e5dd0712",
   "metadata": {},
   "outputs": [
    {
     "name": "stderr",
     "output_type": "stream",
     "text": [
      "C:\\Users\\user\\Downloads\\jupyter\\lib\\site-packages\\seaborn\\_decorators.py:36: FutureWarning: Pass the following variable as a keyword arg: x. From version 0.12, the only valid positional argument will be `data`, and passing other arguments without an explicit keyword will result in an error or misinterpretation.\n",
      "  warnings.warn(\n"
     ]
    },
    {
     "data": {
      "text/plain": [
       "<AxesSubplot:xlabel='HOME_VAL'>"
      ]
     },
     "execution_count": 162,
     "metadata": {},
     "output_type": "execute_result"
    },
    {
     "data": {
      "image/png": "[encoded data removed]",
      "text/plain": [
       "<Figure size 432x288 with 1 Axes>"
      ]
     },
     "metadata": {
      "needs_background": "light"
     },
     "output_type": "display_data"
    }
   ],
   "source": [
    "sns.boxplot(df1['HOME_VAL'])"
   ]
  },
  {
   "cell_type": "code",
   "execution_count": 163,
   "id": "e785750c",
   "metadata": {},
   "outputs": [
    {
     "name": "stderr",
     "output_type": "stream",
     "text": [
      "C:\\Users\\user\\Downloads\\jupyter\\lib\\site-packages\\seaborn\\_decorators.py:36: FutureWarning: Pass the following variable as a keyword arg: x. From version 0.12, the only valid positional argument will be `data`, and passing other arguments without an explicit keyword will result in an error or misinterpretation.\n",
      "  warnings.warn(\n"
     ]
    },
    {
     "data": {
      "text/plain": [
       "<AxesSubplot:xlabel='EDUCATION'>"
      ]
     },
     "execution_count": 163,
     "metadata": {},
     "output_type": "execute_result"
    },
    {
     "data": {
      "image/png": "[encoded data removed]",
      "text/plain": [
       "<Figure size 432x288 with 1 Axes>"
      ]
     },
     "metadata": {
      "needs_background": "light"
     },
     "output_type": "display_data"
    }
   ],
   "source": [
    "sns.boxplot(df1['EDUCATION'])"
   ]
  },
  {
   "cell_type": "code",
   "execution_count": 164,
   "id": "cf3cfb6e",
   "metadata": {},
   "outputs": [
    {
     "name": "stderr",
     "output_type": "stream",
     "text": [
      "C:\\Users\\user\\Downloads\\jupyter\\lib\\site-packages\\seaborn\\_decorators.py:36: FutureWarning: Pass the following variable as a keyword arg: x. From version 0.12, the only valid positional argument will be `data`, and passing other arguments without an explicit keyword will result in an error or misinterpretation.\n",
      "  warnings.warn(\n"
     ]
    },
    {
     "data": {
      "text/plain": [
       "<AxesSubplot:xlabel='OCCUPATION'>"
      ]
     },
     "execution_count": 164,
     "metadata": {},
     "output_type": "execute_result"
    },
    {
     "data": {
      "image/png": "[encoded data removed]",
      "text/plain": [
       "<Figure size 432x288 with 1 Axes>"
      ]
     },
     "metadata": {
      "needs_background": "light"
     },
     "output_type": "display_data"
    }
   ],
   "source": [
    "sns.boxplot(df1['OCCUPATION'])"
   ]
  },
  {
   "cell_type": "code",
   "execution_count": 165,
   "id": "86244fa2",
   "metadata": {},
   "outputs": [
    {
     "name": "stderr",
     "output_type": "stream",
     "text": [
      "C:\\Users\\user\\Downloads\\jupyter\\lib\\site-packages\\seaborn\\_decorators.py:36: FutureWarning: Pass the following variable as a keyword arg: x. From version 0.12, the only valid positional argument will be `data`, and passing other arguments without an explicit keyword will result in an error or misinterpretation.\n",
      "  warnings.warn(\n"
     ]
    },
    {
     "data": {
      "text/plain": [
       "<AxesSubplot:xlabel='TRAVTIME'>"
      ]
     },
     "execution_count": 165,
     "metadata": {},
     "output_type": "execute_result"
    },
    {
     "data": {
      "image/png": "[encoded data removed]",
      "text/plain": [
       "<Figure size 432x288 with 1 Axes>"
      ]
     },
     "metadata": {
      "needs_background": "light"
     },
     "output_type": "display_data"
    }
   ],
   "source": [
    "sns.boxplot(df1['TRAVTIME'])"
   ]
  },
  {
   "cell_type": "code",
   "execution_count": 166,
   "id": "734d3be3",
   "metadata": {},
   "outputs": [],
   "source": [
    "tenth = np.percentile(df1['TRAVTIME'],10)\n",
    "ninty = np.percentile(df1['TRAVTIME'],90)\n",
    "df1['TRAVTIME']=np.where(df1['TRAVTIME']<tenth,tenth,df1['TRAVTIME'])\n",
    "df1['TRAVTIME']=np.where(df1['TRAVTIME']>ninty,ninty,df1['TRAVTIME'])"
   ]
  },
  {
   "cell_type": "code",
   "execution_count": 167,
   "id": "3c78542e",
   "metadata": {},
   "outputs": [
    {
     "name": "stderr",
     "output_type": "stream",
     "text": [
      "C:\\Users\\user\\Downloads\\jupyter\\lib\\site-packages\\seaborn\\_decorators.py:36: FutureWarning: Pass the following variable as a keyword arg: x. From version 0.12, the only valid positional argument will be `data`, and passing other arguments without an explicit keyword will result in an error or misinterpretation.\n",
      "  warnings.warn(\n"
     ]
    },
    {
     "data": {
      "text/plain": [
       "<AxesSubplot:xlabel='TRAVTIME'>"
      ]
     },
     "execution_count": 167,
     "metadata": {},
     "output_type": "execute_result"
    },
    {
     "data": {
      "image/png": "[encoded data removed]",
      "text/plain": [
       "<Figure size 432x288 with 1 Axes>"
      ]
     },
     "metadata": {
      "needs_background": "light"
     },
     "output_type": "display_data"
    }
   ],
   "source": [
    "sns.boxplot(df1['TRAVTIME'])"
   ]
  },
  {
   "cell_type": "code",
   "execution_count": 168,
   "id": "330e6ede",
   "metadata": {},
   "outputs": [
    {
     "name": "stderr",
     "output_type": "stream",
     "text": [
      "C:\\Users\\user\\Downloads\\jupyter\\lib\\site-packages\\seaborn\\_decorators.py:36: FutureWarning: Pass the following variable as a keyword arg: x. From version 0.12, the only valid positional argument will be `data`, and passing other arguments without an explicit keyword will result in an error or misinterpretation.\n",
      "  warnings.warn(\n"
     ]
    },
    {
     "data": {
      "text/plain": [
       "<AxesSubplot:xlabel='BLUEBOOK'>"
      ]
     },
     "execution_count": 168,
     "metadata": {},
     "output_type": "execute_result"
    },
    {
     "data": {
      "image/png": "[encoded data removed]",
      "text/plain": [
       "<Figure size 432x288 with 1 Axes>"
      ]
     },
     "metadata": {
      "needs_background": "light"
     },
     "output_type": "display_data"
    }
   ],
   "source": [
    "sns.boxplot(df1['BLUEBOOK'])"
   ]
  },
  {
   "cell_type": "code",
   "execution_count": 169,
   "id": "dedbe7ce",
   "metadata": {},
   "outputs": [],
   "source": [
    "tenth = np.percentile(df1['BLUEBOOK'],10)\n",
    "ninty = np.percentile(df1['BLUEBOOK'],90)\n",
    "df1['BLUEBOOK']=np.where(df1['BLUEBOOK']<tenth,tenth,df1['BLUEBOOK'])\n",
    "df1['BLUEBOOK']=np.where(df1['BLUEBOOK']>ninty,ninty,df1['BLUEBOOK'])"
   ]
  },
  {
   "cell_type": "code",
   "execution_count": 170,
   "id": "993207d7",
   "metadata": {},
   "outputs": [
    {
     "name": "stderr",
     "output_type": "stream",
     "text": [
      "C:\\Users\\user\\Downloads\\jupyter\\lib\\site-packages\\seaborn\\_decorators.py:36: FutureWarning: Pass the following variable as a keyword arg: x. From version 0.12, the only valid positional argument will be `data`, and passing other arguments without an explicit keyword will result in an error or misinterpretation.\n",
      "  warnings.warn(\n"
     ]
    },
    {
     "data": {
      "text/plain": [
       "<AxesSubplot:xlabel='BLUEBOOK'>"
      ]
     },
     "execution_count": 170,
     "metadata": {},
     "output_type": "execute_result"
    },
    {
     "data": {
      "image/png": "[encoded data removed]",
      "text/plain": [
       "<Figure size 432x288 with 1 Axes>"
      ]
     },
     "metadata": {
      "needs_background": "light"
     },
     "output_type": "display_data"
    }
   ],
   "source": [
    "sns.boxplot(df1['BLUEBOOK'])"
   ]
  },
  {
   "cell_type": "code",
   "execution_count": 171,
   "id": "88dbadce",
   "metadata": {},
   "outputs": [
    {
     "name": "stderr",
     "output_type": "stream",
     "text": [
      "C:\\Users\\user\\Downloads\\jupyter\\lib\\site-packages\\seaborn\\_decorators.py:36: FutureWarning: Pass the following variable as a keyword arg: x. From version 0.12, the only valid positional argument will be `data`, and passing other arguments without an explicit keyword will result in an error or misinterpretation.\n",
      "  warnings.warn(\n"
     ]
    },
    {
     "data": {
      "text/plain": [
       "<AxesSubplot:xlabel='TIF'>"
      ]
     },
     "execution_count": 171,
     "metadata": {},
     "output_type": "execute_result"
    },
    {
     "data": {
      "image/png": "[encoded data removed]",
      "text/plain": [
       "<Figure size 432x288 with 1 Axes>"
      ]
     },
     "metadata": {
      "needs_background": "light"
     },
     "output_type": "display_data"
    }
   ],
   "source": [
    "sns.boxplot(df1['TIF'])"
   ]
  },
  {
   "cell_type": "code",
   "execution_count": 172,
   "id": "a446162e",
   "metadata": {},
   "outputs": [],
   "source": [
    "tenth = np.percentile(df1['TIF'],10)\n",
    "ninty = np.percentile(df1['TIF'],90)\n",
    "df1['TIF']=np.where(df1['TIF']<tenth,tenth,df1['TIF'])\n",
    "df1['TIF']=np.where(df1['TIF']>ninty,ninty,df1['TIF'])"
   ]
  },
  {
   "cell_type": "code",
   "execution_count": 173,
   "id": "2059127b",
   "metadata": {},
   "outputs": [
    {
     "name": "stderr",
     "output_type": "stream",
     "text": [
      "C:\\Users\\user\\Downloads\\jupyter\\lib\\site-packages\\seaborn\\_decorators.py:36: FutureWarning: Pass the following variable as a keyword arg: x. From version 0.12, the only valid positional argument will be `data`, and passing other arguments without an explicit keyword will result in an error or misinterpretation.\n",
      "  warnings.warn(\n"
     ]
    },
    {
     "data": {
      "text/plain": [
       "<AxesSubplot:xlabel='TIF'>"
      ]
     },
     "execution_count": 173,
     "metadata": {},
     "output_type": "execute_result"
    },
    {
     "data": {
      "image/png": "[encoded data removed]",
      "text/plain": [
       "<Figure size 432x288 with 1 Axes>"
      ]
     },
     "metadata": {
      "needs_background": "light"
     },
     "output_type": "display_data"
    }
   ],
   "source": [
    "sns.boxplot(df1['TIF'])"
   ]
  },
  {
   "cell_type": "code",
   "execution_count": 174,
   "id": "8057576f",
   "metadata": {},
   "outputs": [
    {
     "name": "stderr",
     "output_type": "stream",
     "text": [
      "C:\\Users\\user\\Downloads\\jupyter\\lib\\site-packages\\seaborn\\_decorators.py:36: FutureWarning: Pass the following variable as a keyword arg: x. From version 0.12, the only valid positional argument will be `data`, and passing other arguments without an explicit keyword will result in an error or misinterpretation.\n",
      "  warnings.warn(\n"
     ]
    },
    {
     "data": {
      "text/plain": [
       "<AxesSubplot:xlabel='CAR_TYPE'>"
      ]
     },
     "execution_count": 174,
     "metadata": {},
     "output_type": "execute_result"
    },
    {
     "data": {
      "image/png": "[encoded data removed]",
      "text/plain": [
       "<Figure size 432x288 with 1 Axes>"
      ]
     },
     "metadata": {
      "needs_background": "light"
     },
     "output_type": "display_data"
    }
   ],
   "source": [
    "sns.boxplot(df1['CAR_TYPE'])"
   ]
  },
  {
   "cell_type": "code",
   "execution_count": 175,
   "id": "6a7f3987",
   "metadata": {},
   "outputs": [
    {
     "name": "stderr",
     "output_type": "stream",
     "text": [
      "C:\\Users\\user\\Downloads\\jupyter\\lib\\site-packages\\seaborn\\_decorators.py:36: FutureWarning: Pass the following variable as a keyword arg: x. From version 0.12, the only valid positional argument will be `data`, and passing other arguments without an explicit keyword will result in an error or misinterpretation.\n",
      "  warnings.warn(\n"
     ]
    },
    {
     "data": {
      "text/plain": [
       "<AxesSubplot:xlabel='OLDCLAIM'>"
      ]
     },
     "execution_count": 175,
     "metadata": {},
     "output_type": "execute_result"
    },
    {
     "data": {
      "image/png": "[encoded data removed]",
      "text/plain": [
       "<Figure size 432x288 with 1 Axes>"
      ]
     },
     "metadata": {
      "needs_background": "light"
     },
     "output_type": "display_data"
    }
   ],
   "source": [
    "sns.boxplot(df1['OLDCLAIM'])"
   ]
  },
  {
   "cell_type": "code",
   "execution_count": 176,
   "id": "edb49252",
   "metadata": {},
   "outputs": [],
   "source": [
    "tenth = np.percentile(df1['OLDCLAIM'],10)\n",
    "ninty = np.percentile(df1['OLDCLAIM'],90)\n",
    "df1['OLDCLAIM']=np.where(df1['OLDCLAIM']<tenth,tenth,df1['OLDCLAIM'])\n",
    "df1['OLDCLAIM']=np.where(df1['OLDCLAIM']>ninty,ninty,df1['OLDCLAIM'])"
   ]
  },
  {
   "cell_type": "code",
   "execution_count": 177,
   "id": "f17c7815",
   "metadata": {},
   "outputs": [
    {
     "name": "stderr",
     "output_type": "stream",
     "text": [
      "C:\\Users\\user\\Downloads\\jupyter\\lib\\site-packages\\seaborn\\_decorators.py:36: FutureWarning: Pass the following variable as a keyword arg: x. From version 0.12, the only valid positional argument will be `data`, and passing other arguments without an explicit keyword will result in an error or misinterpretation.\n",
      "  warnings.warn(\n"
     ]
    },
    {
     "data": {
      "text/plain": [
       "<AxesSubplot:xlabel='OLDCLAIM'>"
      ]
     },
     "execution_count": 177,
     "metadata": {},
     "output_type": "execute_result"
    },
    {
     "data": {
      "image/png": "[encoded data removed]",
      "text/plain": [
       "<Figure size 432x288 with 1 Axes>"
      ]
     },
     "metadata": {
      "needs_background": "light"
     },
     "output_type": "display_data"
    }
   ],
   "source": [
    "sns.boxplot(df1['OLDCLAIM'])"
   ]
  },
  {
   "cell_type": "code",
   "execution_count": 178,
   "id": "cd7cc502",
   "metadata": {},
   "outputs": [
    {
     "name": "stderr",
     "output_type": "stream",
     "text": [
      "C:\\Users\\user\\Downloads\\jupyter\\lib\\site-packages\\seaborn\\_decorators.py:36: FutureWarning: Pass the following variable as a keyword arg: x. From version 0.12, the only valid positional argument will be `data`, and passing other arguments without an explicit keyword will result in an error or misinterpretation.\n",
      "  warnings.warn(\n"
     ]
    },
    {
     "data": {
      "text/plain": [
       "<AxesSubplot:xlabel='CLM_FREQ'>"
      ]
     },
     "execution_count": 178,
     "metadata": {},
     "output_type": "execute_result"
    },
    {
     "data": {
      "image/png": "[encoded data removed]",
      "text/plain": [
       "<Figure size 432x288 with 1 Axes>"
      ]
     },
     "metadata": {
      "needs_background": "light"
     },
     "output_type": "display_data"
    }
   ],
   "source": [
    "sns.boxplot(df1['CLM_FREQ'])"
   ]
  },
  {
   "cell_type": "code",
   "execution_count": 179,
   "id": "673d8a79",
   "metadata": {},
   "outputs": [
    {
     "name": "stderr",
     "output_type": "stream",
     "text": [
      "C:\\Users\\user\\Downloads\\jupyter\\lib\\site-packages\\seaborn\\_decorators.py:36: FutureWarning: Pass the following variable as a keyword arg: x. From version 0.12, the only valid positional argument will be `data`, and passing other arguments without an explicit keyword will result in an error or misinterpretation.\n",
      "  warnings.warn(\n"
     ]
    },
    {
     "data": {
      "text/plain": [
       "0     4658\n",
       "1     1467\n",
       "2     1199\n",
       "3      966\n",
       "4      727\n",
       "5      528\n",
       "6      341\n",
       "7      213\n",
       "8      114\n",
       "9       53\n",
       "10      20\n",
       "11      13\n",
       "13       2\n",
       "12       1\n",
       "Name: MVR_PTS, dtype: int64"
      ]
     },
     "execution_count": 179,
     "metadata": {},
     "output_type": "execute_result"
    },
    {
     "data": {
      "image/png": "[encoded data removed]",
      "text/plain": [
       "<Figure size 432x288 with 1 Axes>"
      ]
     },
     "metadata": {
      "needs_background": "light"
     },
     "output_type": "display_data"
    }
   ],
   "source": [
    "sns.boxplot(df1['MVR_PTS'])\n",
    "df['MVR_PTS'].value_counts()"
   ]
  },
  {
   "cell_type": "code",
   "execution_count": 180,
   "id": "1831a255",
   "metadata": {},
   "outputs": [
    {
     "name": "stderr",
     "output_type": "stream",
     "text": [
      "C:\\Users\\user\\Downloads\\jupyter\\lib\\site-packages\\seaborn\\_decorators.py:36: FutureWarning: Pass the following variable as a keyword arg: x. From version 0.12, the only valid positional argument will be `data`, and passing other arguments without an explicit keyword will result in an error or misinterpretation.\n",
      "  warnings.warn(\n"
     ]
    },
    {
     "data": {
      "text/plain": [
       "<AxesSubplot:xlabel='CAR_AGE'>"
      ]
     },
     "execution_count": 180,
     "metadata": {},
     "output_type": "execute_result"
    },
    {
     "data": {
      "image/png": "[encoded data removed]",
      "text/plain": [
       "<Figure size 432x288 with 1 Axes>"
      ]
     },
     "metadata": {
      "needs_background": "light"
     },
     "output_type": "display_data"
    }
   ],
   "source": [
    "sns.boxplot(df1['CAR_AGE'])"
   ]
  },
  {
   "cell_type": "code",
   "execution_count": 181,
   "id": "e25437f9",
   "metadata": {},
   "outputs": [],
   "source": [
    "tenth = np.percentile(df1['CAR_AGE'],10)\n",
    "ninty = np.percentile(df1['CAR_AGE'],90)\n",
    "df1['CAR_AGE']=np.where(df1['CAR_AGE']<tenth,tenth,df1['CAR_AGE'])\n",
    "df1['CAR_AGE']=np.where(df1['CAR_AGE']>ninty,ninty,df1['CAR_AGE'])"
   ]
  },
  {
   "cell_type": "code",
   "execution_count": 182,
   "id": "e742a07f",
   "metadata": {},
   "outputs": [
    {
     "name": "stderr",
     "output_type": "stream",
     "text": [
      "C:\\Users\\user\\Downloads\\jupyter\\lib\\site-packages\\seaborn\\_decorators.py:36: FutureWarning: Pass the following variable as a keyword arg: x. From version 0.12, the only valid positional argument will be `data`, and passing other arguments without an explicit keyword will result in an error or misinterpretation.\n",
      "  warnings.warn(\n"
     ]
    },
    {
     "data": {
      "text/plain": [
       "<AxesSubplot:xlabel='CAR_AGE'>"
      ]
     },
     "execution_count": 182,
     "metadata": {},
     "output_type": "execute_result"
    },
    {
     "data": {
      "image/png": "[encoded data removed]",
      "text/plain": [
       "<Figure size 432x288 with 1 Axes>"
      ]
     },
     "metadata": {
      "needs_background": "light"
     },
     "output_type": "display_data"
    }
   ],
   "source": [
    "sns.boxplot(df1['CAR_AGE'])"
   ]
  },
  {
   "cell_type": "code",
   "execution_count": 183,
   "id": "965e9af3",
   "metadata": {},
   "outputs": [
    {
     "data": {
      "text/plain": [
       "(array([ 1,  2,  3,  4,  5,  6,  7,  8,  9, 10, 11]),\n",
       " [Text(1, 0, 'AGE'),\n",
       "  Text(2, 0, 'YOJ'),\n",
       "  Text(3, 0, 'INCOME'),\n",
       "  Text(4, 0, 'HOME_VAL'),\n",
       "  Text(5, 0, 'TRAVTIME'),\n",
       "  Text(6, 0, 'BLUEBOOK'),\n",
       "  Text(7, 0, 'TIF'),\n",
       "  Text(8, 0, 'OLDCLAIM'),\n",
       "  Text(9, 0, 'CLM_FREQ'),\n",
       "  Text(10, 0, 'MVR_PTS'),\n",
       "  Text(11, 0, 'CAR_AGE')])"
      ]
     },
     "execution_count": 183,
     "metadata": {},
     "output_type": "execute_result"
    },
    {
     "data": {
      "image/png": "[encoded data removed]",
      "text/plain": [
       "<Figure size 1080x1080 with 1 Axes>"
      ]
     },
     "metadata": {
      "needs_background": "light"
     },
     "output_type": "display_data"
    }
   ],
   "source": [
    "plt.figure(figsize=(15,15))\n",
    "df1.boxplot(column=['AGE', 'YOJ', 'INCOME', 'HOME_VAL',\n",
    "        'TRAVTIME', 'BLUEBOOK', 'TIF', 'OLDCLAIM',\n",
    "       'CLM_FREQ', 'MVR_PTS', 'CAR_AGE'])\n",
    "plt.xticks(rotation = 45, ha = 'right')"
   ]
  },
  {
   "cell_type": "code",
   "execution_count": null,
   "id": "d5e44f46",
   "metadata": {},
   "outputs": [],
   "source": []
  },
  {
   "cell_type": "code",
   "execution_count": null,
   "id": "46cbc8b4",
   "metadata": {},
   "outputs": [],
   "source": []
  },
  {
   "cell_type": "code",
   "execution_count": null,
   "id": "6a441462",
   "metadata": {},
   "outputs": [],
   "source": []
  },
  {
   "cell_type": "code",
   "execution_count": null,
   "id": "8d09e5c3",
   "metadata": {},
   "outputs": [],
   "source": []
  },
  {
   "cell_type": "code",
   "execution_count": null,
   "id": "0436e4a7",
   "metadata": {},
   "outputs": [],
   "source": []
  },
  {
   "cell_type": "code",
   "execution_count": null,
   "id": "5bb0e28e",
   "metadata": {},
   "outputs": [],
   "source": []
  },
  {
   "cell_type": "code",
   "execution_count": null,
   "id": "b9e82f18",
   "metadata": {},
   "outputs": [],
   "source": []
  },
  {
   "cell_type": "code",
   "execution_count": null,
   "id": "d25b7197",
   "metadata": {},
   "outputs": [],
   "source": []
  },
  {
   "cell_type": "code",
   "execution_count": null,
   "id": "13ce6fd6",
   "metadata": {},
   "outputs": [],
   "source": []
  },
  {
   "cell_type": "code",
   "execution_count": null,
   "id": "5470145f",
   "metadata": {},
   "outputs": [],
   "source": []
  },
  {
   "cell_type": "code",
   "execution_count": null,
   "id": "27f17e92",
   "metadata": {},
   "outputs": [],
   "source": []
  },
  {
   "cell_type": "code",
   "execution_count": null,
   "id": "2af82c54",
   "metadata": {},
   "outputs": [],
   "source": []
  },
  {
   "cell_type": "code",
   "execution_count": null,
   "id": "24f94308",
   "metadata": {},
   "outputs": [],
   "source": []
  },
  {
   "cell_type": "markdown",
   "id": "fceb4726",
   "metadata": {},
   "source": [
    "# Creating ML models Pipeline  "
   ]
  },
  {
   "cell_type": "code",
   "execution_count": 184,
   "id": "cea73340",
   "metadata": {},
   "outputs": [],
   "source": [
    "from sklearn.model_selection import train_test_split\n",
    "from sklearn import preprocessing\n",
    "X = df1.drop(['CLAIM_FLAG'], axis=1)\n",
    "y = df1[\"CLAIM_FLAG\"]\n",
    "X_train, X_test, y_train, y_test = train_test_split(X, y, test_size=0.33, random_state=42)"
   ]
  },
  {
   "cell_type": "code",
   "execution_count": 185,
   "id": "01f9c7f7",
   "metadata": {},
   "outputs": [],
   "source": [
    "from sklearn.linear_model import LogisticRegression\n",
    "from sklearn.svm import SVC\n",
    "from sklearn.neighbors import KNeighborsClassifier\n",
    "from sklearn.tree import DecisionTreeClassifier\n",
    "from sklearn.ensemble import RandomForestClassifier\n",
    "from sklearn.naive_bayes import GaussianNB\n",
    "\n",
    "model=[]\n",
    "model.append(LogisticRegression())\n",
    "model.append(SVC())\n",
    "model.append(KNeighborsClassifier())\n",
    "model.append(DecisionTreeClassifier())\n",
    "model.append(RandomForestClassifier())\n",
    "model.append(GaussianNB())"
   ]
  },
  {
   "cell_type": "code",
   "execution_count": 186,
   "id": "eaadb526",
   "metadata": {},
   "outputs": [],
   "source": [
    "from sklearn import metrics\n",
    "from sklearn.metrics import classification_report\n",
    "from sklearn.metrics import confusion_matrix"
   ]
  },
  {
   "cell_type": "code",
   "execution_count": 187,
   "id": "2a4c7480",
   "metadata": {},
   "outputs": [],
   "source": [
    "model_list=['LogisticRegression','SVC','KNeighborsClassifier','DecisionTreeClassifier','RandomForestClassifier','GaussianNB']\n",
    "acc_list=[]\n",
    "auc_list=[]\n",
    "cm_list=[]"
   ]
  },
  {
   "cell_type": "code",
   "execution_count": 188,
   "id": "42296d5e",
   "metadata": {},
   "outputs": [],
   "source": [
    "for m in model:\n",
    "    m.fit(X_train,y_train)\n",
    "    y_pred = m.predict(X_test)\n",
    "    acc_list.append(metrics.accuracy_score(y_test,y_pred))\n",
    "    fpr,tpr,_=metrics.roc_curve(y_test,y_pred)\n",
    "    auc_list.append(round(metrics.auc(fpr,tpr),2))\n",
    "    cm_list.append(confusion_matrix(y_test,y_pred))"
   ]
  },
  {
   "cell_type": "code",
   "execution_count": 189,
   "id": "2b57ee47",
   "metadata": {},
   "outputs": [
    {
     "data": {
      "text/plain": [
       "[0.7438235294117647,\n",
       " 0.7373529411764705,\n",
       " 0.7108823529411765,\n",
       " 0.6876470588235294,\n",
       " 0.788235294117647,\n",
       " 0.7438235294117647]"
      ]
     },
     "execution_count": 189,
     "metadata": {},
     "output_type": "execute_result"
    }
   ],
   "source": [
    "acc_list"
   ]
  },
  {
   "cell_type": "code",
   "execution_count": 190,
   "id": "b46abaf1",
   "metadata": {},
   "outputs": [
    {
     "data": {
      "text/plain": [
       "(array([0, 1, 2, 3, 4, 5]),\n",
       " [Text(0, 0, 'LogisticRegression'),\n",
       "  Text(1, 0, 'SVC'),\n",
       "  Text(2, 0, 'KNeighborsClassifier'),\n",
       "  Text(3, 0, 'DecisionTreeClassifier'),\n",
       "  Text(4, 0, 'RandomForestClassifier'),\n",
       "  Text(5, 0, 'GaussianNB')])"
      ]
     },
     "execution_count": 190,
     "metadata": {},
     "output_type": "execute_result"
    },
    {
     "data": {
      "image/png": "[encoded data removed]",
      "text/plain": [
       "<Figure size 432x288 with 1 Axes>"
      ]
     },
     "metadata": {
      "needs_background": "light"
     },
     "output_type": "display_data"
    }
   ],
   "source": [
    "sns.boxplot(x=model_list,y=acc_list)\n",
    "plt.xticks(rotation = 45, ha = 'right')"
   ]
  },
  {
   "cell_type": "code",
   "execution_count": 191,
   "id": "7dcdf760",
   "metadata": {},
   "outputs": [],
   "source": [
    "from imblearn.over_sampling import SMOTE"
   ]
  },
  {
   "cell_type": "code",
   "execution_count": 192,
   "id": "caa054e5",
   "metadata": {},
   "outputs": [],
   "source": [
    "s=SMOTE()"
   ]
  },
  {
   "cell_type": "code",
   "execution_count": 193,
   "id": "b32296e3",
   "metadata": {},
   "outputs": [],
   "source": [
    "x_train_smote,y_train_smote = s.fit_resample(X_train,y_train)"
   ]
  },
  {
   "cell_type": "code",
   "execution_count": 194,
   "id": "9ba2a6b6",
   "metadata": {},
   "outputs": [
    {
     "data": {
      "text/plain": [
       "0    5049\n",
       "1    1852\n",
       "Name: CLAIM_FLAG, dtype: int64"
      ]
     },
     "execution_count": 194,
     "metadata": {},
     "output_type": "execute_result"
    }
   ],
   "source": [
    "y_train.value_counts()"
   ]
  },
  {
   "cell_type": "code",
   "execution_count": 195,
   "id": "60a30254",
   "metadata": {},
   "outputs": [
    {
     "data": {
      "text/plain": [
       "0    5049\n",
       "1    5049\n",
       "Name: CLAIM_FLAG, dtype: int64"
      ]
     },
     "execution_count": 195,
     "metadata": {},
     "output_type": "execute_result"
    }
   ],
   "source": [
    "y_train_smote.value_counts()"
   ]
  },
  {
   "cell_type": "code",
   "execution_count": null,
   "id": "48d296a4",
   "metadata": {},
   "outputs": [],
   "source": []
  },
  {
   "cell_type": "code",
   "execution_count": null,
   "id": "b7d09fc6",
   "metadata": {},
   "outputs": [],
   "source": []
  },
  {
   "cell_type": "code",
   "execution_count": null,
   "id": "6238f126",
   "metadata": {},
   "outputs": [],
   "source": []
  },
  {
   "cell_type": "code",
   "execution_count": 196,
   "id": "7ffafa3a",
   "metadata": {},
   "outputs": [],
   "source": [
    "from statsmodels import api as sm"
   ]
  },
  {
   "cell_type": "code",
   "execution_count": 197,
   "id": "3c0b37b6",
   "metadata": {},
   "outputs": [],
   "source": [
    "model=sm.GLM(y_train_smote,x_train_smote, family = sm.families.Binomial())"
   ]
  },
  {
   "cell_type": "code",
   "execution_count": 198,
   "id": "4bf0675f",
   "metadata": {},
   "outputs": [],
   "source": [
    "mod=model.fit()"
   ]
  },
  {
   "cell_type": "code",
   "execution_count": 199,
   "id": "5df141d9",
   "metadata": {},
   "outputs": [
    {
     "data": {
      "text/html": [
       "<table class=\"simpletable\">\n",
       "<caption>Generalized Linear Model Regression Results</caption>\n",
       "<tr>\n",
       "  <th>Dep. Variable:</th>      <td>CLAIM_FLAG</td>    <th>  No. Observations:  </th>  <td> 10098</td> \n",
       "</tr>\n",
       "<tr>\n",
       "  <th>Model:</th>                  <td>GLM</td>       <th>  Df Residuals:      </th>  <td> 10076</td> \n",
       "</tr>\n",
       "<tr>\n",
       "  <th>Model Family:</th>        <td>Binomial</td>     <th>  Df Model:          </th>  <td>    21</td> \n",
       "</tr>\n",
       "<tr>\n",
       "  <th>Link Function:</th>         <td>logit</td>      <th>  Scale:             </th> <td>  1.0000</td>\n",
       "</tr>\n",
       "<tr>\n",
       "  <th>Method:</th>                <td>IRLS</td>       <th>  Log-Likelihood:    </th> <td> -4893.6</td>\n",
       "</tr>\n",
       "<tr>\n",
       "  <th>Date:</th>            <td>Sat, 26 Nov 2022</td> <th>  Deviance:          </th> <td>  9787.2</td>\n",
       "</tr>\n",
       "<tr>\n",
       "  <th>Time:</th>                <td>14:03:56</td>     <th>  Pearson chi2:      </th> <td>1.10e+04</td>\n",
       "</tr>\n",
       "<tr>\n",
       "  <th>No. Iterations:</th>          <td>6</td>        <th>                     </th>     <td> </td>   \n",
       "</tr>\n",
       "<tr>\n",
       "  <th>Covariance Type:</th>     <td>nonrobust</td>    <th>                     </th>     <td> </td>   \n",
       "</tr>\n",
       "</table>\n",
       "<table class=\"simpletable\">\n",
       "<tr>\n",
       "                  <td></td>                    <th>coef</th>     <th>std err</th>      <th>z</th>      <th>P>|z|</th>  <th>[0.025</th>    <th>0.975]</th>  \n",
       "</tr>\n",
       "<tr>\n",
       "  <th>KIDSDRIV</th>                         <td>    0.4041</td> <td>    0.056</td> <td>    7.159</td> <td> 0.000</td> <td>    0.293</td> <td>    0.515</td>\n",
       "</tr>\n",
       "<tr>\n",
       "  <th>AGE</th>                              <td>    0.0312</td> <td>    0.003</td> <td>   10.052</td> <td> 0.000</td> <td>    0.025</td> <td>    0.037</td>\n",
       "</tr>\n",
       "<tr>\n",
       "  <th>YOJ</th>                              <td>    0.0471</td> <td>    0.009</td> <td>    5.083</td> <td> 0.000</td> <td>    0.029</td> <td>    0.065</td>\n",
       "</tr>\n",
       "<tr>\n",
       "  <th>INCOME</th>                           <td>-3.014e-06</td> <td> 1.09e-06</td> <td>   -2.768</td> <td> 0.006</td> <td>-5.15e-06</td> <td> -8.8e-07</td>\n",
       "</tr>\n",
       "<tr>\n",
       "  <th>HOME_VAL</th>                         <td>-3.203e-06</td> <td> 3.33e-07</td> <td>   -9.631</td> <td> 0.000</td> <td>-3.86e-06</td> <td>-2.55e-06</td>\n",
       "</tr>\n",
       "<tr>\n",
       "  <th>EDUCATION</th>                        <td>   -0.3750</td> <td>    0.035</td> <td>  -10.852</td> <td> 0.000</td> <td>   -0.443</td> <td>   -0.307</td>\n",
       "</tr>\n",
       "<tr>\n",
       "  <th>OCCUPATION</th>                       <td>   -0.0487</td> <td>    0.012</td> <td>   -4.221</td> <td> 0.000</td> <td>   -0.071</td> <td>   -0.026</td>\n",
       "</tr>\n",
       "<tr>\n",
       "  <th>TRAVTIME</th>                         <td>    0.0323</td> <td>    0.002</td> <td>   16.414</td> <td> 0.000</td> <td>    0.028</td> <td>    0.036</td>\n",
       "</tr>\n",
       "<tr>\n",
       "  <th>BLUEBOOK</th>                         <td>-2.102e-05</td> <td> 4.16e-06</td> <td>   -5.053</td> <td> 0.000</td> <td>-2.92e-05</td> <td>-1.29e-05</td>\n",
       "</tr>\n",
       "<tr>\n",
       "  <th>TIF</th>                              <td>   -0.0537</td> <td>    0.007</td> <td>   -7.185</td> <td> 0.000</td> <td>   -0.068</td> <td>   -0.039</td>\n",
       "</tr>\n",
       "<tr>\n",
       "  <th>CAR_TYPE</th>                         <td>    0.1616</td> <td>    0.016</td> <td>   10.260</td> <td> 0.000</td> <td>    0.131</td> <td>    0.192</td>\n",
       "</tr>\n",
       "<tr>\n",
       "  <th>OLDCLAIM</th>                         <td> 7.938e-05</td> <td> 1.05e-05</td> <td>    7.579</td> <td> 0.000</td> <td> 5.89e-05</td> <td> 9.99e-05</td>\n",
       "</tr>\n",
       "<tr>\n",
       "  <th>CLM_FREQ</th>                         <td>   -0.0710</td> <td>    0.032</td> <td>   -2.204</td> <td> 0.028</td> <td>   -0.134</td> <td>   -0.008</td>\n",
       "</tr>\n",
       "<tr>\n",
       "  <th>MVR_PTS</th>                          <td>    0.1019</td> <td>    0.013</td> <td>    8.043</td> <td> 0.000</td> <td>    0.077</td> <td>    0.127</td>\n",
       "</tr>\n",
       "<tr>\n",
       "  <th>CAR_AGE</th>                          <td>    0.0274</td> <td>    0.007</td> <td>    3.972</td> <td> 0.000</td> <td>    0.014</td> <td>    0.041</td>\n",
       "</tr>\n",
       "<tr>\n",
       "  <th>PARENT1_Yes</th>                      <td>    0.3229</td> <td>    0.095</td> <td>    3.406</td> <td> 0.001</td> <td>    0.137</td> <td>    0.509</td>\n",
       "</tr>\n",
       "<tr>\n",
       "  <th>MSTATUS_z_No</th>                     <td>    0.1495</td> <td>    0.073</td> <td>    2.046</td> <td> 0.041</td> <td>    0.006</td> <td>    0.293</td>\n",
       "</tr>\n",
       "<tr>\n",
       "  <th>GENDER_z_F</th>                       <td>   -0.8437</td> <td>    0.067</td> <td>  -12.547</td> <td> 0.000</td> <td>   -0.975</td> <td>   -0.712</td>\n",
       "</tr>\n",
       "<tr>\n",
       "  <th>RED_CAR_yes</th>                      <td>   -1.1610</td> <td>    0.070</td> <td>  -16.542</td> <td> 0.000</td> <td>   -1.299</td> <td>   -1.023</td>\n",
       "</tr>\n",
       "<tr>\n",
       "  <th>REVOKED_Yes</th>                      <td>    0.0724</td> <td>    0.083</td> <td>    0.873</td> <td> 0.383</td> <td>   -0.090</td> <td>    0.235</td>\n",
       "</tr>\n",
       "<tr>\n",
       "  <th>URBANICITY_z_Highly Rural/ Rural</th> <td>   -3.4189</td> <td>    0.122</td> <td>  -28.072</td> <td> 0.000</td> <td>   -3.658</td> <td>   -3.180</td>\n",
       "</tr>\n",
       "<tr>\n",
       "  <th>CAR_USE_Private</th>                  <td>   -1.4345</td> <td>    0.063</td> <td>  -22.733</td> <td> 0.000</td> <td>   -1.558</td> <td>   -1.311</td>\n",
       "</tr>\n",
       "</table>"
      ],
      "text/plain": [
       "<class 'statsmodels.iolib.summary.Summary'>\n",
       "\"\"\"\n",
       "                 Generalized Linear Model Regression Results                  \n",
       "==============================================================================\n",
       "Dep. Variable:             CLAIM_FLAG   No. Observations:                10098\n",
       "Model:                            GLM   Df Residuals:                    10076\n",
       "Model Family:                Binomial   Df Model:                           21\n",
       "Link Function:                  logit   Scale:                          1.0000\n",
       "Method:                          IRLS   Log-Likelihood:                -4893.6\n",
       "Date:                Sat, 26 Nov 2022   Deviance:                       9787.2\n",
       "Time:                        14:03:56   Pearson chi2:                 1.10e+04\n",
       "No. Iterations:                     6                                         \n",
       "Covariance Type:            nonrobust                                         \n",
       "====================================================================================================\n",
       "                                       coef    std err          z      P>|z|      [0.025      0.975]\n",
       "----------------------------------------------------------------------------------------------------\n",
       "KIDSDRIV                             0.4041      0.056      7.159      0.000       0.293       0.515\n",
       "AGE                                  0.0312      0.003     10.052      0.000       0.025       0.037\n",
       "YOJ                                  0.0471      0.009      5.083      0.000       0.029       0.065\n",
       "INCOME                           -3.014e-06   1.09e-06     -2.768      0.006   -5.15e-06    -8.8e-07\n",
       "HOME_VAL                         -3.203e-06   3.33e-07     -9.631      0.000   -3.86e-06   -2.55e-06\n",
       "EDUCATION                           -0.3750      0.035    -10.852      0.000      -0.443      -0.307\n",
       "OCCUPATION                          -0.0487      0.012     -4.221      0.000      -0.071      -0.026\n",
       "TRAVTIME                             0.0323      0.002     16.414      0.000       0.028       0.036\n",
       "BLUEBOOK                         -2.102e-05   4.16e-06     -5.053      0.000   -2.92e-05   -1.29e-05\n",
       "TIF                                 -0.0537      0.007     -7.185      0.000      -0.068      -0.039\n",
       "CAR_TYPE                             0.1616      0.016     10.260      0.000       0.131       0.192\n",
       "OLDCLAIM                          7.938e-05   1.05e-05      7.579      0.000    5.89e-05    9.99e-05\n",
       "CLM_FREQ                            -0.0710      0.032     -2.204      0.028      -0.134      -0.008\n",
       "MVR_PTS                              0.1019      0.013      8.043      0.000       0.077       0.127\n",
       "CAR_AGE                              0.0274      0.007      3.972      0.000       0.014       0.041\n",
       "PARENT1_Yes                          0.3229      0.095      3.406      0.001       0.137       0.509\n",
       "MSTATUS_z_No                         0.1495      0.073      2.046      0.041       0.006       0.293\n",
       "GENDER_z_F                          -0.8437      0.067    -12.547      0.000      -0.975      -0.712\n",
       "RED_CAR_yes                         -1.1610      0.070    -16.542      0.000      -1.299      -1.023\n",
       "REVOKED_Yes                          0.0724      0.083      0.873      0.383      -0.090       0.235\n",
       "URBANICITY_z_Highly Rural/ Rural    -3.4189      0.122    -28.072      0.000      -3.658      -3.180\n",
       "CAR_USE_Private                     -1.4345      0.063    -22.733      0.000      -1.558      -1.311\n",
       "====================================================================================================\n",
       "\"\"\""
      ]
     },
     "execution_count": 199,
     "metadata": {},
     "output_type": "execute_result"
    }
   ],
   "source": [
    "mod.summary()\n",
    "# To check for randomness in how claim flag is affected by other features "
   ]
  },
  {
   "cell_type": "code",
   "execution_count": 200,
   "id": "2edf9e00",
   "metadata": {},
   "outputs": [],
   "source": [
    "#df1.drop(['YOJ'],axis=1,inplace=True)\n",
    "# decrease in accuracy due to drop of this column"
   ]
  },
  {
   "cell_type": "code",
   "execution_count": 201,
   "id": "7dc172c3",
   "metadata": {},
   "outputs": [],
   "source": [
    "from sklearn.preprocessing import StandardScaler"
   ]
  },
  {
   "cell_type": "code",
   "execution_count": 202,
   "id": "0a677df4",
   "metadata": {},
   "outputs": [],
   "source": [
    "s=StandardScaler().fit(X_train)"
   ]
  },
  {
   "cell_type": "code",
   "execution_count": 203,
   "id": "eea16084",
   "metadata": {},
   "outputs": [],
   "source": [
    "s=s.transform(X_train)"
   ]
  },
  {
   "cell_type": "code",
   "execution_count": 204,
   "id": "26fc9b41",
   "metadata": {},
   "outputs": [],
   "source": [
    "# m=RandomForestClassifier()"
   ]
  },
  {
   "cell_type": "code",
   "execution_count": 205,
   "id": "80913c36",
   "metadata": {},
   "outputs": [],
   "source": [
    "# m=m.fit(s,y_train)"
   ]
  },
  {
   "cell_type": "code",
   "execution_count": 206,
   "id": "7b2530c0",
   "metadata": {},
   "outputs": [],
   "source": [
    "# y_pred=m.predict(X_test)"
   ]
  },
  {
   "cell_type": "code",
   "execution_count": 207,
   "id": "232cf39e",
   "metadata": {},
   "outputs": [],
   "source": [
    "# metrics.accuracy_score(y_test,y_pred)"
   ]
  },
  {
   "cell_type": "code",
   "execution_count": 208,
   "id": "42187bd8",
   "metadata": {},
   "outputs": [],
   "source": [
    "# for m in model:\n",
    "#     m.fit(x_train_smote,y_train_smote)\n",
    "#     y_pred = m.predict(X_test)\n",
    "#     acc_list.append(metrics.accuracy_score(y_test,y_pred))\n",
    "#     fpr,tpr,_=metrics.roc_curve(y_test,y_pred)\n",
    "#     auc_list.append(round(metrics.auc(fpr,tpr),2))\n",
    "#     cm_list.append(confusion_matrix(y_test,y_pred))"
   ]
  },
  {
   "cell_type": "code",
   "execution_count": 209,
   "id": "3c75e1b0",
   "metadata": {},
   "outputs": [
    {
     "data": {
      "text/plain": [
       "[0.7438235294117647,\n",
       " 0.7373529411764705,\n",
       " 0.7108823529411765,\n",
       " 0.6876470588235294,\n",
       " 0.788235294117647,\n",
       " 0.7438235294117647]"
      ]
     },
     "execution_count": 209,
     "metadata": {},
     "output_type": "execute_result"
    }
   ],
   "source": [
    " acc_list"
   ]
  },
  {
   "cell_type": "code",
   "execution_count": 210,
   "id": "b34e751b",
   "metadata": {},
   "outputs": [],
   "source": [
    "# Standardisation doesnot increase the accuracy in this case"
   ]
  },
  {
   "cell_type": "code",
   "execution_count": 211,
   "id": "640d7a2c",
   "metadata": {},
   "outputs": [],
   "source": [
    "from sklearn.ensemble import ExtraTreesClassifier"
   ]
  },
  {
   "cell_type": "code",
   "execution_count": 212,
   "id": "70a04bdf",
   "metadata": {},
   "outputs": [],
   "source": [
    "mod=ExtraTreesClassifier()"
   ]
  },
  {
   "cell_type": "code",
   "execution_count": 213,
   "id": "028cdab5",
   "metadata": {},
   "outputs": [],
   "source": [
    "mod=mod.fit(x_train_smote,y_train_smote)"
   ]
  },
  {
   "cell_type": "code",
   "execution_count": 214,
   "id": "7bf11425",
   "metadata": {},
   "outputs": [],
   "source": [
    "y_pred=mod.predict(X_test)"
   ]
  },
  {
   "cell_type": "code",
   "execution_count": 215,
   "id": "a5a4844c",
   "metadata": {},
   "outputs": [
    {
     "data": {
      "text/plain": [
       "0.7502941176470588"
      ]
     },
     "execution_count": 215,
     "metadata": {},
     "output_type": "execute_result"
    }
   ],
   "source": [
    "metrics.accuracy_score(y_pred,y_test)"
   ]
  },
  {
   "cell_type": "code",
   "execution_count": 216,
   "id": "e07bf058",
   "metadata": {},
   "outputs": [],
   "source": [
    "# Smoting is only decreasing the accuracy and can be ignored"
   ]
  },
  {
   "cell_type": "code",
   "execution_count": 217,
   "id": "fd22fae3",
   "metadata": {},
   "outputs": [],
   "source": [
    "# Feature seletion using \n",
    "    # k-best\n",
    "    # rfe"
   ]
  },
  {
   "cell_type": "code",
   "execution_count": 218,
   "id": "5fec7155",
   "metadata": {},
   "outputs": [],
   "source": [
    "from sklearn.feature_selection import SelectKBest, chi2, RFE"
   ]
  },
  {
   "cell_type": "code",
   "execution_count": 219,
   "id": "39c34920",
   "metadata": {},
   "outputs": [],
   "source": [
    "l=RandomForestClassifier()"
   ]
  },
  {
   "cell_type": "code",
   "execution_count": 220,
   "id": "2715a085",
   "metadata": {},
   "outputs": [],
   "source": [
    "rfe = RFE(l,n_features_to_select=22)\n",
    "model = rfe.fit(X_train, y_train)"
   ]
  },
  {
   "cell_type": "code",
   "execution_count": 221,
   "id": "d6995325",
   "metadata": {},
   "outputs": [],
   "source": [
    "y_pred=model.predict(X_test)"
   ]
  },
  {
   "cell_type": "code",
   "execution_count": 222,
   "id": "72244d2f",
   "metadata": {},
   "outputs": [
    {
     "data": {
      "text/plain": [
       "0.788235294117647"
      ]
     },
     "execution_count": 222,
     "metadata": {},
     "output_type": "execute_result"
    }
   ],
   "source": [
    "metrics.accuracy_score(y_pred,y_test)"
   ]
  },
  {
   "cell_type": "code",
   "execution_count": 223,
   "id": "fbd50ed7",
   "metadata": {},
   "outputs": [
    {
     "name": "stdout",
     "output_type": "stream",
     "text": [
      "[1 1 1 1 1 1 1 1 1 1 1 1 1 1 1 1 1 1 1 1 1 1]\n",
      "Index(['KIDSDRIV', 'AGE', 'YOJ', 'INCOME', 'HOME_VAL', 'EDUCATION',\n",
      "       'OCCUPATION', 'TRAVTIME', 'BLUEBOOK', 'TIF', 'CAR_TYPE', 'OLDCLAIM',\n",
      "       'CLM_FREQ', 'MVR_PTS', 'CAR_AGE', 'PARENT1_Yes', 'MSTATUS_z_No',\n",
      "       'GENDER_z_F', 'RED_CAR_yes', 'REVOKED_Yes',\n",
      "       'URBANICITY_z_Highly Rural/ Rural', 'CAR_USE_Private'],\n",
      "      dtype='object')\n"
     ]
    },
    {
     "data": {
      "text/plain": [
       "(6901, 22)"
      ]
     },
     "execution_count": 223,
     "metadata": {},
     "output_type": "execute_result"
    }
   ],
   "source": [
    "print(rfe.ranking_)\n",
    "print(X_train.columns)\n",
    "X_train.shape"
   ]
  },
  {
   "cell_type": "code",
   "execution_count": 224,
   "id": "7840aa05",
   "metadata": {},
   "outputs": [],
   "source": [
    "# as we can see that almost all columns are of similar ranking we cannot drop any of them "
   ]
  },
  {
   "cell_type": "code",
   "execution_count": null,
   "id": "ccb1cbc6",
   "metadata": {},
   "outputs": [],
   "source": []
  },
  {
   "cell_type": "code",
   "execution_count": null,
   "id": "bb39c2e9",
   "metadata": {},
   "outputs": [],
   "source": []
  },
  {
   "cell_type": "code",
   "execution_count": 225,
   "id": "015aa050",
   "metadata": {},
   "outputs": [],
   "source": [
    "from sklearn.ensemble import RandomForestClassifier"
   ]
  },
  {
   "cell_type": "code",
   "execution_count": 226,
   "id": "a1ec03d8",
   "metadata": {},
   "outputs": [],
   "source": [
    "model = RandomForestClassifier()"
   ]
  },
  {
   "cell_type": "code",
   "execution_count": 227,
   "id": "67915bb0",
   "metadata": {},
   "outputs": [],
   "source": [
    "model = model.fit(x_train_smote,y_train_smote)"
   ]
  },
  {
   "cell_type": "code",
   "execution_count": 228,
   "id": "9a694ea1",
   "metadata": {},
   "outputs": [],
   "source": [
    "y_pred = model.predict(X_test)"
   ]
  },
  {
   "cell_type": "code",
   "execution_count": 229,
   "id": "c1692281",
   "metadata": {},
   "outputs": [
    {
     "data": {
      "text/plain": [
       "0.7617647058823529"
      ]
     },
     "execution_count": 229,
     "metadata": {},
     "output_type": "execute_result"
    }
   ],
   "source": [
    "metrics.accuracy_score(y_test,y_pred)"
   ]
  },
  {
   "cell_type": "code",
   "execution_count": 230,
   "id": "1b74c22a",
   "metadata": {},
   "outputs": [],
   "source": [
    "error = pd.DataFrame({'actual': y_test , 'predict':y_pred})"
   ]
  },
  {
   "cell_type": "code",
   "execution_count": 231,
   "id": "cb7d4e25",
   "metadata": {},
   "outputs": [],
   "source": [
    "error= error.reset_index(drop=True)"
   ]
  },
  {
   "cell_type": "code",
   "execution_count": 232,
   "id": "4d9a15e6",
   "metadata": {},
   "outputs": [
    {
     "data": {
      "text/html": [
       "<div>\n",
       "<style scoped>\n",
       "    .dataframe tbody tr th:only-of-type {\n",
       "        vertical-align: middle;\n",
       "    }\n",
       "\n",
       "    .dataframe tbody tr th {\n",
       "        vertical-align: top;\n",
       "    }\n",
       "\n",
       "    .dataframe thead th {\n",
       "        text-align: right;\n",
       "    }\n",
       "</style>\n",
       "<table border=\"1\" class=\"dataframe\">\n",
       "  <thead>\n",
       "    <tr style=\"text-align: right;\">\n",
       "      <th></th>\n",
       "      <th>actual</th>\n",
       "      <th>predict</th>\n",
       "    </tr>\n",
       "  </thead>\n",
       "  <tbody>\n",
       "    <tr>\n",
       "      <th>0</th>\n",
       "      <td>0</td>\n",
       "      <td>0</td>\n",
       "    </tr>\n",
       "    <tr>\n",
       "      <th>1</th>\n",
       "      <td>1</td>\n",
       "      <td>1</td>\n",
       "    </tr>\n",
       "    <tr>\n",
       "      <th>2</th>\n",
       "      <td>1</td>\n",
       "      <td>0</td>\n",
       "    </tr>\n",
       "    <tr>\n",
       "      <th>3</th>\n",
       "      <td>1</td>\n",
       "      <td>0</td>\n",
       "    </tr>\n",
       "    <tr>\n",
       "      <th>4</th>\n",
       "      <td>1</td>\n",
       "      <td>1</td>\n",
       "    </tr>\n",
       "    <tr>\n",
       "      <th>...</th>\n",
       "      <td>...</td>\n",
       "      <td>...</td>\n",
       "    </tr>\n",
       "    <tr>\n",
       "      <th>3395</th>\n",
       "      <td>0</td>\n",
       "      <td>0</td>\n",
       "    </tr>\n",
       "    <tr>\n",
       "      <th>3396</th>\n",
       "      <td>0</td>\n",
       "      <td>0</td>\n",
       "    </tr>\n",
       "    <tr>\n",
       "      <th>3397</th>\n",
       "      <td>0</td>\n",
       "      <td>0</td>\n",
       "    </tr>\n",
       "    <tr>\n",
       "      <th>3398</th>\n",
       "      <td>0</td>\n",
       "      <td>1</td>\n",
       "    </tr>\n",
       "    <tr>\n",
       "      <th>3399</th>\n",
       "      <td>1</td>\n",
       "      <td>1</td>\n",
       "    </tr>\n",
       "  </tbody>\n",
       "</table>\n",
       "<p>3400 rows × 2 columns</p>\n",
       "</div>"
      ],
      "text/plain": [
       "      actual  predict\n",
       "0          0        0\n",
       "1          1        1\n",
       "2          1        0\n",
       "3          1        0\n",
       "4          1        1\n",
       "...      ...      ...\n",
       "3395       0        0\n",
       "3396       0        0\n",
       "3397       0        0\n",
       "3398       0        1\n",
       "3399       1        1\n",
       "\n",
       "[3400 rows x 2 columns]"
      ]
     },
     "execution_count": 232,
     "metadata": {},
     "output_type": "execute_result"
    }
   ],
   "source": [
    "error"
   ]
  },
  {
   "cell_type": "code",
   "execution_count": 233,
   "id": "bdd29291",
   "metadata": {},
   "outputs": [
    {
     "data": {
      "text/plain": [
       "[<matplotlib.lines.Line2D at 0x13cfd654610>,\n",
       " <matplotlib.lines.Line2D at 0x13cfda4cdf0>]"
      ]
     },
     "execution_count": 233,
     "metadata": {},
     "output_type": "execute_result"
    },
    {
     "data": {
      "image/png": "[encoded data removed]",
      "text/plain": [
       "<Figure size 432x288 with 1 Axes>"
      ]
     },
     "metadata": {
      "needs_background": "light"
     },
     "output_type": "display_data"
    }
   ],
   "source": [
    "plt.plot(error)"
   ]
  },
  {
   "cell_type": "code",
   "execution_count": null,
   "id": "78c1a15e",
   "metadata": {},
   "outputs": [],
   "source": []
  }
 ],
 "metadata": {
  "kernelspec": {
   "display_name": "Python 3",
   "language": "python",
   "name": "python3"
  },
  "language_info": {
   "codemirror_mode": {
    "name": "ipython",
    "version": 3
   },
   "file_extension": ".py",
   "mimetype": "text/x-python",
   "name": "python",
   "nbconvert_exporter": "python",
   "pygments_lexer": "ipython3",
   "version": "3.8.8"
  }
 },
 "nbformat": 4,
 "nbformat_minor": 5
}
